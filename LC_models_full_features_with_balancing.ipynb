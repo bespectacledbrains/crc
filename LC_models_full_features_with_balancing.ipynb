{
  "cells": [
    {
      "cell_type": "markdown",
      "metadata": {
        "id": "EH6c85PGF4OW"
      },
      "source": [
        "# Lung cancer full features models with balancing\n",
        "**Solution notebook by Reem Abdel-Salam, Reviewed and Updated by Shweta Chandole**\n",
        "\n",
        "Date: 10-June-2022"
      ]
    },
    {
      "cell_type": "markdown",
      "metadata": {
        "id": "lU0vShVxF4OX"
      },
      "source": [
        "## Environment preparation"
      ]
    },
    {
      "cell_type": "markdown",
      "metadata": {
        "id": "EUCrrPdGF4OY"
      },
      "source": [
        "### Import Libraries"
      ]
    },
    {
      "cell_type": "code",
      "execution_count": 1,
      "metadata": {
        "colab": {
          "base_uri": "https://localhost:8080/"
        },
        "id": "ERHDvqESF4OY",
        "outputId": "fd46d05d-4449-4e9c-9d11-c9a6c66a41f4"
      },
      "outputs": [
        {
          "output_type": "stream",
          "name": "stderr",
          "text": [
            "/usr/local/lib/python3.7/dist-packages/sklearn/experimental/enable_hist_gradient_boosting.py:17: UserWarning: Since version 1.0, it is not needed to import enable_hist_gradient_boosting anymore. HistGradientBoostingClassifier and HistGradientBoostingRegressor are now stable and can be normally imported from sklearn.ensemble.\n",
            "  \"Since version 1.0, \"\n"
          ]
        }
      ],
      "source": [
        "# import libraries\n",
        "import pandas as pd\n",
        "import numpy as np\n",
        "import sys\n",
        "import argparse\n",
        "import csv\n",
        "import regex \n",
        "import sklearn\n",
        "import imblearn\n",
        "import xgboost as xgb\n",
        "from sklearn import utils\n",
        "from sklearn import preprocessing\n",
        "from sklearn import metrics\n",
        "from sklearn.metrics import accuracy_score, precision_recall_fscore_support, balanced_accuracy_score\n",
        "from sklearn.svm import LinearSVC\n",
        "from sklearn.feature_selection import VarianceThreshold\n",
        "from sklearn.feature_extraction.text import TfidfVectorizer, CountVectorizer\n",
        "from sklearn.pipeline import Pipeline, FeatureUnion\n",
        "from sklearn.model_selection import cross_validate\n",
        "from sklearn.svm import SVC, LinearSVC\n",
        "from sklearn.ensemble import AdaBoostClassifier, RandomForestClassifier\n",
        "from sklearn.naive_bayes import BernoulliNB, MultinomialNB\n",
        "from sklearn.naive_bayes import GaussianNB\n",
        "from sklearn.linear_model import SGDClassifier, LogisticRegression\n",
        "from sklearn.neighbors import KNeighborsClassifier\n",
        "from sklearn.model_selection import GridSearchCV\n",
        "from scipy.sparse import *\n",
        "from sklearn.base import TransformerMixin\n",
        "from nltk.tokenize import TreebankWordTokenizer\n",
        "from sklearn.feature_extraction.text import TfidfVectorizer, CountVectorizer\n",
        "from nltk.util import ngrams\n",
        "from sklearn.model_selection import StratifiedKFold, train_test_split\n",
        "from xgboost import XGBClassifier\n",
        "from sklearn.experimental import enable_hist_gradient_boosting\n",
        "from sklearn.ensemble import HistGradientBoostingClassifier"
      ]
    },
    {
      "cell_type": "markdown",
      "metadata": {
        "id": "bvN7zFv-F4OZ"
      },
      "source": [
        "### Define model and metrics creation fuctions"
      ]
    },
    {
      "cell_type": "code",
      "execution_count": 2,
      "metadata": {
        "id": "beHjj9q5GeWn"
      },
      "outputs": [],
      "source": [
        "# define custom functions to run classification modules, build classifier models and calculate metrics\n",
        "\n",
        "def print_statistics(y, y_pred):\n",
        "    accuracy = metrics.accuracy_score(y, y_pred)\n",
        "    weighted_precision = metrics.precision_score(y, y_pred, average='weighted')\n",
        "    weighted_recall = metrics.recall_score(y, y_pred, average='weighted')\n",
        "    weighted_f1_score = metrics.f1_score(y, y_pred, average='weighted')\n",
        "    balanced_accuracy = balanced_accuracy_score(y, y_pred)\n",
        "\n",
        "    print('Accuracy: %.3f\\nWeighted_Precision: %.3f\\nWeighted_Recall: %.3f\\nWeighted_F1_score: %.3f\\n'\n",
        "          % (accuracy, weighted_precision, weighted_recall, weighted_f1_score))\n",
        "    print('Balanced Accuracy: %.3f\\n' % balanced_accuracy)\n",
        "    print(metrics.classification_report(y, y_pred))\n",
        "    \n",
        "    return accuracy, weighted_precision, weighted_recall, weighted_f1_score, balanced_accuracy\n",
        "\n",
        "# updated print_statistics function to include 'weighted_' label for weighted metrics, BACC  - Shweta C. 06/10\n",
        "\n",
        "def plot_coefficients(classifier, feature_names, top_features=20, plot_name=\"/bow_models/bow_binary_\"):\n",
        "    # Get the top most positive/negative coefficients\n",
        "    coef = classifier.coef_.ravel()\n",
        "    top_positive_coefficients = np.argsort(coef)[-top_features:]\n",
        "    top_negative_coefficients = np.argsort(coef)[:top_features]\n",
        "    top_coefficients = np.hstack([top_negative_coefficients, top_positive_coefficients])\n",
        "    x_names = [feature_names[feature] for feature in top_coefficients]\n",
        "\n",
        "    # Plot the coefficients\n",
        "    plt.figure(figsize=(15, 5))\n",
        "    colors = ['red' if c < 0 else 'blue' for c in coef[top_coefficients]]\n",
        "    plt.bar(np.arange(2 * top_features), coef[top_coefficients], color=colors)\n",
        "    plt.xticks(np.arange(0, 2 * top_features), x_names, rotation=30, ha='right')\n",
        "    plt.ylabel(\"Coefficient Value\")\n",
        "    plt.title(\"Visualising the top %d features taken up by an SVM model\" % top_features)\n",
        "    to_save_filename = path + \"/plots/\" + plot_name + \"top%d_coefficients.png\" % top_features\n",
        "    plt.savefig(to_save_filename)\n",
        "    print(\"Coefficients' visualisation saved to %s\\n\" % to_save_filename)\n",
        "\n",
        "def get_regularization_params(a=-1, b=1, c=3, d=1, e=5):\n",
        "    reg_range = np.outer(np.logspace(a, b, c), np.array([d, e]))\n",
        "    reg_range = reg_range.flatten()\n",
        "    return reg_range\n",
        "\n",
        "\n",
        "def grid_classifier(x_train, y_train, x_test, y_test, model, parameters,\n",
        "                    make_feature_analysis=False, feature_names=None, top_features=0, plot_name=\"coeff\"):\n",
        "    grid = GridSearchCV(estimator=model, param_grid=parameters, verbose=0)\n",
        "    grid.fit(x_train, y_train)\n",
        "    sorted(grid.cv_results_.keys())\n",
        "    classifier = grid.best_estimator_\n",
        "    if make_feature_analysis:\n",
        "        plot_coefficients(classifier, feature_names, top_features, plot_name)\n",
        "    y_hat = classifier.predict(x_test)\n",
        "    print_statistics(y_test, y_hat)\n",
        "\n",
        "# Method to print the header of the currently running model\n",
        "def print_model_title(name):\n",
        "    print(\"\\n==================================================================\")\n",
        "    print('{:>20}'.format(name))\n",
        "    print(\"==================================================================\\n\")\n",
        "\n",
        "\n",
        "def linear_svm_grid(x_train, y_train, x_test, y_test, class_ratio,\n",
        "               make_feature_analysis=False, feature_names=None, top_features=0, plot_name=\"coeff\"):\n",
        "    print_model_title(\"Linear SVM\")\n",
        "    C_range = get_regularization_params()\n",
        "    parameters = {'C': C_range}\n",
        "    linear_svm = LinearSVC(C=1.0, class_weight=class_ratio, penalty='l2')\n",
        "    grid_classifier(x_train, y_train, x_test, y_test, linear_svm, parameters,\n",
        "                    make_feature_analysis, feature_names, top_features, plot_name)\n",
        "\n",
        "\n",
        "def nonlinear_svm_grid(x_train, y_train, x_test, y_test, class_ratio,\n",
        "                  make_feature_analysis=False, feature_names=None, top_features=0, plot_name=\"coeff\"):\n",
        "    print_model_title(\"Nonlinear SVM\")\n",
        "    C_range = get_regularization_params(a=-1, b=0, c=2, d=1, e=5)\n",
        "    gamma_range = get_regularization_params(a=-2, b=-1, c=2, d=1, e=5)\n",
        "    parameters = {'kernel': ['rbf'], 'C': C_range, 'gamma': gamma_range}\n",
        "    nonlinear_svm = SVC(class_weight=class_ratio)\n",
        "    grid_classifier(x_train, y_train, x_test, y_test, nonlinear_svm, parameters,\n",
        "                    make_feature_analysis, feature_names, top_features, plot_name)\n",
        "\n",
        "\n",
        "def logistic_regression_grid(x_train, y_train, x_test, y_test, class_ratio,\n",
        "                        make_feature_analysis=False, feature_names=None, top_features=0, plot_name=\"coeff\"):\n",
        "    print_model_title(\"Logistic Regression\")\n",
        "    C_range = [0.001, 0.01, 0.1, 1, 10, 100]\n",
        "    parameters = {'C': C_range}\n",
        "    log_regr = LogisticRegression(C=1.0, class_weight=class_ratio, penalty='l2')\n",
        "    grid_classifier(x_train, y_train, x_test, y_test, log_regr, parameters,\n",
        "                    make_feature_analysis, feature_names, top_features, plot_name)\n",
        "\n",
        "\n",
        "def linear_svm(x_train, y_train, x_test, y_test, class_ratio='balanced'):\n",
        "    print_model_title(\"Linear SVM\")\n",
        "    svm = LinearSVC(C=0.01, class_weight=class_ratio, penalty='l2')\n",
        "    svm.fit(x_train, y_train)\n",
        "    y_hat = svm.predict(x_test)\n",
        "    print_statistics(y_test, y_hat)\n",
        "\n",
        "\n",
        "\n",
        "def logistic_regression(x_train, y_train, x_test, y_test, class_ratio='balanced'):\n",
        "    print_model_title(\"Logistic Regression\")\n",
        "    regr = LogisticRegression(C=0.01, class_weight=class_ratio, penalty='l2')\n",
        "    regr.fit(x_train, y_train)\n",
        "    y_hat = regr.predict(x_test)\n",
        "    print_statistics(y_test, y_hat)\n",
        "\n",
        "\n",
        "\n",
        "def random_forest(x_train, y_train, x_test, y_test, class_ratio='balanced'):\n",
        "  print_model_title(\"Random Forest\")\n",
        "  rf = RandomForestClassifier(n_estimators=400, random_state=11)\n",
        "  rf.fit(x_train, y_train)\n",
        "  y_hat = rf.predict(x_test)\n",
        "  print_statistics(y_test, y_hat)\n",
        "\n",
        "\n",
        "def xg_boost(x_train, y_train, x_test, y_test):\n",
        "  print_model_title(\"XGBoost\")\n",
        "  xgb_model =XGBClassifier(max_depth=50, n_estimators=1000)\n",
        "  xgb_model .fit(x_train, y_train)\n",
        "  y_hat = xgb_model .predict(x_test)\n",
        "  print_statistics(y_test, y_hat)\n",
        "\n",
        "\n",
        "\n",
        "def xg_boost_focal_loss(x_train, y_train, x_test, y_test):\n",
        "  print_model_title(\"XGBoost Focal\")\n",
        "  xgboster_focal = imb_xgb(special_objective='focal')\n",
        "  CV_focal_booster = GridSearchCV(xgboster_focal, {\"focal_gamma\":[1.0,1.5,2.0,2.5,3.0]})\n",
        "  CV_focal_booster.fit(x_train, y_train)\n",
        "  opt_focal_booster = CV_focal_booster.best_estimator_\n",
        "  # xgb_model .fit(x_train, y_train)\n",
        "  y_hat = opt_focal_booster.predict_determine(x_test)\n",
        "  print_statistics(y_test, y_hat)\n",
        "\n",
        "\n",
        "def xg_boost_weighted_loss(x_train, y_train, x_test, y_test):\n",
        "  print_model_title(\"XGBoost Weighted\")\n",
        "  xgboster_focal = imb_xgb(special_objective='weighted')\n",
        "  CV_focal_booster = GridSearchCV(xgboster_focal, {\"imbalance_alpha\":[1.5,2.0,2.5,3.0,4.0]})\n",
        "  CV_focal_booster.fit(x_train, y_train)\n",
        "  opt_focal_booster = CV_focal_booster.best_estimator_\n",
        "  # xgb_model .fit(x_train, y_train)\n",
        "  y_hat = opt_focal_booster.predict_determine(x_test)\n",
        "  print_statistics(y_test, y_hat)\n",
        "\n",
        "\n",
        "\n",
        "def feature_selection(x_train, y_train, x_test, y_test):\n",
        "    print(\"Feature selection with LinearSVC\")\n",
        "    model = LinearSVC(C=0.1, penalty='l2')\n",
        "    rfe = RFE(model, 5)\n",
        "    best_features_model = rfe.fit(x_train, y_train)\n",
        "    y_hat = best_features_model.predict(x_test)\n",
        "    print_statistics(y_test, y_hat)\n",
        "\n",
        "\n",
        "def ensemble_stacked(x_train, y_train, x_test, y_test):\n",
        "  print_model_title(\"Ensemble Stacked Classifiers\")\n",
        "  estimators = [ ('lr',LogisticRegression(C=0.01, class_weight='balanced', penalty='l2')),('xgb',XGBClassifier(max_depth=16, n_estimators=1000)),('svm_linear',LinearSVC(C=0.01, class_weight='balanced', penalty='l2')),('rf', RandomForestClassifier(n_estimators=10, random_state=42))]\n",
        "  from sklearn.ensemble import StackingClassifier\n",
        "  clf = StackingClassifier(\n",
        "      estimators=estimators )\n",
        "  clf.fit(x_train, y_train)\n",
        "  y_hat = clf .predict(x_test)\n",
        "  print_statistics(y_test, y_hat)\n",
        "\n",
        "\n",
        "\n",
        "\n",
        "from sklearn.ensemble import RandomForestClassifier, VotingClassifier\n",
        "def voting_classifiers(x_train, y_train, x_test, y_test,voting_type='hard'):\n",
        "  print_model_title(\"Voting Classifier\")\n",
        "  estimators = [ ('lr',LogisticRegression(C=0.01, class_weight='balanced', penalty='l2')),('xgb',XGBClassifier(max_depth=16, n_estimators=1000)),('svm_linear',LinearSVC(C=0.01, class_weight='balanced', penalty='l2')),('rf', RandomForestClassifier(n_estimators=10, random_state=42))]\n",
        "  from sklearn.ensemble import StackingClassifier\n",
        "  clf = VotingClassifier(\n",
        "      estimators=estimators , voting=voting_type)\n",
        "  clf.fit(x_train, y_train)\n",
        "  y_hat = clf .predict(x_test)\n",
        "  print_statistics(y_test, y_hat)\n",
        "\n",
        "\n",
        "\n",
        "\n",
        "from sklearn.ensemble import RandomForestClassifier, VotingClassifier\n",
        "from sklearn.ensemble import BaggingClassifier\n",
        "def Bagging_Classifier_LR(x_train, y_train, x_test, y_test):\n",
        "  print_model_title(\"Bagging Calssifier LR\")\n",
        " \n",
        "  clf =BaggingClassifier(base_estimator=LogisticRegression(C=0.01, class_weight='balanced', penalty='l2'),\n",
        "                       n_estimators=10, random_state=42)\n",
        "  clf.fit(x_train, y_train)\n",
        "  y_hat = clf .predict(x_test)\n",
        "  print_statistics(y_test, y_hat)\n",
        "\n",
        "\n",
        "\n",
        "def Bagging_Classifier_SVM(x_train, y_train, x_test, y_test):\n",
        "  print_model_title(\"Bagging Calssifier SVM\")\n",
        " \n",
        "  clf =BaggingClassifier(base_estimator=LinearSVC(C=0.01, class_weight='balanced', penalty='l2'),\n",
        "                       n_estimators=10, random_state=42)\n",
        "  clf.fit(x_train, y_train)\n",
        "  y_hat = clf .predict(x_test)\n",
        "  print_statistics(y_test, y_hat)\n",
        "\n",
        "\n",
        "\n",
        "from sklearn.ensemble import GradientBoostingClassifier\n",
        "def gradient_boosting(x_train, y_train, x_test, y_test):\n",
        "  print_model_title(\"Gradient Boosting\")\n",
        " \n",
        "  clf =GradientBoostingClassifier(n_estimators=100, learning_rate=0.01,max_depth=30, random_state=42)\n",
        "  clf.fit(x_train, y_train)\n",
        "  y_hat = clf .predict(x_test)\n",
        "  print_statistics(y_test, y_hat)"
      ]
    },
    {
      "cell_type": "markdown",
      "metadata": {
        "id": "Ou9MMHUSF4Oc"
      },
      "source": [
        "### Saving list of packages to requirements text file"
      ]
    },
    {
      "cell_type": "code",
      "execution_count": null,
      "metadata": {
        "id": "lKvYgSb-F4Oc",
        "outputId": "08c0bd92-e2b4-454d-9bae-3ecafd5a5b99"
      },
      "outputs": [
        {
          "name": "stdout",
          "output_type": "stream",
          "text": [
            "INFO: Successfully saved requirements file in ./requirements.txt\r\n"
          ]
        }
      ],
      "source": [
        "#!pipreqs . --force"
      ]
    },
    {
      "cell_type": "code",
      "execution_count": 4,
      "metadata": {
        "colab": {
          "base_uri": "https://localhost:8080/"
        },
        "id": "LiP5mSmyyPxl",
        "outputId": "d5d3defb-e09b-45bc-d37b-e6fd8bb64dfd"
      },
      "outputs": [
        {
          "output_type": "stream",
          "name": "stdout",
          "text": [
            "Mounted at /content/drive\n"
          ]
        }
      ],
      "source": [
        "from google.colab import drive\n",
        "drive.mount('/content/drive')"
      ]
    },
    {
      "cell_type": "code",
      "execution_count": 5,
      "metadata": {
        "id": "BYZev-hmB0jH"
      },
      "outputs": [],
      "source": [
        "df=pd.read_csv('/content/drive/MyDrive/Omdena/RadmolAI/Data/Lung_Cancer_NEW_original_dataset.csv')"
      ]
    },
    {
      "cell_type": "code",
      "source": [
        "# check for percentage distribution of target variable \"Case_Control\", which indicates class 0 as non-cancer and class 1 as cancer\n",
        "df['Case_Control'].value_counts(normalize=True)"
      ],
      "metadata": {
        "colab": {
          "base_uri": "https://localhost:8080/"
        },
        "id": "VYVOkGWkG5He",
        "outputId": "ef22bad1-2717-4c3f-8448-aef83f666524"
      },
      "execution_count": 6,
      "outputs": [
        {
          "output_type": "execute_result",
          "data": {
            "text/plain": [
              "0    0.833333\n",
              "1    0.166667\n",
              "Name: Case_Control, dtype: float64"
            ]
          },
          "metadata": {},
          "execution_count": 6
        }
      ]
    },
    {
      "cell_type": "code",
      "execution_count": 7,
      "metadata": {
        "colab": {
          "base_uri": "https://localhost:8080/",
          "height": 300
        },
        "id": "zVuqAp7oCBPI",
        "outputId": "1b8466cf-6d83-48a8-bc10-c342d0310942"
      },
      "outputs": [
        {
          "output_type": "execute_result",
          "data": {
            "text/plain": [
              "   patientid  Case_Control  group_code  Sex  age_at_dendrite_date   edob  \\\n",
              "0       1203             1           2    1             72.887062 -12234   \n",
              "1       1771             0           2    1             72.599586 -12129   \n",
              "2       1176             0           2    1             73.237511 -12362   \n",
              "3       1239             0           2    1             72.651611 -12148   \n",
              "4       1970             0           2    1             73.237511 -12362   \n",
              "\n",
              "  dendritedate definite_check_exclude  differentiation  histology_1  ...  \\\n",
              "0    24 May 99               Definite              2.0            2  ...   \n",
              "1    24 May 99                    NaN              NaN            2  ...   \n",
              "2    24 May 99                    NaN              NaN            2  ...   \n",
              "3    24 May 99                    NaN              NaN            2  ...   \n",
              "4    24 May 99                    NaN              NaN            2  ...   \n",
              "\n",
              "  smoking4  _est_q     score  age_group  _est_qu  chest_pain  time_chest_pain  \\\n",
              "0        2       1  0.943510          2        1           0                0   \n",
              "1        4       1  0.000216          2        1           0                0   \n",
              "2        4       1  0.055466          2        1           0                0   \n",
              "3        2       1  0.000375          2        1           0                0   \n",
              "4        4       1  0.000216          2        1           0                0   \n",
              "\n",
              "   _Ismoking4_2  _Ismoking4_3  _Ismoking4_4  \n",
              "0             1             0             0  \n",
              "1             0             0             1  \n",
              "2             0             0             1  \n",
              "3             1             0             0  \n",
              "4             0             0             1  \n",
              "\n",
              "[5 rows x 1250 columns]"
            ],
            "text/html": [
              "\n",
              "  <div id=\"df-4cc47933-e1e9-494d-a6be-b3762ffdd770\">\n",
              "    <div class=\"colab-df-container\">\n",
              "      <div>\n",
              "<style scoped>\n",
              "    .dataframe tbody tr th:only-of-type {\n",
              "        vertical-align: middle;\n",
              "    }\n",
              "\n",
              "    .dataframe tbody tr th {\n",
              "        vertical-align: top;\n",
              "    }\n",
              "\n",
              "    .dataframe thead th {\n",
              "        text-align: right;\n",
              "    }\n",
              "</style>\n",
              "<table border=\"1\" class=\"dataframe\">\n",
              "  <thead>\n",
              "    <tr style=\"text-align: right;\">\n",
              "      <th></th>\n",
              "      <th>patientid</th>\n",
              "      <th>Case_Control</th>\n",
              "      <th>group_code</th>\n",
              "      <th>Sex</th>\n",
              "      <th>age_at_dendrite_date</th>\n",
              "      <th>edob</th>\n",
              "      <th>dendritedate</th>\n",
              "      <th>definite_check_exclude</th>\n",
              "      <th>differentiation</th>\n",
              "      <th>histology_1</th>\n",
              "      <th>...</th>\n",
              "      <th>smoking4</th>\n",
              "      <th>_est_q</th>\n",
              "      <th>score</th>\n",
              "      <th>age_group</th>\n",
              "      <th>_est_qu</th>\n",
              "      <th>chest_pain</th>\n",
              "      <th>time_chest_pain</th>\n",
              "      <th>_Ismoking4_2</th>\n",
              "      <th>_Ismoking4_3</th>\n",
              "      <th>_Ismoking4_4</th>\n",
              "    </tr>\n",
              "  </thead>\n",
              "  <tbody>\n",
              "    <tr>\n",
              "      <th>0</th>\n",
              "      <td>1203</td>\n",
              "      <td>1</td>\n",
              "      <td>2</td>\n",
              "      <td>1</td>\n",
              "      <td>72.887062</td>\n",
              "      <td>-12234</td>\n",
              "      <td>24 May 99</td>\n",
              "      <td>Definite</td>\n",
              "      <td>2.0</td>\n",
              "      <td>2</td>\n",
              "      <td>...</td>\n",
              "      <td>2</td>\n",
              "      <td>1</td>\n",
              "      <td>0.943510</td>\n",
              "      <td>2</td>\n",
              "      <td>1</td>\n",
              "      <td>0</td>\n",
              "      <td>0</td>\n",
              "      <td>1</td>\n",
              "      <td>0</td>\n",
              "      <td>0</td>\n",
              "    </tr>\n",
              "    <tr>\n",
              "      <th>1</th>\n",
              "      <td>1771</td>\n",
              "      <td>0</td>\n",
              "      <td>2</td>\n",
              "      <td>1</td>\n",
              "      <td>72.599586</td>\n",
              "      <td>-12129</td>\n",
              "      <td>24 May 99</td>\n",
              "      <td>NaN</td>\n",
              "      <td>NaN</td>\n",
              "      <td>2</td>\n",
              "      <td>...</td>\n",
              "      <td>4</td>\n",
              "      <td>1</td>\n",
              "      <td>0.000216</td>\n",
              "      <td>2</td>\n",
              "      <td>1</td>\n",
              "      <td>0</td>\n",
              "      <td>0</td>\n",
              "      <td>0</td>\n",
              "      <td>0</td>\n",
              "      <td>1</td>\n",
              "    </tr>\n",
              "    <tr>\n",
              "      <th>2</th>\n",
              "      <td>1176</td>\n",
              "      <td>0</td>\n",
              "      <td>2</td>\n",
              "      <td>1</td>\n",
              "      <td>73.237511</td>\n",
              "      <td>-12362</td>\n",
              "      <td>24 May 99</td>\n",
              "      <td>NaN</td>\n",
              "      <td>NaN</td>\n",
              "      <td>2</td>\n",
              "      <td>...</td>\n",
              "      <td>4</td>\n",
              "      <td>1</td>\n",
              "      <td>0.055466</td>\n",
              "      <td>2</td>\n",
              "      <td>1</td>\n",
              "      <td>0</td>\n",
              "      <td>0</td>\n",
              "      <td>0</td>\n",
              "      <td>0</td>\n",
              "      <td>1</td>\n",
              "    </tr>\n",
              "    <tr>\n",
              "      <th>3</th>\n",
              "      <td>1239</td>\n",
              "      <td>0</td>\n",
              "      <td>2</td>\n",
              "      <td>1</td>\n",
              "      <td>72.651611</td>\n",
              "      <td>-12148</td>\n",
              "      <td>24 May 99</td>\n",
              "      <td>NaN</td>\n",
              "      <td>NaN</td>\n",
              "      <td>2</td>\n",
              "      <td>...</td>\n",
              "      <td>2</td>\n",
              "      <td>1</td>\n",
              "      <td>0.000375</td>\n",
              "      <td>2</td>\n",
              "      <td>1</td>\n",
              "      <td>0</td>\n",
              "      <td>0</td>\n",
              "      <td>1</td>\n",
              "      <td>0</td>\n",
              "      <td>0</td>\n",
              "    </tr>\n",
              "    <tr>\n",
              "      <th>4</th>\n",
              "      <td>1970</td>\n",
              "      <td>0</td>\n",
              "      <td>2</td>\n",
              "      <td>1</td>\n",
              "      <td>73.237511</td>\n",
              "      <td>-12362</td>\n",
              "      <td>24 May 99</td>\n",
              "      <td>NaN</td>\n",
              "      <td>NaN</td>\n",
              "      <td>2</td>\n",
              "      <td>...</td>\n",
              "      <td>4</td>\n",
              "      <td>1</td>\n",
              "      <td>0.000216</td>\n",
              "      <td>2</td>\n",
              "      <td>1</td>\n",
              "      <td>0</td>\n",
              "      <td>0</td>\n",
              "      <td>0</td>\n",
              "      <td>0</td>\n",
              "      <td>1</td>\n",
              "    </tr>\n",
              "  </tbody>\n",
              "</table>\n",
              "<p>5 rows × 1250 columns</p>\n",
              "</div>\n",
              "      <button class=\"colab-df-convert\" onclick=\"convertToInteractive('df-4cc47933-e1e9-494d-a6be-b3762ffdd770')\"\n",
              "              title=\"Convert this dataframe to an interactive table.\"\n",
              "              style=\"display:none;\">\n",
              "        \n",
              "  <svg xmlns=\"http://www.w3.org/2000/svg\" height=\"24px\"viewBox=\"0 0 24 24\"\n",
              "       width=\"24px\">\n",
              "    <path d=\"M0 0h24v24H0V0z\" fill=\"none\"/>\n",
              "    <path d=\"M18.56 5.44l.94 2.06.94-2.06 2.06-.94-2.06-.94-.94-2.06-.94 2.06-2.06.94zm-11 1L8.5 8.5l.94-2.06 2.06-.94-2.06-.94L8.5 2.5l-.94 2.06-2.06.94zm10 10l.94 2.06.94-2.06 2.06-.94-2.06-.94-.94-2.06-.94 2.06-2.06.94z\"/><path d=\"M17.41 7.96l-1.37-1.37c-.4-.4-.92-.59-1.43-.59-.52 0-1.04.2-1.43.59L10.3 9.45l-7.72 7.72c-.78.78-.78 2.05 0 2.83L4 21.41c.39.39.9.59 1.41.59.51 0 1.02-.2 1.41-.59l7.78-7.78 2.81-2.81c.8-.78.8-2.07 0-2.86zM5.41 20L4 18.59l7.72-7.72 1.47 1.35L5.41 20z\"/>\n",
              "  </svg>\n",
              "      </button>\n",
              "      \n",
              "  <style>\n",
              "    .colab-df-container {\n",
              "      display:flex;\n",
              "      flex-wrap:wrap;\n",
              "      gap: 12px;\n",
              "    }\n",
              "\n",
              "    .colab-df-convert {\n",
              "      background-color: #E8F0FE;\n",
              "      border: none;\n",
              "      border-radius: 50%;\n",
              "      cursor: pointer;\n",
              "      display: none;\n",
              "      fill: #1967D2;\n",
              "      height: 32px;\n",
              "      padding: 0 0 0 0;\n",
              "      width: 32px;\n",
              "    }\n",
              "\n",
              "    .colab-df-convert:hover {\n",
              "      background-color: #E2EBFA;\n",
              "      box-shadow: 0px 1px 2px rgba(60, 64, 67, 0.3), 0px 1px 3px 1px rgba(60, 64, 67, 0.15);\n",
              "      fill: #174EA6;\n",
              "    }\n",
              "\n",
              "    [theme=dark] .colab-df-convert {\n",
              "      background-color: #3B4455;\n",
              "      fill: #D2E3FC;\n",
              "    }\n",
              "\n",
              "    [theme=dark] .colab-df-convert:hover {\n",
              "      background-color: #434B5C;\n",
              "      box-shadow: 0px 1px 3px 1px rgba(0, 0, 0, 0.15);\n",
              "      filter: drop-shadow(0px 1px 2px rgba(0, 0, 0, 0.3));\n",
              "      fill: #FFFFFF;\n",
              "    }\n",
              "  </style>\n",
              "\n",
              "      <script>\n",
              "        const buttonEl =\n",
              "          document.querySelector('#df-4cc47933-e1e9-494d-a6be-b3762ffdd770 button.colab-df-convert');\n",
              "        buttonEl.style.display =\n",
              "          google.colab.kernel.accessAllowed ? 'block' : 'none';\n",
              "\n",
              "        async function convertToInteractive(key) {\n",
              "          const element = document.querySelector('#df-4cc47933-e1e9-494d-a6be-b3762ffdd770');\n",
              "          const dataTable =\n",
              "            await google.colab.kernel.invokeFunction('convertToInteractive',\n",
              "                                                     [key], {});\n",
              "          if (!dataTable) return;\n",
              "\n",
              "          const docLinkHtml = 'Like what you see? Visit the ' +\n",
              "            '<a target=\"_blank\" href=https://colab.research.google.com/notebooks/data_table.ipynb>data table notebook</a>'\n",
              "            + ' to learn more about interactive tables.';\n",
              "          element.innerHTML = '';\n",
              "          dataTable['output_type'] = 'display_data';\n",
              "          await google.colab.output.renderOutput(dataTable, element);\n",
              "          const docLink = document.createElement('div');\n",
              "          docLink.innerHTML = docLinkHtml;\n",
              "          element.appendChild(docLink);\n",
              "        }\n",
              "      </script>\n",
              "    </div>\n",
              "  </div>\n",
              "  "
            ]
          },
          "metadata": {},
          "execution_count": 7
        }
      ],
      "source": [
        "df.head()"
      ]
    },
    {
      "cell_type": "markdown",
      "metadata": {
        "id": "j-y8ee39DE6J"
      },
      "source": [
        "## Data pre-processing\n",
        "\n",
        "\n",
        "*   Fill Nan with -1\n",
        "*   label encoder for string columns\n",
        "*   Drop PatientID column\n",
        "\n",
        "\n"
      ]
    },
    {
      "cell_type": "code",
      "execution_count": 8,
      "metadata": {
        "id": "gezwqZK_CQRm"
      },
      "outputs": [],
      "source": [
        "# replace missing values with -1\n",
        "df_filled=df.fillna(-1)"
      ]
    },
    {
      "cell_type": "code",
      "execution_count": 9,
      "metadata": {
        "id": "Vtx6dQOfCR-1"
      },
      "outputs": [],
      "source": [
        "# check for columns other than numeric columns\n",
        "column_names_string= df_filled.select_dtypes(exclude=[np.number]).columns"
      ]
    },
    {
      "cell_type": "code",
      "execution_count": 10,
      "metadata": {
        "colab": {
          "base_uri": "https://localhost:8080/"
        },
        "id": "-s6D28-1C2KR",
        "outputId": "ecc754a0-9982-41d0-990b-7c2542dfc96b"
      },
      "outputs": [
        {
          "output_type": "execute_result",
          "data": {
            "text/plain": [
              "Index(['dendritedate', 'definite_check_exclude', 'cancer_staging'], dtype='object')"
            ]
          },
          "metadata": {},
          "execution_count": 10
        }
      ],
      "source": [
        "column_names_string"
      ]
    },
    {
      "cell_type": "code",
      "execution_count": 11,
      "metadata": {
        "id": "G0ZD1o3vC7QQ"
      },
      "outputs": [],
      "source": [
        "# encode the object columns\n",
        "for col in column_names_string:\n",
        "  le = preprocessing.LabelEncoder()\n",
        "  df_filled[col] = le.fit_transform(df[col].values)"
      ]
    },
    {
      "cell_type": "code",
      "execution_count": 12,
      "metadata": {
        "id": "Y2b7fcFIDQqc"
      },
      "outputs": [],
      "source": [
        "# drop primary keys column\n",
        "df_filled.drop(\"patientid\", axis=1, inplace=True)\n"
      ]
    },
    {
      "cell_type": "code",
      "execution_count": 13,
      "metadata": {
        "colab": {
          "base_uri": "https://localhost:8080/"
        },
        "id": "yWtkCZ7nESXK",
        "outputId": "4c218925-877f-464e-8a13-6430ef675b3f"
      },
      "outputs": [
        {
          "output_type": "execute_result",
          "data": {
            "text/plain": [
              "1482"
            ]
          },
          "metadata": {},
          "execution_count": 13
        }
      ],
      "source": [
        "len(df_filled)"
      ]
    },
    {
      "cell_type": "code",
      "source": [
        "# check dataset shape\n",
        "df_filled.shape"
      ],
      "metadata": {
        "colab": {
          "base_uri": "https://localhost:8080/"
        },
        "id": "E_qoac8QJxcf",
        "outputId": "662da53f-700f-4c3a-ac45-d666ad9bf09d"
      },
      "execution_count": 14,
      "outputs": [
        {
          "output_type": "execute_result",
          "data": {
            "text/plain": [
              "(1482, 1249)"
            ]
          },
          "metadata": {},
          "execution_count": 14
        }
      ]
    },
    {
      "cell_type": "markdown",
      "metadata": {
        "id": "yLU6o8RxFWhY"
      },
      "source": [
        "### Train-Test-Split"
      ]
    },
    {
      "cell_type": "code",
      "execution_count": 15,
      "metadata": {
        "id": "-5kitIY4FcGz"
      },
      "outputs": [],
      "source": [
        "column_df=list(df_filled.columns)"
      ]
    },
    {
      "cell_type": "code",
      "execution_count": 16,
      "metadata": {
        "id": "zYjDUdPVFgTt"
      },
      "outputs": [],
      "source": [
        "column_df.remove('Case_Control')"
      ]
    },
    {
      "cell_type": "code",
      "execution_count": 17,
      "metadata": {
        "id": "4nT5LU9dFlp9"
      },
      "outputs": [],
      "source": [
        "X=df_filled[column_df]\n",
        "y=df_filled['Case_Control']"
      ]
    },
    {
      "cell_type": "code",
      "execution_count": 18,
      "metadata": {
        "id": "-VGhjkDSFTdl"
      },
      "outputs": [],
      "source": [
        "# using stratification on target variable y to balance the train-test split - Shweta C.\n",
        "X_train, X_test, y_train, y_test = train_test_split(X, y, test_size=0.20,random_state=20,stratify=y)\n"
      ]
    },
    {
      "cell_type": "code",
      "execution_count": null,
      "metadata": {
        "id": "S-uiUzC_br_P"
      },
      "outputs": [],
      "source": [
        "#df_test=X_test.copy()\n",
        "#df_test['target']=y_test\n",
        "# df_test.to_csv('/content/drive/MyDrive/Omdena_ RadmolAI/Sampled_datasets/test.csv')"
      ]
    },
    {
      "cell_type": "code",
      "execution_count": null,
      "metadata": {
        "id": "fvmiyXgfb2Sg"
      },
      "outputs": [],
      "source": [
        "# df_train=X_train.copy()\n",
        "# df_train['target']=y_train\n",
        "# df_train.to_csv('/content/drive/MyDrive/Omdena_ RadmolAI/Sampled_datasets/train_unbalanced.csv')"
      ]
    },
    {
      "cell_type": "code",
      "execution_count": 19,
      "metadata": {
        "colab": {
          "base_uri": "https://localhost:8080/"
        },
        "id": "X50WitgTfUMw",
        "outputId": "ce8753d8-a924-48e1-ed43-8a08fee3f673"
      },
      "outputs": [
        {
          "output_type": "execute_result",
          "data": {
            "text/plain": [
              "297"
            ]
          },
          "metadata": {},
          "execution_count": 19
        }
      ],
      "source": [
        "len(y_test)"
      ]
    },
    {
      "cell_type": "code",
      "execution_count": 20,
      "metadata": {
        "colab": {
          "base_uri": "https://localhost:8080/"
        },
        "id": "DteLyMBogDog",
        "outputId": "60668a62-77c2-4c74-bf3e-4ebbe24231dc"
      },
      "outputs": [
        {
          "output_type": "stream",
          "name": "stdout",
          "text": [
            "0.8316498316498316\n",
            "0.16835016835016836\n"
          ]
        }
      ],
      "source": [
        "count_class_0, count_class_1 = y_test.value_counts(normalize=True)\n",
        "print(count_class_0)\n",
        "print(count_class_1)"
      ]
    },
    {
      "cell_type": "code",
      "execution_count": 21,
      "metadata": {
        "id": "x8AaW32yHt8a"
      },
      "outputs": [],
      "source": [
        "import warnings\n",
        "warnings.filterwarnings('ignore')"
      ]
    },
    {
      "cell_type": "markdown",
      "source": [
        "## Baseline Models\n",
        "\n",
        "Models based on balanced class_weights for original data, after applying stratification on y variable"
      ],
      "metadata": {
        "id": "K066kLU_OeAr"
      }
    },
    {
      "cell_type": "code",
      "execution_count": null,
      "metadata": {
        "colab": {
          "base_uri": "https://localhost:8080/"
        },
        "id": "tjY86jgsGydX",
        "outputId": "a6b0d9ff-abe7-4045-b483-42f09c18ef0c"
      },
      "outputs": [
        {
          "name": "stdout",
          "output_type": "stream",
          "text": [
            "\n",
            "==================================================================\n",
            "          Linear SVM\n",
            "==================================================================\n",
            "\n",
            "Accuracy: 0.859\n",
            "Precision: 0.844\n",
            "Recall: 0.859\n",
            "F_score: 0.847\n",
            "\n",
            "Balanced Accuracy:  0.6836842105263158\n",
            "              precision    recall  f1-score   support\n",
            "\n",
            "           0       0.89      0.95      0.92       247\n",
            "           1       0.62      0.42      0.50        50\n",
            "\n",
            "    accuracy                           0.86       297\n",
            "   macro avg       0.75      0.68      0.71       297\n",
            "weighted avg       0.84      0.86      0.85       297\n",
            "\n"
          ]
        }
      ],
      "source": [
        "linear_svm_grid(X_train,y_train,X_test,y_test,class_ratio='balanced')\n"
      ]
    },
    {
      "cell_type": "code",
      "execution_count": null,
      "metadata": {
        "colab": {
          "base_uri": "https://localhost:8080/"
        },
        "id": "XcdmTcH9G0-C",
        "outputId": "a29a2690-1b15-4074-8e28-df1764e7bd20"
      },
      "outputs": [
        {
          "name": "stdout",
          "output_type": "stream",
          "text": [
            "\n",
            "==================================================================\n",
            "       Nonlinear SVM\n",
            "==================================================================\n",
            "\n",
            "Accuracy: 0.832\n",
            "Precision: 0.692\n",
            "Recall: 0.832\n",
            "F_score: 0.755\n",
            "\n",
            "Balanced Accuracy:  0.5\n",
            "              precision    recall  f1-score   support\n",
            "\n",
            "           0       0.83      1.00      0.91       247\n",
            "           1       0.00      0.00      0.00        50\n",
            "\n",
            "    accuracy                           0.83       297\n",
            "   macro avg       0.42      0.50      0.45       297\n",
            "weighted avg       0.69      0.83      0.76       297\n",
            "\n"
          ]
        }
      ],
      "source": [
        "nonlinear_svm_grid(X_train,y_train,X_test,y_test,class_ratio='balanced')\n"
      ]
    },
    {
      "cell_type": "code",
      "execution_count": null,
      "metadata": {
        "colab": {
          "base_uri": "https://localhost:8080/"
        },
        "id": "R0FHkCx7G6ZV",
        "outputId": "f408a9b0-e362-4f1a-c07f-1241ea226baa"
      },
      "outputs": [
        {
          "name": "stdout",
          "output_type": "stream",
          "text": [
            "\n",
            "==================================================================\n",
            " Logistic Regression\n",
            "==================================================================\n",
            "\n",
            "Accuracy: 0.852\n",
            "Precision: 0.850\n",
            "Recall: 0.852\n",
            "F_score: 0.851\n",
            "\n",
            "Balanced Accuracy:  0.7274898785425101\n",
            "              precision    recall  f1-score   support\n",
            "\n",
            "           0       0.91      0.91      0.91       247\n",
            "           1       0.56      0.54      0.55        50\n",
            "\n",
            "    accuracy                           0.85       297\n",
            "   macro avg       0.74      0.73      0.73       297\n",
            "weighted avg       0.85      0.85      0.85       297\n",
            "\n"
          ]
        }
      ],
      "source": [
        "logistic_regression_grid(X_train,y_train,X_test,y_test,class_ratio='balanced')\n"
      ]
    },
    {
      "cell_type": "code",
      "execution_count": null,
      "metadata": {
        "colab": {
          "base_uri": "https://localhost:8080/"
        },
        "id": "VDG1Y9q_HDwi",
        "outputId": "47b545be-ef11-4b60-9a51-a3cf18f6d5a3"
      },
      "outputs": [
        {
          "name": "stdout",
          "output_type": "stream",
          "text": [
            "\n",
            "==================================================================\n",
            "          Linear SVM\n",
            "==================================================================\n",
            "\n",
            "Accuracy: 0.865\n",
            "Precision: 0.858\n",
            "Recall: 0.865\n",
            "F_score: 0.861\n",
            "\n",
            "Balanced Accuracy:  0.7276113360323887\n",
            "              precision    recall  f1-score   support\n",
            "\n",
            "           0       0.91      0.94      0.92       247\n",
            "           1       0.62      0.52      0.57        50\n",
            "\n",
            "    accuracy                           0.87       297\n",
            "   macro avg       0.76      0.73      0.74       297\n",
            "weighted avg       0.86      0.87      0.86       297\n",
            "\n"
          ]
        }
      ],
      "source": [
        "linear_svm(X_train,y_train,X_test,y_test,class_ratio='balanced')\n"
      ]
    },
    {
      "cell_type": "code",
      "execution_count": null,
      "metadata": {
        "colab": {
          "base_uri": "https://localhost:8080/"
        },
        "id": "faPtARySHGDb",
        "outputId": "cdbf6637-7d9e-42c1-b4e3-1bff2f10d63f"
      },
      "outputs": [
        {
          "name": "stdout",
          "output_type": "stream",
          "text": [
            "\n",
            "==================================================================\n",
            " Logistic Regression\n",
            "==================================================================\n",
            "\n",
            "Accuracy: 0.848\n",
            "Precision: 0.847\n",
            "Recall: 0.848\n",
            "F_score: 0.848\n",
            "\n",
            "Balanced Accuracy:  0.7254655870445345\n",
            "              precision    recall  f1-score   support\n",
            "\n",
            "           0       0.91      0.91      0.91       247\n",
            "           1       0.55      0.54      0.55        50\n",
            "\n",
            "    accuracy                           0.85       297\n",
            "   macro avg       0.73      0.73      0.73       297\n",
            "weighted avg       0.85      0.85      0.85       297\n",
            "\n"
          ]
        }
      ],
      "source": [
        "logistic_regression(X_train,y_train,X_test,y_test,class_ratio='balanced')\n"
      ]
    },
    {
      "cell_type": "code",
      "execution_count": null,
      "metadata": {
        "colab": {
          "base_uri": "https://localhost:8080/"
        },
        "id": "nBREznQyHIQx",
        "outputId": "427a8a66-eb74-4de2-81e7-8cce1c8eeeb0"
      },
      "outputs": [
        {
          "name": "stdout",
          "output_type": "stream",
          "text": [
            "\n",
            "==================================================================\n",
            "       Random Forest\n",
            "==================================================================\n",
            "\n",
            "Accuracy: 0.987\n",
            "Precision: 0.987\n",
            "Recall: 0.987\n",
            "F_score: 0.986\n",
            "\n",
            "Balanced Accuracy:  0.96\n",
            "              precision    recall  f1-score   support\n",
            "\n",
            "           0       0.98      1.00      0.99       247\n",
            "           1       1.00      0.92      0.96        50\n",
            "\n",
            "    accuracy                           0.99       297\n",
            "   macro avg       0.99      0.96      0.98       297\n",
            "weighted avg       0.99      0.99      0.99       297\n",
            "\n"
          ]
        }
      ],
      "source": [
        "random_forest(X_train,y_train,X_test,y_test,class_ratio='balanced')\n"
      ]
    },
    {
      "cell_type": "code",
      "execution_count": null,
      "metadata": {
        "colab": {
          "base_uri": "https://localhost:8080/"
        },
        "id": "1r3XVib7HKNV",
        "outputId": "13789d5a-f707-4930-99e3-fbd860c10d7e"
      },
      "outputs": [
        {
          "name": "stdout",
          "output_type": "stream",
          "text": [
            "\n",
            "==================================================================\n",
            "             XGBoost\n",
            "==================================================================\n",
            "\n",
            "Accuracy: 1.000\n",
            "Precision: 1.000\n",
            "Recall: 1.000\n",
            "F_score: 1.000\n",
            "\n",
            "Balanced Accuracy:  1.0\n",
            "              precision    recall  f1-score   support\n",
            "\n",
            "           0       1.00      1.00      1.00       247\n",
            "           1       1.00      1.00      1.00        50\n",
            "\n",
            "    accuracy                           1.00       297\n",
            "   macro avg       1.00      1.00      1.00       297\n",
            "weighted avg       1.00      1.00      1.00       297\n",
            "\n"
          ]
        }
      ],
      "source": [
        "xg_boost(X_train,y_train,X_test,y_test)\n"
      ]
    },
    {
      "cell_type": "code",
      "execution_count": null,
      "metadata": {
        "colab": {
          "base_uri": "https://localhost:8080/"
        },
        "id": "QWp3o1gvHMz5",
        "outputId": "ca0c0ab3-7119-4819-d328-208fc37ab67b"
      },
      "outputs": [
        {
          "name": "stdout",
          "output_type": "stream",
          "text": [
            "\n",
            "==================================================================\n",
            "Ensemble Stacked Classifiers\n",
            "==================================================================\n",
            "\n",
            "Accuracy: 1.000\n",
            "Precision: 1.000\n",
            "Recall: 1.000\n",
            "F_score: 1.000\n",
            "\n",
            "Balanced Accuracy:  1.0\n",
            "              precision    recall  f1-score   support\n",
            "\n",
            "           0       1.00      1.00      1.00       247\n",
            "           1       1.00      1.00      1.00        50\n",
            "\n",
            "    accuracy                           1.00       297\n",
            "   macro avg       1.00      1.00      1.00       297\n",
            "weighted avg       1.00      1.00      1.00       297\n",
            "\n"
          ]
        }
      ],
      "source": [
        "ensemble_stacked(X_train,y_train,X_test,y_test)\n"
      ]
    },
    {
      "cell_type": "code",
      "execution_count": null,
      "metadata": {
        "colab": {
          "base_uri": "https://localhost:8080/"
        },
        "id": "da3yfAZ3HPLx",
        "outputId": "0821cfea-8da4-4169-93be-8e0a4364ad6d"
      },
      "outputs": [
        {
          "name": "stdout",
          "output_type": "stream",
          "text": [
            "\n",
            "==================================================================\n",
            "   Voting Classifier\n",
            "==================================================================\n",
            "\n",
            "Accuracy: 0.933\n",
            "Precision: 0.938\n",
            "Recall: 0.933\n",
            "F_score: 0.926\n",
            "\n",
            "Balanced Accuracy:  0.8\n",
            "              precision    recall  f1-score   support\n",
            "\n",
            "           0       0.93      1.00      0.96       247\n",
            "           1       1.00      0.60      0.75        50\n",
            "\n",
            "    accuracy                           0.93       297\n",
            "   macro avg       0.96      0.80      0.86       297\n",
            "weighted avg       0.94      0.93      0.93       297\n",
            "\n"
          ]
        }
      ],
      "source": [
        "voting_classifiers(X_train,y_train,X_test,y_test)\n"
      ]
    },
    {
      "cell_type": "code",
      "execution_count": null,
      "metadata": {
        "colab": {
          "base_uri": "https://localhost:8080/"
        },
        "id": "G5D909dkHRof",
        "outputId": "368a560e-b1a7-495f-cb77-e8922cc31c45"
      },
      "outputs": [
        {
          "name": "stdout",
          "output_type": "stream",
          "text": [
            "\n",
            "==================================================================\n",
            "Bagging Calssifier LR\n",
            "==================================================================\n",
            "\n",
            "Accuracy: 0.862\n",
            "Precision: 0.847\n",
            "Recall: 0.862\n",
            "F_score: 0.850\n",
            "\n",
            "Balanced Accuracy:  0.6857085020242915\n",
            "              precision    recall  f1-score   support\n",
            "\n",
            "           0       0.89      0.95      0.92       247\n",
            "           1       0.64      0.42      0.51        50\n",
            "\n",
            "    accuracy                           0.86       297\n",
            "   macro avg       0.76      0.69      0.71       297\n",
            "weighted avg       0.85      0.86      0.85       297\n",
            "\n"
          ]
        }
      ],
      "source": [
        "Bagging_Classifier_LR(X_train,y_train,X_test,y_test)\n"
      ]
    },
    {
      "cell_type": "code",
      "execution_count": null,
      "metadata": {
        "colab": {
          "base_uri": "https://localhost:8080/"
        },
        "id": "9tezrUlSHUD-",
        "outputId": "e93dcaee-d345-4c13-b73d-f1cd38be38c7"
      },
      "outputs": [
        {
          "name": "stdout",
          "output_type": "stream",
          "text": [
            "\n",
            "==================================================================\n",
            "Bagging Calssifier SVM\n",
            "==================================================================\n",
            "\n",
            "Accuracy: 0.865\n",
            "Precision: 0.854\n",
            "Recall: 0.865\n",
            "F_score: 0.858\n",
            "\n",
            "Balanced Accuracy:  0.7116599190283401\n",
            "              precision    recall  f1-score   support\n",
            "\n",
            "           0       0.90      0.94      0.92       247\n",
            "           1       0.63      0.48      0.55        50\n",
            "\n",
            "    accuracy                           0.87       297\n",
            "   macro avg       0.77      0.71      0.73       297\n",
            "weighted avg       0.85      0.87      0.86       297\n",
            "\n"
          ]
        }
      ],
      "source": [
        "Bagging_Classifier_SVM(X_train,y_train,X_test,y_test)\n"
      ]
    },
    {
      "cell_type": "code",
      "execution_count": null,
      "metadata": {
        "colab": {
          "base_uri": "https://localhost:8080/"
        },
        "id": "wlVY7gBmHV1-",
        "outputId": "179a8d85-64ef-4f6c-c6c4-1a97c2574dcf"
      },
      "outputs": [
        {
          "name": "stdout",
          "output_type": "stream",
          "text": [
            "\n",
            "==================================================================\n",
            "   Gradient Boosting\n",
            "==================================================================\n",
            "\n",
            "Accuracy: 1.000\n",
            "Precision: 1.000\n",
            "Recall: 1.000\n",
            "F_score: 1.000\n",
            "\n",
            "Balanced Accuracy:  1.0\n",
            "              precision    recall  f1-score   support\n",
            "\n",
            "           0       1.00      1.00      1.00       247\n",
            "           1       1.00      1.00      1.00        50\n",
            "\n",
            "    accuracy                           1.00       297\n",
            "   macro avg       1.00      1.00      1.00       297\n",
            "weighted avg       1.00      1.00      1.00       297\n",
            "\n"
          ]
        }
      ],
      "source": [
        "gradient_boosting(X_train,y_train,X_test,y_test)\n"
      ]
    },
    {
      "cell_type": "code",
      "execution_count": null,
      "metadata": {
        "id": "FKXW7QGrZPu5"
      },
      "outputs": [],
      "source": [
        ""
      ]
    },
    {
      "cell_type": "markdown",
      "metadata": {
        "id": "3eLZUWC1Vykx"
      },
      "source": [
        "## Sampling of dataset for balancing the classes"
      ]
    },
    {
      "cell_type": "markdown",
      "metadata": {
        "id": "EZWB-cH5WCwv"
      },
      "source": [
        "## Random UnderSampler"
      ]
    },
    {
      "cell_type": "code",
      "execution_count": null,
      "metadata": {
        "id": "7URU4PyxYKkk"
      },
      "outputs": [],
      "source": [
        "df_train=X_train.copy()\n",
        "df_train['target']=y_train"
      ]
    },
    {
      "cell_type": "code",
      "execution_count": null,
      "metadata": {
        "id": "O6oGwA4AV5C1"
      },
      "outputs": [],
      "source": [
        "# Class count\n",
        "count_class_0, count_class_1 = df_train.target.value_counts()\n",
        "\n",
        "# Divide by class\n",
        "df_class_0 = df_train[df_train['target'] == 0]\n",
        "df_class_1 = df_train[df_train['target'] == 1]"
      ]
    },
    {
      "cell_type": "code",
      "execution_count": null,
      "metadata": {
        "id": "KEihOnyqWTXU"
      },
      "outputs": [],
      "source": [
        "df_class_0_under = df_class_0.sample(count_class_1)\n",
        "df_test_under = pd.concat([df_class_0_under, df_class_1], axis=0)"
      ]
    },
    {
      "cell_type": "code",
      "execution_count": null,
      "metadata": {
        "id": "L_v5o7u_aEJ2"
      },
      "outputs": [],
      "source": [
        "# df_test_under.to_csv('/content/drive/MyDrive/Omdena_ RadmolAI/Sampled_datasets/Random_under_sampled_train.csv')"
      ]
    },
    {
      "cell_type": "code",
      "source": [
        "non_nan_cols=column_df"
      ],
      "metadata": {
        "id": "62TUu7hjR3wi"
      },
      "execution_count": null,
      "outputs": []
    },
    {
      "cell_type": "code",
      "execution_count": null,
      "metadata": {
        "id": "4BGrDzoeWTzO"
      },
      "outputs": [],
      "source": [
        "X_train_new_under_sampled=df_test_under[non_nan_cols]\n",
        "y_train_new_under_sampler=df_test_under['target']"
      ]
    },
    {
      "cell_type": "code",
      "execution_count": null,
      "metadata": {
        "colab": {
          "base_uri": "https://localhost:8080/"
        },
        "id": "9SiN0_MtZRu9",
        "outputId": "2b65eec3-ca18-48e3-b253-a15a35c65238"
      },
      "outputs": [
        {
          "name": "stdout",
          "output_type": "stream",
          "text": [
            "\n",
            "==================================================================\n",
            "          Linear SVM\n",
            "==================================================================\n",
            "\n",
            "Accuracy: 0.781\n",
            "Precision: 0.835\n",
            "Recall: 0.781\n",
            "F_score: 0.800\n",
            "\n",
            "Balanced Accuracy:  0.732834008097166\n",
            "              precision    recall  f1-score   support\n",
            "\n",
            "           0       0.92      0.81      0.86       247\n",
            "           1       0.41      0.66      0.50        50\n",
            "\n",
            "    accuracy                           0.78       297\n",
            "   macro avg       0.66      0.73      0.68       297\n",
            "weighted avg       0.83      0.78      0.80       297\n",
            "\n"
          ]
        }
      ],
      "source": [
        "linear_svm_grid(X_train_new_under_sampled,y_train_new_under_sampler,X_test,y_test,class_ratio='balanced')\n"
      ]
    },
    {
      "cell_type": "code",
      "execution_count": null,
      "metadata": {
        "colab": {
          "base_uri": "https://localhost:8080/"
        },
        "id": "QK-MT8nTZWxG",
        "outputId": "ca3abff2-4e39-4672-d201-fc60c716e4fc"
      },
      "outputs": [
        {
          "name": "stdout",
          "output_type": "stream",
          "text": [
            "\n",
            "==================================================================\n",
            "          Linear SVM\n",
            "==================================================================\n",
            "\n",
            "Accuracy: 0.737\n",
            "Precision: 0.825\n",
            "Recall: 0.737\n",
            "F_score: 0.765\n",
            "\n",
            "Balanced Accuracy:  0.7144939271255061\n",
            "              precision    recall  f1-score   support\n",
            "\n",
            "           0       0.92      0.75      0.83       247\n",
            "           1       0.35      0.68      0.47        50\n",
            "\n",
            "    accuracy                           0.74       297\n",
            "   macro avg       0.64      0.71      0.65       297\n",
            "weighted avg       0.83      0.74      0.77       297\n",
            "\n"
          ]
        }
      ],
      "source": [
        "linear_svm_grid(X_train_new_under_sampled,y_train_new_under_sampler,X_test,y_test,class_ratio=None)\n"
      ]
    },
    {
      "cell_type": "code",
      "execution_count": null,
      "metadata": {
        "colab": {
          "base_uri": "https://localhost:8080/"
        },
        "id": "TFq3vEsoZXAM",
        "outputId": "99d901b1-28e2-473b-ca7b-e96691752643"
      },
      "outputs": [
        {
          "name": "stdout",
          "output_type": "stream",
          "text": [
            "\n",
            "==================================================================\n",
            "       Nonlinear SVM\n",
            "==================================================================\n",
            "\n",
            "Accuracy: 0.168\n",
            "Precision: 0.028\n",
            "Recall: 0.168\n",
            "F_score: 0.049\n",
            "\n",
            "Balanced Accuracy:  0.5\n",
            "              precision    recall  f1-score   support\n",
            "\n",
            "           0       0.00      0.00      0.00       247\n",
            "           1       0.17      1.00      0.29        50\n",
            "\n",
            "    accuracy                           0.17       297\n",
            "   macro avg       0.08      0.50      0.14       297\n",
            "weighted avg       0.03      0.17      0.05       297\n",
            "\n"
          ]
        }
      ],
      "source": [
        "nonlinear_svm_grid(X_train_new_under_sampled,y_train_new_under_sampler,X_test,y_test,class_ratio='balanced')\n"
      ]
    },
    {
      "cell_type": "code",
      "execution_count": null,
      "metadata": {
        "colab": {
          "base_uri": "https://localhost:8080/"
        },
        "id": "LqTLJpddaKSU",
        "outputId": "41ebac5f-2d13-49bc-cb5d-cd55db47a356"
      },
      "outputs": [
        {
          "name": "stdout",
          "output_type": "stream",
          "text": [
            "\n",
            "==================================================================\n",
            "       Nonlinear SVM\n",
            "==================================================================\n",
            "\n",
            "Accuracy: 0.168\n",
            "Precision: 0.028\n",
            "Recall: 0.168\n",
            "F_score: 0.049\n",
            "\n",
            "Balanced Accuracy:  0.5\n",
            "              precision    recall  f1-score   support\n",
            "\n",
            "           0       0.00      0.00      0.00       247\n",
            "           1       0.17      1.00      0.29        50\n",
            "\n",
            "    accuracy                           0.17       297\n",
            "   macro avg       0.08      0.50      0.14       297\n",
            "weighted avg       0.03      0.17      0.05       297\n",
            "\n"
          ]
        }
      ],
      "source": [
        "nonlinear_svm_grid(X_train_new_under_sampled,y_train_new_under_sampler,X_test,y_test,class_ratio=None)\n"
      ]
    },
    {
      "cell_type": "code",
      "execution_count": null,
      "metadata": {
        "colab": {
          "base_uri": "https://localhost:8080/"
        },
        "id": "kRM7M9Z8aMNw",
        "outputId": "d4bb87e0-ee14-42ee-ec8d-b6c71b2f368d"
      },
      "outputs": [
        {
          "name": "stdout",
          "output_type": "stream",
          "text": [
            "\n",
            "==================================================================\n",
            " Logistic Regression\n",
            "==================================================================\n",
            "\n",
            "Accuracy: 0.734\n",
            "Precision: 0.824\n",
            "Recall: 0.734\n",
            "F_score: 0.763\n",
            "\n",
            "Balanced Accuracy:  0.7124696356275304\n",
            "              precision    recall  f1-score   support\n",
            "\n",
            "           0       0.92      0.74      0.82       247\n",
            "           1       0.35      0.68      0.46        50\n",
            "\n",
            "    accuracy                           0.73       297\n",
            "   macro avg       0.64      0.71      0.64       297\n",
            "weighted avg       0.82      0.73      0.76       297\n",
            "\n"
          ]
        }
      ],
      "source": [
        "logistic_regression_grid(X_train_new_under_sampled,y_train_new_under_sampler,X_test,y_test,class_ratio='balanced')\n"
      ]
    },
    {
      "cell_type": "code",
      "execution_count": null,
      "metadata": {
        "colab": {
          "base_uri": "https://localhost:8080/"
        },
        "id": "ugkK3FKQaOSj",
        "outputId": "cca26c20-b9c7-45e0-f5b8-0db5cce758f0"
      },
      "outputs": [
        {
          "name": "stdout",
          "output_type": "stream",
          "text": [
            "\n",
            "==================================================================\n",
            " Logistic Regression\n",
            "==================================================================\n",
            "\n",
            "Accuracy: 0.734\n",
            "Precision: 0.824\n",
            "Recall: 0.734\n",
            "F_score: 0.763\n",
            "\n",
            "Balanced Accuracy:  0.7124696356275304\n",
            "              precision    recall  f1-score   support\n",
            "\n",
            "           0       0.92      0.74      0.82       247\n",
            "           1       0.35      0.68      0.46        50\n",
            "\n",
            "    accuracy                           0.73       297\n",
            "   macro avg       0.64      0.71      0.64       297\n",
            "weighted avg       0.82      0.73      0.76       297\n",
            "\n"
          ]
        }
      ],
      "source": [
        "logistic_regression_grid(X_train_new_under_sampled,y_train_new_under_sampler,X_test,y_test,class_ratio=None)\n"
      ]
    },
    {
      "cell_type": "code",
      "execution_count": null,
      "metadata": {
        "colab": {
          "base_uri": "https://localhost:8080/"
        },
        "id": "xpBSRNblaPgD",
        "outputId": "b507febd-7e15-4b96-d2cf-e6b55c13ead8"
      },
      "outputs": [
        {
          "name": "stdout",
          "output_type": "stream",
          "text": [
            "\n",
            "==================================================================\n",
            "          Linear SVM\n",
            "==================================================================\n",
            "\n",
            "Accuracy: 0.791\n",
            "Precision: 0.828\n",
            "Recall: 0.791\n",
            "F_score: 0.805\n",
            "\n",
            "Balanced Accuracy:  0.7149797570850203\n",
            "              precision    recall  f1-score   support\n",
            "\n",
            "           0       0.91      0.83      0.87       247\n",
            "           1       0.42      0.60      0.49        50\n",
            "\n",
            "    accuracy                           0.79       297\n",
            "   macro avg       0.66      0.71      0.68       297\n",
            "weighted avg       0.83      0.79      0.81       297\n",
            "\n"
          ]
        }
      ],
      "source": [
        "linear_svm(X_train_new_under_sampled,y_train_new_under_sampler,X_test,y_test,class_ratio='balanced')\n"
      ]
    },
    {
      "cell_type": "code",
      "execution_count": null,
      "metadata": {
        "colab": {
          "base_uri": "https://localhost:8080/"
        },
        "id": "j0hEV-zhaRx4",
        "outputId": "708a1e06-d2f6-4cf0-cbfb-724b1d9397b8"
      },
      "outputs": [
        {
          "name": "stdout",
          "output_type": "stream",
          "text": [
            "\n",
            "==================================================================\n",
            "          Linear SVM\n",
            "==================================================================\n",
            "\n",
            "Accuracy: 0.737\n",
            "Precision: 0.829\n",
            "Recall: 0.737\n",
            "F_score: 0.766\n",
            "\n",
            "Balanced Accuracy:  0.7224696356275304\n",
            "              precision    recall  f1-score   support\n",
            "\n",
            "           0       0.92      0.74      0.83       247\n",
            "           1       0.36      0.70      0.47        50\n",
            "\n",
            "    accuracy                           0.74       297\n",
            "   macro avg       0.64      0.72      0.65       297\n",
            "weighted avg       0.83      0.74      0.77       297\n",
            "\n"
          ]
        }
      ],
      "source": [
        "linear_svm(X_train_new_under_sampled,y_train_new_under_sampler,X_test,y_test,class_ratio=None)\n"
      ]
    },
    {
      "cell_type": "code",
      "execution_count": null,
      "metadata": {
        "colab": {
          "base_uri": "https://localhost:8080/"
        },
        "id": "x7ppjyEYaUjY",
        "outputId": "647ad7e7-7877-4333-ae57-8ee2364ba7bf"
      },
      "outputs": [
        {
          "name": "stdout",
          "output_type": "stream",
          "text": [
            "\n",
            "==================================================================\n",
            " Logistic Regression\n",
            "==================================================================\n",
            "\n",
            "Accuracy: 0.717\n",
            "Precision: 0.815\n",
            "Recall: 0.717\n",
            "F_score: 0.748\n",
            "\n",
            "Balanced Accuracy:  0.6943724696356275\n",
            "              precision    recall  f1-score   support\n",
            "\n",
            "           0       0.91      0.73      0.81       247\n",
            "           1       0.33      0.66      0.44        50\n",
            "\n",
            "    accuracy                           0.72       297\n",
            "   macro avg       0.62      0.69      0.63       297\n",
            "weighted avg       0.82      0.72      0.75       297\n",
            "\n"
          ]
        }
      ],
      "source": [
        "logistic_regression(X_train_new_under_sampled,y_train_new_under_sampler,X_test,y_test,class_ratio='balanced')\n"
      ]
    },
    {
      "cell_type": "code",
      "execution_count": null,
      "metadata": {
        "colab": {
          "base_uri": "https://localhost:8080/"
        },
        "id": "iPO6WlsbaUzp",
        "outputId": "13f0d6b4-fc0a-4bed-ae1a-7b577781c3f3"
      },
      "outputs": [
        {
          "name": "stdout",
          "output_type": "stream",
          "text": [
            "\n",
            "==================================================================\n",
            " Logistic Regression\n",
            "==================================================================\n",
            "\n",
            "Accuracy: 0.717\n",
            "Precision: 0.815\n",
            "Recall: 0.717\n",
            "F_score: 0.748\n",
            "\n",
            "Balanced Accuracy:  0.6943724696356275\n",
            "              precision    recall  f1-score   support\n",
            "\n",
            "           0       0.91      0.73      0.81       247\n",
            "           1       0.33      0.66      0.44        50\n",
            "\n",
            "    accuracy                           0.72       297\n",
            "   macro avg       0.62      0.69      0.63       297\n",
            "weighted avg       0.82      0.72      0.75       297\n",
            "\n"
          ]
        }
      ],
      "source": [
        "logistic_regression(X_train_new_under_sampled,y_train_new_under_sampler,X_test,y_test,class_ratio=None)\n"
      ]
    },
    {
      "cell_type": "code",
      "execution_count": null,
      "metadata": {
        "colab": {
          "base_uri": "https://localhost:8080/"
        },
        "id": "YJMWY6NZaWQC",
        "outputId": "bc7ccfbe-746a-4f7e-a910-1f34019955c7"
      },
      "outputs": [
        {
          "name": "stdout",
          "output_type": "stream",
          "text": [
            "\n",
            "==================================================================\n",
            "       Random Forest\n",
            "==================================================================\n",
            "\n",
            "Accuracy: 0.966\n",
            "Precision: 0.969\n",
            "Recall: 0.966\n",
            "F_score: 0.967\n",
            "\n",
            "Balanced Accuracy:  0.9638056680161944\n",
            "              precision    recall  f1-score   support\n",
            "\n",
            "           0       0.99      0.97      0.98       247\n",
            "           1       0.86      0.96      0.91        50\n",
            "\n",
            "    accuracy                           0.97       297\n",
            "   macro avg       0.92      0.96      0.94       297\n",
            "weighted avg       0.97      0.97      0.97       297\n",
            "\n"
          ]
        }
      ],
      "source": [
        "random_forest(X_train_new_under_sampled,y_train_new_under_sampler,X_test,y_test,class_ratio='balanced')\n"
      ]
    },
    {
      "cell_type": "code",
      "execution_count": null,
      "metadata": {
        "colab": {
          "base_uri": "https://localhost:8080/"
        },
        "id": "qvQD-cI8aYXV",
        "outputId": "4b93e677-3f7c-426a-9c66-2f7a6dcc3950"
      },
      "outputs": [
        {
          "name": "stdout",
          "output_type": "stream",
          "text": [
            "\n",
            "==================================================================\n",
            "             XGBoost\n",
            "==================================================================\n",
            "\n",
            "Accuracy: 1.000\n",
            "Precision: 1.000\n",
            "Recall: 1.000\n",
            "F_score: 1.000\n",
            "\n",
            "Balanced Accuracy:  1.0\n",
            "              precision    recall  f1-score   support\n",
            "\n",
            "           0       1.00      1.00      1.00       247\n",
            "           1       1.00      1.00      1.00        50\n",
            "\n",
            "    accuracy                           1.00       297\n",
            "   macro avg       1.00      1.00      1.00       297\n",
            "weighted avg       1.00      1.00      1.00       297\n",
            "\n"
          ]
        }
      ],
      "source": [
        "xg_boost(X_train_new_under_sampled,y_train_new_under_sampler,X_test,y_test)\n"
      ]
    },
    {
      "cell_type": "code",
      "execution_count": null,
      "metadata": {
        "colab": {
          "base_uri": "https://localhost:8080/"
        },
        "id": "nkh3VpfvaaBY",
        "outputId": "6ce2e796-e89c-4687-c520-aad49864b8e0"
      },
      "outputs": [
        {
          "name": "stdout",
          "output_type": "stream",
          "text": [
            "\n",
            "==================================================================\n",
            "Ensemble Stacked Classifiers\n",
            "==================================================================\n",
            "\n",
            "Accuracy: 1.000\n",
            "Precision: 1.000\n",
            "Recall: 1.000\n",
            "F_score: 1.000\n",
            "\n",
            "Balanced Accuracy:  1.0\n",
            "              precision    recall  f1-score   support\n",
            "\n",
            "           0       1.00      1.00      1.00       247\n",
            "           1       1.00      1.00      1.00        50\n",
            "\n",
            "    accuracy                           1.00       297\n",
            "   macro avg       1.00      1.00      1.00       297\n",
            "weighted avg       1.00      1.00      1.00       297\n",
            "\n"
          ]
        }
      ],
      "source": [
        "ensemble_stacked(X_train_new_under_sampled,y_train_new_under_sampler,X_test,y_test)\n"
      ]
    },
    {
      "cell_type": "code",
      "execution_count": null,
      "metadata": {
        "colab": {
          "base_uri": "https://localhost:8080/"
        },
        "id": "xphn8vLbabqX",
        "outputId": "ad1808ba-30c3-4e86-a8b5-ae216d908979"
      },
      "outputs": [
        {
          "name": "stdout",
          "output_type": "stream",
          "text": [
            "\n",
            "==================================================================\n",
            "   Voting Classifier\n",
            "==================================================================\n",
            "\n",
            "Accuracy: 0.929\n",
            "Precision: 0.927\n",
            "Recall: 0.929\n",
            "F_score: 0.927\n",
            "\n",
            "Balanced Accuracy:  0.8458299595141701\n",
            "              precision    recall  f1-score   support\n",
            "\n",
            "           0       0.94      0.97      0.96       247\n",
            "           1       0.84      0.72      0.77        50\n",
            "\n",
            "    accuracy                           0.93       297\n",
            "   macro avg       0.89      0.85      0.87       297\n",
            "weighted avg       0.93      0.93      0.93       297\n",
            "\n"
          ]
        }
      ],
      "source": [
        "voting_classifiers(X_train_new_under_sampled,y_train_new_under_sampler,X_test,y_test)\n"
      ]
    },
    {
      "cell_type": "code",
      "execution_count": null,
      "metadata": {
        "colab": {
          "base_uri": "https://localhost:8080/"
        },
        "id": "c-09qXj9adgi",
        "outputId": "1681b3c4-85d4-4e47-c147-c35546a58338"
      },
      "outputs": [
        {
          "name": "stdout",
          "output_type": "stream",
          "text": [
            "\n",
            "==================================================================\n",
            "Bagging Calssifier LR\n",
            "==================================================================\n",
            "\n",
            "Accuracy: 0.697\n",
            "Precision: 0.802\n",
            "Recall: 0.697\n",
            "F_score: 0.731\n",
            "\n",
            "Balanced Accuracy:  0.6662753036437247\n",
            "              precision    recall  f1-score   support\n",
            "\n",
            "           0       0.90      0.71      0.80       247\n",
            "           1       0.30      0.62      0.41        50\n",
            "\n",
            "    accuracy                           0.70       297\n",
            "   macro avg       0.60      0.67      0.60       297\n",
            "weighted avg       0.80      0.70      0.73       297\n",
            "\n"
          ]
        }
      ],
      "source": [
        "Bagging_Classifier_LR(X_train_new_under_sampled,y_train_new_under_sampler,X_test,y_test)\n"
      ]
    },
    {
      "cell_type": "code",
      "execution_count": null,
      "metadata": {
        "colab": {
          "base_uri": "https://localhost:8080/"
        },
        "id": "fm6TVge8afM3",
        "outputId": "f5e8df84-7240-4f6d-dada-a399d7a180c5"
      },
      "outputs": [
        {
          "name": "stdout",
          "output_type": "stream",
          "text": [
            "\n",
            "==================================================================\n",
            "Bagging Calssifier SVM\n",
            "==================================================================\n",
            "\n",
            "Accuracy: 0.761\n",
            "Precision: 0.828\n",
            "Recall: 0.761\n",
            "F_score: 0.784\n",
            "\n",
            "Balanced Accuracy:  0.7206882591093118\n",
            "              precision    recall  f1-score   support\n",
            "\n",
            "           0       0.92      0.78      0.84       247\n",
            "           1       0.38      0.66      0.48        50\n",
            "\n",
            "    accuracy                           0.76       297\n",
            "   macro avg       0.65      0.72      0.66       297\n",
            "weighted avg       0.83      0.76      0.78       297\n",
            "\n"
          ]
        }
      ],
      "source": [
        "Bagging_Classifier_SVM(X_train_new_under_sampled,y_train_new_under_sampler,X_test,y_test)\n"
      ]
    },
    {
      "cell_type": "code",
      "execution_count": null,
      "metadata": {
        "colab": {
          "base_uri": "https://localhost:8080/"
        },
        "id": "UaE9aEYCahFm",
        "outputId": "3d147719-95e0-4e6b-f45a-98527d83f298"
      },
      "outputs": [
        {
          "name": "stdout",
          "output_type": "stream",
          "text": [
            "\n",
            "==================================================================\n",
            "   Gradient Boosting\n",
            "==================================================================\n",
            "\n",
            "Accuracy: 1.000\n",
            "Precision: 1.000\n",
            "Recall: 1.000\n",
            "F_score: 1.000\n",
            "\n",
            "Balanced Accuracy:  1.0\n",
            "              precision    recall  f1-score   support\n",
            "\n",
            "           0       1.00      1.00      1.00       247\n",
            "           1       1.00      1.00      1.00        50\n",
            "\n",
            "    accuracy                           1.00       297\n",
            "   macro avg       1.00      1.00      1.00       297\n",
            "weighted avg       1.00      1.00      1.00       297\n",
            "\n"
          ]
        }
      ],
      "source": [
        "gradient_boosting(X_train_new_under_sampled,y_train_new_under_sampler,X_test,y_test)\n"
      ]
    },
    {
      "cell_type": "markdown",
      "metadata": {
        "id": "MdDXrQtFWUQ_"
      },
      "source": [
        "## Random Oversampler"
      ]
    },
    {
      "cell_type": "code",
      "execution_count": null,
      "metadata": {
        "id": "Qq6YtE0LWWW1"
      },
      "outputs": [],
      "source": [
        "df_class_1_over = df_class_1.sample(count_class_0, replace=True)\n",
        "df_test_over = pd.concat([df_class_0, df_class_1_over], axis=0)"
      ]
    },
    {
      "cell_type": "code",
      "execution_count": null,
      "metadata": {
        "id": "zdItMfisaUXQ"
      },
      "outputs": [],
      "source": [
        "# df_test_over.to_csv('/content/drive/MyDrive/Omdena_ RadmolAI/Sampled_datasets/Random_Over_sampled_train.csv')\n"
      ]
    },
    {
      "cell_type": "code",
      "execution_count": null,
      "metadata": {
        "id": "FBaXH3HJWZFY"
      },
      "outputs": [],
      "source": [
        "X_train_new_over_sampled=df_test_over[non_nan_cols]\n",
        "y_train_new_over_sampler=df_test_over['target']"
      ]
    },
    {
      "cell_type": "code",
      "execution_count": null,
      "metadata": {
        "colab": {
          "base_uri": "https://localhost:8080/"
        },
        "id": "kYATaiupbCyn",
        "outputId": "8e7a7252-bbed-4d6e-836f-4bd8820f43c7"
      },
      "outputs": [
        {
          "name": "stdout",
          "output_type": "stream",
          "text": [
            "\n",
            "==================================================================\n",
            "          Linear SVM\n",
            "==================================================================\n",
            "\n",
            "Accuracy: 0.875\n",
            "Precision: 0.873\n",
            "Recall: 0.875\n",
            "F_score: 0.874\n",
            "\n",
            "Balanced Accuracy:  0.765587044534413\n",
            "              precision    recall  f1-score   support\n",
            "\n",
            "           0       0.92      0.93      0.93       247\n",
            "           1       0.64      0.60      0.62        50\n",
            "\n",
            "    accuracy                           0.88       297\n",
            "   macro avg       0.78      0.77      0.77       297\n",
            "weighted avg       0.87      0.88      0.87       297\n",
            "\n"
          ]
        }
      ],
      "source": [
        "linear_svm_grid(X_train_new_over_sampled,y_train_new_over_sampler,X_test,y_test,class_ratio='balanced')\n"
      ]
    },
    {
      "cell_type": "code",
      "execution_count": null,
      "metadata": {
        "colab": {
          "base_uri": "https://localhost:8080/"
        },
        "id": "njiecGwbbCyn",
        "outputId": "6e400d04-f6a7-44b4-e683-27df1aa03253"
      },
      "outputs": [
        {
          "name": "stdout",
          "output_type": "stream",
          "text": [
            "\n",
            "==================================================================\n",
            "          Linear SVM\n",
            "==================================================================\n",
            "\n",
            "Accuracy: 0.875\n",
            "Precision: 0.873\n",
            "Recall: 0.875\n",
            "F_score: 0.874\n",
            "\n",
            "Balanced Accuracy:  0.765587044534413\n",
            "              precision    recall  f1-score   support\n",
            "\n",
            "           0       0.92      0.93      0.93       247\n",
            "           1       0.64      0.60      0.62        50\n",
            "\n",
            "    accuracy                           0.88       297\n",
            "   macro avg       0.78      0.77      0.77       297\n",
            "weighted avg       0.87      0.88      0.87       297\n",
            "\n"
          ]
        }
      ],
      "source": [
        "linear_svm_grid(X_train_new_over_sampled,y_train_new_over_sampler,X_test,y_test,class_ratio=None)\n"
      ]
    },
    {
      "cell_type": "code",
      "execution_count": null,
      "metadata": {
        "colab": {
          "base_uri": "https://localhost:8080/"
        },
        "id": "v4qpqZF7bCyo",
        "outputId": "4cf23143-5834-4295-c0da-9aff4ebeb391"
      },
      "outputs": [
        {
          "name": "stdout",
          "output_type": "stream",
          "text": [
            "\n",
            "==================================================================\n",
            "       Nonlinear SVM\n",
            "==================================================================\n",
            "\n",
            "Accuracy: 0.832\n",
            "Precision: 0.692\n",
            "Recall: 0.832\n",
            "F_score: 0.755\n",
            "\n",
            "Balanced Accuracy:  0.5\n",
            "              precision    recall  f1-score   support\n",
            "\n",
            "           0       0.83      1.00      0.91       247\n",
            "           1       0.00      0.00      0.00        50\n",
            "\n",
            "    accuracy                           0.83       297\n",
            "   macro avg       0.42      0.50      0.45       297\n",
            "weighted avg       0.69      0.83      0.76       297\n",
            "\n"
          ]
        }
      ],
      "source": [
        "nonlinear_svm_grid(X_train_new_over_sampled,y_train_new_over_sampler,X_test,y_test,class_ratio='balanced')\n"
      ]
    },
    {
      "cell_type": "code",
      "execution_count": null,
      "metadata": {
        "colab": {
          "base_uri": "https://localhost:8080/"
        },
        "id": "CFXZcEfPbCyo",
        "outputId": "fce92539-887c-4423-93a6-9ff53986ba16"
      },
      "outputs": [
        {
          "name": "stdout",
          "output_type": "stream",
          "text": [
            "\n",
            "==================================================================\n",
            "       Nonlinear SVM\n",
            "==================================================================\n",
            "\n",
            "Accuracy: 0.832\n",
            "Precision: 0.692\n",
            "Recall: 0.832\n",
            "F_score: 0.755\n",
            "\n",
            "Balanced Accuracy:  0.5\n",
            "              precision    recall  f1-score   support\n",
            "\n",
            "           0       0.83      1.00      0.91       247\n",
            "           1       0.00      0.00      0.00        50\n",
            "\n",
            "    accuracy                           0.83       297\n",
            "   macro avg       0.42      0.50      0.45       297\n",
            "weighted avg       0.69      0.83      0.76       297\n",
            "\n"
          ]
        }
      ],
      "source": [
        "nonlinear_svm_grid(X_train_new_over_sampled,y_train_new_over_sampler,X_test,y_test,class_ratio=None)\n"
      ]
    },
    {
      "cell_type": "code",
      "execution_count": null,
      "metadata": {
        "colab": {
          "base_uri": "https://localhost:8080/"
        },
        "id": "ytiXsdcHbCyo",
        "outputId": "58adbca0-b2e3-4b93-e84a-a5e9ab520638"
      },
      "outputs": [
        {
          "name": "stdout",
          "output_type": "stream",
          "text": [
            "\n",
            "==================================================================\n",
            " Logistic Regression\n",
            "==================================================================\n",
            "\n",
            "Accuracy: 0.845\n",
            "Precision: 0.845\n",
            "Recall: 0.845\n",
            "F_score: 0.845\n",
            "\n",
            "Balanced Accuracy:  0.7234412955465588\n",
            "              precision    recall  f1-score   support\n",
            "\n",
            "           0       0.91      0.91      0.91       247\n",
            "           1       0.54      0.54      0.54        50\n",
            "\n",
            "    accuracy                           0.85       297\n",
            "   macro avg       0.72      0.72      0.72       297\n",
            "weighted avg       0.85      0.85      0.85       297\n",
            "\n"
          ]
        }
      ],
      "source": [
        "logistic_regression_grid(X_train_new_over_sampled,y_train_new_over_sampler,X_test,y_test,class_ratio='balanced')\n"
      ]
    },
    {
      "cell_type": "code",
      "execution_count": null,
      "metadata": {
        "colab": {
          "base_uri": "https://localhost:8080/"
        },
        "id": "tpoBLnxGbCyo",
        "outputId": "62d7779b-70a9-4d2f-98b8-13c3aa71b2a4"
      },
      "outputs": [
        {
          "name": "stdout",
          "output_type": "stream",
          "text": [
            "\n",
            "==================================================================\n",
            " Logistic Regression\n",
            "==================================================================\n",
            "\n",
            "Accuracy: 0.852\n",
            "Precision: 0.857\n",
            "Recall: 0.852\n",
            "F_score: 0.854\n",
            "\n",
            "Balanced Accuracy:  0.751417004048583\n",
            "              precision    recall  f1-score   support\n",
            "\n",
            "           0       0.92      0.90      0.91       247\n",
            "           1       0.56      0.60      0.58        50\n",
            "\n",
            "    accuracy                           0.85       297\n",
            "   macro avg       0.74      0.75      0.74       297\n",
            "weighted avg       0.86      0.85      0.85       297\n",
            "\n"
          ]
        }
      ],
      "source": [
        "logistic_regression_grid(X_train_new_over_sampled,y_train_new_over_sampler,X_test,y_test,class_ratio=None)\n"
      ]
    },
    {
      "cell_type": "code",
      "execution_count": null,
      "metadata": {
        "colab": {
          "base_uri": "https://localhost:8080/"
        },
        "id": "sEpwKBQ4bCyo",
        "outputId": "74160374-a307-4165-a020-0056154dd687"
      },
      "outputs": [
        {
          "name": "stdout",
          "output_type": "stream",
          "text": [
            "\n",
            "==================================================================\n",
            "          Linear SVM\n",
            "==================================================================\n",
            "\n",
            "Accuracy: 0.862\n",
            "Precision: 0.851\n",
            "Recall: 0.862\n",
            "F_score: 0.855\n",
            "\n",
            "Balanced Accuracy:  0.7096356275303644\n",
            "              precision    recall  f1-score   support\n",
            "\n",
            "           0       0.90      0.94      0.92       247\n",
            "           1       0.62      0.48      0.54        50\n",
            "\n",
            "    accuracy                           0.86       297\n",
            "   macro avg       0.76      0.71      0.73       297\n",
            "weighted avg       0.85      0.86      0.85       297\n",
            "\n"
          ]
        }
      ],
      "source": [
        "linear_svm(X_train_new_over_sampled,y_train_new_over_sampler,X_test,y_test,class_ratio='balanced')\n"
      ]
    },
    {
      "cell_type": "code",
      "execution_count": null,
      "metadata": {
        "colab": {
          "base_uri": "https://localhost:8080/"
        },
        "id": "X5GSOwZSbCyo",
        "outputId": "569d5fd9-1825-4b9a-d508-e3928fe2699f"
      },
      "outputs": [
        {
          "name": "stdout",
          "output_type": "stream",
          "text": [
            "\n",
            "==================================================================\n",
            "          Linear SVM\n",
            "==================================================================\n",
            "\n",
            "Accuracy: 0.862\n",
            "Precision: 0.863\n",
            "Recall: 0.862\n",
            "F_score: 0.862\n",
            "\n",
            "Balanced Accuracy:  0.7574898785425102\n",
            "              precision    recall  f1-score   support\n",
            "\n",
            "           0       0.92      0.91      0.92       247\n",
            "           1       0.59      0.60      0.59        50\n",
            "\n",
            "    accuracy                           0.86       297\n",
            "   macro avg       0.75      0.76      0.76       297\n",
            "weighted avg       0.86      0.86      0.86       297\n",
            "\n"
          ]
        }
      ],
      "source": [
        "linear_svm(X_train_new_over_sampled,y_train_new_over_sampler,X_test,y_test,class_ratio=None)\n"
      ]
    },
    {
      "cell_type": "code",
      "execution_count": null,
      "metadata": {
        "colab": {
          "base_uri": "https://localhost:8080/"
        },
        "id": "oNIHanVzbCyo",
        "outputId": "5413952e-a443-481f-c211-d8d799201285"
      },
      "outputs": [
        {
          "name": "stdout",
          "output_type": "stream",
          "text": [
            "\n",
            "==================================================================\n",
            " Logistic Regression\n",
            "==================================================================\n",
            "\n",
            "Accuracy: 0.848\n",
            "Precision: 0.855\n",
            "Recall: 0.848\n",
            "F_score: 0.851\n",
            "\n",
            "Balanced Accuracy:  0.7493927125506072\n",
            "              precision    recall  f1-score   support\n",
            "\n",
            "           0       0.92      0.90      0.91       247\n",
            "           1       0.55      0.60      0.57        50\n",
            "\n",
            "    accuracy                           0.85       297\n",
            "   macro avg       0.73      0.75      0.74       297\n",
            "weighted avg       0.85      0.85      0.85       297\n",
            "\n"
          ]
        }
      ],
      "source": [
        "logistic_regression(X_train_new_over_sampled,y_train_new_over_sampler,X_test,y_test,class_ratio='balanced')\n"
      ]
    },
    {
      "cell_type": "code",
      "execution_count": null,
      "metadata": {
        "colab": {
          "base_uri": "https://localhost:8080/"
        },
        "id": "L34OYPNdbCyp",
        "outputId": "8a38e434-8867-4d10-a690-bb99f84eff44"
      },
      "outputs": [
        {
          "name": "stdout",
          "output_type": "stream",
          "text": [
            "\n",
            "==================================================================\n",
            " Logistic Regression\n",
            "==================================================================\n",
            "\n",
            "Accuracy: 0.848\n",
            "Precision: 0.855\n",
            "Recall: 0.848\n",
            "F_score: 0.851\n",
            "\n",
            "Balanced Accuracy:  0.7493927125506072\n",
            "              precision    recall  f1-score   support\n",
            "\n",
            "           0       0.92      0.90      0.91       247\n",
            "           1       0.55      0.60      0.57        50\n",
            "\n",
            "    accuracy                           0.85       297\n",
            "   macro avg       0.73      0.75      0.74       297\n",
            "weighted avg       0.85      0.85      0.85       297\n",
            "\n"
          ]
        }
      ],
      "source": [
        "logistic_regression(X_train_new_over_sampled,y_train_new_over_sampler,X_test,y_test,class_ratio=None)\n"
      ]
    },
    {
      "cell_type": "code",
      "execution_count": null,
      "metadata": {
        "colab": {
          "base_uri": "https://localhost:8080/"
        },
        "id": "XTY2XbqwbCyp",
        "outputId": "9f748dfc-5b48-4167-d102-89d83b5a8248"
      },
      "outputs": [
        {
          "name": "stdout",
          "output_type": "stream",
          "text": [
            "\n",
            "==================================================================\n",
            "       Random Forest\n",
            "==================================================================\n",
            "\n",
            "Accuracy: 0.990\n",
            "Precision: 0.990\n",
            "Recall: 0.990\n",
            "F_score: 0.990\n",
            "\n",
            "Balanced Accuracy:  0.9779757085020242\n",
            "              precision    recall  f1-score   support\n",
            "\n",
            "           0       0.99      1.00      0.99       247\n",
            "           1       0.98      0.96      0.97        50\n",
            "\n",
            "    accuracy                           0.99       297\n",
            "   macro avg       0.99      0.98      0.98       297\n",
            "weighted avg       0.99      0.99      0.99       297\n",
            "\n"
          ]
        }
      ],
      "source": [
        "random_forest(X_train_new_over_sampled,y_train_new_over_sampler,X_test,y_test,class_ratio='balanced')\n"
      ]
    },
    {
      "cell_type": "code",
      "execution_count": null,
      "metadata": {
        "colab": {
          "base_uri": "https://localhost:8080/"
        },
        "id": "tdsjNyBEbCyp",
        "outputId": "7c6f0cdb-c6bc-4a5b-e9b1-7e5e074741c3"
      },
      "outputs": [
        {
          "name": "stdout",
          "output_type": "stream",
          "text": [
            "\n",
            "==================================================================\n",
            "             XGBoost\n",
            "==================================================================\n",
            "\n",
            "Accuracy: 1.000\n",
            "Precision: 1.000\n",
            "Recall: 1.000\n",
            "F_score: 1.000\n",
            "\n",
            "Balanced Accuracy:  1.0\n",
            "              precision    recall  f1-score   support\n",
            "\n",
            "           0       1.00      1.00      1.00       247\n",
            "           1       1.00      1.00      1.00        50\n",
            "\n",
            "    accuracy                           1.00       297\n",
            "   macro avg       1.00      1.00      1.00       297\n",
            "weighted avg       1.00      1.00      1.00       297\n",
            "\n"
          ]
        }
      ],
      "source": [
        "xg_boost(X_train_new_over_sampled,y_train_new_over_sampler,X_test,y_test)\n"
      ]
    },
    {
      "cell_type": "code",
      "execution_count": null,
      "metadata": {
        "colab": {
          "base_uri": "https://localhost:8080/"
        },
        "id": "BmLqeZitbCyp",
        "outputId": "6a1bc8eb-704e-462f-bb25-0b8a4fd725d3"
      },
      "outputs": [
        {
          "name": "stdout",
          "output_type": "stream",
          "text": [
            "\n",
            "==================================================================\n",
            "Ensemble Stacked Classifiers\n",
            "==================================================================\n",
            "\n",
            "Accuracy: 1.000\n",
            "Precision: 1.000\n",
            "Recall: 1.000\n",
            "F_score: 1.000\n",
            "\n",
            "Balanced Accuracy:  1.0\n",
            "              precision    recall  f1-score   support\n",
            "\n",
            "           0       1.00      1.00      1.00       247\n",
            "           1       1.00      1.00      1.00        50\n",
            "\n",
            "    accuracy                           1.00       297\n",
            "   macro avg       1.00      1.00      1.00       297\n",
            "weighted avg       1.00      1.00      1.00       297\n",
            "\n"
          ]
        }
      ],
      "source": [
        "ensemble_stacked(X_train_new_over_sampled,y_train_new_over_sampler,X_test,y_test)\n"
      ]
    },
    {
      "cell_type": "code",
      "execution_count": null,
      "metadata": {
        "colab": {
          "base_uri": "https://localhost:8080/"
        },
        "id": "_Bv7TmEHbCyp",
        "outputId": "7db2812e-c298-4be8-b0db-cedd8ad5c5b3"
      },
      "outputs": [
        {
          "name": "stdout",
          "output_type": "stream",
          "text": [
            "\n",
            "==================================================================\n",
            "   Voting Classifier\n",
            "==================================================================\n",
            "\n",
            "Accuracy: 0.936\n",
            "Precision: 0.938\n",
            "Recall: 0.936\n",
            "F_score: 0.931\n",
            "\n",
            "Balanced Accuracy:  0.8179757085020243\n",
            "              precision    recall  f1-score   support\n",
            "\n",
            "           0       0.93      1.00      0.96       247\n",
            "           1       0.97      0.64      0.77        50\n",
            "\n",
            "    accuracy                           0.94       297\n",
            "   macro avg       0.95      0.82      0.87       297\n",
            "weighted avg       0.94      0.94      0.93       297\n",
            "\n"
          ]
        }
      ],
      "source": [
        "voting_classifiers(X_train_new_over_sampled,y_train_new_over_sampler,X_test,y_test)\n"
      ]
    },
    {
      "cell_type": "code",
      "execution_count": null,
      "metadata": {
        "colab": {
          "base_uri": "https://localhost:8080/"
        },
        "id": "ldlx9Te7bCyp",
        "outputId": "aa4ff9a4-0003-41e6-8696-050047d569c6"
      },
      "outputs": [
        {
          "name": "stdout",
          "output_type": "stream",
          "text": [
            "\n",
            "==================================================================\n",
            "Bagging Calssifier LR\n",
            "==================================================================\n",
            "\n",
            "Accuracy: 0.828\n",
            "Precision: 0.830\n",
            "Recall: 0.828\n",
            "F_score: 0.829\n",
            "\n",
            "Balanced Accuracy:  0.6973684210526316\n",
            "              precision    recall  f1-score   support\n",
            "\n",
            "           0       0.90      0.89      0.90       247\n",
            "           1       0.49      0.50      0.50        50\n",
            "\n",
            "    accuracy                           0.83       297\n",
            "   macro avg       0.69      0.70      0.70       297\n",
            "weighted avg       0.83      0.83      0.83       297\n",
            "\n"
          ]
        }
      ],
      "source": [
        "Bagging_Classifier_LR(X_train_new_over_sampled,y_train_new_over_sampler,X_test,y_test)\n"
      ]
    },
    {
      "cell_type": "code",
      "execution_count": null,
      "metadata": {
        "colab": {
          "base_uri": "https://localhost:8080/"
        },
        "id": "D5xcl44IbCyp",
        "outputId": "7c62878c-f7a8-4bc3-e996-f623c86efbaf"
      },
      "outputs": [
        {
          "name": "stdout",
          "output_type": "stream",
          "text": [
            "\n",
            "==================================================================\n",
            "Bagging Calssifier SVM\n",
            "==================================================================\n",
            "\n",
            "Accuracy: 0.859\n",
            "Precision: 0.859\n",
            "Recall: 0.859\n",
            "F_score: 0.859\n",
            "\n",
            "Balanced Accuracy:  0.7474898785425101\n",
            "              precision    recall  f1-score   support\n",
            "\n",
            "           0       0.91      0.91      0.91       247\n",
            "           1       0.58      0.58      0.58        50\n",
            "\n",
            "    accuracy                           0.86       297\n",
            "   macro avg       0.75      0.75      0.75       297\n",
            "weighted avg       0.86      0.86      0.86       297\n",
            "\n"
          ]
        }
      ],
      "source": [
        "Bagging_Classifier_SVM(X_train_new_over_sampled,y_train_new_over_sampler,X_test,y_test)\n"
      ]
    },
    {
      "cell_type": "code",
      "execution_count": null,
      "metadata": {
        "colab": {
          "base_uri": "https://localhost:8080/"
        },
        "id": "2KwES1YwbCyq",
        "outputId": "f1629c41-441f-467f-8847-4edd34cc96d7"
      },
      "outputs": [
        {
          "name": "stdout",
          "output_type": "stream",
          "text": [
            "\n",
            "==================================================================\n",
            "   Gradient Boosting\n",
            "==================================================================\n",
            "\n",
            "Accuracy: 1.000\n",
            "Precision: 1.000\n",
            "Recall: 1.000\n",
            "F_score: 1.000\n",
            "\n",
            "Balanced Accuracy:  1.0\n",
            "              precision    recall  f1-score   support\n",
            "\n",
            "           0       1.00      1.00      1.00       247\n",
            "           1       1.00      1.00      1.00        50\n",
            "\n",
            "    accuracy                           1.00       297\n",
            "   macro avg       1.00      1.00      1.00       297\n",
            "weighted avg       1.00      1.00      1.00       297\n",
            "\n"
          ]
        }
      ],
      "source": [
        "gradient_boosting(X_train_new_over_sampled,y_train_new_over_sampler,X_test,y_test)\n"
      ]
    },
    {
      "cell_type": "markdown",
      "metadata": {
        "id": "OUIXu0ETWbSQ"
      },
      "source": [
        "## Python imbalanced-learn module\n"
      ]
    },
    {
      "cell_type": "code",
      "execution_count": null,
      "metadata": {
        "id": "hT8I1AwZWcGL"
      },
      "outputs": [],
      "source": [
        "import imblearn\n"
      ]
    },
    {
      "cell_type": "markdown",
      "metadata": {
        "id": "xQsV3kOvWiDZ"
      },
      "source": [
        "### Random under-sampling and over-sampling with imbalanced-learn\n"
      ]
    },
    {
      "cell_type": "markdown",
      "metadata": {
        "id": "Ww16QTnuXR-C"
      },
      "source": [
        "#### Random under-sampler"
      ]
    },
    {
      "cell_type": "code",
      "execution_count": null,
      "metadata": {
        "id": "wrKhPnCEWfrk"
      },
      "outputs": [],
      "source": [
        "from imblearn.under_sampling import RandomUnderSampler\n",
        "\n",
        "rus = RandomUnderSampler()\n",
        "X_rus, y_rus = rus.fit_resample(X_train,y_train)"
      ]
    },
    {
      "cell_type": "code",
      "execution_count": null,
      "metadata": {
        "id": "AUWfAc7HahX5"
      },
      "outputs": [],
      "source": [
        "# df_train=X_rus.copy()\n",
        "# df_train['target']=y_rus\n",
        "# df_train.to_csv('/content/drive/MyDrive/Omdena_ RadmolAI/Sampled_datasets/imblearn_Random_under_sampled_train.csv')\n",
        "\n"
      ]
    },
    {
      "cell_type": "code",
      "execution_count": null,
      "metadata": {
        "colab": {
          "base_uri": "https://localhost:8080/"
        },
        "id": "KfTwpfpObD_w",
        "outputId": "6762ea5d-52ac-40a1-f1e7-f9918a577d6b"
      },
      "outputs": [
        {
          "name": "stdout",
          "output_type": "stream",
          "text": [
            "\n",
            "==================================================================\n",
            "          Linear SVM\n",
            "==================================================================\n",
            "\n",
            "Accuracy: 0.751\n",
            "Precision: 0.821\n",
            "Recall: 0.751\n",
            "F_score: 0.775\n",
            "\n",
            "Balanced Accuracy:  0.7066396761133603\n",
            "              precision    recall  f1-score   support\n",
            "\n",
            "           0       0.91      0.77      0.84       247\n",
            "           1       0.36      0.64      0.46        50\n",
            "\n",
            "    accuracy                           0.75       297\n",
            "   macro avg       0.64      0.71      0.65       297\n",
            "weighted avg       0.82      0.75      0.77       297\n",
            "\n"
          ]
        }
      ],
      "source": [
        "linear_svm_grid(X_rus,y_rus,X_test,y_test,class_ratio='balanced')\n"
      ]
    },
    {
      "cell_type": "code",
      "execution_count": null,
      "metadata": {
        "colab": {
          "base_uri": "https://localhost:8080/"
        },
        "id": "_iq8PTpwbD_x",
        "outputId": "70ed38d1-b8fd-4b55-ef00-fb7d05db4662"
      },
      "outputs": [
        {
          "name": "stdout",
          "output_type": "stream",
          "text": [
            "\n",
            "==================================================================\n",
            "          Linear SVM\n",
            "==================================================================\n",
            "\n",
            "Accuracy: 0.737\n",
            "Precision: 0.817\n",
            "Recall: 0.737\n",
            "F_score: 0.764\n",
            "\n",
            "Balanced Accuracy:  0.6985425101214575\n",
            "              precision    recall  f1-score   support\n",
            "\n",
            "           0       0.91      0.76      0.83       247\n",
            "           1       0.35      0.64      0.45        50\n",
            "\n",
            "    accuracy                           0.74       297\n",
            "   macro avg       0.63      0.70      0.64       297\n",
            "weighted avg       0.82      0.74      0.76       297\n",
            "\n"
          ]
        }
      ],
      "source": [
        "linear_svm_grid(X_rus,y_rus,X_test,y_test,class_ratio=None)\n"
      ]
    },
    {
      "cell_type": "code",
      "execution_count": null,
      "metadata": {
        "colab": {
          "base_uri": "https://localhost:8080/"
        },
        "id": "RUqeJzPqbD_x",
        "outputId": "0fce1e4a-46f2-4161-d92a-72f507268c91"
      },
      "outputs": [
        {
          "name": "stdout",
          "output_type": "stream",
          "text": [
            "\n",
            "==================================================================\n",
            "       Nonlinear SVM\n",
            "==================================================================\n",
            "\n",
            "Accuracy: 0.168\n",
            "Precision: 0.028\n",
            "Recall: 0.168\n",
            "F_score: 0.049\n",
            "\n",
            "Balanced Accuracy:  0.5\n",
            "              precision    recall  f1-score   support\n",
            "\n",
            "           0       0.00      0.00      0.00       247\n",
            "           1       0.17      1.00      0.29        50\n",
            "\n",
            "    accuracy                           0.17       297\n",
            "   macro avg       0.08      0.50      0.14       297\n",
            "weighted avg       0.03      0.17      0.05       297\n",
            "\n"
          ]
        }
      ],
      "source": [
        "nonlinear_svm_grid(X_rus,y_rus,X_test,y_test,class_ratio='balanced')\n"
      ]
    },
    {
      "cell_type": "code",
      "execution_count": null,
      "metadata": {
        "colab": {
          "base_uri": "https://localhost:8080/"
        },
        "id": "yZdwP_QgbD_y",
        "outputId": "17f246b8-865b-4963-c103-5d1498342422"
      },
      "outputs": [
        {
          "name": "stdout",
          "output_type": "stream",
          "text": [
            "\n",
            "==================================================================\n",
            "       Nonlinear SVM\n",
            "==================================================================\n",
            "\n",
            "Accuracy: 0.168\n",
            "Precision: 0.028\n",
            "Recall: 0.168\n",
            "F_score: 0.049\n",
            "\n",
            "Balanced Accuracy:  0.5\n",
            "              precision    recall  f1-score   support\n",
            "\n",
            "           0       0.00      0.00      0.00       247\n",
            "           1       0.17      1.00      0.29        50\n",
            "\n",
            "    accuracy                           0.17       297\n",
            "   macro avg       0.08      0.50      0.14       297\n",
            "weighted avg       0.03      0.17      0.05       297\n",
            "\n"
          ]
        }
      ],
      "source": [
        "nonlinear_svm_grid(X_rus,y_rus,X_test,y_test,class_ratio=None)\n"
      ]
    },
    {
      "cell_type": "code",
      "execution_count": null,
      "metadata": {
        "colab": {
          "base_uri": "https://localhost:8080/"
        },
        "id": "35CHxQOzbD_y",
        "outputId": "6fb44c7c-21c7-4ff4-d6d6-97abc6e64498"
      },
      "outputs": [
        {
          "name": "stdout",
          "output_type": "stream",
          "text": [
            "\n",
            "==================================================================\n",
            " Logistic Regression\n",
            "==================================================================\n",
            "\n",
            "Accuracy: 0.741\n",
            "Precision: 0.826\n",
            "Recall: 0.741\n",
            "F_score: 0.768\n",
            "\n",
            "Balanced Accuracy:  0.7165182186234818\n",
            "              precision    recall  f1-score   support\n",
            "\n",
            "           0       0.92      0.75      0.83       247\n",
            "           1       0.36      0.68      0.47        50\n",
            "\n",
            "    accuracy                           0.74       297\n",
            "   macro avg       0.64      0.72      0.65       297\n",
            "weighted avg       0.83      0.74      0.77       297\n",
            "\n"
          ]
        }
      ],
      "source": [
        "logistic_regression_grid(X_rus,y_rus,X_test,y_test,class_ratio='balanced')\n"
      ]
    },
    {
      "cell_type": "code",
      "execution_count": null,
      "metadata": {
        "colab": {
          "base_uri": "https://localhost:8080/"
        },
        "id": "7Gixm92SbD_y",
        "outputId": "81664540-eb1a-4053-aec0-4c3e9aad3d87"
      },
      "outputs": [
        {
          "name": "stdout",
          "output_type": "stream",
          "text": [
            "\n",
            "==================================================================\n",
            " Logistic Regression\n",
            "==================================================================\n",
            "\n",
            "Accuracy: 0.741\n",
            "Precision: 0.826\n",
            "Recall: 0.741\n",
            "F_score: 0.768\n",
            "\n",
            "Balanced Accuracy:  0.7165182186234818\n",
            "              precision    recall  f1-score   support\n",
            "\n",
            "           0       0.92      0.75      0.83       247\n",
            "           1       0.36      0.68      0.47        50\n",
            "\n",
            "    accuracy                           0.74       297\n",
            "   macro avg       0.64      0.72      0.65       297\n",
            "weighted avg       0.83      0.74      0.77       297\n",
            "\n"
          ]
        }
      ],
      "source": [
        "logistic_regression_grid(X_rus,y_rus,X_test,y_test,class_ratio=None)\n"
      ]
    },
    {
      "cell_type": "code",
      "execution_count": null,
      "metadata": {
        "colab": {
          "base_uri": "https://localhost:8080/"
        },
        "id": "-_STfdPgbD_z",
        "outputId": "f60fe824-94bf-4572-8d42-f375a68910f4"
      },
      "outputs": [
        {
          "name": "stdout",
          "output_type": "stream",
          "text": [
            "\n",
            "==================================================================\n",
            "          Linear SVM\n",
            "==================================================================\n",
            "\n",
            "Accuracy: 0.751\n",
            "Precision: 0.821\n",
            "Recall: 0.751\n",
            "F_score: 0.775\n",
            "\n",
            "Balanced Accuracy:  0.7066396761133603\n",
            "              precision    recall  f1-score   support\n",
            "\n",
            "           0       0.91      0.77      0.84       247\n",
            "           1       0.36      0.64      0.46        50\n",
            "\n",
            "    accuracy                           0.75       297\n",
            "   macro avg       0.64      0.71      0.65       297\n",
            "weighted avg       0.82      0.75      0.77       297\n",
            "\n"
          ]
        }
      ],
      "source": [
        "linear_svm(X_rus,y_rus,X_test,y_test,class_ratio='balanced')\n"
      ]
    },
    {
      "cell_type": "code",
      "execution_count": null,
      "metadata": {
        "colab": {
          "base_uri": "https://localhost:8080/"
        },
        "id": "EVe9WrlxbD_z",
        "outputId": "aade2fa4-d367-4a6f-87a5-85ffbbf139cf"
      },
      "outputs": [
        {
          "name": "stdout",
          "output_type": "stream",
          "text": [
            "\n",
            "==================================================================\n",
            "          Linear SVM\n",
            "==================================================================\n",
            "\n",
            "Accuracy: 0.754\n",
            "Precision: 0.819\n",
            "Recall: 0.754\n",
            "F_score: 0.777\n",
            "\n",
            "Balanced Accuracy:  0.7006882591093118\n",
            "              precision    recall  f1-score   support\n",
            "\n",
            "           0       0.91      0.78      0.84       247\n",
            "           1       0.36      0.62      0.46        50\n",
            "\n",
            "    accuracy                           0.75       297\n",
            "   macro avg       0.64      0.70      0.65       297\n",
            "weighted avg       0.82      0.75      0.78       297\n",
            "\n"
          ]
        }
      ],
      "source": [
        "linear_svm(X_rus,y_rus,X_test,y_test,class_ratio=None)\n"
      ]
    },
    {
      "cell_type": "code",
      "execution_count": null,
      "metadata": {
        "colab": {
          "base_uri": "https://localhost:8080/"
        },
        "id": "DyQTbTh-bD_z",
        "outputId": "ffb1f2d5-2de9-4957-c434-6690f4ab707d"
      },
      "outputs": [
        {
          "name": "stdout",
          "output_type": "stream",
          "text": [
            "\n",
            "==================================================================\n",
            " Logistic Regression\n",
            "==================================================================\n",
            "\n",
            "Accuracy: 0.714\n",
            "Precision: 0.819\n",
            "Recall: 0.714\n",
            "F_score: 0.746\n",
            "\n",
            "Balanced Accuracy:  0.7003238866396762\n",
            "              precision    recall  f1-score   support\n",
            "\n",
            "           0       0.92      0.72      0.81       247\n",
            "           1       0.33      0.68      0.44        50\n",
            "\n",
            "    accuracy                           0.71       297\n",
            "   macro avg       0.62      0.70      0.63       297\n",
            "weighted avg       0.82      0.71      0.75       297\n",
            "\n"
          ]
        }
      ],
      "source": [
        "logistic_regression(X_rus,y_rus,X_test,y_test,class_ratio='balanced')\n"
      ]
    },
    {
      "cell_type": "code",
      "execution_count": null,
      "metadata": {
        "colab": {
          "base_uri": "https://localhost:8080/"
        },
        "id": "_ptXneLobD_z",
        "outputId": "110260f1-f541-4a84-e539-6b84f385301b"
      },
      "outputs": [
        {
          "name": "stdout",
          "output_type": "stream",
          "text": [
            "\n",
            "==================================================================\n",
            " Logistic Regression\n",
            "==================================================================\n",
            "\n",
            "Accuracy: 0.714\n",
            "Precision: 0.819\n",
            "Recall: 0.714\n",
            "F_score: 0.746\n",
            "\n",
            "Balanced Accuracy:  0.7003238866396762\n",
            "              precision    recall  f1-score   support\n",
            "\n",
            "           0       0.92      0.72      0.81       247\n",
            "           1       0.33      0.68      0.44        50\n",
            "\n",
            "    accuracy                           0.71       297\n",
            "   macro avg       0.62      0.70      0.63       297\n",
            "weighted avg       0.82      0.71      0.75       297\n",
            "\n"
          ]
        }
      ],
      "source": [
        "logistic_regression(X_rus,y_rus,X_test,y_test,class_ratio=None)\n"
      ]
    },
    {
      "cell_type": "code",
      "execution_count": null,
      "metadata": {
        "colab": {
          "base_uri": "https://localhost:8080/"
        },
        "id": "hmKwWs-KbD_0",
        "outputId": "6056b10e-df6c-484d-9fd9-fa86d094844e"
      },
      "outputs": [
        {
          "name": "stdout",
          "output_type": "stream",
          "text": [
            "\n",
            "==================================================================\n",
            "       Random Forest\n",
            "==================================================================\n",
            "\n",
            "Accuracy: 0.960\n",
            "Precision: 0.964\n",
            "Recall: 0.960\n",
            "F_score: 0.961\n",
            "\n",
            "Balanced Accuracy:  0.9597570850202428\n",
            "              precision    recall  f1-score   support\n",
            "\n",
            "           0       0.99      0.96      0.98       247\n",
            "           1       0.83      0.96      0.89        50\n",
            "\n",
            "    accuracy                           0.96       297\n",
            "   macro avg       0.91      0.96      0.93       297\n",
            "weighted avg       0.96      0.96      0.96       297\n",
            "\n"
          ]
        }
      ],
      "source": [
        "random_forest(X_rus,y_rus,X_test,y_test,class_ratio='balanced')\n"
      ]
    },
    {
      "cell_type": "code",
      "execution_count": null,
      "metadata": {
        "colab": {
          "base_uri": "https://localhost:8080/"
        },
        "id": "iJjYWYQCbD_0",
        "outputId": "2a859696-c3c4-4f37-87e6-e425212240eb"
      },
      "outputs": [
        {
          "name": "stdout",
          "output_type": "stream",
          "text": [
            "\n",
            "==================================================================\n",
            "             XGBoost\n",
            "==================================================================\n",
            "\n",
            "Accuracy: 1.000\n",
            "Precision: 1.000\n",
            "Recall: 1.000\n",
            "F_score: 1.000\n",
            "\n",
            "Balanced Accuracy:  1.0\n",
            "              precision    recall  f1-score   support\n",
            "\n",
            "           0       1.00      1.00      1.00       247\n",
            "           1       1.00      1.00      1.00        50\n",
            "\n",
            "    accuracy                           1.00       297\n",
            "   macro avg       1.00      1.00      1.00       297\n",
            "weighted avg       1.00      1.00      1.00       297\n",
            "\n"
          ]
        }
      ],
      "source": [
        "xg_boost(X_rus,y_rus,X_test,y_test)\n"
      ]
    },
    {
      "cell_type": "code",
      "execution_count": null,
      "metadata": {
        "colab": {
          "base_uri": "https://localhost:8080/"
        },
        "id": "RxC0K4nebD_0",
        "outputId": "7c0e5beb-93e6-4371-8f67-b33e942e3265"
      },
      "outputs": [
        {
          "name": "stdout",
          "output_type": "stream",
          "text": [
            "\n",
            "==================================================================\n",
            "Ensemble Stacked Classifiers\n",
            "==================================================================\n",
            "\n",
            "Accuracy: 1.000\n",
            "Precision: 1.000\n",
            "Recall: 1.000\n",
            "F_score: 1.000\n",
            "\n",
            "Balanced Accuracy:  1.0\n",
            "              precision    recall  f1-score   support\n",
            "\n",
            "           0       1.00      1.00      1.00       247\n",
            "           1       1.00      1.00      1.00        50\n",
            "\n",
            "    accuracy                           1.00       297\n",
            "   macro avg       1.00      1.00      1.00       297\n",
            "weighted avg       1.00      1.00      1.00       297\n",
            "\n"
          ]
        }
      ],
      "source": [
        "ensemble_stacked(X_rus,y_rus,X_test,y_test)\n"
      ]
    },
    {
      "cell_type": "code",
      "execution_count": null,
      "metadata": {
        "colab": {
          "base_uri": "https://localhost:8080/"
        },
        "id": "ioZaURMlbD_1",
        "outputId": "4c7c4022-c23e-4f61-d134-f220dc107756"
      },
      "outputs": [
        {
          "name": "stdout",
          "output_type": "stream",
          "text": [
            "\n",
            "==================================================================\n",
            "   Voting Classifier\n",
            "==================================================================\n",
            "\n",
            "Accuracy: 0.912\n",
            "Precision: 0.911\n",
            "Recall: 0.912\n",
            "F_score: 0.912\n",
            "\n",
            "Balanced Accuracy:  0.8357085020242915\n",
            "              precision    recall  f1-score   support\n",
            "\n",
            "           0       0.94      0.95      0.95       247\n",
            "           1       0.75      0.72      0.73        50\n",
            "\n",
            "    accuracy                           0.91       297\n",
            "   macro avg       0.85      0.84      0.84       297\n",
            "weighted avg       0.91      0.91      0.91       297\n",
            "\n"
          ]
        }
      ],
      "source": [
        "voting_classifiers(X_rus,y_rus,X_test,y_test)\n"
      ]
    },
    {
      "cell_type": "code",
      "execution_count": null,
      "metadata": {
        "colab": {
          "base_uri": "https://localhost:8080/"
        },
        "id": "2zz1sXc5bD_1",
        "outputId": "6dadaa2c-3da3-4dc7-cf49-1992ae731d07"
      },
      "outputs": [
        {
          "name": "stdout",
          "output_type": "stream",
          "text": [
            "\n",
            "==================================================================\n",
            "Bagging Calssifier LR\n",
            "==================================================================\n",
            "\n",
            "Accuracy: 0.747\n",
            "Precision: 0.816\n",
            "Recall: 0.747\n",
            "F_score: 0.771\n",
            "\n",
            "Balanced Accuracy:  0.6966396761133603\n",
            "              precision    recall  f1-score   support\n",
            "\n",
            "           0       0.91      0.77      0.84       247\n",
            "           1       0.36      0.62      0.45        50\n",
            "\n",
            "    accuracy                           0.75       297\n",
            "   macro avg       0.63      0.70      0.64       297\n",
            "weighted avg       0.82      0.75      0.77       297\n",
            "\n"
          ]
        }
      ],
      "source": [
        "Bagging_Classifier_LR(X_rus,y_rus,X_test,y_test)\n"
      ]
    },
    {
      "cell_type": "code",
      "execution_count": null,
      "metadata": {
        "colab": {
          "base_uri": "https://localhost:8080/"
        },
        "id": "ttyGXCwWbD_1",
        "outputId": "f16b9e54-e527-4baf-f685-6277346a8e02"
      },
      "outputs": [
        {
          "name": "stdout",
          "output_type": "stream",
          "text": [
            "\n",
            "==================================================================\n",
            "Bagging Calssifier SVM\n",
            "==================================================================\n",
            "\n",
            "Accuracy: 0.774\n",
            "Precision: 0.848\n",
            "Recall: 0.774\n",
            "F_score: 0.797\n",
            "\n",
            "Balanced Accuracy:  0.7606882591093118\n",
            "              precision    recall  f1-score   support\n",
            "\n",
            "           0       0.94      0.78      0.85       247\n",
            "           1       0.41      0.74      0.52        50\n",
            "\n",
            "    accuracy                           0.77       297\n",
            "   macro avg       0.67      0.76      0.69       297\n",
            "weighted avg       0.85      0.77      0.80       297\n",
            "\n"
          ]
        }
      ],
      "source": [
        "Bagging_Classifier_SVM(X_rus,y_rus,X_test,y_test)\n"
      ]
    },
    {
      "cell_type": "code",
      "execution_count": null,
      "metadata": {
        "colab": {
          "base_uri": "https://localhost:8080/"
        },
        "id": "3-kUnjM9bD_1",
        "outputId": "9e354068-67ad-401b-8dfc-530db5c7624a"
      },
      "outputs": [
        {
          "name": "stdout",
          "output_type": "stream",
          "text": [
            "\n",
            "==================================================================\n",
            "   Gradient Boosting\n",
            "==================================================================\n",
            "\n",
            "Accuracy: 1.000\n",
            "Precision: 1.000\n",
            "Recall: 1.000\n",
            "F_score: 1.000\n",
            "\n",
            "Balanced Accuracy:  1.0\n",
            "              precision    recall  f1-score   support\n",
            "\n",
            "           0       1.00      1.00      1.00       247\n",
            "           1       1.00      1.00      1.00        50\n",
            "\n",
            "    accuracy                           1.00       297\n",
            "   macro avg       1.00      1.00      1.00       297\n",
            "weighted avg       1.00      1.00      1.00       297\n",
            "\n"
          ]
        }
      ],
      "source": [
        "gradient_boosting(X_rus,y_rus,X_test,y_test)\n"
      ]
    },
    {
      "cell_type": "code",
      "execution_count": null,
      "metadata": {
        "id": "IWCf8clHWlb_"
      },
      "outputs": [],
      "source": [
        ""
      ]
    },
    {
      "cell_type": "markdown",
      "metadata": {
        "id": "11ee4NopXWBU"
      },
      "source": [
        "#### Random over-sampler"
      ]
    },
    {
      "cell_type": "code",
      "execution_count": null,
      "metadata": {
        "id": "n9OTxLh_WnrK"
      },
      "outputs": [],
      "source": [
        "from imblearn.over_sampling import RandomOverSampler\n",
        "\n",
        "ros = RandomOverSampler()\n",
        "X_ros, y_ros = ros.fit_resample(X_train,y_train)"
      ]
    },
    {
      "cell_type": "code",
      "execution_count": null,
      "metadata": {
        "id": "LjqmN43Za9ep"
      },
      "outputs": [],
      "source": [
        "# df_train=X_ros.copy()\n",
        "# df_train['target']=y_ros\n",
        "# df_train.to_csv('/content/drive/MyDrive/Omdena_ RadmolAI/Sampled_datasets/imblearn_Random_over_sampled_train.csv')"
      ]
    },
    {
      "cell_type": "code",
      "execution_count": null,
      "metadata": {
        "colab": {
          "base_uri": "https://localhost:8080/"
        },
        "id": "UIqp1itQbEoA",
        "outputId": "0b232c74-d4c3-4bb2-be36-a8b96e87b3b8"
      },
      "outputs": [
        {
          "name": "stdout",
          "output_type": "stream",
          "text": [
            "\n",
            "==================================================================\n",
            "          Linear SVM\n",
            "==================================================================\n",
            "\n",
            "Accuracy: 0.859\n",
            "Precision: 0.854\n",
            "Recall: 0.859\n",
            "F_score: 0.856\n",
            "\n",
            "Balanced Accuracy:  0.7315384615384616\n",
            "              precision    recall  f1-score   support\n",
            "\n",
            "           0       0.91      0.92      0.92       247\n",
            "           1       0.59      0.54      0.56        50\n",
            "\n",
            "    accuracy                           0.86       297\n",
            "   macro avg       0.75      0.73      0.74       297\n",
            "weighted avg       0.85      0.86      0.86       297\n",
            "\n"
          ]
        }
      ],
      "source": [
        "linear_svm_grid(X_ros,y_ros,X_test,y_test,class_ratio='balanced')\n"
      ]
    },
    {
      "cell_type": "code",
      "execution_count": null,
      "metadata": {
        "colab": {
          "base_uri": "https://localhost:8080/"
        },
        "id": "Ix2w7lMqbEoB",
        "outputId": "bd0d8c13-512c-437e-ebbd-55886812a469"
      },
      "outputs": [
        {
          "name": "stdout",
          "output_type": "stream",
          "text": [
            "\n",
            "==================================================================\n",
            "          Linear SVM\n",
            "==================================================================\n",
            "\n",
            "Accuracy: 0.859\n",
            "Precision: 0.859\n",
            "Recall: 0.859\n",
            "F_score: 0.859\n",
            "\n",
            "Balanced Accuracy:  0.7474898785425101\n",
            "              precision    recall  f1-score   support\n",
            "\n",
            "           0       0.91      0.91      0.91       247\n",
            "           1       0.58      0.58      0.58        50\n",
            "\n",
            "    accuracy                           0.86       297\n",
            "   macro avg       0.75      0.75      0.75       297\n",
            "weighted avg       0.86      0.86      0.86       297\n",
            "\n"
          ]
        }
      ],
      "source": [
        "linear_svm_grid(X_ros,y_ros,X_test,y_test,class_ratio=None)\n"
      ]
    },
    {
      "cell_type": "code",
      "execution_count": null,
      "metadata": {
        "colab": {
          "base_uri": "https://localhost:8080/"
        },
        "id": "-hMo7nPwbEoB",
        "outputId": "a1ee2c63-8d69-47e6-acf3-9a6170786d51"
      },
      "outputs": [
        {
          "name": "stdout",
          "output_type": "stream",
          "text": [
            "\n",
            "==================================================================\n",
            "       Nonlinear SVM\n",
            "==================================================================\n",
            "\n",
            "Accuracy: 0.832\n",
            "Precision: 0.692\n",
            "Recall: 0.832\n",
            "F_score: 0.755\n",
            "\n",
            "Balanced Accuracy:  0.5\n",
            "              precision    recall  f1-score   support\n",
            "\n",
            "           0       0.83      1.00      0.91       247\n",
            "           1       0.00      0.00      0.00        50\n",
            "\n",
            "    accuracy                           0.83       297\n",
            "   macro avg       0.42      0.50      0.45       297\n",
            "weighted avg       0.69      0.83      0.76       297\n",
            "\n"
          ]
        }
      ],
      "source": [
        "nonlinear_svm_grid(X_ros,y_ros,X_test,y_test,class_ratio='balanced')\n"
      ]
    },
    {
      "cell_type": "code",
      "execution_count": null,
      "metadata": {
        "colab": {
          "base_uri": "https://localhost:8080/"
        },
        "id": "Fw6dyGTEbEoB",
        "outputId": "a8d40ab3-ea8c-43e8-b7a9-3e7a0bb9d685"
      },
      "outputs": [
        {
          "name": "stdout",
          "output_type": "stream",
          "text": [
            "\n",
            "==================================================================\n",
            "       Nonlinear SVM\n",
            "==================================================================\n",
            "\n",
            "Accuracy: 0.832\n",
            "Precision: 0.692\n",
            "Recall: 0.832\n",
            "F_score: 0.755\n",
            "\n",
            "Balanced Accuracy:  0.5\n",
            "              precision    recall  f1-score   support\n",
            "\n",
            "           0       0.83      1.00      0.91       247\n",
            "           1       0.00      0.00      0.00        50\n",
            "\n",
            "    accuracy                           0.83       297\n",
            "   macro avg       0.42      0.50      0.45       297\n",
            "weighted avg       0.69      0.83      0.76       297\n",
            "\n"
          ]
        }
      ],
      "source": [
        "nonlinear_svm_grid(X_ros,y_ros,X_test,y_test,class_ratio=None)\n"
      ]
    },
    {
      "cell_type": "code",
      "execution_count": null,
      "metadata": {
        "colab": {
          "base_uri": "https://localhost:8080/"
        },
        "id": "KMT8cRccbEoB",
        "outputId": "39697099-5581-4e1f-c685-7c3fff99a41f"
      },
      "outputs": [
        {
          "name": "stdout",
          "output_type": "stream",
          "text": [
            "\n",
            "==================================================================\n",
            " Logistic Regression\n",
            "==================================================================\n",
            "\n",
            "Accuracy: 0.845\n",
            "Precision: 0.843\n",
            "Recall: 0.845\n",
            "F_score: 0.844\n",
            "\n",
            "Balanced Accuracy:  0.7154655870445344\n",
            "              precision    recall  f1-score   support\n",
            "\n",
            "           0       0.90      0.91      0.91       247\n",
            "           1       0.54      0.52      0.53        50\n",
            "\n",
            "    accuracy                           0.85       297\n",
            "   macro avg       0.72      0.72      0.72       297\n",
            "weighted avg       0.84      0.85      0.84       297\n",
            "\n"
          ]
        }
      ],
      "source": [
        "logistic_regression_grid(X_ros,y_ros,X_test,y_test,class_ratio='balanced')\n"
      ]
    },
    {
      "cell_type": "code",
      "execution_count": null,
      "metadata": {
        "colab": {
          "base_uri": "https://localhost:8080/"
        },
        "id": "HyhiJ7Q_bEoB",
        "outputId": "bf21bcf1-0ea1-4446-9291-2611ba7efea1"
      },
      "outputs": [
        {
          "name": "stdout",
          "output_type": "stream",
          "text": [
            "\n",
            "==================================================================\n",
            " Logistic Regression\n",
            "==================================================================\n",
            "\n",
            "Accuracy: 0.842\n",
            "Precision: 0.846\n",
            "Recall: 0.842\n",
            "F_score: 0.844\n",
            "\n",
            "Balanced Accuracy:  0.7293927125506073\n",
            "              precision    recall  f1-score   support\n",
            "\n",
            "           0       0.91      0.90      0.90       247\n",
            "           1       0.53      0.56      0.54        50\n",
            "\n",
            "    accuracy                           0.84       297\n",
            "   macro avg       0.72      0.73      0.72       297\n",
            "weighted avg       0.85      0.84      0.84       297\n",
            "\n"
          ]
        }
      ],
      "source": [
        "logistic_regression_grid(X_ros,y_ros,X_test,y_test,class_ratio=None)\n"
      ]
    },
    {
      "cell_type": "code",
      "execution_count": null,
      "metadata": {
        "colab": {
          "base_uri": "https://localhost:8080/"
        },
        "id": "_p5nFH4YbEoC",
        "outputId": "093f14ef-6f58-497d-af60-a01fd90d7826"
      },
      "outputs": [
        {
          "name": "stdout",
          "output_type": "stream",
          "text": [
            "\n",
            "==================================================================\n",
            "          Linear SVM\n",
            "==================================================================\n",
            "\n",
            "Accuracy: 0.852\n",
            "Precision: 0.852\n",
            "Recall: 0.852\n",
            "F_score: 0.852\n",
            "\n",
            "Balanced Accuracy:  0.7354655870445345\n",
            "              precision    recall  f1-score   support\n",
            "\n",
            "           0       0.91      0.91      0.91       247\n",
            "           1       0.56      0.56      0.56        50\n",
            "\n",
            "    accuracy                           0.85       297\n",
            "   macro avg       0.74      0.74      0.74       297\n",
            "weighted avg       0.85      0.85      0.85       297\n",
            "\n"
          ]
        }
      ],
      "source": [
        "linear_svm(X_ros,y_ros,X_test,y_test,class_ratio='balanced')\n"
      ]
    },
    {
      "cell_type": "code",
      "execution_count": null,
      "metadata": {
        "colab": {
          "base_uri": "https://localhost:8080/"
        },
        "id": "FZ_jASBcbEoC",
        "outputId": "3bc3e7ca-0c78-4697-a584-5cca9bd5e40c"
      },
      "outputs": [
        {
          "name": "stdout",
          "output_type": "stream",
          "text": [
            "\n",
            "==================================================================\n",
            "          Linear SVM\n",
            "==================================================================\n",
            "\n",
            "Accuracy: 0.855\n",
            "Precision: 0.859\n",
            "Recall: 0.855\n",
            "F_score: 0.857\n",
            "\n",
            "Balanced Accuracy:  0.7534412955465587\n",
            "              precision    recall  f1-score   support\n",
            "\n",
            "           0       0.92      0.91      0.91       247\n",
            "           1       0.57      0.60      0.58        50\n",
            "\n",
            "    accuracy                           0.86       297\n",
            "   macro avg       0.74      0.75      0.75       297\n",
            "weighted avg       0.86      0.86      0.86       297\n",
            "\n"
          ]
        }
      ],
      "source": [
        "linear_svm(X_ros,y_ros,X_test,y_test,class_ratio=None)\n"
      ]
    },
    {
      "cell_type": "code",
      "execution_count": null,
      "metadata": {
        "colab": {
          "base_uri": "https://localhost:8080/"
        },
        "id": "ruGTUcXgbEoC",
        "outputId": "38645755-5d57-4fda-d783-9cb3a1b5732d"
      },
      "outputs": [
        {
          "name": "stdout",
          "output_type": "stream",
          "text": [
            "\n",
            "==================================================================\n",
            " Logistic Regression\n",
            "==================================================================\n",
            "\n",
            "Accuracy: 0.838\n",
            "Precision: 0.844\n",
            "Recall: 0.838\n",
            "F_score: 0.841\n",
            "\n",
            "Balanced Accuracy:  0.7273684210526317\n",
            "              precision    recall  f1-score   support\n",
            "\n",
            "           0       0.91      0.89      0.90       247\n",
            "           1       0.52      0.56      0.54        50\n",
            "\n",
            "    accuracy                           0.84       297\n",
            "   macro avg       0.71      0.73      0.72       297\n",
            "weighted avg       0.84      0.84      0.84       297\n",
            "\n"
          ]
        }
      ],
      "source": [
        "logistic_regression(X_ros,y_ros,X_test,y_test,class_ratio='balanced')\n"
      ]
    },
    {
      "cell_type": "code",
      "execution_count": null,
      "metadata": {
        "colab": {
          "base_uri": "https://localhost:8080/"
        },
        "id": "ftNDxTk_bEoC",
        "outputId": "8402d6ca-489b-4d07-e943-ba18591cd144"
      },
      "outputs": [
        {
          "name": "stdout",
          "output_type": "stream",
          "text": [
            "\n",
            "==================================================================\n",
            " Logistic Regression\n",
            "==================================================================\n",
            "\n",
            "Accuracy: 0.838\n",
            "Precision: 0.844\n",
            "Recall: 0.838\n",
            "F_score: 0.841\n",
            "\n",
            "Balanced Accuracy:  0.7273684210526317\n",
            "              precision    recall  f1-score   support\n",
            "\n",
            "           0       0.91      0.89      0.90       247\n",
            "           1       0.52      0.56      0.54        50\n",
            "\n",
            "    accuracy                           0.84       297\n",
            "   macro avg       0.71      0.73      0.72       297\n",
            "weighted avg       0.84      0.84      0.84       297\n",
            "\n"
          ]
        }
      ],
      "source": [
        "logistic_regression(X_ros,y_ros,X_test,y_test,class_ratio=None)\n"
      ]
    },
    {
      "cell_type": "code",
      "execution_count": null,
      "metadata": {
        "colab": {
          "base_uri": "https://localhost:8080/"
        },
        "id": "vLSvDF8-bEoC",
        "outputId": "7b847940-16a7-41d6-dd04-696d536bd935"
      },
      "outputs": [
        {
          "name": "stdout",
          "output_type": "stream",
          "text": [
            "\n",
            "==================================================================\n",
            "       Random Forest\n",
            "==================================================================\n",
            "\n",
            "Accuracy: 0.990\n",
            "Precision: 0.990\n",
            "Recall: 0.990\n",
            "F_score: 0.990\n",
            "\n",
            "Balanced Accuracy:  0.9779757085020242\n",
            "              precision    recall  f1-score   support\n",
            "\n",
            "           0       0.99      1.00      0.99       247\n",
            "           1       0.98      0.96      0.97        50\n",
            "\n",
            "    accuracy                           0.99       297\n",
            "   macro avg       0.99      0.98      0.98       297\n",
            "weighted avg       0.99      0.99      0.99       297\n",
            "\n"
          ]
        }
      ],
      "source": [
        "random_forest(X_ros,y_ros,X_test,y_test,class_ratio='balanced')\n"
      ]
    },
    {
      "cell_type": "code",
      "execution_count": null,
      "metadata": {
        "colab": {
          "base_uri": "https://localhost:8080/"
        },
        "id": "ombG6K7FbEoC",
        "outputId": "b80b5c40-1608-402f-947a-e5467373289d"
      },
      "outputs": [
        {
          "name": "stdout",
          "output_type": "stream",
          "text": [
            "\n",
            "==================================================================\n",
            "             XGBoost\n",
            "==================================================================\n",
            "\n",
            "Accuracy: 1.000\n",
            "Precision: 1.000\n",
            "Recall: 1.000\n",
            "F_score: 1.000\n",
            "\n",
            "Balanced Accuracy:  1.0\n",
            "              precision    recall  f1-score   support\n",
            "\n",
            "           0       1.00      1.00      1.00       247\n",
            "           1       1.00      1.00      1.00        50\n",
            "\n",
            "    accuracy                           1.00       297\n",
            "   macro avg       1.00      1.00      1.00       297\n",
            "weighted avg       1.00      1.00      1.00       297\n",
            "\n"
          ]
        }
      ],
      "source": [
        "xg_boost(X_ros,y_ros,X_test,y_test)\n"
      ]
    },
    {
      "cell_type": "code",
      "execution_count": null,
      "metadata": {
        "colab": {
          "base_uri": "https://localhost:8080/"
        },
        "id": "THLKuIgBbEoC",
        "outputId": "74d8f536-b60e-4657-cb24-d642de7d11fc"
      },
      "outputs": [
        {
          "name": "stdout",
          "output_type": "stream",
          "text": [
            "\n",
            "==================================================================\n",
            "Ensemble Stacked Classifiers\n",
            "==================================================================\n",
            "\n",
            "Accuracy: 1.000\n",
            "Precision: 1.000\n",
            "Recall: 1.000\n",
            "F_score: 1.000\n",
            "\n",
            "Balanced Accuracy:  1.0\n",
            "              precision    recall  f1-score   support\n",
            "\n",
            "           0       1.00      1.00      1.00       247\n",
            "           1       1.00      1.00      1.00        50\n",
            "\n",
            "    accuracy                           1.00       297\n",
            "   macro avg       1.00      1.00      1.00       297\n",
            "weighted avg       1.00      1.00      1.00       297\n",
            "\n"
          ]
        }
      ],
      "source": [
        "ensemble_stacked(X_ros,y_ros,X_test,y_test)\n"
      ]
    },
    {
      "cell_type": "code",
      "execution_count": null,
      "metadata": {
        "colab": {
          "base_uri": "https://localhost:8080/"
        },
        "id": "Agt6mMJfbEoD",
        "outputId": "8e47b7a7-0ac7-4e9d-cba9-9ec63e473fa4"
      },
      "outputs": [
        {
          "name": "stdout",
          "output_type": "stream",
          "text": [
            "\n",
            "==================================================================\n",
            "   Voting Classifier\n",
            "==================================================================\n",
            "\n",
            "Accuracy: 0.946\n",
            "Precision: 0.949\n",
            "Recall: 0.946\n",
            "F_score: 0.942\n",
            "\n",
            "Balanced Accuracy:  0.8400000000000001\n",
            "              precision    recall  f1-score   support\n",
            "\n",
            "           0       0.94      1.00      0.97       247\n",
            "           1       1.00      0.68      0.81        50\n",
            "\n",
            "    accuracy                           0.95       297\n",
            "   macro avg       0.97      0.84      0.89       297\n",
            "weighted avg       0.95      0.95      0.94       297\n",
            "\n"
          ]
        }
      ],
      "source": [
        "voting_classifiers(X_ros,y_ros,X_test,y_test)\n"
      ]
    },
    {
      "cell_type": "code",
      "execution_count": null,
      "metadata": {
        "colab": {
          "base_uri": "https://localhost:8080/"
        },
        "id": "GpX6mco8bEoD",
        "outputId": "03f1c3a5-c41e-4367-f0db-d8250f6647a2"
      },
      "outputs": [
        {
          "name": "stdout",
          "output_type": "stream",
          "text": [
            "\n",
            "==================================================================\n",
            "Bagging Calssifier LR\n",
            "==================================================================\n",
            "\n",
            "Accuracy: 0.818\n",
            "Precision: 0.830\n",
            "Recall: 0.818\n",
            "F_score: 0.823\n",
            "\n",
            "Balanced Accuracy:  0.7072469635627531\n",
            "              precision    recall  f1-score   support\n",
            "\n",
            "           0       0.90      0.87      0.89       247\n",
            "           1       0.47      0.54      0.50        50\n",
            "\n",
            "    accuracy                           0.82       297\n",
            "   macro avg       0.68      0.71      0.69       297\n",
            "weighted avg       0.83      0.82      0.82       297\n",
            "\n"
          ]
        }
      ],
      "source": [
        "Bagging_Classifier_LR(X_ros,y_ros,X_test,y_test)\n"
      ]
    },
    {
      "cell_type": "code",
      "execution_count": null,
      "metadata": {
        "colab": {
          "base_uri": "https://localhost:8080/"
        },
        "id": "7AtzVkh8bEoD",
        "outputId": "6b72236e-cde3-434e-bc88-61818a42af93"
      },
      "outputs": [
        {
          "name": "stdout",
          "output_type": "stream",
          "text": [
            "\n",
            "==================================================================\n",
            "Bagging Calssifier SVM\n",
            "==================================================================\n",
            "\n",
            "Accuracy: 0.852\n",
            "Precision: 0.852\n",
            "Recall: 0.852\n",
            "F_score: 0.852\n",
            "\n",
            "Balanced Accuracy:  0.7354655870445345\n",
            "              precision    recall  f1-score   support\n",
            "\n",
            "           0       0.91      0.91      0.91       247\n",
            "           1       0.56      0.56      0.56        50\n",
            "\n",
            "    accuracy                           0.85       297\n",
            "   macro avg       0.74      0.74      0.74       297\n",
            "weighted avg       0.85      0.85      0.85       297\n",
            "\n"
          ]
        }
      ],
      "source": [
        "Bagging_Classifier_SVM(X_ros,y_ros,X_test,y_test)\n"
      ]
    },
    {
      "cell_type": "code",
      "execution_count": null,
      "metadata": {
        "colab": {
          "base_uri": "https://localhost:8080/"
        },
        "id": "69y3YBy9bEoD",
        "outputId": "a41ecd7e-375b-45dd-930c-891af6240c84"
      },
      "outputs": [
        {
          "name": "stdout",
          "output_type": "stream",
          "text": [
            "\n",
            "==================================================================\n",
            "   Gradient Boosting\n",
            "==================================================================\n",
            "\n",
            "Accuracy: 1.000\n",
            "Precision: 1.000\n",
            "Recall: 1.000\n",
            "F_score: 1.000\n",
            "\n",
            "Balanced Accuracy:  1.0\n",
            "              precision    recall  f1-score   support\n",
            "\n",
            "           0       1.00      1.00      1.00       247\n",
            "           1       1.00      1.00      1.00        50\n",
            "\n",
            "    accuracy                           1.00       297\n",
            "   macro avg       1.00      1.00      1.00       297\n",
            "weighted avg       1.00      1.00      1.00       297\n",
            "\n"
          ]
        }
      ],
      "source": [
        "gradient_boosting(X_ros,y_ros,X_test,y_test)\n"
      ]
    },
    {
      "cell_type": "code",
      "execution_count": null,
      "metadata": {
        "id": "z_RmqxArWqbK"
      },
      "outputs": [],
      "source": [
        ""
      ]
    },
    {
      "cell_type": "markdown",
      "metadata": {
        "id": "mWYFF-W4XXw3"
      },
      "source": [
        "#### Under-sampling: Tomek links\n"
      ]
    },
    {
      "cell_type": "code",
      "execution_count": null,
      "metadata": {
        "id": "AD7LM-1HWqtc"
      },
      "outputs": [],
      "source": [
        "from imblearn.under_sampling import TomekLinks\n",
        "\n",
        "tl = TomekLinks( sampling_strategy='majority')\n",
        "X_tl, y_tl = tl.fit_resample(X_train,y_train)"
      ]
    },
    {
      "cell_type": "code",
      "execution_count": null,
      "metadata": {
        "id": "b0sgGBs0bG6q"
      },
      "outputs": [],
      "source": [
        "# df_train=X_tl.copy()\n",
        "# df_train['target']=y_tl\n",
        "# df_train.to_csv('/content/drive/MyDrive/Omdena_ RadmolAI/Sampled_datasets/imblearn_TomekLinks_Random_over_sampled_train.csv')"
      ]
    },
    {
      "cell_type": "code",
      "execution_count": null,
      "metadata": {
        "colab": {
          "base_uri": "https://localhost:8080/"
        },
        "id": "mmFXdRQpbFRu",
        "outputId": "fcc89b96-aefe-43ce-96ad-8cc3195ca0d4"
      },
      "outputs": [
        {
          "name": "stdout",
          "output_type": "stream",
          "text": [
            "\n",
            "==================================================================\n",
            "          Linear SVM\n",
            "==================================================================\n",
            "\n",
            "Accuracy: 0.855\n",
            "Precision: 0.841\n",
            "Recall: 0.855\n",
            "F_score: 0.845\n",
            "\n",
            "Balanced Accuracy:  0.6816599190283401\n",
            "              precision    recall  f1-score   support\n",
            "\n",
            "           0       0.89      0.94      0.92       247\n",
            "           1       0.60      0.42      0.49        50\n",
            "\n",
            "    accuracy                           0.86       297\n",
            "   macro avg       0.74      0.68      0.70       297\n",
            "weighted avg       0.84      0.86      0.84       297\n",
            "\n"
          ]
        }
      ],
      "source": [
        "linear_svm_grid(X_tl,y_tl,X_test,y_test,class_ratio='balanced')\n"
      ]
    },
    {
      "cell_type": "code",
      "execution_count": null,
      "metadata": {
        "colab": {
          "base_uri": "https://localhost:8080/"
        },
        "id": "qz1cmNb7bFRv",
        "outputId": "5e88e8df-1314-46dd-fb59-18bf55157b75"
      },
      "outputs": [
        {
          "name": "stdout",
          "output_type": "stream",
          "text": [
            "\n",
            "==================================================================\n",
            "          Linear SVM\n",
            "==================================================================\n",
            "\n",
            "Accuracy: 0.862\n",
            "Precision: 0.850\n",
            "Recall: 0.862\n",
            "F_score: 0.853\n",
            "\n",
            "Balanced Accuracy:  0.7016599190283401\n",
            "              precision    recall  f1-score   support\n",
            "\n",
            "           0       0.90      0.94      0.92       247\n",
            "           1       0.62      0.46      0.53        50\n",
            "\n",
            "    accuracy                           0.86       297\n",
            "   macro avg       0.76      0.70      0.72       297\n",
            "weighted avg       0.85      0.86      0.85       297\n",
            "\n"
          ]
        }
      ],
      "source": [
        "linear_svm_grid(X_tl,y_tl,X_test,y_test,class_ratio=None)\n"
      ]
    },
    {
      "cell_type": "code",
      "execution_count": null,
      "metadata": {
        "colab": {
          "base_uri": "https://localhost:8080/"
        },
        "id": "192qy3X_bFRv",
        "outputId": "ec634686-7f70-4698-c7bb-29bb8278f23b"
      },
      "outputs": [
        {
          "name": "stdout",
          "output_type": "stream",
          "text": [
            "\n",
            "==================================================================\n",
            "       Nonlinear SVM\n",
            "==================================================================\n",
            "\n",
            "Accuracy: 0.168\n",
            "Precision: 0.028\n",
            "Recall: 0.168\n",
            "F_score: 0.049\n",
            "\n",
            "Balanced Accuracy:  0.5\n",
            "              precision    recall  f1-score   support\n",
            "\n",
            "           0       0.00      0.00      0.00       247\n",
            "           1       0.17      1.00      0.29        50\n",
            "\n",
            "    accuracy                           0.17       297\n",
            "   macro avg       0.08      0.50      0.14       297\n",
            "weighted avg       0.03      0.17      0.05       297\n",
            "\n"
          ]
        }
      ],
      "source": [
        "nonlinear_svm_grid(X_tl,y_tl,X_test,y_test,class_ratio='balanced')\n"
      ]
    },
    {
      "cell_type": "code",
      "execution_count": null,
      "metadata": {
        "colab": {
          "base_uri": "https://localhost:8080/"
        },
        "id": "_ebf6KPbbFRv",
        "outputId": "2cb27202-f568-498a-b158-b24cb5400109"
      },
      "outputs": [
        {
          "name": "stdout",
          "output_type": "stream",
          "text": [
            "\n",
            "==================================================================\n",
            "       Nonlinear SVM\n",
            "==================================================================\n",
            "\n",
            "Accuracy: 0.832\n",
            "Precision: 0.692\n",
            "Recall: 0.832\n",
            "F_score: 0.755\n",
            "\n",
            "Balanced Accuracy:  0.5\n",
            "              precision    recall  f1-score   support\n",
            "\n",
            "           0       0.83      1.00      0.91       247\n",
            "           1       0.00      0.00      0.00        50\n",
            "\n",
            "    accuracy                           0.83       297\n",
            "   macro avg       0.42      0.50      0.45       297\n",
            "weighted avg       0.69      0.83      0.76       297\n",
            "\n"
          ]
        }
      ],
      "source": [
        "nonlinear_svm_grid(X_tl,y_tl,X_test,y_test,class_ratio=None)\n"
      ]
    },
    {
      "cell_type": "code",
      "execution_count": null,
      "metadata": {
        "colab": {
          "base_uri": "https://localhost:8080/"
        },
        "id": "RA4okWaEbFRv",
        "outputId": "ab37c426-c18b-4a0b-8be9-ae9aa5fbc60f"
      },
      "outputs": [
        {
          "name": "stdout",
          "output_type": "stream",
          "text": [
            "\n",
            "==================================================================\n",
            " Logistic Regression\n",
            "==================================================================\n",
            "\n",
            "Accuracy: 0.859\n",
            "Precision: 0.863\n",
            "Recall: 0.859\n",
            "F_score: 0.861\n",
            "\n",
            "Balanced Accuracy:  0.7634412955465587\n",
            "              precision    recall  f1-score   support\n",
            "\n",
            "           0       0.92      0.91      0.91       247\n",
            "           1       0.57      0.62      0.60        50\n",
            "\n",
            "    accuracy                           0.86       297\n",
            "   macro avg       0.75      0.76      0.76       297\n",
            "weighted avg       0.86      0.86      0.86       297\n",
            "\n"
          ]
        }
      ],
      "source": [
        "logistic_regression_grid(X_tl,y_tl,X_test,y_test,class_ratio='balanced')\n"
      ]
    },
    {
      "cell_type": "code",
      "execution_count": null,
      "metadata": {
        "colab": {
          "base_uri": "https://localhost:8080/"
        },
        "id": "Z0HJM4tSbFRv",
        "outputId": "493bf953-ff71-47a9-d667-d3561fc0434f"
      },
      "outputs": [
        {
          "name": "stdout",
          "output_type": "stream",
          "text": [
            "\n",
            "==================================================================\n",
            " Logistic Regression\n",
            "==================================================================\n",
            "\n",
            "Accuracy: 0.825\n",
            "Precision: 0.817\n",
            "Recall: 0.825\n",
            "F_score: 0.820\n",
            "\n",
            "Balanced Accuracy:  0.6634412955465587\n",
            "              precision    recall  f1-score   support\n",
            "\n",
            "           0       0.89      0.91      0.90       247\n",
            "           1       0.48      0.42      0.45        50\n",
            "\n",
            "    accuracy                           0.82       297\n",
            "   macro avg       0.68      0.66      0.67       297\n",
            "weighted avg       0.82      0.82      0.82       297\n",
            "\n"
          ]
        }
      ],
      "source": [
        "logistic_regression_grid(X_tl,y_tl,X_test,y_test,class_ratio=None)\n"
      ]
    },
    {
      "cell_type": "code",
      "execution_count": null,
      "metadata": {
        "colab": {
          "base_uri": "https://localhost:8080/"
        },
        "id": "E5quFlJubFRv",
        "outputId": "0dcbedf9-dee1-4959-fbca-35d8e1a13717"
      },
      "outputs": [
        {
          "name": "stdout",
          "output_type": "stream",
          "text": [
            "\n",
            "==================================================================\n",
            "          Linear SVM\n",
            "==================================================================\n",
            "\n",
            "Accuracy: 0.855\n",
            "Precision: 0.850\n",
            "Recall: 0.855\n",
            "F_score: 0.852\n",
            "\n",
            "Balanced Accuracy:  0.7215384615384616\n",
            "              precision    recall  f1-score   support\n",
            "\n",
            "           0       0.90      0.92      0.91       247\n",
            "           1       0.58      0.52      0.55        50\n",
            "\n",
            "    accuracy                           0.86       297\n",
            "   macro avg       0.74      0.72      0.73       297\n",
            "weighted avg       0.85      0.86      0.85       297\n",
            "\n"
          ]
        }
      ],
      "source": [
        "linear_svm(X_tl,y_tl,X_test,y_test,class_ratio='balanced')\n"
      ]
    },
    {
      "cell_type": "code",
      "execution_count": null,
      "metadata": {
        "colab": {
          "base_uri": "https://localhost:8080/"
        },
        "id": "tQuL-X0FbFRv",
        "outputId": "70bf976a-0eec-4e1c-998e-2f755206916a"
      },
      "outputs": [
        {
          "name": "stdout",
          "output_type": "stream",
          "text": [
            "\n",
            "==================================================================\n",
            "          Linear SVM\n",
            "==================================================================\n",
            "\n",
            "Accuracy: 0.872\n",
            "Precision: 0.863\n",
            "Recall: 0.872\n",
            "F_score: 0.866\n",
            "\n",
            "Balanced Accuracy:  0.7316599190283402\n",
            "              precision    recall  f1-score   support\n",
            "\n",
            "           0       0.91      0.94      0.92       247\n",
            "           1       0.65      0.52      0.58        50\n",
            "\n",
            "    accuracy                           0.87       297\n",
            "   macro avg       0.78      0.73      0.75       297\n",
            "weighted avg       0.86      0.87      0.87       297\n",
            "\n"
          ]
        }
      ],
      "source": [
        "linear_svm(X_tl,y_tl,X_test,y_test,class_ratio=None)\n"
      ]
    },
    {
      "cell_type": "code",
      "execution_count": null,
      "metadata": {
        "colab": {
          "base_uri": "https://localhost:8080/"
        },
        "id": "vB3BGqagbFRv",
        "outputId": "ebe79feb-fab5-4783-9bbb-8d86cb2b38f7"
      },
      "outputs": [
        {
          "name": "stdout",
          "output_type": "stream",
          "text": [
            "\n",
            "==================================================================\n",
            " Logistic Regression\n",
            "==================================================================\n",
            "\n",
            "Accuracy: 0.842\n",
            "Precision: 0.843\n",
            "Recall: 0.842\n",
            "F_score: 0.842\n",
            "\n",
            "Balanced Accuracy:  0.721417004048583\n",
            "              precision    recall  f1-score   support\n",
            "\n",
            "           0       0.91      0.90      0.90       247\n",
            "           1       0.53      0.54      0.53        50\n",
            "\n",
            "    accuracy                           0.84       297\n",
            "   macro avg       0.72      0.72      0.72       297\n",
            "weighted avg       0.84      0.84      0.84       297\n",
            "\n"
          ]
        }
      ],
      "source": [
        "logistic_regression(X_tl,y_tl,X_test,y_test,class_ratio='balanced')\n"
      ]
    },
    {
      "cell_type": "code",
      "execution_count": null,
      "metadata": {
        "colab": {
          "base_uri": "https://localhost:8080/"
        },
        "id": "vJ9OYMlFbFRw",
        "outputId": "818285ca-2c12-4379-c93f-9b5b916d00e1"
      },
      "outputs": [
        {
          "name": "stdout",
          "output_type": "stream",
          "text": [
            "\n",
            "==================================================================\n",
            " Logistic Regression\n",
            "==================================================================\n",
            "\n",
            "Accuracy: 0.825\n",
            "Precision: 0.817\n",
            "Recall: 0.825\n",
            "F_score: 0.820\n",
            "\n",
            "Balanced Accuracy:  0.6634412955465587\n",
            "              precision    recall  f1-score   support\n",
            "\n",
            "           0       0.89      0.91      0.90       247\n",
            "           1       0.48      0.42      0.45        50\n",
            "\n",
            "    accuracy                           0.82       297\n",
            "   macro avg       0.68      0.66      0.67       297\n",
            "weighted avg       0.82      0.82      0.82       297\n",
            "\n"
          ]
        }
      ],
      "source": [
        "logistic_regression(X_tl,y_tl,X_test,y_test,class_ratio=None)\n"
      ]
    },
    {
      "cell_type": "code",
      "execution_count": null,
      "metadata": {
        "colab": {
          "base_uri": "https://localhost:8080/"
        },
        "id": "kAN3NHqrbFRw",
        "outputId": "afd246ef-cd96-47fb-f8a9-834d764ff0f6"
      },
      "outputs": [
        {
          "name": "stdout",
          "output_type": "stream",
          "text": [
            "\n",
            "==================================================================\n",
            "       Random Forest\n",
            "==================================================================\n",
            "\n",
            "Accuracy: 0.987\n",
            "Precision: 0.987\n",
            "Recall: 0.987\n",
            "F_score: 0.986\n",
            "\n",
            "Balanced Accuracy:  0.96\n",
            "              precision    recall  f1-score   support\n",
            "\n",
            "           0       0.98      1.00      0.99       247\n",
            "           1       1.00      0.92      0.96        50\n",
            "\n",
            "    accuracy                           0.99       297\n",
            "   macro avg       0.99      0.96      0.98       297\n",
            "weighted avg       0.99      0.99      0.99       297\n",
            "\n"
          ]
        }
      ],
      "source": [
        "random_forest(X_tl,y_tl,X_test,y_test,class_ratio='balanced')\n"
      ]
    },
    {
      "cell_type": "code",
      "execution_count": null,
      "metadata": {
        "colab": {
          "base_uri": "https://localhost:8080/"
        },
        "id": "XjupuY1NbFRw",
        "outputId": "24c8292e-0dc5-4d09-e114-8806d5ccaaba"
      },
      "outputs": [
        {
          "name": "stdout",
          "output_type": "stream",
          "text": [
            "\n",
            "==================================================================\n",
            "             XGBoost\n",
            "==================================================================\n",
            "\n",
            "Accuracy: 1.000\n",
            "Precision: 1.000\n",
            "Recall: 1.000\n",
            "F_score: 1.000\n",
            "\n",
            "Balanced Accuracy:  1.0\n",
            "              precision    recall  f1-score   support\n",
            "\n",
            "           0       1.00      1.00      1.00       247\n",
            "           1       1.00      1.00      1.00        50\n",
            "\n",
            "    accuracy                           1.00       297\n",
            "   macro avg       1.00      1.00      1.00       297\n",
            "weighted avg       1.00      1.00      1.00       297\n",
            "\n"
          ]
        }
      ],
      "source": [
        "xg_boost(X_tl,y_tl,X_test,y_test)\n"
      ]
    },
    {
      "cell_type": "code",
      "execution_count": null,
      "metadata": {
        "colab": {
          "base_uri": "https://localhost:8080/"
        },
        "id": "2-cOXMUVbFRw",
        "outputId": "f18cae0e-951a-497c-caf8-1265290902c2"
      },
      "outputs": [
        {
          "name": "stdout",
          "output_type": "stream",
          "text": [
            "\n",
            "==================================================================\n",
            "Ensemble Stacked Classifiers\n",
            "==================================================================\n",
            "\n",
            "Accuracy: 1.000\n",
            "Precision: 1.000\n",
            "Recall: 1.000\n",
            "F_score: 1.000\n",
            "\n",
            "Balanced Accuracy:  1.0\n",
            "              precision    recall  f1-score   support\n",
            "\n",
            "           0       1.00      1.00      1.00       247\n",
            "           1       1.00      1.00      1.00        50\n",
            "\n",
            "    accuracy                           1.00       297\n",
            "   macro avg       1.00      1.00      1.00       297\n",
            "weighted avg       1.00      1.00      1.00       297\n",
            "\n"
          ]
        }
      ],
      "source": [
        "ensemble_stacked(X_tl,y_tl,X_test,y_test)\n"
      ]
    },
    {
      "cell_type": "code",
      "execution_count": null,
      "metadata": {
        "colab": {
          "base_uri": "https://localhost:8080/"
        },
        "id": "dUZXGn9pbFRw",
        "outputId": "88767b28-c36f-406e-91e7-33c56b65ef23"
      },
      "outputs": [
        {
          "name": "stdout",
          "output_type": "stream",
          "text": [
            "\n",
            "==================================================================\n",
            "   Voting Classifier\n",
            "==================================================================\n",
            "\n",
            "Accuracy: 0.929\n",
            "Precision: 0.935\n",
            "Recall: 0.929\n",
            "F_score: 0.921\n",
            "\n",
            "Balanced Accuracy:  0.79\n",
            "              precision    recall  f1-score   support\n",
            "\n",
            "           0       0.92      1.00      0.96       247\n",
            "           1       1.00      0.58      0.73        50\n",
            "\n",
            "    accuracy                           0.93       297\n",
            "   macro avg       0.96      0.79      0.85       297\n",
            "weighted avg       0.93      0.93      0.92       297\n",
            "\n"
          ]
        }
      ],
      "source": [
        "voting_classifiers(X_tl,y_tl,X_test,y_test)\n"
      ]
    },
    {
      "cell_type": "code",
      "execution_count": null,
      "metadata": {
        "colab": {
          "base_uri": "https://localhost:8080/"
        },
        "id": "FP82m9GJbFRw",
        "outputId": "6603c58d-1e85-4480-8d6e-9f31bb10c369"
      },
      "outputs": [
        {
          "name": "stdout",
          "output_type": "stream",
          "text": [
            "\n",
            "==================================================================\n",
            "Bagging Calssifier LR\n",
            "==================================================================\n",
            "\n",
            "Accuracy: 0.832\n",
            "Precision: 0.816\n",
            "Recall: 0.832\n",
            "F_score: 0.822\n",
            "\n",
            "Balanced Accuracy:  0.6515384615384616\n",
            "              precision    recall  f1-score   support\n",
            "\n",
            "           0       0.88      0.92      0.90       247\n",
            "           1       0.50      0.38      0.43        50\n",
            "\n",
            "    accuracy                           0.83       297\n",
            "   macro avg       0.69      0.65      0.67       297\n",
            "weighted avg       0.82      0.83      0.82       297\n",
            "\n"
          ]
        }
      ],
      "source": [
        "Bagging_Classifier_LR(X_tl,y_tl,X_test,y_test)\n"
      ]
    },
    {
      "cell_type": "code",
      "execution_count": null,
      "metadata": {
        "colab": {
          "base_uri": "https://localhost:8080/"
        },
        "id": "Bzije6vubFRw",
        "outputId": "1776f190-9f64-4482-af13-8f0063281dc3"
      },
      "outputs": [
        {
          "name": "stdout",
          "output_type": "stream",
          "text": [
            "\n",
            "==================================================================\n",
            "Bagging Calssifier SVM\n",
            "==================================================================\n",
            "\n",
            "Accuracy: 0.865\n",
            "Precision: 0.850\n",
            "Recall: 0.865\n",
            "F_score: 0.851\n",
            "\n",
            "Balanced Accuracy:  0.6797570850202429\n",
            "              precision    recall  f1-score   support\n",
            "\n",
            "           0       0.89      0.96      0.92       247\n",
            "           1       0.67      0.40      0.50        50\n",
            "\n",
            "    accuracy                           0.87       297\n",
            "   macro avg       0.78      0.68      0.71       297\n",
            "weighted avg       0.85      0.87      0.85       297\n",
            "\n"
          ]
        }
      ],
      "source": [
        "Bagging_Classifier_SVM(X_tl,y_tl,X_test,y_test)\n"
      ]
    },
    {
      "cell_type": "code",
      "execution_count": null,
      "metadata": {
        "colab": {
          "base_uri": "https://localhost:8080/"
        },
        "id": "zScMYXEkbFRw",
        "outputId": "80339433-f742-476c-c2a4-9dd1823336d3"
      },
      "outputs": [
        {
          "name": "stdout",
          "output_type": "stream",
          "text": [
            "\n",
            "==================================================================\n",
            "   Gradient Boosting\n",
            "==================================================================\n",
            "\n",
            "Accuracy: 1.000\n",
            "Precision: 1.000\n",
            "Recall: 1.000\n",
            "F_score: 1.000\n",
            "\n",
            "Balanced Accuracy:  1.0\n",
            "              precision    recall  f1-score   support\n",
            "\n",
            "           0       1.00      1.00      1.00       247\n",
            "           1       1.00      1.00      1.00        50\n",
            "\n",
            "    accuracy                           1.00       297\n",
            "   macro avg       1.00      1.00      1.00       297\n",
            "weighted avg       1.00      1.00      1.00       297\n",
            "\n"
          ]
        }
      ],
      "source": [
        "gradient_boosting(X_tl,y_tl,X_test,y_test)\n"
      ]
    },
    {
      "cell_type": "code",
      "execution_count": null,
      "metadata": {
        "id": "K1XFMkSfWs5o"
      },
      "outputs": [],
      "source": [
        ""
      ]
    },
    {
      "cell_type": "markdown",
      "metadata": {
        "id": "JHiRReIBXciH"
      },
      "source": [
        "#### Under-sampling: Cluster Centroids\n"
      ]
    },
    {
      "cell_type": "code",
      "execution_count": null,
      "metadata": {
        "id": "LuCo2S5-WtA4"
      },
      "outputs": [],
      "source": [
        "from imblearn.under_sampling import ClusterCentroids\n",
        "\n",
        "cc = ClusterCentroids()\n",
        "X_cc, y_cc = cc.fit_resample(X_train,y_train)"
      ]
    },
    {
      "cell_type": "code",
      "execution_count": null,
      "metadata": {
        "id": "AHV8DtvibRp8"
      },
      "outputs": [],
      "source": [
        "# df_train=X_cc.copy()\n",
        "# df_train['target']=y_cc\n",
        "# df_train.to_csv('/content/drive/MyDrive/Omdena_ RadmolAI/Sampled_datasets/imblearn_ClusterCentroids_Random_under_sampled_train.csv')"
      ]
    },
    {
      "cell_type": "code",
      "execution_count": null,
      "metadata": {
        "colab": {
          "base_uri": "https://localhost:8080/"
        },
        "id": "a48zIrRJbGCG",
        "outputId": "16cbb7d6-f12a-44b3-f4b2-1afe54fa6eab"
      },
      "outputs": [
        {
          "name": "stdout",
          "output_type": "stream",
          "text": [
            "\n",
            "==================================================================\n",
            "          Linear SVM\n",
            "==================================================================\n",
            "\n",
            "Accuracy: 0.684\n",
            "Precision: 0.802\n",
            "Recall: 0.684\n",
            "F_score: 0.721\n",
            "\n",
            "Balanced Accuracy:  0.6661538461538461\n",
            "              precision    recall  f1-score   support\n",
            "\n",
            "           0       0.90      0.69      0.78       247\n",
            "           1       0.30      0.64      0.41        50\n",
            "\n",
            "    accuracy                           0.68       297\n",
            "   macro avg       0.60      0.67      0.59       297\n",
            "weighted avg       0.80      0.68      0.72       297\n",
            "\n"
          ]
        }
      ],
      "source": [
        "linear_svm_grid(X_cc,y_cc,X_test,y_test,class_ratio='balanced')\n"
      ]
    },
    {
      "cell_type": "code",
      "execution_count": null,
      "metadata": {
        "colab": {
          "base_uri": "https://localhost:8080/"
        },
        "id": "7cZ2u9bvbGCG",
        "outputId": "793e98ad-c2c0-4d15-a805-bb8d969fb939"
      },
      "outputs": [
        {
          "name": "stdout",
          "output_type": "stream",
          "text": [
            "\n",
            "==================================================================\n",
            "          Linear SVM\n",
            "==================================================================\n",
            "\n",
            "Accuracy: 0.680\n",
            "Precision: 0.806\n",
            "Recall: 0.680\n",
            "F_score: 0.718\n",
            "\n",
            "Balanced Accuracy:  0.6721052631578948\n",
            "              precision    recall  f1-score   support\n",
            "\n",
            "           0       0.91      0.68      0.78       247\n",
            "           1       0.30      0.66      0.41        50\n",
            "\n",
            "    accuracy                           0.68       297\n",
            "   macro avg       0.60      0.67      0.60       297\n",
            "weighted avg       0.81      0.68      0.72       297\n",
            "\n"
          ]
        }
      ],
      "source": [
        "linear_svm_grid(X_cc,y_cc,X_test,y_test,class_ratio=None)\n"
      ]
    },
    {
      "cell_type": "code",
      "execution_count": null,
      "metadata": {
        "colab": {
          "base_uri": "https://localhost:8080/"
        },
        "id": "khfrLL_ybGCG",
        "outputId": "62d2dc8f-168a-4546-b1de-9ad9093f1af8"
      },
      "outputs": [
        {
          "name": "stdout",
          "output_type": "stream",
          "text": [
            "\n",
            "==================================================================\n",
            "       Nonlinear SVM\n",
            "==================================================================\n",
            "\n",
            "Accuracy: 0.168\n",
            "Precision: 0.028\n",
            "Recall: 0.168\n",
            "F_score: 0.049\n",
            "\n",
            "Balanced Accuracy:  0.5\n",
            "              precision    recall  f1-score   support\n",
            "\n",
            "           0       0.00      0.00      0.00       247\n",
            "           1       0.17      1.00      0.29        50\n",
            "\n",
            "    accuracy                           0.17       297\n",
            "   macro avg       0.08      0.50      0.14       297\n",
            "weighted avg       0.03      0.17      0.05       297\n",
            "\n"
          ]
        }
      ],
      "source": [
        "nonlinear_svm_grid(X_cc,y_cc,X_test,y_test,class_ratio='balanced')\n"
      ]
    },
    {
      "cell_type": "code",
      "execution_count": null,
      "metadata": {
        "colab": {
          "base_uri": "https://localhost:8080/"
        },
        "id": "NyuMBPMebGCG",
        "outputId": "10c8f797-c4f0-446e-be02-8f3c0a57d940"
      },
      "outputs": [
        {
          "name": "stdout",
          "output_type": "stream",
          "text": [
            "\n",
            "==================================================================\n",
            "       Nonlinear SVM\n",
            "==================================================================\n",
            "\n",
            "Accuracy: 0.168\n",
            "Precision: 0.028\n",
            "Recall: 0.168\n",
            "F_score: 0.049\n",
            "\n",
            "Balanced Accuracy:  0.5\n",
            "              precision    recall  f1-score   support\n",
            "\n",
            "           0       0.00      0.00      0.00       247\n",
            "           1       0.17      1.00      0.29        50\n",
            "\n",
            "    accuracy                           0.17       297\n",
            "   macro avg       0.08      0.50      0.14       297\n",
            "weighted avg       0.03      0.17      0.05       297\n",
            "\n"
          ]
        }
      ],
      "source": [
        "nonlinear_svm_grid(X_cc,y_cc,X_test,y_test,class_ratio=None)\n"
      ]
    },
    {
      "cell_type": "code",
      "execution_count": null,
      "metadata": {
        "colab": {
          "base_uri": "https://localhost:8080/"
        },
        "id": "okNhV3m1bGCG",
        "outputId": "1231e799-4ec9-4f7d-bdf1-8e8c96d41ed0"
      },
      "outputs": [
        {
          "name": "stdout",
          "output_type": "stream",
          "text": [
            "\n",
            "==================================================================\n",
            " Logistic Regression\n",
            "==================================================================\n",
            "\n",
            "Accuracy: 0.660\n",
            "Precision: 0.784\n",
            "Recall: 0.660\n",
            "F_score: 0.700\n",
            "\n",
            "Balanced Accuracy:  0.6280566801619434\n",
            "              precision    recall  f1-score   support\n",
            "\n",
            "           0       0.89      0.68      0.77       247\n",
            "           1       0.27      0.58      0.36        50\n",
            "\n",
            "    accuracy                           0.66       297\n",
            "   macro avg       0.58      0.63      0.57       297\n",
            "weighted avg       0.78      0.66      0.70       297\n",
            "\n"
          ]
        }
      ],
      "source": [
        "logistic_regression_grid(X_cc,y_cc,X_test,y_test,class_ratio='balanced')\n"
      ]
    },
    {
      "cell_type": "code",
      "execution_count": null,
      "metadata": {
        "colab": {
          "base_uri": "https://localhost:8080/"
        },
        "id": "Hr-vaQpgbGCH",
        "outputId": "55b26211-dc89-4f89-f362-77274e8a9793"
      },
      "outputs": [
        {
          "name": "stdout",
          "output_type": "stream",
          "text": [
            "\n",
            "==================================================================\n",
            " Logistic Regression\n",
            "==================================================================\n",
            "\n",
            "Accuracy: 0.636\n",
            "Precision: 0.761\n",
            "Recall: 0.636\n",
            "F_score: 0.679\n",
            "\n",
            "Balanced Accuracy:  0.5819838056680162\n",
            "              precision    recall  f1-score   support\n",
            "\n",
            "           0       0.87      0.66      0.75       247\n",
            "           1       0.23      0.50      0.32        50\n",
            "\n",
            "    accuracy                           0.64       297\n",
            "   macro avg       0.55      0.58      0.53       297\n",
            "weighted avg       0.76      0.64      0.68       297\n",
            "\n"
          ]
        }
      ],
      "source": [
        "logistic_regression_grid(X_cc,y_cc,X_test,y_test,class_ratio=None)\n"
      ]
    },
    {
      "cell_type": "code",
      "execution_count": null,
      "metadata": {
        "colab": {
          "base_uri": "https://localhost:8080/"
        },
        "id": "cZnWbe3FbGCH",
        "outputId": "9a26296c-2106-4469-b6b1-2ac6a2b3a60c"
      },
      "outputs": [
        {
          "name": "stdout",
          "output_type": "stream",
          "text": [
            "\n",
            "==================================================================\n",
            "          Linear SVM\n",
            "==================================================================\n",
            "\n",
            "Accuracy: 0.721\n",
            "Precision: 0.804\n",
            "Recall: 0.721\n",
            "F_score: 0.749\n",
            "\n",
            "Balanced Accuracy:  0.6724696356275304\n",
            "              precision    recall  f1-score   support\n",
            "\n",
            "           0       0.90      0.74      0.82       247\n",
            "           1       0.32      0.60      0.42        50\n",
            "\n",
            "    accuracy                           0.72       297\n",
            "   macro avg       0.61      0.67      0.62       297\n",
            "weighted avg       0.80      0.72      0.75       297\n",
            "\n"
          ]
        }
      ],
      "source": [
        "linear_svm(X_cc,y_cc,X_test,y_test,class_ratio='balanced')\n"
      ]
    },
    {
      "cell_type": "code",
      "execution_count": null,
      "metadata": {
        "colab": {
          "base_uri": "https://localhost:8080/"
        },
        "id": "A4wdbNH3bGCH",
        "outputId": "1f2d2b9b-c785-40c1-f36e-ad6f6178a1c5"
      },
      "outputs": [
        {
          "name": "stdout",
          "output_type": "stream",
          "text": [
            "\n",
            "==================================================================\n",
            "          Linear SVM\n",
            "==================================================================\n",
            "\n",
            "Accuracy: 0.687\n",
            "Precision: 0.803\n",
            "Recall: 0.687\n",
            "F_score: 0.723\n",
            "\n",
            "Balanced Accuracy:  0.6681781376518219\n",
            "              precision    recall  f1-score   support\n",
            "\n",
            "           0       0.91      0.70      0.79       247\n",
            "           1       0.30      0.64      0.41        50\n",
            "\n",
            "    accuracy                           0.69       297\n",
            "   macro avg       0.60      0.67      0.60       297\n",
            "weighted avg       0.80      0.69      0.72       297\n",
            "\n"
          ]
        }
      ],
      "source": [
        "linear_svm(X_cc,y_cc,X_test,y_test,class_ratio=None)\n"
      ]
    },
    {
      "cell_type": "code",
      "execution_count": null,
      "metadata": {
        "colab": {
          "base_uri": "https://localhost:8080/"
        },
        "id": "YDN6-dI1bGCH",
        "outputId": "22ade3a4-5928-4019-98ec-03936df38f6a"
      },
      "outputs": [
        {
          "name": "stdout",
          "output_type": "stream",
          "text": [
            "\n",
            "==================================================================\n",
            " Logistic Regression\n",
            "==================================================================\n",
            "\n",
            "Accuracy: 0.646\n",
            "Precision: 0.772\n",
            "Recall: 0.646\n",
            "F_score: 0.688\n",
            "\n",
            "Balanced Accuracy:  0.6040080971659919\n",
            "              precision    recall  f1-score   support\n",
            "\n",
            "           0       0.88      0.67      0.76       247\n",
            "           1       0.25      0.54      0.34        50\n",
            "\n",
            "    accuracy                           0.65       297\n",
            "   macro avg       0.56      0.60      0.55       297\n",
            "weighted avg       0.77      0.65      0.69       297\n",
            "\n"
          ]
        }
      ],
      "source": [
        "logistic_regression(X_cc,y_cc,X_test,y_test,class_ratio='balanced')\n"
      ]
    },
    {
      "cell_type": "code",
      "execution_count": null,
      "metadata": {
        "colab": {
          "base_uri": "https://localhost:8080/"
        },
        "id": "jdEr7UPFbGCH",
        "outputId": "cd5df387-e658-42e1-a79a-9bdff000e313"
      },
      "outputs": [
        {
          "name": "stdout",
          "output_type": "stream",
          "text": [
            "\n",
            "==================================================================\n",
            " Logistic Regression\n",
            "==================================================================\n",
            "\n",
            "Accuracy: 0.646\n",
            "Precision: 0.772\n",
            "Recall: 0.646\n",
            "F_score: 0.688\n",
            "\n",
            "Balanced Accuracy:  0.6040080971659919\n",
            "              precision    recall  f1-score   support\n",
            "\n",
            "           0       0.88      0.67      0.76       247\n",
            "           1       0.25      0.54      0.34        50\n",
            "\n",
            "    accuracy                           0.65       297\n",
            "   macro avg       0.56      0.60      0.55       297\n",
            "weighted avg       0.77      0.65      0.69       297\n",
            "\n"
          ]
        }
      ],
      "source": [
        "logistic_regression(X_cc,y_cc,X_test,y_test,class_ratio=None)\n"
      ]
    },
    {
      "cell_type": "code",
      "execution_count": null,
      "metadata": {
        "colab": {
          "base_uri": "https://localhost:8080/"
        },
        "id": "oNxPJnATbGCI",
        "outputId": "bc7e9a0a-e303-486d-f80c-1ac8fc2bd033"
      },
      "outputs": [
        {
          "name": "stdout",
          "output_type": "stream",
          "text": [
            "\n",
            "==================================================================\n",
            "       Random Forest\n",
            "==================================================================\n",
            "\n",
            "Accuracy: 0.805\n",
            "Precision: 0.905\n",
            "Recall: 0.805\n",
            "F_score: 0.827\n",
            "\n",
            "Balanced Accuracy:  0.8746153846153846\n",
            "              precision    recall  f1-score   support\n",
            "\n",
            "           0       0.99      0.77      0.87       247\n",
            "           1       0.46      0.98      0.63        50\n",
            "\n",
            "    accuracy                           0.80       297\n",
            "   macro avg       0.73      0.87      0.75       297\n",
            "weighted avg       0.91      0.80      0.83       297\n",
            "\n"
          ]
        }
      ],
      "source": [
        "random_forest(X_cc,y_cc,X_test,y_test,class_ratio='balanced')\n"
      ]
    },
    {
      "cell_type": "code",
      "execution_count": null,
      "metadata": {
        "colab": {
          "base_uri": "https://localhost:8080/"
        },
        "id": "7PYleJuGbGCI",
        "outputId": "4b281f91-537e-4f98-d113-c4380f7a4cdb"
      },
      "outputs": [
        {
          "name": "stdout",
          "output_type": "stream",
          "text": [
            "\n",
            "==================================================================\n",
            "             XGBoost\n",
            "==================================================================\n",
            "\n",
            "Accuracy: 1.000\n",
            "Precision: 1.000\n",
            "Recall: 1.000\n",
            "F_score: 1.000\n",
            "\n",
            "Balanced Accuracy:  1.0\n",
            "              precision    recall  f1-score   support\n",
            "\n",
            "           0       1.00      1.00      1.00       247\n",
            "           1       1.00      1.00      1.00        50\n",
            "\n",
            "    accuracy                           1.00       297\n",
            "   macro avg       1.00      1.00      1.00       297\n",
            "weighted avg       1.00      1.00      1.00       297\n",
            "\n"
          ]
        }
      ],
      "source": [
        "xg_boost(X_cc,y_cc,X_test,y_test)\n"
      ]
    },
    {
      "cell_type": "code",
      "execution_count": null,
      "metadata": {
        "colab": {
          "base_uri": "https://localhost:8080/"
        },
        "id": "GxG88hTBbGCI",
        "outputId": "eb6a4feb-86b1-4fc4-c0d7-141884ede8d3"
      },
      "outputs": [
        {
          "name": "stdout",
          "output_type": "stream",
          "text": [
            "\n",
            "==================================================================\n",
            "Ensemble Stacked Classifiers\n",
            "==================================================================\n",
            "\n",
            "Accuracy: 1.000\n",
            "Precision: 1.000\n",
            "Recall: 1.000\n",
            "F_score: 1.000\n",
            "\n",
            "Balanced Accuracy:  1.0\n",
            "              precision    recall  f1-score   support\n",
            "\n",
            "           0       1.00      1.00      1.00       247\n",
            "           1       1.00      1.00      1.00        50\n",
            "\n",
            "    accuracy                           1.00       297\n",
            "   macro avg       1.00      1.00      1.00       297\n",
            "weighted avg       1.00      1.00      1.00       297\n",
            "\n"
          ]
        }
      ],
      "source": [
        "ensemble_stacked(X_cc,y_cc,X_test,y_test)\n"
      ]
    },
    {
      "cell_type": "code",
      "execution_count": null,
      "metadata": {
        "colab": {
          "base_uri": "https://localhost:8080/"
        },
        "id": "FixGyunAbGCI",
        "outputId": "d85c634a-eaf3-4f15-84f2-01fe0296f878"
      },
      "outputs": [
        {
          "name": "stdout",
          "output_type": "stream",
          "text": [
            "\n",
            "==================================================================\n",
            "   Voting Classifier\n",
            "==================================================================\n",
            "\n",
            "Accuracy: 0.909\n",
            "Precision: 0.904\n",
            "Recall: 0.909\n",
            "F_score: 0.903\n",
            "\n",
            "Balanced Accuracy:  0.78582995951417\n",
            "              precision    recall  f1-score   support\n",
            "\n",
            "           0       0.92      0.97      0.95       247\n",
            "           1       0.81      0.60      0.69        50\n",
            "\n",
            "    accuracy                           0.91       297\n",
            "   macro avg       0.87      0.79      0.82       297\n",
            "weighted avg       0.90      0.91      0.90       297\n",
            "\n"
          ]
        }
      ],
      "source": [
        "voting_classifiers(X_cc,y_cc,X_test,y_test)\n"
      ]
    },
    {
      "cell_type": "code",
      "execution_count": null,
      "metadata": {
        "colab": {
          "base_uri": "https://localhost:8080/"
        },
        "id": "7-9XJZj3bGCI",
        "outputId": "13679713-8c7c-4f4f-f80d-d720b3e900b9"
      },
      "outputs": [
        {
          "name": "stdout",
          "output_type": "stream",
          "text": [
            "\n",
            "==================================================================\n",
            "Bagging Calssifier LR\n",
            "==================================================================\n",
            "\n",
            "Accuracy: 0.684\n",
            "Precision: 0.778\n",
            "Recall: 0.684\n",
            "F_score: 0.717\n",
            "\n",
            "Balanced Accuracy:  0.6182995951417004\n",
            "              precision    recall  f1-score   support\n",
            "\n",
            "           0       0.88      0.72      0.79       247\n",
            "           1       0.27      0.52      0.36        50\n",
            "\n",
            "    accuracy                           0.68       297\n",
            "   macro avg       0.58      0.62      0.57       297\n",
            "weighted avg       0.78      0.68      0.72       297\n",
            "\n"
          ]
        }
      ],
      "source": [
        "Bagging_Classifier_LR(X_cc,y_cc,X_test,y_test)\n"
      ]
    },
    {
      "cell_type": "code",
      "execution_count": null,
      "metadata": {
        "colab": {
          "base_uri": "https://localhost:8080/"
        },
        "id": "M8Y33K60bGCJ",
        "outputId": "a0fe3589-5066-49a5-8920-60f0412c2124"
      },
      "outputs": [
        {
          "name": "stdout",
          "output_type": "stream",
          "text": [
            "\n",
            "==================================================================\n",
            "Bagging Calssifier SVM\n",
            "==================================================================\n",
            "\n",
            "Accuracy: 0.737\n",
            "Precision: 0.806\n",
            "Recall: 0.737\n",
            "F_score: 0.762\n",
            "\n",
            "Balanced Accuracy:  0.6746153846153846\n",
            "              precision    recall  f1-score   support\n",
            "\n",
            "           0       0.90      0.77      0.83       247\n",
            "           1       0.34      0.58      0.43        50\n",
            "\n",
            "    accuracy                           0.74       297\n",
            "   macro avg       0.62      0.67      0.63       297\n",
            "weighted avg       0.81      0.74      0.76       297\n",
            "\n"
          ]
        }
      ],
      "source": [
        "Bagging_Classifier_SVM(X_cc,y_cc,X_test,y_test)\n"
      ]
    },
    {
      "cell_type": "code",
      "execution_count": null,
      "metadata": {
        "colab": {
          "base_uri": "https://localhost:8080/"
        },
        "id": "iuJhIJDTbGCJ",
        "outputId": "eb0b2e0a-d336-4524-9dfd-8764e16cef76"
      },
      "outputs": [
        {
          "name": "stdout",
          "output_type": "stream",
          "text": [
            "\n",
            "==================================================================\n",
            "   Gradient Boosting\n",
            "==================================================================\n",
            "\n",
            "Accuracy: 1.000\n",
            "Precision: 1.000\n",
            "Recall: 1.000\n",
            "F_score: 1.000\n",
            "\n",
            "Balanced Accuracy:  1.0\n",
            "              precision    recall  f1-score   support\n",
            "\n",
            "           0       1.00      1.00      1.00       247\n",
            "           1       1.00      1.00      1.00        50\n",
            "\n",
            "    accuracy                           1.00       297\n",
            "   macro avg       1.00      1.00      1.00       297\n",
            "weighted avg       1.00      1.00      1.00       297\n",
            "\n"
          ]
        }
      ],
      "source": [
        "gradient_boosting(X_cc,y_cc,X_test,y_test)\n"
      ]
    },
    {
      "cell_type": "code",
      "execution_count": null,
      "metadata": {
        "id": "6BPc8gKgWtZc"
      },
      "outputs": [],
      "source": [
        ""
      ]
    },
    {
      "cell_type": "markdown",
      "metadata": {
        "id": "-h1qcUo_XiN5"
      },
      "source": [
        "#### Over-sampling: SMOTE\n"
      ]
    },
    {
      "cell_type": "code",
      "execution_count": null,
      "metadata": {
        "id": "k0kRr2b1Wtgk"
      },
      "outputs": [],
      "source": [
        "from imblearn.over_sampling import SMOTE\n",
        "\n",
        "smote = SMOTE(sampling_strategy='minority')\n",
        "X_sm, y_sm = smote.fit_resample(X_train,y_train)"
      ]
    },
    {
      "cell_type": "code",
      "execution_count": null,
      "metadata": {
        "id": "DTJ_JGB1bcEW"
      },
      "outputs": [],
      "source": [
        "# df_train=X_sm.copy()\n",
        "# df_train['target']=y_sm\n",
        "# df_train.to_csv('/content/drive/MyDrive/Omdena_ RadmolAI/Sampled_datasets/imblearn_SMOTE_Random_over_sampled_train.csv')"
      ]
    },
    {
      "cell_type": "code",
      "execution_count": null,
      "metadata": {
        "colab": {
          "base_uri": "https://localhost:8080/"
        },
        "id": "qvI0gBz5bGsH",
        "outputId": "edb0ee56-3ac3-4d5c-d19e-e7e85a06e83b"
      },
      "outputs": [
        {
          "name": "stdout",
          "output_type": "stream",
          "text": [
            "\n",
            "==================================================================\n",
            "          Linear SVM\n",
            "==================================================================\n",
            "\n",
            "Accuracy: 0.859\n",
            "Precision: 0.856\n",
            "Recall: 0.859\n",
            "F_score: 0.857\n",
            "\n",
            "Balanced Accuracy:  0.7395141700404859\n",
            "              precision    recall  f1-score   support\n",
            "\n",
            "           0       0.91      0.92      0.92       247\n",
            "           1       0.58      0.56      0.57        50\n",
            "\n",
            "    accuracy                           0.86       297\n",
            "   macro avg       0.75      0.74      0.74       297\n",
            "weighted avg       0.86      0.86      0.86       297\n",
            "\n"
          ]
        }
      ],
      "source": [
        "linear_svm_grid(X_sm,y_sm,X_test,y_test,class_ratio='balanced')\n"
      ]
    },
    {
      "cell_type": "code",
      "execution_count": null,
      "metadata": {
        "colab": {
          "base_uri": "https://localhost:8080/"
        },
        "id": "rsIctlL-bGsI",
        "outputId": "68d555c9-7e87-4838-dc04-fe99eca63902"
      },
      "outputs": [
        {
          "name": "stdout",
          "output_type": "stream",
          "text": [
            "\n",
            "==================================================================\n",
            "          Linear SVM\n",
            "==================================================================\n",
            "\n",
            "Accuracy: 0.859\n",
            "Precision: 0.852\n",
            "Recall: 0.859\n",
            "F_score: 0.855\n",
            "\n",
            "Balanced Accuracy:  0.7235627530364372\n",
            "              precision    recall  f1-score   support\n",
            "\n",
            "           0       0.91      0.93      0.92       247\n",
            "           1       0.59      0.52      0.55        50\n",
            "\n",
            "    accuracy                           0.86       297\n",
            "   macro avg       0.75      0.72      0.73       297\n",
            "weighted avg       0.85      0.86      0.85       297\n",
            "\n"
          ]
        }
      ],
      "source": [
        "linear_svm_grid(X_sm,y_sm,X_test,y_test,class_ratio=None)\n"
      ]
    },
    {
      "cell_type": "code",
      "execution_count": null,
      "metadata": {
        "colab": {
          "base_uri": "https://localhost:8080/"
        },
        "id": "kDquvZ93bGsI",
        "outputId": "4fe70fb0-f2f4-4ab8-a00b-4eee9d9eae2c"
      },
      "outputs": [
        {
          "name": "stdout",
          "output_type": "stream",
          "text": [
            "\n",
            "==================================================================\n",
            "       Nonlinear SVM\n",
            "==================================================================\n",
            "\n",
            "Accuracy: 0.832\n",
            "Precision: 0.692\n",
            "Recall: 0.832\n",
            "F_score: 0.755\n",
            "\n",
            "Balanced Accuracy:  0.5\n",
            "              precision    recall  f1-score   support\n",
            "\n",
            "           0       0.83      1.00      0.91       247\n",
            "           1       0.00      0.00      0.00        50\n",
            "\n",
            "    accuracy                           0.83       297\n",
            "   macro avg       0.42      0.50      0.45       297\n",
            "weighted avg       0.69      0.83      0.76       297\n",
            "\n"
          ]
        }
      ],
      "source": [
        "nonlinear_svm_grid(X_sm,y_sm,X_test,y_test,class_ratio='balanced')\n"
      ]
    },
    {
      "cell_type": "code",
      "execution_count": null,
      "metadata": {
        "colab": {
          "base_uri": "https://localhost:8080/"
        },
        "id": "5yLCINvabGsI",
        "outputId": "1531d12b-56c3-4e39-c853-b6cb38eaee88"
      },
      "outputs": [
        {
          "name": "stdout",
          "output_type": "stream",
          "text": [
            "\n",
            "==================================================================\n",
            "       Nonlinear SVM\n",
            "==================================================================\n",
            "\n",
            "Accuracy: 0.832\n",
            "Precision: 0.692\n",
            "Recall: 0.832\n",
            "F_score: 0.755\n",
            "\n",
            "Balanced Accuracy:  0.5\n",
            "              precision    recall  f1-score   support\n",
            "\n",
            "           0       0.83      1.00      0.91       247\n",
            "           1       0.00      0.00      0.00        50\n",
            "\n",
            "    accuracy                           0.83       297\n",
            "   macro avg       0.42      0.50      0.45       297\n",
            "weighted avg       0.69      0.83      0.76       297\n",
            "\n"
          ]
        }
      ],
      "source": [
        "nonlinear_svm_grid(X_sm,y_sm,X_test,y_test,class_ratio=None)\n"
      ]
    },
    {
      "cell_type": "code",
      "execution_count": null,
      "metadata": {
        "colab": {
          "base_uri": "https://localhost:8080/"
        },
        "id": "GnuBWEHwbGsI",
        "outputId": "df94b38a-4158-4267-8fac-f34bd9f0bebc"
      },
      "outputs": [
        {
          "name": "stdout",
          "output_type": "stream",
          "text": [
            "\n",
            "==================================================================\n",
            " Logistic Regression\n",
            "==================================================================\n",
            "\n",
            "Accuracy: 0.852\n",
            "Precision: 0.852\n",
            "Recall: 0.852\n",
            "F_score: 0.852\n",
            "\n",
            "Balanced Accuracy:  0.7354655870445345\n",
            "              precision    recall  f1-score   support\n",
            "\n",
            "           0       0.91      0.91      0.91       247\n",
            "           1       0.56      0.56      0.56        50\n",
            "\n",
            "    accuracy                           0.85       297\n",
            "   macro avg       0.74      0.74      0.74       297\n",
            "weighted avg       0.85      0.85      0.85       297\n",
            "\n"
          ]
        }
      ],
      "source": [
        "logistic_regression_grid(X_sm,y_sm,X_test,y_test,class_ratio='balanced')\n"
      ]
    },
    {
      "cell_type": "code",
      "execution_count": null,
      "metadata": {
        "colab": {
          "base_uri": "https://localhost:8080/"
        },
        "id": "KRbEVxslbGsJ",
        "outputId": "47239f94-fa55-4214-ff57-9cd60c991e4e"
      },
      "outputs": [
        {
          "name": "stdout",
          "output_type": "stream",
          "text": [
            "\n",
            "==================================================================\n",
            " Logistic Regression\n",
            "==================================================================\n",
            "\n",
            "Accuracy: 0.838\n",
            "Precision: 0.841\n",
            "Recall: 0.838\n",
            "F_score: 0.840\n",
            "\n",
            "Balanced Accuracy:  0.7193927125506073\n",
            "              precision    recall  f1-score   support\n",
            "\n",
            "           0       0.91      0.90      0.90       247\n",
            "           1       0.52      0.54      0.53        50\n",
            "\n",
            "    accuracy                           0.84       297\n",
            "   macro avg       0.71      0.72      0.72       297\n",
            "weighted avg       0.84      0.84      0.84       297\n",
            "\n"
          ]
        }
      ],
      "source": [
        "logistic_regression_grid(X_sm,y_sm,X_test,y_test,class_ratio=None)\n"
      ]
    },
    {
      "cell_type": "code",
      "execution_count": null,
      "metadata": {
        "colab": {
          "base_uri": "https://localhost:8080/"
        },
        "id": "thirgk7VbGsJ",
        "outputId": "475fc42e-4d95-44c1-8385-5133bdadf561"
      },
      "outputs": [
        {
          "name": "stdout",
          "output_type": "stream",
          "text": [
            "\n",
            "==================================================================\n",
            "          Linear SVM\n",
            "==================================================================\n",
            "\n",
            "Accuracy: 0.855\n",
            "Precision: 0.848\n",
            "Recall: 0.855\n",
            "F_score: 0.851\n",
            "\n",
            "Balanced Accuracy:  0.7135627530364372\n",
            "              precision    recall  f1-score   support\n",
            "\n",
            "           0       0.90      0.93      0.91       247\n",
            "           1       0.58      0.50      0.54        50\n",
            "\n",
            "    accuracy                           0.86       297\n",
            "   macro avg       0.74      0.71      0.73       297\n",
            "weighted avg       0.85      0.86      0.85       297\n",
            "\n"
          ]
        }
      ],
      "source": [
        "linear_svm(X_sm,y_sm,X_test,y_test,class_ratio='balanced')\n"
      ]
    },
    {
      "cell_type": "code",
      "execution_count": null,
      "metadata": {
        "colab": {
          "base_uri": "https://localhost:8080/"
        },
        "id": "4lhp22mIbGsJ",
        "outputId": "99ca69d2-80ec-45bd-8aa4-a88495e7c3aa"
      },
      "outputs": [
        {
          "name": "stdout",
          "output_type": "stream",
          "text": [
            "\n",
            "==================================================================\n",
            "          Linear SVM\n",
            "==================================================================\n",
            "\n",
            "Accuracy: 0.862\n",
            "Precision: 0.861\n",
            "Recall: 0.862\n",
            "F_score: 0.861\n",
            "\n",
            "Balanced Accuracy:  0.7495141700404858\n",
            "              precision    recall  f1-score   support\n",
            "\n",
            "           0       0.92      0.92      0.92       247\n",
            "           1       0.59      0.58      0.59        50\n",
            "\n",
            "    accuracy                           0.86       297\n",
            "   macro avg       0.75      0.75      0.75       297\n",
            "weighted avg       0.86      0.86      0.86       297\n",
            "\n"
          ]
        }
      ],
      "source": [
        "linear_svm(X_sm,y_sm,X_test,y_test,class_ratio=None)\n"
      ]
    },
    {
      "cell_type": "code",
      "execution_count": null,
      "metadata": {
        "colab": {
          "base_uri": "https://localhost:8080/"
        },
        "id": "1K3XI5C9bGsJ",
        "outputId": "28000065-c247-4ee8-f6f7-f0472718ecc7"
      },
      "outputs": [
        {
          "name": "stdout",
          "output_type": "stream",
          "text": [
            "\n",
            "==================================================================\n",
            " Logistic Regression\n",
            "==================================================================\n",
            "\n",
            "Accuracy: 0.835\n",
            "Precision: 0.836\n",
            "Recall: 0.835\n",
            "F_score: 0.836\n",
            "\n",
            "Balanced Accuracy:  0.7093927125506073\n",
            "              precision    recall  f1-score   support\n",
            "\n",
            "           0       0.90      0.90      0.90       247\n",
            "           1       0.51      0.52      0.51        50\n",
            "\n",
            "    accuracy                           0.84       297\n",
            "   macro avg       0.71      0.71      0.71       297\n",
            "weighted avg       0.84      0.84      0.84       297\n",
            "\n"
          ]
        }
      ],
      "source": [
        "logistic_regression(X_sm,y_sm,X_test,y_test,class_ratio='balanced')\n"
      ]
    },
    {
      "cell_type": "code",
      "execution_count": null,
      "metadata": {
        "colab": {
          "base_uri": "https://localhost:8080/"
        },
        "id": "Z6jyQ53cbGsK",
        "outputId": "cbcfb998-02d4-4ee1-8e20-87e3136832a0"
      },
      "outputs": [
        {
          "name": "stdout",
          "output_type": "stream",
          "text": [
            "\n",
            "==================================================================\n",
            " Logistic Regression\n",
            "==================================================================\n",
            "\n",
            "Accuracy: 0.835\n",
            "Precision: 0.836\n",
            "Recall: 0.835\n",
            "F_score: 0.836\n",
            "\n",
            "Balanced Accuracy:  0.7093927125506073\n",
            "              precision    recall  f1-score   support\n",
            "\n",
            "           0       0.90      0.90      0.90       247\n",
            "           1       0.51      0.52      0.51        50\n",
            "\n",
            "    accuracy                           0.84       297\n",
            "   macro avg       0.71      0.71      0.71       297\n",
            "weighted avg       0.84      0.84      0.84       297\n",
            "\n"
          ]
        }
      ],
      "source": [
        "logistic_regression(X_sm,y_sm,X_test,y_test,class_ratio=None)\n"
      ]
    },
    {
      "cell_type": "code",
      "execution_count": null,
      "metadata": {
        "colab": {
          "base_uri": "https://localhost:8080/"
        },
        "id": "qocXF69obGsK",
        "outputId": "298336c2-1fe4-489d-9a7b-4b8fc0aff5a5"
      },
      "outputs": [
        {
          "name": "stdout",
          "output_type": "stream",
          "text": [
            "\n",
            "==================================================================\n",
            "       Random Forest\n",
            "==================================================================\n",
            "\n",
            "Accuracy: 0.990\n",
            "Precision: 0.990\n",
            "Recall: 0.990\n",
            "F_score: 0.990\n",
            "\n",
            "Balanced Accuracy:  0.97\n",
            "              precision    recall  f1-score   support\n",
            "\n",
            "           0       0.99      1.00      0.99       247\n",
            "           1       1.00      0.94      0.97        50\n",
            "\n",
            "    accuracy                           0.99       297\n",
            "   macro avg       0.99      0.97      0.98       297\n",
            "weighted avg       0.99      0.99      0.99       297\n",
            "\n"
          ]
        }
      ],
      "source": [
        "random_forest(X_sm,y_sm,X_test,y_test,class_ratio='balanced')\n"
      ]
    },
    {
      "cell_type": "code",
      "execution_count": null,
      "metadata": {
        "colab": {
          "base_uri": "https://localhost:8080/"
        },
        "id": "__aywpI8bGsK",
        "outputId": "06a78210-a97e-48bf-f03c-2a0216f5b46a"
      },
      "outputs": [
        {
          "name": "stdout",
          "output_type": "stream",
          "text": [
            "\n",
            "==================================================================\n",
            "             XGBoost\n",
            "==================================================================\n",
            "\n",
            "Accuracy: 1.000\n",
            "Precision: 1.000\n",
            "Recall: 1.000\n",
            "F_score: 1.000\n",
            "\n",
            "Balanced Accuracy:  1.0\n",
            "              precision    recall  f1-score   support\n",
            "\n",
            "           0       1.00      1.00      1.00       247\n",
            "           1       1.00      1.00      1.00        50\n",
            "\n",
            "    accuracy                           1.00       297\n",
            "   macro avg       1.00      1.00      1.00       297\n",
            "weighted avg       1.00      1.00      1.00       297\n",
            "\n"
          ]
        }
      ],
      "source": [
        "xg_boost(X_sm,y_sm,X_test,y_test)\n"
      ]
    },
    {
      "cell_type": "code",
      "execution_count": null,
      "metadata": {
        "colab": {
          "base_uri": "https://localhost:8080/"
        },
        "id": "cui9xpEhbGsL",
        "outputId": "ba251ac7-e7aa-4d75-f622-7104aaed3709"
      },
      "outputs": [
        {
          "name": "stdout",
          "output_type": "stream",
          "text": [
            "\n",
            "==================================================================\n",
            "Ensemble Stacked Classifiers\n",
            "==================================================================\n",
            "\n",
            "Accuracy: 0.997\n",
            "Precision: 0.997\n",
            "Recall: 0.997\n",
            "F_score: 0.997\n",
            "\n",
            "Balanced Accuracy:  0.99\n",
            "              precision    recall  f1-score   support\n",
            "\n",
            "           0       1.00      1.00      1.00       247\n",
            "           1       1.00      0.98      0.99        50\n",
            "\n",
            "    accuracy                           1.00       297\n",
            "   macro avg       1.00      0.99      0.99       297\n",
            "weighted avg       1.00      1.00      1.00       297\n",
            "\n"
          ]
        }
      ],
      "source": [
        "ensemble_stacked(X_sm,y_sm,X_test,y_test)\n"
      ]
    },
    {
      "cell_type": "code",
      "execution_count": null,
      "metadata": {
        "colab": {
          "base_uri": "https://localhost:8080/"
        },
        "id": "k9HDsS4wbGsL",
        "outputId": "aedbdd0b-3ad0-4d1b-ff9c-a7fd0915ce77"
      },
      "outputs": [
        {
          "name": "stdout",
          "output_type": "stream",
          "text": [
            "\n",
            "==================================================================\n",
            "   Voting Classifier\n",
            "==================================================================\n",
            "\n",
            "Accuracy: 0.926\n",
            "Precision: 0.932\n",
            "Recall: 0.926\n",
            "F_score: 0.917\n",
            "\n",
            "Balanced Accuracy:  0.78\n",
            "              precision    recall  f1-score   support\n",
            "\n",
            "           0       0.92      1.00      0.96       247\n",
            "           1       1.00      0.56      0.72        50\n",
            "\n",
            "    accuracy                           0.93       297\n",
            "   macro avg       0.96      0.78      0.84       297\n",
            "weighted avg       0.93      0.93      0.92       297\n",
            "\n"
          ]
        }
      ],
      "source": [
        "voting_classifiers(X_sm,y_sm,X_test,y_test)\n"
      ]
    },
    {
      "cell_type": "code",
      "execution_count": null,
      "metadata": {
        "colab": {
          "base_uri": "https://localhost:8080/"
        },
        "id": "5lyef9dqbGsM",
        "outputId": "38823d80-9d91-4251-f059-78961d655622"
      },
      "outputs": [
        {
          "name": "stdout",
          "output_type": "stream",
          "text": [
            "\n",
            "==================================================================\n",
            "Bagging Calssifier LR\n",
            "==================================================================\n",
            "\n",
            "Accuracy: 0.842\n",
            "Precision: 0.846\n",
            "Recall: 0.842\n",
            "F_score: 0.844\n",
            "\n",
            "Balanced Accuracy:  0.7293927125506073\n",
            "              precision    recall  f1-score   support\n",
            "\n",
            "           0       0.91      0.90      0.90       247\n",
            "           1       0.53      0.56      0.54        50\n",
            "\n",
            "    accuracy                           0.84       297\n",
            "   macro avg       0.72      0.73      0.72       297\n",
            "weighted avg       0.85      0.84      0.84       297\n",
            "\n"
          ]
        }
      ],
      "source": [
        "Bagging_Classifier_LR(X_sm,y_sm,X_test,y_test)\n"
      ]
    },
    {
      "cell_type": "code",
      "execution_count": null,
      "metadata": {
        "colab": {
          "base_uri": "https://localhost:8080/"
        },
        "id": "MYBYUlAxbGsM",
        "outputId": "8ce98be8-cc38-4ac8-a936-69e5772c2f43"
      },
      "outputs": [
        {
          "name": "stdout",
          "output_type": "stream",
          "text": [
            "\n",
            "==================================================================\n",
            "Bagging Calssifier SVM\n",
            "==================================================================\n",
            "\n",
            "Accuracy: 0.862\n",
            "Precision: 0.859\n",
            "Recall: 0.862\n",
            "F_score: 0.860\n",
            "\n",
            "Balanced Accuracy:  0.7415384615384616\n",
            "              precision    recall  f1-score   support\n",
            "\n",
            "           0       0.91      0.92      0.92       247\n",
            "           1       0.60      0.56      0.58        50\n",
            "\n",
            "    accuracy                           0.86       297\n",
            "   macro avg       0.75      0.74      0.75       297\n",
            "weighted avg       0.86      0.86      0.86       297\n",
            "\n"
          ]
        }
      ],
      "source": [
        "Bagging_Classifier_SVM(X_sm,y_sm,X_test,y_test)\n"
      ]
    },
    {
      "cell_type": "code",
      "execution_count": null,
      "metadata": {
        "colab": {
          "base_uri": "https://localhost:8080/"
        },
        "id": "mQ2Q4KPPbGsM",
        "outputId": "3dcf3001-87b5-4caf-e518-f1ef300fca5d"
      },
      "outputs": [
        {
          "name": "stdout",
          "output_type": "stream",
          "text": [
            "\n",
            "==================================================================\n",
            "   Gradient Boosting\n",
            "==================================================================\n",
            "\n",
            "Accuracy: 1.000\n",
            "Precision: 1.000\n",
            "Recall: 1.000\n",
            "F_score: 1.000\n",
            "\n",
            "Balanced Accuracy:  1.0\n",
            "              precision    recall  f1-score   support\n",
            "\n",
            "           0       1.00      1.00      1.00       247\n",
            "           1       1.00      1.00      1.00        50\n",
            "\n",
            "    accuracy                           1.00       297\n",
            "   macro avg       1.00      1.00      1.00       297\n",
            "weighted avg       1.00      1.00      1.00       297\n",
            "\n"
          ]
        }
      ],
      "source": [
        "gradient_boosting(X_sm,y_sm,X_test,y_test)\n"
      ]
    },
    {
      "cell_type": "code",
      "execution_count": null,
      "metadata": {
        "id": "B4bLrbqiWwEY"
      },
      "outputs": [],
      "source": [
        ""
      ]
    },
    {
      "cell_type": "markdown",
      "metadata": {
        "id": "gA0HWDycXjr5"
      },
      "source": [
        "#### Over-sampling followed by under-sampling\n"
      ]
    },
    {
      "cell_type": "code",
      "execution_count": null,
      "metadata": {
        "id": "R37FKhV1WwK6"
      },
      "outputs": [],
      "source": [
        "from imblearn.combine import SMOTETomek\n",
        "\n",
        "smt = SMOTETomek(sampling_strategy='auto')\n",
        "X_smt, y_smt = smt.fit_resample(X_train,y_train)"
      ]
    },
    {
      "cell_type": "code",
      "execution_count": null,
      "metadata": {
        "id": "l2cdynE5bkC4"
      },
      "outputs": [],
      "source": [
        "# df_train=X_smt.copy()\n",
        "# df_train['target']=y_smt\n",
        "# df_train.to_csv('/content/drive/MyDrive/Omdena_ RadmolAI/Sampled_datasets/imblearn_SMOTETomek_Random_over_under_sampled_train.csv')"
      ]
    },
    {
      "cell_type": "code",
      "execution_count": null,
      "metadata": {
        "colab": {
          "base_uri": "https://localhost:8080/"
        },
        "id": "rRiOQRIabHX2",
        "outputId": "7ffc4fd9-1617-42a0-b54f-9266a4d784f2"
      },
      "outputs": [
        {
          "name": "stdout",
          "output_type": "stream",
          "text": [
            "\n",
            "==================================================================\n",
            "          Linear SVM\n",
            "==================================================================\n",
            "\n",
            "Accuracy: 0.855\n",
            "Precision: 0.848\n",
            "Recall: 0.855\n",
            "F_score: 0.851\n",
            "\n",
            "Balanced Accuracy:  0.7135627530364372\n",
            "              precision    recall  f1-score   support\n",
            "\n",
            "           0       0.90      0.93      0.91       247\n",
            "           1       0.58      0.50      0.54        50\n",
            "\n",
            "    accuracy                           0.86       297\n",
            "   macro avg       0.74      0.71      0.73       297\n",
            "weighted avg       0.85      0.86      0.85       297\n",
            "\n"
          ]
        }
      ],
      "source": [
        "linear_svm_grid(X_smt,y_smt,X_test,y_test,class_ratio='balanced')\n"
      ]
    },
    {
      "cell_type": "code",
      "execution_count": null,
      "metadata": {
        "colab": {
          "base_uri": "https://localhost:8080/"
        },
        "id": "XJOZGEATbHX3",
        "outputId": "eb530436-516d-4227-df97-e217a72f9552"
      },
      "outputs": [
        {
          "name": "stdout",
          "output_type": "stream",
          "text": [
            "\n",
            "==================================================================\n",
            "          Linear SVM\n",
            "==================================================================\n",
            "\n",
            "Accuracy: 0.842\n",
            "Precision: 0.840\n",
            "Recall: 0.842\n",
            "F_score: 0.841\n",
            "\n",
            "Balanced Accuracy:  0.7134412955465588\n",
            "              precision    recall  f1-score   support\n",
            "\n",
            "           0       0.90      0.91      0.91       247\n",
            "           1       0.53      0.52      0.53        50\n",
            "\n",
            "    accuracy                           0.84       297\n",
            "   macro avg       0.72      0.71      0.72       297\n",
            "weighted avg       0.84      0.84      0.84       297\n",
            "\n"
          ]
        }
      ],
      "source": [
        "linear_svm_grid(X_smt,y_smt,X_test,y_test,class_ratio=None)\n"
      ]
    },
    {
      "cell_type": "code",
      "execution_count": null,
      "metadata": {
        "colab": {
          "base_uri": "https://localhost:8080/"
        },
        "id": "h2A9aQykbHX3",
        "outputId": "52ac30a5-bad6-4e76-f805-05fa3c1c3639"
      },
      "outputs": [
        {
          "name": "stdout",
          "output_type": "stream",
          "text": [
            "\n",
            "==================================================================\n",
            "       Nonlinear SVM\n",
            "==================================================================\n",
            "\n",
            "Accuracy: 0.832\n",
            "Precision: 0.692\n",
            "Recall: 0.832\n",
            "F_score: 0.755\n",
            "\n",
            "Balanced Accuracy:  0.5\n",
            "              precision    recall  f1-score   support\n",
            "\n",
            "           0       0.83      1.00      0.91       247\n",
            "           1       0.00      0.00      0.00        50\n",
            "\n",
            "    accuracy                           0.83       297\n",
            "   macro avg       0.42      0.50      0.45       297\n",
            "weighted avg       0.69      0.83      0.76       297\n",
            "\n"
          ]
        }
      ],
      "source": [
        "nonlinear_svm_grid(X_smt,y_smt,X_test,y_test,class_ratio='balanced')\n"
      ]
    },
    {
      "cell_type": "code",
      "execution_count": null,
      "metadata": {
        "colab": {
          "base_uri": "https://localhost:8080/"
        },
        "id": "27rDlywlbHX3",
        "outputId": "dba80050-19a2-434f-c9b9-4d7d9ae3d1ab"
      },
      "outputs": [
        {
          "name": "stdout",
          "output_type": "stream",
          "text": [
            "\n",
            "==================================================================\n",
            "       Nonlinear SVM\n",
            "==================================================================\n",
            "\n",
            "Accuracy: 0.832\n",
            "Precision: 0.692\n",
            "Recall: 0.832\n",
            "F_score: 0.755\n",
            "\n",
            "Balanced Accuracy:  0.5\n",
            "              precision    recall  f1-score   support\n",
            "\n",
            "           0       0.83      1.00      0.91       247\n",
            "           1       0.00      0.00      0.00        50\n",
            "\n",
            "    accuracy                           0.83       297\n",
            "   macro avg       0.42      0.50      0.45       297\n",
            "weighted avg       0.69      0.83      0.76       297\n",
            "\n"
          ]
        }
      ],
      "source": [
        "nonlinear_svm_grid(X_smt,y_smt,X_test,y_test,class_ratio=None)\n"
      ]
    },
    {
      "cell_type": "code",
      "execution_count": null,
      "metadata": {
        "colab": {
          "base_uri": "https://localhost:8080/"
        },
        "id": "qps07sHJbHX4",
        "outputId": "bb004fd2-f139-4f2f-844c-9c354f2531b2"
      },
      "outputs": [
        {
          "name": "stdout",
          "output_type": "stream",
          "text": [
            "\n",
            "==================================================================\n",
            " Logistic Regression\n",
            "==================================================================\n",
            "\n",
            "Accuracy: 0.838\n",
            "Precision: 0.841\n",
            "Recall: 0.838\n",
            "F_score: 0.840\n",
            "\n",
            "Balanced Accuracy:  0.7193927125506073\n",
            "              precision    recall  f1-score   support\n",
            "\n",
            "           0       0.91      0.90      0.90       247\n",
            "           1       0.52      0.54      0.53        50\n",
            "\n",
            "    accuracy                           0.84       297\n",
            "   macro avg       0.71      0.72      0.72       297\n",
            "weighted avg       0.84      0.84      0.84       297\n",
            "\n"
          ]
        }
      ],
      "source": [
        "logistic_regression_grid(X_smt,y_smt,X_test,y_test,class_ratio='balanced')\n"
      ]
    },
    {
      "cell_type": "code",
      "execution_count": null,
      "metadata": {
        "colab": {
          "base_uri": "https://localhost:8080/"
        },
        "id": "-l1BdoQfbHX4",
        "outputId": "ba907b83-6c1d-4711-9bdc-28024c01ae70"
      },
      "outputs": [
        {
          "name": "stdout",
          "output_type": "stream",
          "text": [
            "\n",
            "==================================================================\n",
            " Logistic Regression\n",
            "==================================================================\n",
            "\n",
            "Accuracy: 0.838\n",
            "Precision: 0.841\n",
            "Recall: 0.838\n",
            "F_score: 0.840\n",
            "\n",
            "Balanced Accuracy:  0.7193927125506073\n",
            "              precision    recall  f1-score   support\n",
            "\n",
            "           0       0.91      0.90      0.90       247\n",
            "           1       0.52      0.54      0.53        50\n",
            "\n",
            "    accuracy                           0.84       297\n",
            "   macro avg       0.71      0.72      0.72       297\n",
            "weighted avg       0.84      0.84      0.84       297\n",
            "\n"
          ]
        }
      ],
      "source": [
        "logistic_regression_grid(X_smt,y_smt,X_test,y_test,class_ratio=None)\n"
      ]
    },
    {
      "cell_type": "code",
      "execution_count": null,
      "metadata": {
        "colab": {
          "base_uri": "https://localhost:8080/"
        },
        "id": "ib5eEtdZbHX4",
        "outputId": "c04d5bce-44b8-4693-d5ea-912a6e414dba"
      },
      "outputs": [
        {
          "name": "stdout",
          "output_type": "stream",
          "text": [
            "\n",
            "==================================================================\n",
            "          Linear SVM\n",
            "==================================================================\n",
            "\n",
            "Accuracy: 0.838\n",
            "Precision: 0.841\n",
            "Recall: 0.838\n",
            "F_score: 0.840\n",
            "\n",
            "Balanced Accuracy:  0.7193927125506073\n",
            "              precision    recall  f1-score   support\n",
            "\n",
            "           0       0.91      0.90      0.90       247\n",
            "           1       0.52      0.54      0.53        50\n",
            "\n",
            "    accuracy                           0.84       297\n",
            "   macro avg       0.71      0.72      0.72       297\n",
            "weighted avg       0.84      0.84      0.84       297\n",
            "\n"
          ]
        }
      ],
      "source": [
        "linear_svm(X_smt,y_smt,X_test,y_test,class_ratio='balanced')\n"
      ]
    },
    {
      "cell_type": "code",
      "execution_count": null,
      "metadata": {
        "colab": {
          "base_uri": "https://localhost:8080/"
        },
        "id": "b0eMg2sXbHX4",
        "outputId": "a5da9f7e-4e52-4ac9-9b11-30192c3ce190"
      },
      "outputs": [
        {
          "name": "stdout",
          "output_type": "stream",
          "text": [
            "\n",
            "==================================================================\n",
            "          Linear SVM\n",
            "==================================================================\n",
            "\n",
            "Accuracy: 0.855\n",
            "Precision: 0.848\n",
            "Recall: 0.855\n",
            "F_score: 0.851\n",
            "\n",
            "Balanced Accuracy:  0.7135627530364372\n",
            "              precision    recall  f1-score   support\n",
            "\n",
            "           0       0.90      0.93      0.91       247\n",
            "           1       0.58      0.50      0.54        50\n",
            "\n",
            "    accuracy                           0.86       297\n",
            "   macro avg       0.74      0.71      0.73       297\n",
            "weighted avg       0.85      0.86      0.85       297\n",
            "\n"
          ]
        }
      ],
      "source": [
        "linear_svm(X_smt,y_smt,X_test,y_test,class_ratio=None)\n"
      ]
    },
    {
      "cell_type": "code",
      "execution_count": null,
      "metadata": {
        "colab": {
          "base_uri": "https://localhost:8080/"
        },
        "id": "HdQERelAbHX4",
        "outputId": "549d518b-64cd-4840-9c39-e641cf90108e"
      },
      "outputs": [
        {
          "name": "stdout",
          "output_type": "stream",
          "text": [
            "\n",
            "==================================================================\n",
            " Logistic Regression\n",
            "==================================================================\n",
            "\n",
            "Accuracy: 0.835\n",
            "Precision: 0.836\n",
            "Recall: 0.835\n",
            "F_score: 0.836\n",
            "\n",
            "Balanced Accuracy:  0.7093927125506073\n",
            "              precision    recall  f1-score   support\n",
            "\n",
            "           0       0.90      0.90      0.90       247\n",
            "           1       0.51      0.52      0.51        50\n",
            "\n",
            "    accuracy                           0.84       297\n",
            "   macro avg       0.71      0.71      0.71       297\n",
            "weighted avg       0.84      0.84      0.84       297\n",
            "\n"
          ]
        }
      ],
      "source": [
        "logistic_regression(X_smt,y_smt,X_test,y_test,class_ratio='balanced')\n"
      ]
    },
    {
      "cell_type": "code",
      "execution_count": null,
      "metadata": {
        "colab": {
          "base_uri": "https://localhost:8080/"
        },
        "id": "JNdLM67vbHX4",
        "outputId": "69a092c5-edc7-41f1-87ca-a6084177d7bb"
      },
      "outputs": [
        {
          "name": "stdout",
          "output_type": "stream",
          "text": [
            "\n",
            "==================================================================\n",
            " Logistic Regression\n",
            "==================================================================\n",
            "\n",
            "Accuracy: 0.835\n",
            "Precision: 0.836\n",
            "Recall: 0.835\n",
            "F_score: 0.836\n",
            "\n",
            "Balanced Accuracy:  0.7093927125506073\n",
            "              precision    recall  f1-score   support\n",
            "\n",
            "           0       0.90      0.90      0.90       247\n",
            "           1       0.51      0.52      0.51        50\n",
            "\n",
            "    accuracy                           0.84       297\n",
            "   macro avg       0.71      0.71      0.71       297\n",
            "weighted avg       0.84      0.84      0.84       297\n",
            "\n"
          ]
        }
      ],
      "source": [
        "logistic_regression(X_smt,y_smt,X_test,y_test,class_ratio=None)\n"
      ]
    },
    {
      "cell_type": "code",
      "execution_count": null,
      "metadata": {
        "colab": {
          "base_uri": "https://localhost:8080/"
        },
        "id": "xHEYG-zWbHX4",
        "outputId": "ad4dd9ed-d8d7-46cd-d162-f7f54983b424"
      },
      "outputs": [
        {
          "name": "stdout",
          "output_type": "stream",
          "text": [
            "\n",
            "==================================================================\n",
            "       Random Forest\n",
            "==================================================================\n",
            "\n",
            "Accuracy: 0.987\n",
            "Precision: 0.986\n",
            "Recall: 0.987\n",
            "F_score: 0.986\n",
            "\n",
            "Balanced Accuracy:  0.9679757085020242\n",
            "              precision    recall  f1-score   support\n",
            "\n",
            "           0       0.99      1.00      0.99       247\n",
            "           1       0.98      0.94      0.96        50\n",
            "\n",
            "    accuracy                           0.99       297\n",
            "   macro avg       0.98      0.97      0.98       297\n",
            "weighted avg       0.99      0.99      0.99       297\n",
            "\n"
          ]
        }
      ],
      "source": [
        "random_forest(X_smt,y_smt,X_test,y_test,class_ratio='balanced')\n"
      ]
    },
    {
      "cell_type": "code",
      "execution_count": null,
      "metadata": {
        "colab": {
          "base_uri": "https://localhost:8080/"
        },
        "id": "dGdKIbtnbHX5",
        "outputId": "8e5db4fe-f72d-4c11-f4ea-37eb174d0db5"
      },
      "outputs": [
        {
          "name": "stdout",
          "output_type": "stream",
          "text": [
            "\n",
            "==================================================================\n",
            "             XGBoost\n",
            "==================================================================\n",
            "\n",
            "Accuracy: 1.000\n",
            "Precision: 1.000\n",
            "Recall: 1.000\n",
            "F_score: 1.000\n",
            "\n",
            "Balanced Accuracy:  1.0\n",
            "              precision    recall  f1-score   support\n",
            "\n",
            "           0       1.00      1.00      1.00       247\n",
            "           1       1.00      1.00      1.00        50\n",
            "\n",
            "    accuracy                           1.00       297\n",
            "   macro avg       1.00      1.00      1.00       297\n",
            "weighted avg       1.00      1.00      1.00       297\n",
            "\n"
          ]
        }
      ],
      "source": [
        "xg_boost(X_smt,y_smt,X_test,y_test)\n"
      ]
    },
    {
      "cell_type": "code",
      "execution_count": null,
      "metadata": {
        "colab": {
          "base_uri": "https://localhost:8080/"
        },
        "id": "onfnGvzibHX5",
        "outputId": "4afe4ee8-eb03-4c3f-d23c-9ecc26fa8bc8"
      },
      "outputs": [
        {
          "name": "stdout",
          "output_type": "stream",
          "text": [
            "\n",
            "==================================================================\n",
            "Ensemble Stacked Classifiers\n",
            "==================================================================\n",
            "\n",
            "Accuracy: 1.000\n",
            "Precision: 1.000\n",
            "Recall: 1.000\n",
            "F_score: 1.000\n",
            "\n",
            "Balanced Accuracy:  1.0\n",
            "              precision    recall  f1-score   support\n",
            "\n",
            "           0       1.00      1.00      1.00       247\n",
            "           1       1.00      1.00      1.00        50\n",
            "\n",
            "    accuracy                           1.00       297\n",
            "   macro avg       1.00      1.00      1.00       297\n",
            "weighted avg       1.00      1.00      1.00       297\n",
            "\n"
          ]
        }
      ],
      "source": [
        "ensemble_stacked(X_smt,y_smt,X_test,y_test)\n"
      ]
    },
    {
      "cell_type": "code",
      "execution_count": null,
      "metadata": {
        "colab": {
          "base_uri": "https://localhost:8080/"
        },
        "id": "grRM7AlxbHX5",
        "outputId": "960bc268-c349-42be-bfa3-ca23400f3855"
      },
      "outputs": [
        {
          "name": "stdout",
          "output_type": "stream",
          "text": [
            "\n",
            "==================================================================\n",
            "   Voting Classifier\n",
            "==================================================================\n",
            "\n",
            "Accuracy: 0.936\n",
            "Precision: 0.941\n",
            "Recall: 0.936\n",
            "F_score: 0.930\n",
            "\n",
            "Balanced Accuracy:  0.81\n",
            "              precision    recall  f1-score   support\n",
            "\n",
            "           0       0.93      1.00      0.96       247\n",
            "           1       1.00      0.62      0.77        50\n",
            "\n",
            "    accuracy                           0.94       297\n",
            "   macro avg       0.96      0.81      0.86       297\n",
            "weighted avg       0.94      0.94      0.93       297\n",
            "\n"
          ]
        }
      ],
      "source": [
        "voting_classifiers(X_smt,y_smt,X_test,y_test)\n"
      ]
    },
    {
      "cell_type": "code",
      "execution_count": null,
      "metadata": {
        "colab": {
          "base_uri": "https://localhost:8080/"
        },
        "id": "mUTdjJCMbHX5",
        "outputId": "1ce22912-7939-4663-c786-24cc880bd1fd"
      },
      "outputs": [
        {
          "name": "stdout",
          "output_type": "stream",
          "text": [
            "\n",
            "==================================================================\n",
            "Bagging Calssifier LR\n",
            "==================================================================\n",
            "\n",
            "Accuracy: 0.832\n",
            "Precision: 0.834\n",
            "Recall: 0.832\n",
            "F_score: 0.833\n",
            "\n",
            "Balanced Accuracy:  0.7073684210526316\n",
            "              precision    recall  f1-score   support\n",
            "\n",
            "           0       0.90      0.89      0.90       247\n",
            "           1       0.50      0.52      0.51        50\n",
            "\n",
            "    accuracy                           0.83       297\n",
            "   macro avg       0.70      0.71      0.70       297\n",
            "weighted avg       0.83      0.83      0.83       297\n",
            "\n"
          ]
        }
      ],
      "source": [
        "Bagging_Classifier_LR(X_smt,y_smt,X_test,y_test)\n"
      ]
    },
    {
      "cell_type": "code",
      "execution_count": null,
      "metadata": {
        "colab": {
          "base_uri": "https://localhost:8080/"
        },
        "id": "wbtP0lYbbHX5",
        "outputId": "1931d6b0-2b1d-4814-a9cf-8ce4e357227f"
      },
      "outputs": [
        {
          "name": "stdout",
          "output_type": "stream",
          "text": [
            "\n",
            "==================================================================\n",
            "Bagging Calssifier SVM\n",
            "==================================================================\n",
            "\n",
            "Accuracy: 0.845\n",
            "Precision: 0.840\n",
            "Recall: 0.845\n",
            "F_score: 0.843\n",
            "\n",
            "Balanced Accuracy:  0.7074898785425101\n",
            "              precision    recall  f1-score   support\n",
            "\n",
            "           0       0.90      0.91      0.91       247\n",
            "           1       0.54      0.50      0.52        50\n",
            "\n",
            "    accuracy                           0.85       297\n",
            "   macro avg       0.72      0.71      0.71       297\n",
            "weighted avg       0.84      0.85      0.84       297\n",
            "\n"
          ]
        }
      ],
      "source": [
        "Bagging_Classifier_SVM(X_smt,y_smt,X_test,y_test)\n"
      ]
    },
    {
      "cell_type": "code",
      "execution_count": null,
      "metadata": {
        "colab": {
          "base_uri": "https://localhost:8080/"
        },
        "id": "Z60pEdJkbHX5",
        "outputId": "3d09d63a-73ad-4c34-809e-b2e12b5821e5"
      },
      "outputs": [
        {
          "name": "stdout",
          "output_type": "stream",
          "text": [
            "\n",
            "==================================================================\n",
            "   Gradient Boosting\n",
            "==================================================================\n",
            "\n",
            "Accuracy: 1.000\n",
            "Precision: 1.000\n",
            "Recall: 1.000\n",
            "F_score: 1.000\n",
            "\n",
            "Balanced Accuracy:  1.0\n",
            "              precision    recall  f1-score   support\n",
            "\n",
            "           0       1.00      1.00      1.00       247\n",
            "           1       1.00      1.00      1.00        50\n",
            "\n",
            "    accuracy                           1.00       297\n",
            "   macro avg       1.00      1.00      1.00       297\n",
            "weighted avg       1.00      1.00      1.00       297\n",
            "\n"
          ]
        }
      ],
      "source": [
        "gradient_boosting(X_smt,y_smt,X_test,y_test)\n"
      ]
    },
    {
      "cell_type": "markdown",
      "metadata": {
        "id": "Wnvsz9V8lkB9"
      },
      "source": [
        "## Recommended Models"
      ]
    },
    {
      "cell_type": "code",
      "execution_count": null,
      "metadata": {
        "colab": {
          "base_uri": "https://localhost:8080/"
        },
        "id": "N25pkZv9mbtt",
        "outputId": "a94236ae-2cf5-432f-91ca-e894688ab495"
      },
      "outputs": [
        {
          "name": "stdout",
          "output_type": "stream",
          "text": [
            "\n",
            "==================================================================\n",
            "       Random Forest\n",
            "==================================================================\n",
            "\n",
            "Accuracy: 0.960\n",
            "Precision: 0.964\n",
            "Recall: 0.960\n",
            "F_score: 0.961\n",
            "\n",
            "Balanced Accuracy:  0.9597570850202428\n",
            "              precision    recall  f1-score   support\n",
            "\n",
            "           0       0.99      0.96      0.98       247\n",
            "           1       0.83      0.96      0.89        50\n",
            "\n",
            "    accuracy                           0.96       297\n",
            "   macro avg       0.91      0.96      0.93       297\n",
            "weighted avg       0.96      0.96      0.96       297\n",
            "\n"
          ]
        }
      ],
      "source": [
        "random_forest(X_rus,y_rus,X_test,y_test,class_ratio='balanced')\n",
        "# Recommended model no.1, since it has best class 1 recall, class 0 precision, weighted f1-score and BACC score amongst all models - Shweta C. 06/10"
      ]
    },
    {
      "cell_type": "code",
      "execution_count": null,
      "metadata": {
        "colab": {
          "base_uri": "https://localhost:8080/"
        },
        "id": "M4woWz-Zlysk",
        "outputId": "7eaefb5b-bd4f-4fcd-9c5c-ac31b5b9009c"
      },
      "outputs": [
        {
          "name": "stdout",
          "output_type": "stream",
          "text": [
            "\n",
            "==================================================================\n",
            "   Voting Classifier\n",
            "==================================================================\n",
            "\n",
            "Accuracy: 0.943\n",
            "Precision: 0.949\n",
            "Recall: 0.943\n",
            "F_score: 0.945\n",
            "\n",
            "Balanced Accuracy:  0.9336842105263158\n",
            "              precision    recall  f1-score   support\n",
            "\n",
            "           0       0.98      0.95      0.96       247\n",
            "           1       0.78      0.92      0.84        50\n",
            "\n",
            "    accuracy                           0.94       297\n",
            "   macro avg       0.88      0.93      0.90       297\n",
            "weighted avg       0.95      0.94      0.94       297\n",
            "\n"
          ]
        }
      ],
      "source": [
        "voting_classifiers(X_rus,y_rus,X_test,y_test)\n",
        "# Recommended model no.2"
      ]
    },
    {
      "cell_type": "code",
      "execution_count": null,
      "metadata": {
        "colab": {
          "base_uri": "https://localhost:8080/"
        },
        "id": "ROZEwy6wllYX",
        "outputId": "616a61af-009d-456c-fb64-e9608e96d1db"
      },
      "outputs": [
        {
          "name": "stdout",
          "output_type": "stream",
          "text": [
            "\n",
            "==================================================================\n",
            "   Voting Classifier\n",
            "==================================================================\n",
            "\n",
            "Accuracy: 0.936\n",
            "Precision: 0.941\n",
            "Recall: 0.936\n",
            "F_score: 0.930\n",
            "\n",
            "Balanced Accuracy:  0.81\n",
            "              precision    recall  f1-score   support\n",
            "\n",
            "           0       0.93      1.00      0.96       247\n",
            "           1       1.00      0.62      0.77        50\n",
            "\n",
            "    accuracy                           0.94       297\n",
            "   macro avg       0.96      0.81      0.86       297\n",
            "weighted avg       0.94      0.94      0.93       297\n",
            "\n"
          ]
        }
      ],
      "source": [
        "voting_classifiers(X_smt,y_smt,X_test,y_test)\n"
      ]
    },
    {
      "cell_type": "code",
      "execution_count": null,
      "metadata": {
        "colab": {
          "base_uri": "https://localhost:8080/"
        },
        "id": "3lcyUHUqlvsF",
        "outputId": "d3763e21-4edf-48e1-bc1b-8faeba4b4f19"
      },
      "outputs": [
        {
          "name": "stdout",
          "output_type": "stream",
          "text": [
            "\n",
            "==================================================================\n",
            "   Voting Classifier\n",
            "==================================================================\n",
            "\n",
            "Accuracy: 0.926\n",
            "Precision: 0.932\n",
            "Recall: 0.926\n",
            "F_score: 0.917\n",
            "\n",
            "Balanced Accuracy:  0.78\n",
            "              precision    recall  f1-score   support\n",
            "\n",
            "           0       0.92      1.00      0.96       247\n",
            "           1       1.00      0.56      0.72        50\n",
            "\n",
            "    accuracy                           0.93       297\n",
            "   macro avg       0.96      0.78      0.84       297\n",
            "weighted avg       0.93      0.93      0.92       297\n",
            "\n"
          ]
        }
      ],
      "source": [
        "voting_classifiers(X_sm,y_sm,X_test,y_test)\n"
      ]
    },
    {
      "cell_type": "code",
      "execution_count": null,
      "metadata": {
        "colab": {
          "base_uri": "https://localhost:8080/"
        },
        "id": "is9gwOB-mxdO",
        "outputId": "930b776b-bc5e-4444-e5d0-7a15bd0d77dc"
      },
      "outputs": [
        {
          "name": "stdout",
          "output_type": "stream",
          "text": [
            "\n",
            "==================================================================\n",
            "       Random Forest\n",
            "==================================================================\n",
            "\n",
            "Accuracy: 0.805\n",
            "Precision: 0.905\n",
            "Recall: 0.805\n",
            "F_score: 0.827\n",
            "\n",
            "Balanced Accuracy:  0.8746153846153846\n",
            "              precision    recall  f1-score   support\n",
            "\n",
            "           0       0.99      0.77      0.87       247\n",
            "           1       0.46      0.98      0.63        50\n",
            "\n",
            "    accuracy                           0.80       297\n",
            "   macro avg       0.73      0.87      0.75       297\n",
            "weighted avg       0.91      0.80      0.83       297\n",
            "\n"
          ]
        }
      ],
      "source": [
        "random_forest(X_cc,y_cc,X_test,y_test,class_ratio='balanced')\n"
      ]
    },
    {
      "cell_type": "code",
      "execution_count": null,
      "metadata": {
        "colab": {
          "base_uri": "https://localhost:8080/"
        },
        "id": "oV75T_CrloCy",
        "outputId": "f16ccff7-48ad-403b-a2bc-828b9100f60a"
      },
      "outputs": [
        {
          "name": "stdout",
          "output_type": "stream",
          "text": [
            "\n",
            "==================================================================\n",
            "Ensemble Stacked Classifiers\n",
            "==================================================================\n",
            "\n",
            "Accuracy: 1.000\n",
            "Precision: 1.000\n",
            "Recall: 1.000\n",
            "F_score: 1.000\n",
            "\n",
            "Balanced Accuracy:  1.0\n",
            "              precision    recall  f1-score   support\n",
            "\n",
            "           0       1.00      1.00      1.00       247\n",
            "           1       1.00      1.00      1.00        50\n",
            "\n",
            "    accuracy                           1.00       297\n",
            "   macro avg       1.00      1.00      1.00       297\n",
            "weighted avg       1.00      1.00      1.00       297\n",
            "\n"
          ]
        }
      ],
      "source": [
        "ensemble_stacked(X_smt,y_smt,X_test,y_test)\n"
      ]
    },
    {
      "cell_type": "code",
      "execution_count": null,
      "metadata": {
        "colab": {
          "base_uri": "https://localhost:8080/"
        },
        "id": "HvES1XQYm11W",
        "outputId": "0133d8b4-c131-416a-80cb-2f5bc4b5d784"
      },
      "outputs": [
        {
          "name": "stdout",
          "output_type": "stream",
          "text": [
            "\n",
            "==================================================================\n",
            "   Voting Classifier\n",
            "==================================================================\n",
            "\n",
            "Accuracy: 0.929\n",
            "Precision: 0.935\n",
            "Recall: 0.929\n",
            "F_score: 0.921\n",
            "\n",
            "Balanced Accuracy:  0.79\n",
            "              precision    recall  f1-score   support\n",
            "\n",
            "           0       0.92      1.00      0.96       247\n",
            "           1       1.00      0.58      0.73        50\n",
            "\n",
            "    accuracy                           0.93       297\n",
            "   macro avg       0.96      0.79      0.85       297\n",
            "weighted avg       0.93      0.93      0.92       297\n",
            "\n"
          ]
        }
      ],
      "source": [
        "voting_classifiers(X_train,y_train,X_test,y_test)\n"
      ]
    },
    {
      "cell_type": "code",
      "execution_count": null,
      "metadata": {
        "colab": {
          "base_uri": "https://localhost:8080/"
        },
        "id": "kKTwtGe-m2Tp",
        "outputId": "ac0edc53-1d55-45ca-d2b0-6ee5c43ac04d"
      },
      "outputs": [
        {
          "name": "stdout",
          "output_type": "stream",
          "text": [
            "\n",
            "==================================================================\n",
            "             XGBoost\n",
            "==================================================================\n",
            "\n",
            "Accuracy: 1.000\n",
            "Precision: 1.000\n",
            "Recall: 1.000\n",
            "F_score: 1.000\n",
            "\n",
            "Balanced Accuracy:  1.0\n",
            "              precision    recall  f1-score   support\n",
            "\n",
            "           0       1.00      1.00      1.00       247\n",
            "           1       1.00      1.00      1.00        50\n",
            "\n",
            "    accuracy                           1.00       297\n",
            "   macro avg       1.00      1.00      1.00       297\n",
            "weighted avg       1.00      1.00      1.00       297\n",
            "\n"
          ]
        }
      ],
      "source": [
        "xg_boost(X_train,y_train,X_test,y_test)\n"
      ]
    }
  ],
  "metadata": {
    "colab": {
      "collapsed_sections": [
        "MdDXrQtFWUQ_",
        "xQsV3kOvWiDZ",
        "Ww16QTnuXR-C",
        "11ee4NopXWBU",
        "mWYFF-W4XXw3",
        "JHiRReIBXciH",
        "-h1qcUo_XiN5",
        "gA0HWDycXjr5"
      ],
      "name": "LC_models_full_features_with_balancing.ipynb",
      "provenance": []
    },
    "kernelspec": {
      "display_name": "Python 3",
      "language": "python",
      "name": "python3"
    },
    "language_info": {
      "codemirror_mode": {
        "name": "ipython",
        "version": 3
      },
      "file_extension": ".py",
      "mimetype": "text/x-python",
      "name": "python",
      "nbconvert_exporter": "python",
      "pygments_lexer": "ipython3",
      "version": "3.8.8"
    }
  },
  "nbformat": 4,
  "nbformat_minor": 0
}