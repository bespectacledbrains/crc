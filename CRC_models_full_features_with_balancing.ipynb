{
 "cells": [
  {
   "cell_type": "markdown",
   "metadata": {
    "id": "voe0cQNrKI2g"
   },
   "source": [
    "# Colorectal cancer full features models with balancing\n",
    "**Solution notebook by Reem Abdel-Salam, Reviewed and Updated by Shweta Chandole**\n",
    "\n",
    "Date: 04-June-2022"
   ]
  },
  {
   "cell_type": "markdown",
   "metadata": {
    "id": "TI5QyjFr3mhl"
   },
   "source": [
    "## Environment preparation"
   ]
  },
  {
   "cell_type": "markdown",
   "metadata": {
    "id": "LHR9yO7es9yH"
   },
   "source": [
    "### Import Libraries"
   ]
  },
  {
   "cell_type": "code",
   "execution_count": null,
   "metadata": {
    "id": "HHnXb7HrBcPG"
   },
   "outputs": [],
   "source": [
    "# import libraries\n",
    "import pandas as pd\n",
    "import numpy as np\n",
    "import sys\n",
    "import argparse\n",
    "import csv\n",
    "import regex \n",
    "import sklearn\n",
    "import imblearn\n",
    "\n",
    "from sklearn.svm import LinearSVC\n",
    "from nltk.tokenize import TreebankWordTokenizer\n",
    "from sklearn.feature_extraction.text import TfidfVectorizer, CountVectorizer\n",
    "from sklearn.pipeline import Pipeline, FeatureUnion\n",
    "from sklearn.model_selection import cross_validate\n",
    "from sklearn import metrics\n",
    "from sklearn.feature_selection import VarianceThreshold\n",
    "from sklearn import preprocessing\n",
    "from sklearn import metrics\n",
    "from sklearn.metrics import accuracy_score, precision_recall_fscore_support, balanced_accuracy_score\n",
    "from sklearn.svm import SVC\n",
    "from sklearn.ensemble import AdaBoostClassifier\n",
    "from sklearn.naive_bayes import BernoulliNB, MultinomialNB\n",
    "from sklearn.naive_bayes import GaussianNB\n",
    "from sklearn.linear_model import SGDClassifier, LogisticRegression\n",
    "from sklearn.neighbors import KNeighborsClassifier\n",
    "from sklearn.model_selection import GridSearchCV\n",
    "from scipy.sparse import *\n",
    "from sklearn.base import TransformerMixin\n",
    "from nltk.tokenize import TreebankWordTokenizer\n",
    "from sklearn.feature_extraction.text import TfidfVectorizer, CountVectorizer\n",
    "from nltk.util import ngrams\n",
    "from sklearn.model_selection import StratifiedKFold, train_test_split\n",
    "\n",
    "from sklearn.svm import SVC\n",
    "from sklearn.ensemble import AdaBoostClassifier\n",
    "from sklearn.naive_bayes import BernoulliNB, MultinomialNB\n",
    "from sklearn.naive_bayes import GaussianNB\n",
    "from sklearn.linear_model import SGDClassifier, LogisticRegression\n",
    "from sklearn.neighbors import KNeighborsClassifier\n",
    "from sklearn.model_selection import GridSearchCV\n",
    "from sklearn.svm import SVC, LinearSVC\n",
    "from sklearn import utils\n",
    "import xgboost as xgb\n",
    "from sklearn.ensemble import RandomForestClassifier\n",
    "from xgboost import XGBClassifier\n",
    "from sklearn.experimental import enable_hist_gradient_boosting\n",
    "from sklearn.ensemble import HistGradientBoostingClassifier\n",
    "from lightgbm import LGBMClassifier\n"
   ]
  },
  {
   "cell_type": "markdown",
   "metadata": {
    "id": "QoCsVvxZtqdj"
   },
   "source": [
    "### Define model and metrics creation fuctions"
   ]
  },
  {
   "cell_type": "code",
   "execution_count": null,
   "metadata": {
    "id": "beHjj9q5GeWn"
   },
   "outputs": [],
   "source": [
    "# define custom functions to run classification modules, build classifier models and calculate metrics\n",
    "\n",
    "def print_statistics(y, y_pred):\n",
    "    accuracy = metrics.accuracy_score(y, y_pred)\n",
    "    weighted_precision = metrics.precision_score(y, y_pred, average='weighted')\n",
    "    weighted_recall = metrics.recall_score(y, y_pred, average='weighted')\n",
    "    weighted_f1_score = metrics.f1_score(y, y_pred, average='weighted')\n",
    "    balanced_accuracy =balanced_accuracy_score(y, y_pred)\n",
    "\n",
    "    print('Accuracy: %.3f\\nWeighted_Precision: %.3f\\nWeighted_Recall: %.3f\\nWeighted_F1_score: %.3f\\n'\n",
    "          % (accuracy, weighted_precision, weighted_recall, weighted_f1_score))\n",
    "    print('Balanced Accuracy: ', balanced_accuracy)\n",
    "    print(metrics.classification_report(y, y_pred))\n",
    "    \n",
    "    return accuracy, weighted_precision, weighted_recall, weighted_f1_score, balanced_accuracy\n",
    "\n",
    "# updated print_statistics function to include 'weighted_' label to the metrics using weighted avg scores - Shweta C. 06/04\n",
    "\n",
    "def plot_coefficients(classifier, feature_names, top_features=20, plot_name=\"/bow_models/bow_binary_\"):\n",
    "    # Get the top most positive/negative coefficients\n",
    "    coef = classifier.coef_.ravel()\n",
    "    top_positive_coefficients = np.argsort(coef)[-top_features:]\n",
    "    top_negative_coefficients = np.argsort(coef)[:top_features]\n",
    "    top_coefficients = np.hstack([top_negative_coefficients, top_positive_coefficients])\n",
    "    x_names = [feature_names[feature] for feature in top_coefficients]\n",
    "\n",
    "    # Plot the coefficients\n",
    "    plt.figure(figsize=(15, 5))\n",
    "    colors = ['red' if c < 0 else 'blue' for c in coef[top_coefficients]]\n",
    "    plt.bar(np.arange(2 * top_features), coef[top_coefficients], color=colors)\n",
    "    plt.xticks(np.arange(0, 2 * top_features), x_names, rotation=30, ha='right')\n",
    "    plt.ylabel(\"Coefficient Value\")\n",
    "    plt.title(\"Visualising the top %d features taken up by an SVM model\" % top_features)\n",
    "    to_save_filename = path + \"/plots/\" + plot_name + \"top%d_coefficients.png\" % top_features\n",
    "    plt.savefig(to_save_filename)\n",
    "    print(\"Coefficients' visualisation saved to %s\\n\" % to_save_filename)\n",
    "\n",
    "def get_regularization_params(a=-1, b=1, c=3, d=1, e=5):\n",
    "    reg_range = np.outer(np.logspace(a, b, c), np.array([d, e]))\n",
    "    reg_range = reg_range.flatten()\n",
    "    return reg_range\n",
    "\n",
    "\n",
    "def grid_classifier(x_train, y_train, x_test, y_test, model, parameters,\n",
    "                    make_feature_analysis=False, feature_names=None, top_features=0, plot_name=\"coeff\"):\n",
    "    grid = GridSearchCV(estimator=model, param_grid=parameters, verbose=0)\n",
    "    grid.fit(x_train, y_train)\n",
    "    sorted(grid.cv_results_.keys())\n",
    "    classifier = grid.best_estimator_\n",
    "    if make_feature_analysis:\n",
    "        plot_coefficients(classifier, feature_names, top_features, plot_name)\n",
    "    y_hat = classifier.predict(x_test)\n",
    "    print_statistics(y_test, y_hat)\n",
    "\n",
    "# Method to print the header of the currently running model\n",
    "def print_model_title(name):\n",
    "    print(\"\\n==================================================================\")\n",
    "    print('{:>20}'.format(name))\n",
    "    print(\"==================================================================\\n\")\n",
    "\n",
    "\n",
    "def linear_svm_grid(x_train, y_train, x_test, y_test, class_ratio,\n",
    "               make_feature_analysis=False, feature_names=None, top_features=0, plot_name=\"coeff\"):\n",
    "    print_model_title(\"Linear SVM\")\n",
    "    C_range = get_regularization_params()\n",
    "    parameters = {'C': C_range}\n",
    "    linear_svm = LinearSVC(C=1.0, class_weight=class_ratio, penalty='l2')\n",
    "    grid_classifier(x_train, y_train, x_test, y_test, linear_svm, parameters,\n",
    "                    make_feature_analysis, feature_names, top_features, plot_name)\n",
    "\n",
    "\n",
    "def nonlinear_svm_grid(x_train, y_train, x_test, y_test, class_ratio,\n",
    "                  make_feature_analysis=False, feature_names=None, top_features=0, plot_name=\"coeff\"):\n",
    "    print_model_title(\"Nonlinear SVM\")\n",
    "    C_range = get_regularization_params(a=-1, b=0, c=2, d=1, e=5)\n",
    "    gamma_range = get_regularization_params(a=-2, b=-1, c=2, d=1, e=5)\n",
    "    parameters = {'kernel': ['rbf'], 'C': C_range, 'gamma': gamma_range}\n",
    "    nonlinear_svm = SVC(class_weight=class_ratio)\n",
    "    grid_classifier(x_train, y_train, x_test, y_test, nonlinear_svm, parameters,\n",
    "                    make_feature_analysis, feature_names, top_features, plot_name)\n",
    "\n",
    "\n",
    "def logistic_regression_grid(x_train, y_train, x_test, y_test, class_ratio,\n",
    "                        make_feature_analysis=False, feature_names=None, top_features=0, plot_name=\"coeff\"):\n",
    "    print_model_title(\"Logistic Regression\")\n",
    "    C_range = [0.001, 0.01, 0.1, 1, 10, 100]\n",
    "    parameters = {'C': C_range}\n",
    "    log_regr = LogisticRegression(C=1.0, class_weight=class_ratio, penalty='l2')\n",
    "    grid_classifier(x_train, y_train, x_test, y_test, log_regr, parameters,\n",
    "                    make_feature_analysis, feature_names, top_features, plot_name)\n",
    "\n",
    "\n",
    "def linear_svm(x_train, y_train, x_test, y_test, class_ratio='balanced'):\n",
    "    print_model_title(\"Linear SVM\")\n",
    "    svm = LinearSVC(C=0.01, class_weight=class_ratio, penalty='l2')\n",
    "    svm.fit(x_train, y_train)\n",
    "    y_hat = svm.predict(x_test)\n",
    "    print_statistics(y_test, y_hat)\n",
    "\n",
    "\n",
    "def logistic_regression(x_train, y_train, x_test, y_test, class_ratio='balanced'):\n",
    "    print_model_title(\"Logistic Regression\")\n",
    "    regr = LogisticRegression(C=0.01, class_weight=class_ratio, penalty='l2')\n",
    "    regr.fit(x_train, y_train)\n",
    "    y_hat = regr.predict(x_test)\n",
    "    print_statistics(y_test, y_hat)\n",
    "\n",
    "\n",
    "def random_forest(x_train, y_train, x_test, y_test, class_ratio='balanced'):\n",
    "  print_model_title(\"Random Forest\")\n",
    "  rf = RandomForestClassifier(n_estimators=400, random_state=11)\n",
    "  rf.fit(x_train, y_train)\n",
    "  y_hat = rf.predict(x_test)\n",
    "  print_statistics(y_test, y_hat)\n",
    "\n",
    "\n",
    "def random_forest_grid_search(x_train, y_train, x_test, y_test, class_ratio='balanced',make_feature_analysis=False, feature_names=None, top_features=0, plot_name=\"coeff\"):\n",
    "  print_model_title(\"Random Forest Grid search\")\n",
    "  parameters1 = { \n",
    "                \"max_features\": [0.8,0.9],\n",
    "                \"max_depth\": [6,7,8,9],\n",
    "                \"min_samples_leaf\": [50, 75, 100],\n",
    "                \"n_estimators\": [10,30],\n",
    "                \"max_samples\" : [0.8,0.9]\n",
    "             }\n",
    "  rf = RandomForestClassifier(n_estimators=400, random_state=11)\n",
    "  grid_classifier(x_train, y_train, x_test, y_test, rf, parameters1,\n",
    "                    make_feature_analysis, feature_names, top_features, plot_name)\n",
    "  # rf.fit(x_train, y_train)\n",
    "  # y_hat = rf.predict(x_test)\n",
    "  # print_statistics(y_test, y_hat)\n",
    "\n",
    "\n",
    "def xg_boost(x_train, y_train, x_test, y_test):\n",
    "  print_model_title(\"XGBoost\")\n",
    "  xgb_model =XGBClassifier(max_depth=50, n_estimators=1000)\n",
    "  xgb_model .fit(x_train, y_train)\n",
    "  y_hat = xgb_model .predict(x_test)\n",
    "  print_statistics(y_test, y_hat)\n",
    "\n",
    "\n",
    "def xg_boost_focal_loss(x_train, y_train, x_test, y_test):\n",
    "  print_model_title(\"XGBoost Focal\")\n",
    "  xgboster_focal = imb_xgb(special_objective='focal')\n",
    "  CV_focal_booster = GridSearchCV(xgboster_focal, {\"focal_gamma\":[1.0,1.5,2.0,2.5,3.0]})\n",
    "  CV_focal_booster.fit(x_train, y_train)\n",
    "  opt_focal_booster = CV_focal_booster.best_estimator_\n",
    "  # xgb_model .fit(x_train, y_train)\n",
    "  y_hat = opt_focal_booster.predict_determine(x_test)\n",
    "  print_statistics(y_test, y_hat)\n",
    "\n",
    "\n",
    "def xg_boost_weighted_loss(x_train, y_train, x_test, y_test):\n",
    "  print_model_title(\"XGBoost Weighted\")\n",
    "  xgboster_focal = imb_xgb(special_objective='weighted')\n",
    "  CV_focal_booster = GridSearchCV(xgboster_focal, {\"imbalance_alpha\":[1.5,2.0,2.5,3.0,4.0]})\n",
    "  CV_focal_booster.fit(x_train, y_train)\n",
    "  opt_focal_booster = CV_focal_booster.best_estimator_\n",
    "  # xgb_model .fit(x_train, y_train)\n",
    "  y_hat = opt_focal_booster.predict_determine(x_test)\n",
    "  print_statistics(y_test, y_hat)\n",
    "\n",
    "\n",
    "def feature_selection(x_train, y_train, x_test, y_test):\n",
    "    print(\"Feature selection with LinearSVC\")\n",
    "    model = LinearSVC(C=0.1, penalty='l2')\n",
    "    rfe = RFE(model, 5)\n",
    "    best_features_model = rfe.fit(x_train, y_train)\n",
    "    y_hat = best_features_model.predict(x_test)\n",
    "    print_statistics(y_test, y_hat)\n",
    "\n",
    "\n",
    "def ensemble_stacked(x_train, y_train, x_test, y_test):\n",
    "  print_model_title(\"Ensemble Stacked Classifiers\")\n",
    "  estimators = [ ('lr',LogisticRegression(C=0.01, class_weight='balanced', penalty='l2')),('xgb',XGBClassifier(max_depth=16, n_estimators=1000)),('svm_linear',LinearSVC(C=0.01, class_weight='balanced', penalty='l2')),('rf', RandomForestClassifier(n_estimators=10, random_state=42))]\n",
    "  from sklearn.ensemble import StackingClassifier\n",
    "  clf = StackingClassifier(\n",
    "      estimators=estimators )\n",
    "  clf.fit(x_train, y_train)\n",
    "  y_hat = clf .predict(x_test)\n",
    "  print_statistics(y_test, y_hat)\n",
    "\n",
    "from sklearn.ensemble import RandomForestClassifier, VotingClassifier\n",
    "def voting_classifiers(x_train, y_train, x_test, y_test,voting_type='hard'):\n",
    "  print_model_title(\"Voting Classifier\")\n",
    "  estimators = [ ('lr',LogisticRegression(C=0.01, class_weight='balanced', penalty='l2')),('xgb',XGBClassifier(max_depth=16, n_estimators=1000)),('svm_linear',LinearSVC(C=0.01, class_weight='balanced', penalty='l2')),('rf', RandomForestClassifier(n_estimators=10, random_state=42))]\n",
    "  from sklearn.ensemble import StackingClassifier\n",
    "  clf = VotingClassifier(\n",
    "      estimators=estimators , voting=voting_type)\n",
    "  clf.fit(x_train, y_train)\n",
    "  y_hat = clf .predict(x_test)\n",
    "  print_statistics(y_test, y_hat)\n",
    "\n",
    "\n",
    "from sklearn.ensemble import RandomForestClassifier, VotingClassifier\n",
    "from sklearn.ensemble import BaggingClassifier\n",
    "def Bagging_Classifier_LR(x_train, y_train, x_test, y_test):\n",
    "  print_model_title(\"Bagging Calssifier LR\")\n",
    " \n",
    "  clf =BaggingClassifier(base_estimator=LogisticRegression(C=0.01, class_weight='balanced', penalty='l2'),\n",
    "                       n_estimators=10, random_state=42)\n",
    "  clf.fit(x_train, y_train)\n",
    "  y_hat = clf .predict(x_test)\n",
    "  print_statistics(y_test, y_hat)\n",
    "\n",
    "\n",
    "def Bagging_Classifier_SVM(x_train, y_train, x_test, y_test):\n",
    "  print_model_title(\"Bagging Calssifier SVM\")\n",
    " \n",
    "  clf =BaggingClassifier(base_estimator=LinearSVC(C=0.01, class_weight='balanced', penalty='l2'),\n",
    "                       n_estimators=10, random_state=42)\n",
    "  clf.fit(x_train, y_train)\n",
    "  y_hat = clf .predict(x_test)\n",
    "  print_statistics(y_test, y_hat)\n",
    "\n",
    "from sklearn.ensemble import GradientBoostingClassifier\n",
    "def gradient_boosting(x_train, y_train, x_test, y_test):\n",
    "  print_model_title(\"Gradient Boosting\")\n",
    " \n",
    "  clf =GradientBoostingClassifier(n_estimators=100, learning_rate=0.01,max_depth=30, random_state=42)\n",
    "  clf.fit(x_train, y_train)\n",
    "  y_hat = clf .predict(x_test)\n",
    "  print_statistics(y_test, y_hat)\n",
    "\n",
    "def xg_boost(x_train, y_train, x_test, y_test):\n",
    "  print_model_title(\"XGBoost\")\n",
    "  xgb_model =XGBClassifier(max_depth=50, n_estimators=1000)\n",
    "  xgb_model .fit(x_train, y_train)\n",
    "  y_hat = xgb_model .predict(x_test)\n",
    "  print_statistics(y_test, y_hat)\n",
    "\n"
   ]
  },
  {
   "cell_type": "markdown",
   "metadata": {
    "id": "U3FzTMxn7CMQ"
   },
   "source": [
    "### Saving list of packages to text file"
   ]
  },
  {
   "cell_type": "code",
   "execution_count": null,
   "metadata": {
    "id": "5hNHcwgH7OLA"
   },
   "outputs": [],
   "source": [
    "with open(\"crc_modules_colab.txt\", \"w\") as f:\n",
    "  print(sys.modules.keys(), file=f)"
   ]
  },
  {
   "cell_type": "code",
   "execution_count": null,
   "metadata": {
    "id": "zXpl5Gs5kvs7"
   },
   "outputs": [],
   "source": [
    "!pip freeze > crc_requirements.txt"
   ]
  },
  {
   "cell_type": "code",
   "execution_count": null,
   "metadata": {
    "colab": {
     "base_uri": "https://localhost:8080/"
    },
    "executionInfo": {
     "elapsed": 4795,
     "status": "ok",
     "timestamp": 1654544550213,
     "user": {
      "displayName": "Shweta Chandole",
      "userId": "17582944756805634685"
     },
     "user_tz": 240
    },
    "id": "a0gMpAyJiQk-",
    "outputId": "03933fe1-13aa-4f89-e788-2b6b3e2f61f5"
   },
   "outputs": [
    {
     "name": "stdout",
     "output_type": "stream",
     "text": [
      "Looking in indexes: https://pypi.org/simple, https://us-python.pkg.dev/colab-wheels/public/simple/\n",
      "Collecting pipreqs\n",
      "  Downloading pipreqs-0.4.11-py2.py3-none-any.whl (32 kB)\n",
      "Collecting yarg\n",
      "  Downloading yarg-0.1.9-py2.py3-none-any.whl (19 kB)\n",
      "Requirement already satisfied: docopt in /usr/local/lib/python3.7/dist-packages (from pipreqs) (0.6.2)\n",
      "Requirement already satisfied: requests in /usr/local/lib/python3.7/dist-packages (from yarg->pipreqs) (2.23.0)\n",
      "Requirement already satisfied: idna<3,>=2.5 in /usr/local/lib/python3.7/dist-packages (from requests->yarg->pipreqs) (2.10)\n",
      "Requirement already satisfied: chardet<4,>=3.0.2 in /usr/local/lib/python3.7/dist-packages (from requests->yarg->pipreqs) (3.0.4)\n",
      "Requirement already satisfied: urllib3!=1.25.0,!=1.25.1,<1.26,>=1.21.1 in /usr/local/lib/python3.7/dist-packages (from requests->yarg->pipreqs) (1.24.3)\n",
      "Requirement already satisfied: certifi>=2017.4.17 in /usr/local/lib/python3.7/dist-packages (from requests->yarg->pipreqs) (2022.5.18.1)\n",
      "Installing collected packages: yarg, pipreqs\n",
      "Successfully installed pipreqs-0.4.11 yarg-0.1.9\n"
     ]
    }
   ],
   "source": [
    "!pip install pipreqs"
   ]
  },
  {
   "cell_type": "code",
   "execution_count": null,
   "metadata": {
    "colab": {
     "base_uri": "https://localhost:8080/"
    },
    "executionInfo": {
     "elapsed": 16557,
     "status": "ok",
     "timestamp": 1654544570576,
     "user": {
      "displayName": "Shweta Chandole",
      "userId": "17582944756805634685"
     },
     "user_tz": 240
    },
    "id": "gdYFoR63idgu",
    "outputId": "3a774b3c-a27b-498d-a462-2dc1f9dc780d"
   },
   "outputs": [
    {
     "name": "stdout",
     "output_type": "stream",
     "text": [
      "INFO: Successfully saved requirements file in ./requirements.txt\n"
     ]
    }
   ],
   "source": [
    "!pipreqs . --force"
   ]
  },
  {
   "cell_type": "code",
   "execution_count": null,
   "metadata": {
    "colab": {
     "base_uri": "https://localhost:8080/"
    },
    "executionInfo": {
     "elapsed": 18080,
     "status": "ok",
     "timestamp": 1654534058872,
     "user": {
      "displayName": "Shweta Chandole",
      "userId": "17582944756805634685"
     },
     "user_tz": 240
    },
    "id": "6SeDQmS2Z-Ju",
    "outputId": "c39ab4b1-e514-4a3a-9792-6df65a59cbdd"
   },
   "outputs": [
    {
     "name": "stdout",
     "output_type": "stream",
     "text": [
      "Mounted at /content/drive\n"
     ]
    }
   ],
   "source": [
    "from google.colab import drive\n",
    "drive.mount('/content/drive')"
   ]
  },
  {
   "cell_type": "code",
   "execution_count": null,
   "metadata": {
    "colab": {
     "base_uri": "https://localhost:8080/"
    },
    "executionInfo": {
     "elapsed": 1572,
     "status": "ok",
     "timestamp": 1654372269981,
     "user": {
      "displayName": "Shweta Chandole",
      "userId": "17582944756805634685"
     },
     "user_tz": 240
    },
    "id": "BYZev-hmB0jH",
    "outputId": "bc9b18e1-1c2d-458c-b9b6-9f2226c15715"
   },
   "outputs": [
    {
     "name": "stderr",
     "output_type": "stream",
     "text": [
      "/usr/local/lib/python3.7/dist-packages/IPython/core/interactiveshell.py:2882: DtypeWarning: Columns (24,27) have mixed types.Specify dtype option on import or set low_memory=False.\n",
      "  exec(code_obj, self.user_global_ns, self.user_ns)\n"
     ]
    }
   ],
   "source": [
    "df=pd.read_csv('/content/drive/MyDrive/Omdena/RadmolAI/Data/CRC_original_dataset.csv')"
   ]
  },
  {
   "cell_type": "code",
   "execution_count": null,
   "metadata": {
    "colab": {
     "base_uri": "https://localhost:8080/"
    },
    "executionInfo": {
     "elapsed": 164,
     "status": "ok",
     "timestamp": 1654372576044,
     "user": {
      "displayName": "Shweta Chandole",
      "userId": "17582944756805634685"
     },
     "user_tz": 240
    },
    "id": "Ogh_GfFQaEhi",
    "outputId": "dd719d1f-dee9-4acb-bf68-584f9402957e"
   },
   "outputs": [
    {
     "data": {
      "text/plain": [
       "0    0.833254\n",
       "1    0.166746\n",
       "Name: Case_Control, dtype: float64"
      ]
     },
     "execution_count": 26,
     "metadata": {},
     "output_type": "execute_result"
    }
   ],
   "source": [
    "# check for percentage distribution of target variable \"Case_Control\", which indicates class 0 as non-cancer and class 1 as cancer\n",
    "df['Case_Control'].value_counts(normalize=True)"
   ]
  },
  {
   "cell_type": "code",
   "execution_count": null,
   "metadata": {
    "colab": {
     "base_uri": "https://localhost:8080/",
     "height": 317
    },
    "executionInfo": {
     "elapsed": 181,
     "status": "ok",
     "timestamp": 1654372316357,
     "user": {
      "displayName": "Shweta Chandole",
      "userId": "17582944756805634685"
     },
     "user_tz": 240
    },
    "id": "zVuqAp7oCBPI",
    "outputId": "c77e98a0-4207-4663-b48a-5a23eb757427"
   },
   "outputs": [
    {
     "data": {
      "text/html": [
       "\n",
       "  <div id=\"df-faecd1ad-db8a-4621-92f3-ed877b87c15c\">\n",
       "    <div class=\"colab-df-container\">\n",
       "      <div>\n",
       "<style scoped>\n",
       "    .dataframe tbody tr th:only-of-type {\n",
       "        vertical-align: middle;\n",
       "    }\n",
       "\n",
       "    .dataframe tbody tr th {\n",
       "        vertical-align: top;\n",
       "    }\n",
       "\n",
       "    .dataframe thead th {\n",
       "        text-align: right;\n",
       "    }\n",
       "</style>\n",
       "<table border=\"1\" class=\"dataframe\">\n",
       "  <thead>\n",
       "    <tr style=\"text-align: right;\">\n",
       "      <th></th>\n",
       "      <th>Unnamed: 0</th>\n",
       "      <th>abd_tend_score</th>\n",
       "      <th>PR_score</th>\n",
       "      <th>age_group</th>\n",
       "      <th>Case_Control</th>\n",
       "      <th>code_D11_1st</th>\n",
       "      <th>code_D11_2nd</th>\n",
       "      <th>code_D12_1st</th>\n",
       "      <th>code_D12_2nd</th>\n",
       "      <th>code_T03_1st</th>\n",
       "      <th>...</th>\n",
       "      <th>diarrhoea_last_year</th>\n",
       "      <th>earliest_rectal_bleeding</th>\n",
       "      <th>rectal_bleeding_last_year</th>\n",
       "      <th>earliest_mild_anaemia</th>\n",
       "      <th>mild_anaemia_last_year</th>\n",
       "      <th>earliest_severe_anaemia</th>\n",
       "      <th>severe_anaemia_last_year</th>\n",
       "      <th>earliest_FOB</th>\n",
       "      <th>FOB_last_year</th>\n",
       "      <th>diarrhoea_duration</th>\n",
       "    </tr>\n",
       "  </thead>\n",
       "  <tbody>\n",
       "    <tr>\n",
       "      <th>0</th>\n",
       "      <td>0</td>\n",
       "      <td>0.0</td>\n",
       "      <td>0.0</td>\n",
       "      <td>1.0</td>\n",
       "      <td>0</td>\n",
       "      <td>1.0</td>\n",
       "      <td>1.0</td>\n",
       "      <td>0.0</td>\n",
       "      <td>0.0</td>\n",
       "      <td>0.0</td>\n",
       "      <td>...</td>\n",
       "      <td>0.0</td>\n",
       "      <td>0.0</td>\n",
       "      <td>0.0</td>\n",
       "      <td>NaN</td>\n",
       "      <td>0.0</td>\n",
       "      <td>NaN</td>\n",
       "      <td>0.0</td>\n",
       "      <td>NaN</td>\n",
       "      <td>0.0</td>\n",
       "      <td>22.0</td>\n",
       "    </tr>\n",
       "    <tr>\n",
       "      <th>1</th>\n",
       "      <td>1</td>\n",
       "      <td>0.0</td>\n",
       "      <td>0.0</td>\n",
       "      <td>1.0</td>\n",
       "      <td>0</td>\n",
       "      <td>0.0</td>\n",
       "      <td>0.0</td>\n",
       "      <td>0.0</td>\n",
       "      <td>0.0</td>\n",
       "      <td>0.0</td>\n",
       "      <td>...</td>\n",
       "      <td>0.0</td>\n",
       "      <td>0.0</td>\n",
       "      <td>0.0</td>\n",
       "      <td>NaN</td>\n",
       "      <td>0.0</td>\n",
       "      <td>NaN</td>\n",
       "      <td>0.0</td>\n",
       "      <td>NaN</td>\n",
       "      <td>0.0</td>\n",
       "      <td>NaN</td>\n",
       "    </tr>\n",
       "    <tr>\n",
       "      <th>2</th>\n",
       "      <td>2</td>\n",
       "      <td>0.0</td>\n",
       "      <td>0.0</td>\n",
       "      <td>2.0</td>\n",
       "      <td>0</td>\n",
       "      <td>0.0</td>\n",
       "      <td>0.0</td>\n",
       "      <td>0.0</td>\n",
       "      <td>0.0</td>\n",
       "      <td>0.0</td>\n",
       "      <td>...</td>\n",
       "      <td>0.0</td>\n",
       "      <td>0.0</td>\n",
       "      <td>0.0</td>\n",
       "      <td>NaN</td>\n",
       "      <td>0.0</td>\n",
       "      <td>NaN</td>\n",
       "      <td>0.0</td>\n",
       "      <td>NaN</td>\n",
       "      <td>0.0</td>\n",
       "      <td>NaN</td>\n",
       "    </tr>\n",
       "    <tr>\n",
       "      <th>3</th>\n",
       "      <td>3</td>\n",
       "      <td>0.0</td>\n",
       "      <td>0.0</td>\n",
       "      <td>1.0</td>\n",
       "      <td>0</td>\n",
       "      <td>0.0</td>\n",
       "      <td>0.0</td>\n",
       "      <td>0.0</td>\n",
       "      <td>0.0</td>\n",
       "      <td>0.0</td>\n",
       "      <td>...</td>\n",
       "      <td>0.0</td>\n",
       "      <td>0.0</td>\n",
       "      <td>0.0</td>\n",
       "      <td>NaN</td>\n",
       "      <td>0.0</td>\n",
       "      <td>NaN</td>\n",
       "      <td>0.0</td>\n",
       "      <td>NaN</td>\n",
       "      <td>0.0</td>\n",
       "      <td>NaN</td>\n",
       "    </tr>\n",
       "    <tr>\n",
       "      <th>4</th>\n",
       "      <td>4</td>\n",
       "      <td>0.0</td>\n",
       "      <td>0.0</td>\n",
       "      <td>2.0</td>\n",
       "      <td>0</td>\n",
       "      <td>0.0</td>\n",
       "      <td>0.0</td>\n",
       "      <td>0.0</td>\n",
       "      <td>0.0</td>\n",
       "      <td>0.0</td>\n",
       "      <td>...</td>\n",
       "      <td>0.0</td>\n",
       "      <td>0.0</td>\n",
       "      <td>0.0</td>\n",
       "      <td>NaN</td>\n",
       "      <td>0.0</td>\n",
       "      <td>NaN</td>\n",
       "      <td>0.0</td>\n",
       "      <td>NaN</td>\n",
       "      <td>0.0</td>\n",
       "      <td>NaN</td>\n",
       "    </tr>\n",
       "  </tbody>\n",
       "</table>\n",
       "<p>5 rows × 1259 columns</p>\n",
       "</div>\n",
       "      <button class=\"colab-df-convert\" onclick=\"convertToInteractive('df-faecd1ad-db8a-4621-92f3-ed877b87c15c')\"\n",
       "              title=\"Convert this dataframe to an interactive table.\"\n",
       "              style=\"display:none;\">\n",
       "        \n",
       "  <svg xmlns=\"http://www.w3.org/2000/svg\" height=\"24px\"viewBox=\"0 0 24 24\"\n",
       "       width=\"24px\">\n",
       "    <path d=\"M0 0h24v24H0V0z\" fill=\"none\"/>\n",
       "    <path d=\"M18.56 5.44l.94 2.06.94-2.06 2.06-.94-2.06-.94-.94-2.06-.94 2.06-2.06.94zm-11 1L8.5 8.5l.94-2.06 2.06-.94-2.06-.94L8.5 2.5l-.94 2.06-2.06.94zm10 10l.94 2.06.94-2.06 2.06-.94-2.06-.94-.94-2.06-.94 2.06-2.06.94z\"/><path d=\"M17.41 7.96l-1.37-1.37c-.4-.4-.92-.59-1.43-.59-.52 0-1.04.2-1.43.59L10.3 9.45l-7.72 7.72c-.78.78-.78 2.05 0 2.83L4 21.41c.39.39.9.59 1.41.59.51 0 1.02-.2 1.41-.59l7.78-7.78 2.81-2.81c.8-.78.8-2.07 0-2.86zM5.41 20L4 18.59l7.72-7.72 1.47 1.35L5.41 20z\"/>\n",
       "  </svg>\n",
       "      </button>\n",
       "      \n",
       "  <style>\n",
       "    .colab-df-container {\n",
       "      display:flex;\n",
       "      flex-wrap:wrap;\n",
       "      gap: 12px;\n",
       "    }\n",
       "\n",
       "    .colab-df-convert {\n",
       "      background-color: #E8F0FE;\n",
       "      border: none;\n",
       "      border-radius: 50%;\n",
       "      cursor: pointer;\n",
       "      display: none;\n",
       "      fill: #1967D2;\n",
       "      height: 32px;\n",
       "      padding: 0 0 0 0;\n",
       "      width: 32px;\n",
       "    }\n",
       "\n",
       "    .colab-df-convert:hover {\n",
       "      background-color: #E2EBFA;\n",
       "      box-shadow: 0px 1px 2px rgba(60, 64, 67, 0.3), 0px 1px 3px 1px rgba(60, 64, 67, 0.15);\n",
       "      fill: #174EA6;\n",
       "    }\n",
       "\n",
       "    [theme=dark] .colab-df-convert {\n",
       "      background-color: #3B4455;\n",
       "      fill: #D2E3FC;\n",
       "    }\n",
       "\n",
       "    [theme=dark] .colab-df-convert:hover {\n",
       "      background-color: #434B5C;\n",
       "      box-shadow: 0px 1px 3px 1px rgba(0, 0, 0, 0.15);\n",
       "      filter: drop-shadow(0px 1px 2px rgba(0, 0, 0, 0.3));\n",
       "      fill: #FFFFFF;\n",
       "    }\n",
       "  </style>\n",
       "\n",
       "      <script>\n",
       "        const buttonEl =\n",
       "          document.querySelector('#df-faecd1ad-db8a-4621-92f3-ed877b87c15c button.colab-df-convert');\n",
       "        buttonEl.style.display =\n",
       "          google.colab.kernel.accessAllowed ? 'block' : 'none';\n",
       "\n",
       "        async function convertToInteractive(key) {\n",
       "          const element = document.querySelector('#df-faecd1ad-db8a-4621-92f3-ed877b87c15c');\n",
       "          const dataTable =\n",
       "            await google.colab.kernel.invokeFunction('convertToInteractive',\n",
       "                                                     [key], {});\n",
       "          if (!dataTable) return;\n",
       "\n",
       "          const docLinkHtml = 'Like what you see? Visit the ' +\n",
       "            '<a target=\"_blank\" href=https://colab.research.google.com/notebooks/data_table.ipynb>data table notebook</a>'\n",
       "            + ' to learn more about interactive tables.';\n",
       "          element.innerHTML = '';\n",
       "          dataTable['output_type'] = 'display_data';\n",
       "          await google.colab.output.renderOutput(dataTable, element);\n",
       "          const docLink = document.createElement('div');\n",
       "          docLink.innerHTML = docLinkHtml;\n",
       "          element.appendChild(docLink);\n",
       "        }\n",
       "      </script>\n",
       "    </div>\n",
       "  </div>\n",
       "  "
      ],
      "text/plain": [
       "   Unnamed: 0  abd_tend_score  PR_score  age_group  Case_Control  \\\n",
       "0           0             0.0       0.0        1.0             0   \n",
       "1           1             0.0       0.0        1.0             0   \n",
       "2           2             0.0       0.0        2.0             0   \n",
       "3           3             0.0       0.0        1.0             0   \n",
       "4           4             0.0       0.0        2.0             0   \n",
       "\n",
       "   code_D11_1st  code_D11_2nd  code_D12_1st  code_D12_2nd  code_T03_1st  ...  \\\n",
       "0           1.0           1.0           0.0           0.0           0.0  ...   \n",
       "1           0.0           0.0           0.0           0.0           0.0  ...   \n",
       "2           0.0           0.0           0.0           0.0           0.0  ...   \n",
       "3           0.0           0.0           0.0           0.0           0.0  ...   \n",
       "4           0.0           0.0           0.0           0.0           0.0  ...   \n",
       "\n",
       "   diarrhoea_last_year  earliest_rectal_bleeding  rectal_bleeding_last_year  \\\n",
       "0                  0.0                       0.0                        0.0   \n",
       "1                  0.0                       0.0                        0.0   \n",
       "2                  0.0                       0.0                        0.0   \n",
       "3                  0.0                       0.0                        0.0   \n",
       "4                  0.0                       0.0                        0.0   \n",
       "\n",
       "   earliest_mild_anaemia  mild_anaemia_last_year  earliest_severe_anaemia  \\\n",
       "0                    NaN                     0.0                      NaN   \n",
       "1                    NaN                     0.0                      NaN   \n",
       "2                    NaN                     0.0                      NaN   \n",
       "3                    NaN                     0.0                      NaN   \n",
       "4                    NaN                     0.0                      NaN   \n",
       "\n",
       "   severe_anaemia_last_year  earliest_FOB  FOB_last_year  diarrhoea_duration  \n",
       "0                       0.0           NaN            0.0                22.0  \n",
       "1                       0.0           NaN            0.0                 NaN  \n",
       "2                       0.0           NaN            0.0                 NaN  \n",
       "3                       0.0           NaN            0.0                 NaN  \n",
       "4                       0.0           NaN            0.0                 NaN  \n",
       "\n",
       "[5 rows x 1259 columns]"
      ]
     },
     "execution_count": 17,
     "metadata": {},
     "output_type": "execute_result"
    }
   ],
   "source": [
    "df.head()"
   ]
  },
  {
   "cell_type": "markdown",
   "metadata": {
    "id": "j-y8ee39DE6J"
   },
   "source": [
    "## Data pre-processing\n",
    "\n",
    "\n",
    "*   Fill Nan with -1\n",
    "*   label encoder for string columns\n",
    "*   Drop unnamed column\n",
    "\n",
    "\n"
   ]
  },
  {
   "cell_type": "code",
   "execution_count": null,
   "metadata": {
    "id": "gezwqZK_CQRm"
   },
   "outputs": [],
   "source": [
    "# replace missing values with -1\n",
    "df_filled=df.fillna(-1)\n"
   ]
  },
  {
   "cell_type": "code",
   "execution_count": null,
   "metadata": {
    "id": "Vtx6dQOfCR-1"
   },
   "outputs": [],
   "source": [
    "# check for columns other than numeric columns\n",
    "column_names_string= df_filled.select_dtypes(exclude=[np.number]).columns"
   ]
  },
  {
   "cell_type": "code",
   "execution_count": null,
   "metadata": {
    "colab": {
     "base_uri": "https://localhost:8080/"
    },
    "executionInfo": {
     "elapsed": 148,
     "status": "ok",
     "timestamp": 1654372429890,
     "user": {
      "displayName": "Shweta Chandole",
      "userId": "17582944756805634685"
     },
     "user_tz": 240
    },
    "id": "-s6D28-1C2KR",
    "outputId": "3682ec68-a5c3-4819-f85c-844e31971122"
   },
   "outputs": [
    {
     "data": {
      "text/plain": [
       "Index(['definite_check_exclude', 'cancer_staging'], dtype='object')"
      ]
     },
     "execution_count": 20,
     "metadata": {},
     "output_type": "execute_result"
    }
   ],
   "source": [
    "column_names_string"
   ]
  },
  {
   "cell_type": "code",
   "execution_count": null,
   "metadata": {
    "id": "G0ZD1o3vC7QQ"
   },
   "outputs": [],
   "source": [
    "# encode the object columns\n",
    "for col in column_names_string:\n",
    "  le = preprocessing.LabelEncoder()\n",
    "  df_filled[col] = le.fit_transform(df[col].astype(str).values)"
   ]
  },
  {
   "cell_type": "code",
   "execution_count": null,
   "metadata": {
    "id": "Y2b7fcFIDQqc"
   },
   "outputs": [],
   "source": [
    "# drop primary keys column\n",
    "df_filled.drop(\"Unnamed: 0\", axis=1, inplace=True)"
   ]
  },
  {
   "cell_type": "code",
   "execution_count": null,
   "metadata": {
    "colab": {
     "base_uri": "https://localhost:8080/"
    },
    "executionInfo": {
     "elapsed": 156,
     "status": "ok",
     "timestamp": 1654372481015,
     "user": {
      "displayName": "Shweta Chandole",
      "userId": "17582944756805634685"
     },
     "user_tz": 240
    },
    "id": "yWtkCZ7nESXK",
    "outputId": "d4730a50-f7f7-46e1-f5f1-3c6de1f19f7b"
   },
   "outputs": [
    {
     "data": {
      "text/plain": [
       "2093"
      ]
     },
     "execution_count": 23,
     "metadata": {},
     "output_type": "execute_result"
    }
   ],
   "source": [
    "len(df_filled)"
   ]
  },
  {
   "cell_type": "code",
   "execution_count": null,
   "metadata": {
    "colab": {
     "base_uri": "https://localhost:8080/"
    },
    "executionInfo": {
     "elapsed": 159,
     "status": "ok",
     "timestamp": 1654372501727,
     "user": {
      "displayName": "Shweta Chandole",
      "userId": "17582944756805634685"
     },
     "user_tz": 240
    },
    "id": "Viydh4VLSNQN",
    "outputId": "16b34d49-6469-4bc4-cfb5-ed3c7602545e"
   },
   "outputs": [
    {
     "data": {
      "text/plain": [
       "(2093, 1258)"
      ]
     },
     "execution_count": 25,
     "metadata": {},
     "output_type": "execute_result"
    }
   ],
   "source": [
    "# check dataset shape \n",
    "df_filled.shape"
   ]
  },
  {
   "cell_type": "markdown",
   "metadata": {
    "id": "yLU6o8RxFWhY"
   },
   "source": [
    "### Train-Test-Split"
   ]
  },
  {
   "cell_type": "code",
   "execution_count": null,
   "metadata": {
    "id": "-5kitIY4FcGz"
   },
   "outputs": [],
   "source": [
    "column_df=list(df_filled.columns)"
   ]
  },
  {
   "cell_type": "code",
   "execution_count": null,
   "metadata": {
    "id": "zYjDUdPVFgTt"
   },
   "outputs": [],
   "source": [
    "column_df.remove('Case_Control')\n",
    "column_df.remove('Control_Case')"
   ]
  },
  {
   "cell_type": "code",
   "execution_count": null,
   "metadata": {
    "colab": {
     "base_uri": "https://localhost:8080/"
    },
    "executionInfo": {
     "elapsed": 152,
     "status": "ok",
     "timestamp": 1654372834557,
     "user": {
      "displayName": "Shweta Chandole",
      "userId": "17582944756805634685"
     },
     "user_tz": 240
    },
    "id": "nHe9Efy9wMfZ",
    "outputId": "207bd922-7f1a-4f28-d67c-d83f18b1deef"
   },
   "outputs": [
    {
     "data": {
      "text/plain": [
       "False"
      ]
     },
     "execution_count": 29,
     "metadata": {},
     "output_type": "execute_result"
    }
   ],
   "source": [
    "'Case_Control'  in column_df"
   ]
  },
  {
   "cell_type": "code",
   "execution_count": null,
   "metadata": {
    "colab": {
     "base_uri": "https://localhost:8080/"
    },
    "executionInfo": {
     "elapsed": 166,
     "status": "ok",
     "timestamp": 1654372836835,
     "user": {
      "displayName": "Shweta Chandole",
      "userId": "17582944756805634685"
     },
     "user_tz": 240
    },
    "id": "Zt0Ik-sQwP8B",
    "outputId": "9425bb7f-d3fd-485d-b8e4-5a6dc170889b"
   },
   "outputs": [
    {
     "data": {
      "text/plain": [
       "False"
      ]
     },
     "execution_count": 30,
     "metadata": {},
     "output_type": "execute_result"
    }
   ],
   "source": [
    "'Control_Case'  in column_df"
   ]
  },
  {
   "cell_type": "code",
   "execution_count": null,
   "metadata": {
    "id": "4nT5LU9dFlp9"
   },
   "outputs": [],
   "source": [
    "X=df_filled[column_df]\n",
    "y=df_filled['Case_Control']"
   ]
  },
  {
   "cell_type": "code",
   "execution_count": null,
   "metadata": {
    "id": "7TSI6fkOFYx3"
   },
   "outputs": [],
   "source": [
    "# using stratification on target variable y to balance the train-test split - Shweta C.\n",
    "X_train, X_test, y_train, y_test = train_test_split(X, y, test_size=0.20,random_state=20,stratify=y)\n"
   ]
  },
  {
   "cell_type": "code",
   "execution_count": null,
   "metadata": {
    "id": "S-uiUzC_br_P"
   },
   "outputs": [],
   "source": [
    "df_test=X_test.copy()\n",
    "df_test['target']=y_test\n",
    "#df_test.to_csv('/content/drive/MyDrive/Omdena_ RadmolAI/Sampled_datasets/test.csv')"
   ]
  },
  {
   "cell_type": "code",
   "execution_count": null,
   "metadata": {
    "id": "fvmiyXgfb2Sg"
   },
   "outputs": [],
   "source": [
    "df_train=X_train.copy()\n",
    "df_train['target']=y_train\n",
    "#df_train.to_csv('/content/drive/MyDrive/Omdena_ RadmolAI/Sampled_datasets/train_unbalanced.csv')"
   ]
  },
  {
   "cell_type": "code",
   "execution_count": null,
   "metadata": {
    "colab": {
     "base_uri": "https://localhost:8080/"
    },
    "executionInfo": {
     "elapsed": 169,
     "status": "ok",
     "timestamp": 1654372903492,
     "user": {
      "displayName": "Shweta Chandole",
      "userId": "17582944756805634685"
     },
     "user_tz": 240
    },
    "id": "X50WitgTfUMw",
    "outputId": "4ce63de5-b45e-4468-a423-fc910fa6f564"
   },
   "outputs": [
    {
     "data": {
      "text/plain": [
       "419"
      ]
     },
     "execution_count": 35,
     "metadata": {},
     "output_type": "execute_result"
    }
   ],
   "source": [
    "len(y_test)"
   ]
  },
  {
   "cell_type": "code",
   "execution_count": null,
   "metadata": {
    "colab": {
     "base_uri": "https://localhost:8080/"
    },
    "executionInfo": {
     "elapsed": 155,
     "status": "ok",
     "timestamp": 1654372908402,
     "user": {
      "displayName": "Shweta Chandole",
      "userId": "17582944756805634685"
     },
     "user_tz": 240
    },
    "id": "DteLyMBogDog",
    "outputId": "5f4173a9-02a2-446b-ce80-a592e1b626b0"
   },
   "outputs": [
    {
     "name": "stdout",
     "output_type": "stream",
     "text": [
      "0.8329355608591885\n",
      "0.16706443914081145\n"
     ]
    }
   ],
   "source": [
    "count_class_0, count_class_1 = y_test.value_counts(normalize=True)\n",
    "print(count_class_0)\n",
    "print(count_class_1)"
   ]
  },
  {
   "cell_type": "code",
   "execution_count": null,
   "metadata": {
    "id": "x8AaW32yHt8a"
   },
   "outputs": [],
   "source": [
    "import warnings\n",
    "warnings.filterwarnings('ignore')"
   ]
  },
  {
   "cell_type": "markdown",
   "metadata": {
    "id": "Ry2RfnfBWIqV"
   },
   "source": [
    "## Baseline Models\n",
    "\n",
    "Models based on balanced class_weights for original data, after applying stratification on y variable"
   ]
  },
  {
   "cell_type": "code",
   "execution_count": null,
   "metadata": {
    "colab": {
     "base_uri": "https://localhost:8080/"
    },
    "executionInfo": {
     "elapsed": 47744,
     "status": "ok",
     "timestamp": 1654373813986,
     "user": {
      "displayName": "Shweta Chandole",
      "userId": "17582944756805634685"
     },
     "user_tz": 240
    },
    "id": "9oelHgg6c-4O",
    "outputId": "f56d369c-ee29-4e35-c908-d90439901ff6"
   },
   "outputs": [
    {
     "name": "stdout",
     "output_type": "stream",
     "text": [
      "\n",
      "==================================================================\n",
      "          Linear SVM\n",
      "==================================================================\n",
      "\n",
      "Accuracy: 0.878\n",
      "Weighted_Precision: 0.867\n",
      "Weighted_Recall: 0.878\n",
      "Weighted_F1_score: 0.866\n",
      "\n",
      "Balanced Accuracy:  0.7042365943512074\n",
      "              precision    recall  f1-score   support\n",
      "\n",
      "           0       0.90      0.97      0.93       349\n",
      "           1       0.72      0.44      0.55        70\n",
      "\n",
      "    accuracy                           0.88       419\n",
      "   macro avg       0.81      0.70      0.74       419\n",
      "weighted avg       0.87      0.88      0.87       419\n",
      "\n"
     ]
    }
   ],
   "source": [
    "linear_svm_grid(X_train,y_train,X_test,y_test,class_ratio=None)\n"
   ]
  },
  {
   "cell_type": "code",
   "execution_count": null,
   "metadata": {
    "colab": {
     "base_uri": "https://localhost:8080/"
    },
    "executionInfo": {
     "elapsed": 48635,
     "status": "ok",
     "timestamp": 1654373862618,
     "user": {
      "displayName": "Shweta Chandole",
      "userId": "17582944756805634685"
     },
     "user_tz": 240
    },
    "id": "tjY86jgsGydX",
    "outputId": "66a192b5-3ea8-4925-f7d3-fbc8f4792c41"
   },
   "outputs": [
    {
     "name": "stdout",
     "output_type": "stream",
     "text": [
      "\n",
      "==================================================================\n",
      "          Linear SVM\n",
      "==================================================================\n",
      "\n",
      "Accuracy: 0.888\n",
      "Weighted_Precision: 0.884\n",
      "Weighted_Recall: 0.888\n",
      "Weighted_F1_score: 0.885\n",
      "\n",
      "Balanced Accuracy:  0.7784895620139174\n",
      "              precision    recall  f1-score   support\n",
      "\n",
      "           0       0.92      0.94      0.93       349\n",
      "           1       0.68      0.61      0.65        70\n",
      "\n",
      "    accuracy                           0.89       419\n",
      "   macro avg       0.80      0.78      0.79       419\n",
      "weighted avg       0.88      0.89      0.89       419\n",
      "\n"
     ]
    }
   ],
   "source": [
    "linear_svm_grid(X_train,y_train,X_test,y_test,class_ratio='balanced')\n"
   ]
  },
  {
   "cell_type": "code",
   "execution_count": null,
   "metadata": {
    "colab": {
     "base_uri": "https://localhost:8080/"
    },
    "executionInfo": {
     "elapsed": 100119,
     "status": "ok",
     "timestamp": 1654373962716,
     "user": {
      "displayName": "Shweta Chandole",
      "userId": "17582944756805634685"
     },
     "user_tz": 240
    },
    "id": "XcdmTcH9G0-C",
    "outputId": "313c6c0a-21ba-4676-d756-18bd03035c25"
   },
   "outputs": [
    {
     "name": "stdout",
     "output_type": "stream",
     "text": [
      "\n",
      "==================================================================\n",
      "       Nonlinear SVM\n",
      "==================================================================\n",
      "\n",
      "Accuracy: 0.833\n",
      "Weighted_Precision: 0.694\n",
      "Weighted_Recall: 0.833\n",
      "Weighted_F1_score: 0.757\n",
      "\n",
      "Balanced Accuracy:  0.5\n",
      "              precision    recall  f1-score   support\n",
      "\n",
      "           0       0.83      1.00      0.91       349\n",
      "           1       0.00      0.00      0.00        70\n",
      "\n",
      "    accuracy                           0.83       419\n",
      "   macro avg       0.42      0.50      0.45       419\n",
      "weighted avg       0.69      0.83      0.76       419\n",
      "\n"
     ]
    }
   ],
   "source": [
    "nonlinear_svm_grid(X_train,y_train,X_test,y_test,class_ratio='balanced')\n"
   ]
  },
  {
   "cell_type": "code",
   "execution_count": null,
   "metadata": {
    "colab": {
     "base_uri": "https://localhost:8080/"
    },
    "executionInfo": {
     "elapsed": 8433,
     "status": "ok",
     "timestamp": 1654373971130,
     "user": {
      "displayName": "Shweta Chandole",
      "userId": "17582944756805634685"
     },
     "user_tz": 240
    },
    "id": "R0FHkCx7G6ZV",
    "outputId": "051201da-d1af-4053-878e-f0f87d6743ad"
   },
   "outputs": [
    {
     "name": "stdout",
     "output_type": "stream",
     "text": [
      "\n",
      "==================================================================\n",
      " Logistic Regression\n",
      "==================================================================\n",
      "\n",
      "Accuracy: 0.833\n",
      "Weighted_Precision: 0.849\n",
      "Weighted_Recall: 0.833\n",
      "Weighted_F1_score: 0.840\n",
      "\n",
      "Balanced Accuracy:  0.7455382726156365\n",
      "              precision    recall  f1-score   support\n",
      "\n",
      "           0       0.92      0.88      0.90       349\n",
      "           1       0.50      0.61      0.55        70\n",
      "\n",
      "    accuracy                           0.83       419\n",
      "   macro avg       0.71      0.75      0.72       419\n",
      "weighted avg       0.85      0.83      0.84       419\n",
      "\n"
     ]
    }
   ],
   "source": [
    "logistic_regression_grid(X_train,y_train,X_test,y_test,class_ratio='balanced')\n"
   ]
  },
  {
   "cell_type": "code",
   "execution_count": null,
   "metadata": {
    "colab": {
     "base_uri": "https://localhost:8080/"
    },
    "executionInfo": {
     "elapsed": 2014,
     "status": "ok",
     "timestamp": 1654373973133,
     "user": {
      "displayName": "Shweta Chandole",
      "userId": "17582944756805634685"
     },
     "user_tz": 240
    },
    "id": "VDG1Y9q_HDwi",
    "outputId": "c240550f-5d03-45b0-d443-acc520656695"
   },
   "outputs": [
    {
     "name": "stdout",
     "output_type": "stream",
     "text": [
      "\n",
      "==================================================================\n",
      "          Linear SVM\n",
      "==================================================================\n",
      "\n",
      "Accuracy: 0.881\n",
      "Weighted_Precision: 0.870\n",
      "Weighted_Recall: 0.881\n",
      "Weighted_F1_score: 0.869\n",
      "\n",
      "Balanced Accuracy:  0.7113794514940647\n",
      "              precision    recall  f1-score   support\n",
      "\n",
      "           0       0.90      0.97      0.93       349\n",
      "           1       0.73      0.46      0.56        70\n",
      "\n",
      "    accuracy                           0.88       419\n",
      "   macro avg       0.81      0.71      0.75       419\n",
      "weighted avg       0.87      0.88      0.87       419\n",
      "\n"
     ]
    }
   ],
   "source": [
    "linear_svm(X_train,y_train,X_test,y_test,class_ratio='balanced')\n"
   ]
  },
  {
   "cell_type": "code",
   "execution_count": null,
   "metadata": {
    "colab": {
     "base_uri": "https://localhost:8080/"
    },
    "executionInfo": {
     "elapsed": 395,
     "status": "ok",
     "timestamp": 1654373973522,
     "user": {
      "displayName": "Shweta Chandole",
      "userId": "17582944756805634685"
     },
     "user_tz": 240
    },
    "id": "faPtARySHGDb",
    "outputId": "e372a0c4-0c75-4b4a-d41f-f9ff57deadbf"
   },
   "outputs": [
    {
     "name": "stdout",
     "output_type": "stream",
     "text": [
      "\n",
      "==================================================================\n",
      " Logistic Regression\n",
      "==================================================================\n",
      "\n",
      "Accuracy: 0.842\n",
      "Weighted_Precision: 0.854\n",
      "Weighted_Recall: 0.842\n",
      "Weighted_F1_score: 0.847\n",
      "\n",
      "Balanced Accuracy:  0.7512689316414245\n",
      "              precision    recall  f1-score   support\n",
      "\n",
      "           0       0.92      0.89      0.90       349\n",
      "           1       0.52      0.61      0.57        70\n",
      "\n",
      "    accuracy                           0.84       419\n",
      "   macro avg       0.72      0.75      0.73       419\n",
      "weighted avg       0.85      0.84      0.85       419\n",
      "\n"
     ]
    }
   ],
   "source": [
    "logistic_regression(X_train,y_train,X_test,y_test,class_ratio='balanced')\n"
   ]
  },
  {
   "cell_type": "code",
   "execution_count": null,
   "metadata": {
    "colab": {
     "base_uri": "https://localhost:8080/"
    },
    "executionInfo": {
     "elapsed": 101776,
     "status": "ok",
     "timestamp": 1654374075296,
     "user": {
      "displayName": "Shweta Chandole",
      "userId": "17582944756805634685"
     },
     "user_tz": 240
    },
    "id": "Mnelj-6_e8YQ",
    "outputId": "a827b340-8fc7-4b79-901d-f2aec66e7444"
   },
   "outputs": [
    {
     "name": "stdout",
     "output_type": "stream",
     "text": [
      "\n",
      "==================================================================\n",
      "Random Forest Grid search\n",
      "==================================================================\n",
      "\n",
      "Accuracy: 1.000\n",
      "Weighted_Precision: 1.000\n",
      "Weighted_Recall: 1.000\n",
      "Weighted_F1_score: 1.000\n",
      "\n",
      "Balanced Accuracy:  1.0\n",
      "              precision    recall  f1-score   support\n",
      "\n",
      "           0       1.00      1.00      1.00       349\n",
      "           1       1.00      1.00      1.00        70\n",
      "\n",
      "    accuracy                           1.00       419\n",
      "   macro avg       1.00      1.00      1.00       419\n",
      "weighted avg       1.00      1.00      1.00       419\n",
      "\n"
     ]
    }
   ],
   "source": [
    "random_forest_grid_search(X_train,y_train,X_test,y_test,class_ratio='balanced')\n"
   ]
  },
  {
   "cell_type": "code",
   "execution_count": null,
   "metadata": {
    "colab": {
     "base_uri": "https://localhost:8080/"
    },
    "executionInfo": {
     "elapsed": 1628,
     "status": "ok",
     "timestamp": 1654374076902,
     "user": {
      "displayName": "Shweta Chandole",
      "userId": "17582944756805634685"
     },
     "user_tz": 240
    },
    "id": "nBREznQyHIQx",
    "outputId": "39ff2eb0-96dc-4a5b-b537-aa6e7777f9ac"
   },
   "outputs": [
    {
     "name": "stdout",
     "output_type": "stream",
     "text": [
      "\n",
      "==================================================================\n",
      "       Random Forest\n",
      "==================================================================\n",
      "\n",
      "Accuracy: 1.000\n",
      "Weighted_Precision: 1.000\n",
      "Weighted_Recall: 1.000\n",
      "Weighted_F1_score: 1.000\n",
      "\n",
      "Balanced Accuracy:  1.0\n",
      "              precision    recall  f1-score   support\n",
      "\n",
      "           0       1.00      1.00      1.00       349\n",
      "           1       1.00      1.00      1.00        70\n",
      "\n",
      "    accuracy                           1.00       419\n",
      "   macro avg       1.00      1.00      1.00       419\n",
      "weighted avg       1.00      1.00      1.00       419\n",
      "\n"
     ]
    }
   ],
   "source": [
    "random_forest(X_train,y_train,X_test,y_test,class_ratio='balanced')\n"
   ]
  },
  {
   "cell_type": "code",
   "execution_count": null,
   "metadata": {
    "colab": {
     "base_uri": "https://localhost:8080/"
    },
    "executionInfo": {
     "elapsed": 19448,
     "status": "ok",
     "timestamp": 1654374096347,
     "user": {
      "displayName": "Shweta Chandole",
      "userId": "17582944756805634685"
     },
     "user_tz": 240
    },
    "id": "LNbdRV97hF5t",
    "outputId": "0830d112-2876-4c6b-b833-8d39137e8a5c"
   },
   "outputs": [
    {
     "name": "stdout",
     "output_type": "stream",
     "text": [
      "\n",
      "==================================================================\n",
      "             XGBoost\n",
      "==================================================================\n",
      "\n",
      "Accuracy: 1.000\n",
      "Weighted_Precision: 1.000\n",
      "Weighted_Recall: 1.000\n",
      "Weighted_F1_score: 1.000\n",
      "\n",
      "Balanced Accuracy:  1.0\n",
      "              precision    recall  f1-score   support\n",
      "\n",
      "           0       1.00      1.00      1.00      1395\n",
      "           1       1.00      1.00      1.00       279\n",
      "\n",
      "    accuracy                           1.00      1674\n",
      "   macro avg       1.00      1.00      1.00      1674\n",
      "weighted avg       1.00      1.00      1.00      1674\n",
      "\n"
     ]
    }
   ],
   "source": [
    "xg_boost(X_train,y_train,X_train,y_train)\n"
   ]
  },
  {
   "cell_type": "code",
   "execution_count": null,
   "metadata": {
    "colab": {
     "base_uri": "https://localhost:8080/"
    },
    "executionInfo": {
     "elapsed": 17856,
     "status": "ok",
     "timestamp": 1654374114192,
     "user": {
      "displayName": "Shweta Chandole",
      "userId": "17582944756805634685"
     },
     "user_tz": 240
    },
    "id": "1r3XVib7HKNV",
    "outputId": "dfa51800-1306-47a6-b655-2f4ddc29da18"
   },
   "outputs": [
    {
     "name": "stdout",
     "output_type": "stream",
     "text": [
      "\n",
      "==================================================================\n",
      "             XGBoost\n",
      "==================================================================\n",
      "\n",
      "Accuracy: 1.000\n",
      "Weighted_Precision: 1.000\n",
      "Weighted_Recall: 1.000\n",
      "Weighted_F1_score: 1.000\n",
      "\n",
      "Balanced Accuracy:  1.0\n",
      "              precision    recall  f1-score   support\n",
      "\n",
      "           0       1.00      1.00      1.00       349\n",
      "           1       1.00      1.00      1.00        70\n",
      "\n",
      "    accuracy                           1.00       419\n",
      "   macro avg       1.00      1.00      1.00       419\n",
      "weighted avg       1.00      1.00      1.00       419\n",
      "\n"
     ]
    }
   ],
   "source": [
    "xg_boost(X_train,y_train,X_test,y_test)\n"
   ]
  },
  {
   "cell_type": "code",
   "execution_count": null,
   "metadata": {
    "colab": {
     "base_uri": "https://localhost:8080/"
    },
    "executionInfo": {
     "elapsed": 107404,
     "status": "ok",
     "timestamp": 1654374221578,
     "user": {
      "displayName": "Shweta Chandole",
      "userId": "17582944756805634685"
     },
     "user_tz": 240
    },
    "id": "QWp3o1gvHMz5",
    "outputId": "e28a4128-d1dc-4b96-a466-178300aa983c"
   },
   "outputs": [
    {
     "name": "stdout",
     "output_type": "stream",
     "text": [
      "\n",
      "==================================================================\n",
      "Ensemble Stacked Classifiers\n",
      "==================================================================\n",
      "\n",
      "Accuracy: 1.000\n",
      "Weighted_Precision: 1.000\n",
      "Weighted_Recall: 1.000\n",
      "Weighted_F1_score: 1.000\n",
      "\n",
      "Balanced Accuracy:  1.0\n",
      "              precision    recall  f1-score   support\n",
      "\n",
      "           0       1.00      1.00      1.00       349\n",
      "           1       1.00      1.00      1.00        70\n",
      "\n",
      "    accuracy                           1.00       419\n",
      "   macro avg       1.00      1.00      1.00       419\n",
      "weighted avg       1.00      1.00      1.00       419\n",
      "\n"
     ]
    }
   ],
   "source": [
    "ensemble_stacked(X_train,y_train,X_test,y_test)\n"
   ]
  },
  {
   "cell_type": "code",
   "execution_count": null,
   "metadata": {
    "colab": {
     "base_uri": "https://localhost:8080/"
    },
    "executionInfo": {
     "elapsed": 21084,
     "status": "ok",
     "timestamp": 1654374242638,
     "user": {
      "displayName": "Shweta Chandole",
      "userId": "17582944756805634685"
     },
     "user_tz": 240
    },
    "id": "da3yfAZ3HPLx",
    "outputId": "0cabbd68-8c05-4489-a1a5-c3d7debf1489"
   },
   "outputs": [
    {
     "name": "stdout",
     "output_type": "stream",
     "text": [
      "\n",
      "==================================================================\n",
      "   Voting Classifier\n",
      "==================================================================\n",
      "\n",
      "Accuracy: 0.943\n",
      "Weighted_Precision: 0.946\n",
      "Weighted_Recall: 0.943\n",
      "Weighted_F1_score: 0.938\n",
      "\n",
      "Balanced Accuracy:  0.8285714285714285\n",
      "              precision    recall  f1-score   support\n",
      "\n",
      "           0       0.94      1.00      0.97       349\n",
      "           1       1.00      0.66      0.79        70\n",
      "\n",
      "    accuracy                           0.94       419\n",
      "   macro avg       0.97      0.83      0.88       419\n",
      "weighted avg       0.95      0.94      0.94       419\n",
      "\n"
     ]
    }
   ],
   "source": [
    "voting_classifiers(X_train,y_train,X_test,y_test)\n"
   ]
  },
  {
   "cell_type": "code",
   "execution_count": null,
   "metadata": {
    "colab": {
     "base_uri": "https://localhost:8080/"
    },
    "executionInfo": {
     "elapsed": 3351,
     "status": "ok",
     "timestamp": 1654374245980,
     "user": {
      "displayName": "Shweta Chandole",
      "userId": "17582944756805634685"
     },
     "user_tz": 240
    },
    "id": "G5D909dkHRof",
    "outputId": "adc9f3c7-289e-47da-dc2a-c878ca9873d3"
   },
   "outputs": [
    {
     "name": "stdout",
     "output_type": "stream",
     "text": [
      "\n",
      "==================================================================\n",
      "Bagging Calssifier LR\n",
      "==================================================================\n",
      "\n",
      "Accuracy: 0.852\n",
      "Weighted_Precision: 0.849\n",
      "Weighted_Recall: 0.852\n",
      "Weighted_F1_score: 0.850\n",
      "\n",
      "Balanced Accuracy:  0.7227384363487516\n",
      "              precision    recall  f1-score   support\n",
      "\n",
      "           0       0.91      0.92      0.91       349\n",
      "           1       0.56      0.53      0.54        70\n",
      "\n",
      "    accuracy                           0.85       419\n",
      "   macro avg       0.73      0.72      0.73       419\n",
      "weighted avg       0.85      0.85      0.85       419\n",
      "\n"
     ]
    }
   ],
   "source": [
    "Bagging_Classifier_LR(X_train,y_train,X_test,y_test)\n"
   ]
  },
  {
   "cell_type": "code",
   "execution_count": null,
   "metadata": {
    "colab": {
     "base_uri": "https://localhost:8080/"
    },
    "executionInfo": {
     "elapsed": 12273,
     "status": "ok",
     "timestamp": 1654374258251,
     "user": {
      "displayName": "Shweta Chandole",
      "userId": "17582944756805634685"
     },
     "user_tz": 240
    },
    "id": "9tezrUlSHUD-",
    "outputId": "d001047a-d314-4116-a668-7f612994a9c6"
   },
   "outputs": [
    {
     "name": "stdout",
     "output_type": "stream",
     "text": [
      "\n",
      "==================================================================\n",
      "Bagging Calssifier SVM\n",
      "==================================================================\n",
      "\n",
      "Accuracy: 0.883\n",
      "Weighted_Precision: 0.873\n",
      "Weighted_Recall: 0.883\n",
      "Weighted_F1_score: 0.872\n",
      "\n",
      "Balanced Accuracy:  0.7185223086369218\n",
      "              precision    recall  f1-score   support\n",
      "\n",
      "           0       0.90      0.97      0.93       349\n",
      "           1       0.73      0.47      0.57        70\n",
      "\n",
      "    accuracy                           0.88       419\n",
      "   macro avg       0.82      0.72      0.75       419\n",
      "weighted avg       0.87      0.88      0.87       419\n",
      "\n"
     ]
    }
   ],
   "source": [
    "Bagging_Classifier_SVM(X_train,y_train,X_test,y_test)\n"
   ]
  },
  {
   "cell_type": "code",
   "execution_count": null,
   "metadata": {
    "colab": {
     "base_uri": "https://localhost:8080/"
    },
    "executionInfo": {
     "elapsed": 2901,
     "status": "ok",
     "timestamp": 1654374261137,
     "user": {
      "displayName": "Shweta Chandole",
      "userId": "17582944756805634685"
     },
     "user_tz": 240
    },
    "id": "wlVY7gBmHV1-",
    "outputId": "ddb04702-0aca-4fe5-ce9a-c9ff12f091aa"
   },
   "outputs": [
    {
     "name": "stdout",
     "output_type": "stream",
     "text": [
      "\n",
      "==================================================================\n",
      "   Gradient Boosting\n",
      "==================================================================\n",
      "\n",
      "Accuracy: 1.000\n",
      "Weighted_Precision: 1.000\n",
      "Weighted_Recall: 1.000\n",
      "Weighted_F1_score: 1.000\n",
      "\n",
      "Balanced Accuracy:  1.0\n",
      "              precision    recall  f1-score   support\n",
      "\n",
      "           0       1.00      1.00      1.00       349\n",
      "           1       1.00      1.00      1.00        70\n",
      "\n",
      "    accuracy                           1.00       419\n",
      "   macro avg       1.00      1.00      1.00       419\n",
      "weighted avg       1.00      1.00      1.00       419\n",
      "\n"
     ]
    }
   ],
   "source": [
    "gradient_boosting(X_train,y_train,X_test,y_test)\n"
   ]
  },
  {
   "cell_type": "code",
   "execution_count": null,
   "metadata": {
    "colab": {
     "base_uri": "https://localhost:8080/"
    },
    "executionInfo": {
     "elapsed": 2777,
     "status": "ok",
     "timestamp": 1654374263895,
     "user": {
      "displayName": "Shweta Chandole",
      "userId": "17582944756805634685"
     },
     "user_tz": 240
    },
    "id": "FKXW7QGrZPu5",
    "outputId": "40a66b0e-01b3-48cb-86de-7579aa2629be"
   },
   "outputs": [
    {
     "name": "stdout",
     "output_type": "stream",
     "text": [
      "\n",
      "==================================================================\n",
      "   Gradient Boosting\n",
      "==================================================================\n",
      "\n",
      "Accuracy: 1.000\n",
      "Weighted_Precision: 1.000\n",
      "Weighted_Recall: 1.000\n",
      "Weighted_F1_score: 1.000\n",
      "\n",
      "Balanced Accuracy:  1.0\n",
      "              precision    recall  f1-score   support\n",
      "\n",
      "           0       1.00      1.00      1.00      1395\n",
      "           1       1.00      1.00      1.00       279\n",
      "\n",
      "    accuracy                           1.00      1674\n",
      "   macro avg       1.00      1.00      1.00      1674\n",
      "weighted avg       1.00      1.00      1.00      1674\n",
      "\n"
     ]
    }
   ],
   "source": [
    "gradient_boosting(X_train,y_train,X_train,y_train)\n"
   ]
  },
  {
   "cell_type": "markdown",
   "metadata": {
    "id": "3eLZUWC1Vykx"
   },
   "source": [
    "## Sampling of dataset for balancing the classes"
   ]
  },
  {
   "cell_type": "markdown",
   "metadata": {
    "id": "EZWB-cH5WCwv"
   },
   "source": [
    "### Random UnderSampler"
   ]
  },
  {
   "cell_type": "code",
   "execution_count": null,
   "metadata": {
    "id": "7URU4PyxYKkk"
   },
   "outputs": [],
   "source": [
    "df_train=X_train.copy()\n",
    "df_train['target']=y_train"
   ]
  },
  {
   "cell_type": "code",
   "execution_count": null,
   "metadata": {
    "id": "O6oGwA4AV5C1"
   },
   "outputs": [],
   "source": [
    "# Class count\n",
    "count_class_0, count_class_1 = df_train.target.value_counts()\n",
    "\n",
    "# Divide by class\n",
    "df_class_0 = df_train[df_train['target'] == 0]\n",
    "df_class_1 = df_train[df_train['target'] == 1]"
   ]
  },
  {
   "cell_type": "code",
   "execution_count": null,
   "metadata": {
    "id": "KEihOnyqWTXU"
   },
   "outputs": [],
   "source": [
    "df_class_0_under = df_class_0.sample(count_class_1)\n",
    "df_test_under = pd.concat([df_class_0_under, df_class_1], axis=0)"
   ]
  },
  {
   "cell_type": "code",
   "execution_count": null,
   "metadata": {
    "id": "L_v5o7u_aEJ2"
   },
   "outputs": [],
   "source": [
    "#df_test_under.to_csv('/content/drive/MyDrive/Omdena_ RadmolAI/Sampled_datasets/Random_under_sampled_train.csv')\n"
   ]
  },
  {
   "cell_type": "code",
   "execution_count": null,
   "metadata": {
    "id": "Uena7P3Sybkh"
   },
   "outputs": [],
   "source": [
    "non_nan_cols=column_df"
   ]
  },
  {
   "cell_type": "code",
   "execution_count": null,
   "metadata": {
    "id": "4BGrDzoeWTzO"
   },
   "outputs": [],
   "source": [
    "X_train_new_under_sampled=df_test_under[non_nan_cols]\n",
    "y_train_new_under_sampler=df_test_under['target']"
   ]
  },
  {
   "cell_type": "code",
   "execution_count": null,
   "metadata": {
    "colab": {
     "base_uri": "https://localhost:8080/"
    },
    "executionInfo": {
     "elapsed": 19210,
     "status": "ok",
     "timestamp": 1654374491171,
     "user": {
      "displayName": "Shweta Chandole",
      "userId": "17582944756805634685"
     },
     "user_tz": 240
    },
    "id": "9SiN0_MtZRu9",
    "outputId": "ec3ed2ea-003f-4c06-f811-a7a514a0f5f7"
   },
   "outputs": [
    {
     "name": "stdout",
     "output_type": "stream",
     "text": [
      "\n",
      "==================================================================\n",
      "          Linear SVM\n",
      "==================================================================\n",
      "\n",
      "Accuracy: 0.718\n",
      "Weighted_Precision: 0.846\n",
      "Weighted_Recall: 0.718\n",
      "Weighted_F1_score: 0.753\n",
      "\n",
      "Balanced Accuracy:  0.7510028653295129\n",
      "              precision    recall  f1-score   support\n",
      "\n",
      "           0       0.95      0.70      0.81       349\n",
      "           1       0.35      0.80      0.49        70\n",
      "\n",
      "    accuracy                           0.72       419\n",
      "   macro avg       0.65      0.75      0.65       419\n",
      "weighted avg       0.85      0.72      0.75       419\n",
      "\n"
     ]
    }
   ],
   "source": [
    "linear_svm_grid(X_train_new_under_sampled,y_train_new_under_sampler,X_test,y_test,class_ratio='balanced')\n"
   ]
  },
  {
   "cell_type": "code",
   "execution_count": null,
   "metadata": {
    "colab": {
     "base_uri": "https://localhost:8080/"
    },
    "executionInfo": {
     "elapsed": 18209,
     "status": "ok",
     "timestamp": 1654374509374,
     "user": {
      "displayName": "Shweta Chandole",
      "userId": "17582944756805634685"
     },
     "user_tz": 240
    },
    "id": "QK-MT8nTZWxG",
    "outputId": "e2dc22b1-ba1c-456b-e11e-e01a87dd3123"
   },
   "outputs": [
    {
     "name": "stdout",
     "output_type": "stream",
     "text": [
      "\n",
      "==================================================================\n",
      "          Linear SVM\n",
      "==================================================================\n",
      "\n",
      "Accuracy: 0.547\n",
      "Weighted_Precision: 0.862\n",
      "Weighted_Recall: 0.547\n",
      "Weighted_F1_score: 0.594\n",
      "\n",
      "Balanced Accuracy:  0.7106631191158412\n",
      "              precision    recall  f1-score   support\n",
      "\n",
      "           0       0.98      0.46      0.63       349\n",
      "           1       0.26      0.96      0.41        70\n",
      "\n",
      "    accuracy                           0.55       419\n",
      "   macro avg       0.62      0.71      0.52       419\n",
      "weighted avg       0.86      0.55      0.59       419\n",
      "\n"
     ]
    }
   ],
   "source": [
    "linear_svm_grid(X_train_new_under_sampled,y_train_new_under_sampler,X_test,y_test,class_ratio=None)\n"
   ]
  },
  {
   "cell_type": "code",
   "execution_count": null,
   "metadata": {
    "colab": {
     "base_uri": "https://localhost:8080/"
    },
    "executionInfo": {
     "elapsed": 13088,
     "status": "ok",
     "timestamp": 1654374522448,
     "user": {
      "displayName": "Shweta Chandole",
      "userId": "17582944756805634685"
     },
     "user_tz": 240
    },
    "id": "TFq3vEsoZXAM",
    "outputId": "d8ce2b14-168a-4a52-98c9-313c82325c98"
   },
   "outputs": [
    {
     "name": "stdout",
     "output_type": "stream",
     "text": [
      "\n",
      "==================================================================\n",
      "       Nonlinear SVM\n",
      "==================================================================\n",
      "\n",
      "Accuracy: 0.167\n",
      "Weighted_Precision: 0.028\n",
      "Weighted_Recall: 0.167\n",
      "Weighted_F1_score: 0.048\n",
      "\n",
      "Balanced Accuracy:  0.5\n",
      "              precision    recall  f1-score   support\n",
      "\n",
      "           0       0.00      0.00      0.00       349\n",
      "           1       0.17      1.00      0.29        70\n",
      "\n",
      "    accuracy                           0.17       419\n",
      "   macro avg       0.08      0.50      0.14       419\n",
      "weighted avg       0.03      0.17      0.05       419\n",
      "\n"
     ]
    }
   ],
   "source": [
    "nonlinear_svm_grid(X_train_new_under_sampled,y_train_new_under_sampler,X_test,y_test,class_ratio='balanced')\n"
   ]
  },
  {
   "cell_type": "code",
   "execution_count": null,
   "metadata": {
    "colab": {
     "base_uri": "https://localhost:8080/"
    },
    "executionInfo": {
     "elapsed": 13194,
     "status": "ok",
     "timestamp": 1654374535628,
     "user": {
      "displayName": "Shweta Chandole",
      "userId": "17582944756805634685"
     },
     "user_tz": 240
    },
    "id": "LqTLJpddaKSU",
    "outputId": "ffb7a1ac-e9b3-45b1-ce49-ce909956af68"
   },
   "outputs": [
    {
     "name": "stdout",
     "output_type": "stream",
     "text": [
      "\n",
      "==================================================================\n",
      "       Nonlinear SVM\n",
      "==================================================================\n",
      "\n",
      "Accuracy: 0.167\n",
      "Weighted_Precision: 0.028\n",
      "Weighted_Recall: 0.167\n",
      "Weighted_F1_score: 0.048\n",
      "\n",
      "Balanced Accuracy:  0.5\n",
      "              precision    recall  f1-score   support\n",
      "\n",
      "           0       0.00      0.00      0.00       349\n",
      "           1       0.17      1.00      0.29        70\n",
      "\n",
      "    accuracy                           0.17       419\n",
      "   macro avg       0.08      0.50      0.14       419\n",
      "weighted avg       0.03      0.17      0.05       419\n",
      "\n"
     ]
    }
   ],
   "source": [
    "nonlinear_svm_grid(X_train_new_under_sampled,y_train_new_under_sampler,X_test,y_test,class_ratio=None)\n"
   ]
  },
  {
   "cell_type": "code",
   "execution_count": null,
   "metadata": {
    "colab": {
     "base_uri": "https://localhost:8080/"
    },
    "executionInfo": {
     "elapsed": 4753,
     "status": "ok",
     "timestamp": 1654374540360,
     "user": {
      "displayName": "Shweta Chandole",
      "userId": "17582944756805634685"
     },
     "user_tz": 240
    },
    "id": "kRM7M9Z8aMNw",
    "outputId": "3ce5ccb7-e2b7-4560-f582-029b4ab981f2"
   },
   "outputs": [
    {
     "name": "stdout",
     "output_type": "stream",
     "text": [
      "\n",
      "==================================================================\n",
      " Logistic Regression\n",
      "==================================================================\n",
      "\n",
      "Accuracy: 0.726\n",
      "Weighted_Precision: 0.830\n",
      "Weighted_Recall: 0.726\n",
      "Weighted_F1_score: 0.757\n",
      "\n",
      "Balanced Accuracy:  0.721039705280393\n",
      "              precision    recall  f1-score   support\n",
      "\n",
      "           0       0.93      0.73      0.82       349\n",
      "           1       0.34      0.71      0.47        70\n",
      "\n",
      "    accuracy                           0.73       419\n",
      "   macro avg       0.64      0.72      0.64       419\n",
      "weighted avg       0.83      0.73      0.76       419\n",
      "\n"
     ]
    }
   ],
   "source": [
    "logistic_regression_grid(X_train_new_under_sampled,y_train_new_under_sampler,X_test,y_test,class_ratio='balanced')\n"
   ]
  },
  {
   "cell_type": "code",
   "execution_count": null,
   "metadata": {
    "colab": {
     "base_uri": "https://localhost:8080/"
    },
    "executionInfo": {
     "elapsed": 4684,
     "status": "ok",
     "timestamp": 1654374545027,
     "user": {
      "displayName": "Shweta Chandole",
      "userId": "17582944756805634685"
     },
     "user_tz": 240
    },
    "id": "ugkK3FKQaOSj",
    "outputId": "c42d4602-6b29-4333-b0f0-3904692c792b"
   },
   "outputs": [
    {
     "name": "stdout",
     "output_type": "stream",
     "text": [
      "\n",
      "==================================================================\n",
      " Logistic Regression\n",
      "==================================================================\n",
      "\n",
      "Accuracy: 0.726\n",
      "Weighted_Precision: 0.830\n",
      "Weighted_Recall: 0.726\n",
      "Weighted_F1_score: 0.757\n",
      "\n",
      "Balanced Accuracy:  0.721039705280393\n",
      "              precision    recall  f1-score   support\n",
      "\n",
      "           0       0.93      0.73      0.82       349\n",
      "           1       0.34      0.71      0.47        70\n",
      "\n",
      "    accuracy                           0.73       419\n",
      "   macro avg       0.64      0.72      0.64       419\n",
      "weighted avg       0.83      0.73      0.76       419\n",
      "\n"
     ]
    }
   ],
   "source": [
    "logistic_regression_grid(X_train_new_under_sampled,y_train_new_under_sampler,X_test,y_test,class_ratio=None)\n"
   ]
  },
  {
   "cell_type": "code",
   "execution_count": null,
   "metadata": {
    "colab": {
     "base_uri": "https://localhost:8080/"
    },
    "executionInfo": {
     "elapsed": 639,
     "status": "ok",
     "timestamp": 1654374545645,
     "user": {
      "displayName": "Shweta Chandole",
      "userId": "17582944756805634685"
     },
     "user_tz": 240
    },
    "id": "xpBSRNblaPgD",
    "outputId": "b7a62364-cc26-443c-99ee-6a293da4df92"
   },
   "outputs": [
    {
     "name": "stdout",
     "output_type": "stream",
     "text": [
      "\n",
      "==================================================================\n",
      "          Linear SVM\n",
      "==================================================================\n",
      "\n",
      "Accuracy: 0.654\n",
      "Weighted_Precision: 0.862\n",
      "Weighted_Recall: 0.654\n",
      "Weighted_F1_score: 0.698\n",
      "\n",
      "Balanced Accuracy:  0.7580024559967253\n",
      "              precision    recall  f1-score   support\n",
      "\n",
      "           0       0.97      0.60      0.74       349\n",
      "           1       0.32      0.91      0.47        70\n",
      "\n",
      "    accuracy                           0.65       419\n",
      "   macro avg       0.64      0.76      0.61       419\n",
      "weighted avg       0.86      0.65      0.70       419\n",
      "\n"
     ]
    }
   ],
   "source": [
    "linear_svm(X_train_new_under_sampled,y_train_new_under_sampler,X_test,y_test,class_ratio='balanced')\n"
   ]
  },
  {
   "cell_type": "code",
   "execution_count": null,
   "metadata": {
    "colab": {
     "base_uri": "https://localhost:8080/"
    },
    "executionInfo": {
     "elapsed": 759,
     "status": "ok",
     "timestamp": 1654374546402,
     "user": {
      "displayName": "Shweta Chandole",
      "userId": "17582944756805634685"
     },
     "user_tz": 240
    },
    "id": "j0hEV-zhaRx4",
    "outputId": "93696221-eab3-4f9d-ba75-ed88e31919b0"
   },
   "outputs": [
    {
     "name": "stdout",
     "output_type": "stream",
     "text": [
      "\n",
      "==================================================================\n",
      "          Linear SVM\n",
      "==================================================================\n",
      "\n",
      "Accuracy: 0.804\n",
      "Weighted_Precision: 0.839\n",
      "Weighted_Recall: 0.804\n",
      "Weighted_F1_score: 0.817\n",
      "\n",
      "Balanced Accuracy:  0.7340564879246827\n",
      "              precision    recall  f1-score   support\n",
      "\n",
      "           0       0.92      0.84      0.88       349\n",
      "           1       0.44      0.63      0.52        70\n",
      "\n",
      "    accuracy                           0.80       419\n",
      "   macro avg       0.68      0.73      0.70       419\n",
      "weighted avg       0.84      0.80      0.82       419\n",
      "\n"
     ]
    }
   ],
   "source": [
    "linear_svm(X_train_new_under_sampled,y_train_new_under_sampler,X_test,y_test,class_ratio=None)\n"
   ]
  },
  {
   "cell_type": "code",
   "execution_count": null,
   "metadata": {
    "colab": {
     "base_uri": "https://localhost:8080/"
    },
    "executionInfo": {
     "elapsed": 202,
     "status": "ok",
     "timestamp": 1654374546602,
     "user": {
      "displayName": "Shweta Chandole",
      "userId": "17582944756805634685"
     },
     "user_tz": 240
    },
    "id": "x7ppjyEYaUjY",
    "outputId": "62903505-1726-4fd4-85dc-75ec25b9d337"
   },
   "outputs": [
    {
     "name": "stdout",
     "output_type": "stream",
     "text": [
      "\n",
      "==================================================================\n",
      " Logistic Regression\n",
      "==================================================================\n",
      "\n",
      "Accuracy: 0.757\n",
      "Weighted_Precision: 0.850\n",
      "Weighted_Recall: 0.757\n",
      "Weighted_F1_score: 0.784\n",
      "\n",
      "Balanced Accuracy:  0.7625051166598444\n",
      "              precision    recall  f1-score   support\n",
      "\n",
      "           0       0.94      0.75      0.84       349\n",
      "           1       0.39      0.77      0.51        70\n",
      "\n",
      "    accuracy                           0.76       419\n",
      "   macro avg       0.66      0.76      0.68       419\n",
      "weighted avg       0.85      0.76      0.78       419\n",
      "\n"
     ]
    }
   ],
   "source": [
    "logistic_regression(X_train_new_under_sampled,y_train_new_under_sampler,X_test,y_test,class_ratio='balanced')\n"
   ]
  },
  {
   "cell_type": "code",
   "execution_count": null,
   "metadata": {
    "colab": {
     "base_uri": "https://localhost:8080/"
    },
    "executionInfo": {
     "elapsed": 168,
     "status": "ok",
     "timestamp": 1654374546766,
     "user": {
      "displayName": "Shweta Chandole",
      "userId": "17582944756805634685"
     },
     "user_tz": 240
    },
    "id": "iPO6WlsbaUzp",
    "outputId": "cc338b0d-da4d-429a-f971-6d2a78b7d7a0"
   },
   "outputs": [
    {
     "name": "stdout",
     "output_type": "stream",
     "text": [
      "\n",
      "==================================================================\n",
      " Logistic Regression\n",
      "==================================================================\n",
      "\n",
      "Accuracy: 0.757\n",
      "Weighted_Precision: 0.850\n",
      "Weighted_Recall: 0.757\n",
      "Weighted_F1_score: 0.784\n",
      "\n",
      "Balanced Accuracy:  0.7625051166598444\n",
      "              precision    recall  f1-score   support\n",
      "\n",
      "           0       0.94      0.75      0.84       349\n",
      "           1       0.39      0.77      0.51        70\n",
      "\n",
      "    accuracy                           0.76       419\n",
      "   macro avg       0.66      0.76      0.68       419\n",
      "weighted avg       0.85      0.76      0.78       419\n",
      "\n"
     ]
    }
   ],
   "source": [
    "logistic_regression(X_train_new_under_sampled,y_train_new_under_sampler,X_test,y_test,class_ratio=None)\n"
   ]
  },
  {
   "cell_type": "code",
   "execution_count": null,
   "metadata": {
    "colab": {
     "base_uri": "https://localhost:8080/"
    },
    "executionInfo": {
     "elapsed": 1082,
     "status": "ok",
     "timestamp": 1654374547847,
     "user": {
      "displayName": "Shweta Chandole",
      "userId": "17582944756805634685"
     },
     "user_tz": 240
    },
    "id": "YJMWY6NZaWQC",
    "outputId": "bbb0d4a2-dff5-45ac-a510-4b7457458679"
   },
   "outputs": [
    {
     "name": "stdout",
     "output_type": "stream",
     "text": [
      "\n",
      "==================================================================\n",
      "       Random Forest\n",
      "==================================================================\n",
      "\n",
      "Accuracy: 1.000\n",
      "Weighted_Precision: 1.000\n",
      "Weighted_Recall: 1.000\n",
      "Weighted_F1_score: 1.000\n",
      "\n",
      "Balanced Accuracy:  1.0\n",
      "              precision    recall  f1-score   support\n",
      "\n",
      "           0       1.00      1.00      1.00       349\n",
      "           1       1.00      1.00      1.00        70\n",
      "\n",
      "    accuracy                           1.00       419\n",
      "   macro avg       1.00      1.00      1.00       419\n",
      "weighted avg       1.00      1.00      1.00       419\n",
      "\n"
     ]
    }
   ],
   "source": [
    "random_forest(X_train_new_under_sampled,y_train_new_under_sampler,X_test,y_test,class_ratio='balanced')\n"
   ]
  },
  {
   "cell_type": "code",
   "execution_count": null,
   "metadata": {
    "colab": {
     "base_uri": "https://localhost:8080/"
    },
    "executionInfo": {
     "elapsed": 6592,
     "status": "ok",
     "timestamp": 1654374554436,
     "user": {
      "displayName": "Shweta Chandole",
      "userId": "17582944756805634685"
     },
     "user_tz": 240
    },
    "id": "qvQD-cI8aYXV",
    "outputId": "69b8ce0a-3342-4e36-c9bf-8816fb6d2561"
   },
   "outputs": [
    {
     "name": "stdout",
     "output_type": "stream",
     "text": [
      "\n",
      "==================================================================\n",
      "             XGBoost\n",
      "==================================================================\n",
      "\n",
      "Accuracy: 1.000\n",
      "Weighted_Precision: 1.000\n",
      "Weighted_Recall: 1.000\n",
      "Weighted_F1_score: 1.000\n",
      "\n",
      "Balanced Accuracy:  1.0\n",
      "              precision    recall  f1-score   support\n",
      "\n",
      "           0       1.00      1.00      1.00       349\n",
      "           1       1.00      1.00      1.00        70\n",
      "\n",
      "    accuracy                           1.00       419\n",
      "   macro avg       1.00      1.00      1.00       419\n",
      "weighted avg       1.00      1.00      1.00       419\n",
      "\n"
     ]
    }
   ],
   "source": [
    "xg_boost(X_train_new_under_sampled,y_train_new_under_sampler,X_test,y_test)\n"
   ]
  },
  {
   "cell_type": "code",
   "execution_count": null,
   "metadata": {
    "colab": {
     "base_uri": "https://localhost:8080/"
    },
    "executionInfo": {
     "elapsed": 39125,
     "status": "ok",
     "timestamp": 1654374593554,
     "user": {
      "displayName": "Shweta Chandole",
      "userId": "17582944756805634685"
     },
     "user_tz": 240
    },
    "id": "nkh3VpfvaaBY",
    "outputId": "3008be7d-1325-4975-8f4e-f163eecdc294"
   },
   "outputs": [
    {
     "name": "stdout",
     "output_type": "stream",
     "text": [
      "\n",
      "==================================================================\n",
      "Ensemble Stacked Classifiers\n",
      "==================================================================\n",
      "\n",
      "Accuracy: 1.000\n",
      "Weighted_Precision: 1.000\n",
      "Weighted_Recall: 1.000\n",
      "Weighted_F1_score: 1.000\n",
      "\n",
      "Balanced Accuracy:  1.0\n",
      "              precision    recall  f1-score   support\n",
      "\n",
      "           0       1.00      1.00      1.00       349\n",
      "           1       1.00      1.00      1.00        70\n",
      "\n",
      "    accuracy                           1.00       419\n",
      "   macro avg       1.00      1.00      1.00       419\n",
      "weighted avg       1.00      1.00      1.00       419\n",
      "\n"
     ]
    }
   ],
   "source": [
    "ensemble_stacked(X_train_new_under_sampled,y_train_new_under_sampler,X_test,y_test)\n"
   ]
  },
  {
   "cell_type": "code",
   "execution_count": null,
   "metadata": {
    "colab": {
     "base_uri": "https://localhost:8080/"
    },
    "executionInfo": {
     "elapsed": 7623,
     "status": "ok",
     "timestamp": 1654374601157,
     "user": {
      "displayName": "Shweta Chandole",
      "userId": "17582944756805634685"
     },
     "user_tz": 240
    },
    "id": "xphn8vLbabqX",
    "outputId": "95aef7a4-9b5d-4b37-d670-2308d9051ae4"
   },
   "outputs": [
    {
     "name": "stdout",
     "output_type": "stream",
     "text": [
      "\n",
      "==================================================================\n",
      "   Voting Classifier\n",
      "==================================================================\n",
      "\n",
      "Accuracy: 0.969\n",
      "Weighted_Precision: 0.970\n",
      "Weighted_Recall: 0.969\n",
      "Weighted_F1_score: 0.968\n",
      "\n",
      "Balanced Accuracy:  0.9071428571428571\n",
      "              precision    recall  f1-score   support\n",
      "\n",
      "           0       0.96      1.00      0.98       349\n",
      "           1       1.00      0.81      0.90        70\n",
      "\n",
      "    accuracy                           0.97       419\n",
      "   macro avg       0.98      0.91      0.94       419\n",
      "weighted avg       0.97      0.97      0.97       419\n",
      "\n"
     ]
    }
   ],
   "source": [
    "voting_classifiers(X_train_new_under_sampled,y_train_new_under_sampler,X_test,y_test)\n"
   ]
  },
  {
   "cell_type": "code",
   "execution_count": null,
   "metadata": {
    "colab": {
     "base_uri": "https://localhost:8080/"
    },
    "executionInfo": {
     "elapsed": 1286,
     "status": "ok",
     "timestamp": 1654374602420,
     "user": {
      "displayName": "Shweta Chandole",
      "userId": "17582944756805634685"
     },
     "user_tz": 240
    },
    "id": "c-09qXj9adgi",
    "outputId": "dc3acfac-cbfd-4c6b-aeb2-87c408a7ad7d"
   },
   "outputs": [
    {
     "name": "stdout",
     "output_type": "stream",
     "text": [
      "\n",
      "==================================================================\n",
      "Bagging Calssifier LR\n",
      "==================================================================\n",
      "\n",
      "Accuracy: 0.730\n",
      "Weighted_Precision: 0.837\n",
      "Weighted_Recall: 0.730\n",
      "Weighted_F1_score: 0.761\n",
      "\n",
      "Balanced Accuracy:  0.7353254195661072\n",
      "              precision    recall  f1-score   support\n",
      "\n",
      "           0       0.93      0.73      0.82       349\n",
      "           1       0.35      0.74      0.48        70\n",
      "\n",
      "    accuracy                           0.73       419\n",
      "   macro avg       0.64      0.74      0.65       419\n",
      "weighted avg       0.84      0.73      0.76       419\n",
      "\n"
     ]
    }
   ],
   "source": [
    "Bagging_Classifier_LR(X_train_new_under_sampled,y_train_new_under_sampler,X_test,y_test)\n"
   ]
  },
  {
   "cell_type": "code",
   "execution_count": null,
   "metadata": {
    "colab": {
     "base_uri": "https://localhost:8080/"
    },
    "executionInfo": {
     "elapsed": 4483,
     "status": "ok",
     "timestamp": 1654374606900,
     "user": {
      "displayName": "Shweta Chandole",
      "userId": "17582944756805634685"
     },
     "user_tz": 240
    },
    "id": "fm6TVge8afM3",
    "outputId": "b22a4131-7ca9-4526-ab5c-82a930526f6d"
   },
   "outputs": [
    {
     "name": "stdout",
     "output_type": "stream",
     "text": [
      "\n",
      "==================================================================\n",
      "Bagging Calssifier SVM\n",
      "==================================================================\n",
      "\n",
      "Accuracy: 0.742\n",
      "Weighted_Precision: 0.843\n",
      "Weighted_Recall: 0.742\n",
      "Weighted_F1_score: 0.772\n",
      "\n",
      "Balanced Accuracy:  0.7481989357347523\n",
      "              precision    recall  f1-score   support\n",
      "\n",
      "           0       0.94      0.74      0.83       349\n",
      "           1       0.37      0.76      0.50        70\n",
      "\n",
      "    accuracy                           0.74       419\n",
      "   macro avg       0.65      0.75      0.66       419\n",
      "weighted avg       0.84      0.74      0.77       419\n",
      "\n"
     ]
    }
   ],
   "source": [
    "Bagging_Classifier_SVM(X_train_new_under_sampled,y_train_new_under_sampler,X_test,y_test)\n"
   ]
  },
  {
   "cell_type": "code",
   "execution_count": null,
   "metadata": {
    "colab": {
     "base_uri": "https://localhost:8080/"
    },
    "executionInfo": {
     "elapsed": 1356,
     "status": "ok",
     "timestamp": 1654374608230,
     "user": {
      "displayName": "Shweta Chandole",
      "userId": "17582944756805634685"
     },
     "user_tz": 240
    },
    "id": "UaE9aEYCahFm",
    "outputId": "1309534f-ca4f-4a27-8a98-30a815bd92b0"
   },
   "outputs": [
    {
     "name": "stdout",
     "output_type": "stream",
     "text": [
      "\n",
      "==================================================================\n",
      "   Gradient Boosting\n",
      "==================================================================\n",
      "\n",
      "Accuracy: 1.000\n",
      "Weighted_Precision: 1.000\n",
      "Weighted_Recall: 1.000\n",
      "Weighted_F1_score: 1.000\n",
      "\n",
      "Balanced Accuracy:  1.0\n",
      "              precision    recall  f1-score   support\n",
      "\n",
      "           0       1.00      1.00      1.00       349\n",
      "           1       1.00      1.00      1.00        70\n",
      "\n",
      "    accuracy                           1.00       419\n",
      "   macro avg       1.00      1.00      1.00       419\n",
      "weighted avg       1.00      1.00      1.00       419\n",
      "\n"
     ]
    }
   ],
   "source": [
    "gradient_boosting(X_train_new_under_sampled,y_train_new_under_sampler,X_test,y_test)\n"
   ]
  },
  {
   "cell_type": "markdown",
   "metadata": {
    "id": "MdDXrQtFWUQ_"
   },
   "source": [
    "### Random Oversampler"
   ]
  },
  {
   "cell_type": "code",
   "execution_count": null,
   "metadata": {
    "id": "Qq6YtE0LWWW1"
   },
   "outputs": [],
   "source": [
    "df_class_1_over = df_class_1.sample(count_class_0, replace=True)\n",
    "df_test_over = pd.concat([df_class_0, df_class_1_over], axis=0)"
   ]
  },
  {
   "cell_type": "code",
   "execution_count": null,
   "metadata": {
    "id": "zdItMfisaUXQ"
   },
   "outputs": [],
   "source": [
    "#df_test_over.to_csv('/content/drive/MyDrive/Omdena_ RadmolAI/Sampled_datasets/Random_Over_sampled_train.csv')\n"
   ]
  },
  {
   "cell_type": "code",
   "execution_count": null,
   "metadata": {
    "id": "FBaXH3HJWZFY"
   },
   "outputs": [],
   "source": [
    "X_train_new_over_sampled=df_test_over[non_nan_cols]\n",
    "y_train_new_over_sampler=df_test_over['target']"
   ]
  },
  {
   "cell_type": "code",
   "execution_count": null,
   "metadata": {
    "colab": {
     "base_uri": "https://localhost:8080/"
    },
    "executionInfo": {
     "elapsed": 93107,
     "status": "ok",
     "timestamp": 1654374701334,
     "user": {
      "displayName": "Shweta Chandole",
      "userId": "17582944756805634685"
     },
     "user_tz": 240
    },
    "id": "kYATaiupbCyn",
    "outputId": "b1612654-28c9-4e59-e28e-2039396257d2"
   },
   "outputs": [
    {
     "name": "stdout",
     "output_type": "stream",
     "text": [
      "\n",
      "==================================================================\n",
      "          Linear SVM\n",
      "==================================================================\n",
      "\n",
      "Accuracy: 0.866\n",
      "Weighted_Precision: 0.876\n",
      "Weighted_Recall: 0.866\n",
      "Weighted_F1_score: 0.870\n",
      "\n",
      "Balanced Accuracy:  0.7941465411379451\n",
      "              precision    recall  f1-score   support\n",
      "\n",
      "           0       0.93      0.90      0.92       349\n",
      "           1       0.59      0.69      0.63        70\n",
      "\n",
      "    accuracy                           0.87       419\n",
      "   macro avg       0.76      0.79      0.77       419\n",
      "weighted avg       0.88      0.87      0.87       419\n",
      "\n"
     ]
    }
   ],
   "source": [
    "linear_svm_grid(X_train_new_over_sampled,y_train_new_over_sampler,X_test,y_test,class_ratio='balanced')\n"
   ]
  },
  {
   "cell_type": "code",
   "execution_count": null,
   "metadata": {
    "colab": {
     "base_uri": "https://localhost:8080/"
    },
    "executionInfo": {
     "elapsed": 93675,
     "status": "ok",
     "timestamp": 1654374794998,
     "user": {
      "displayName": "Shweta Chandole",
      "userId": "17582944756805634685"
     },
     "user_tz": 240
    },
    "id": "njiecGwbbCyn",
    "outputId": "9b2a6304-f137-4a50-97fa-c3b191143b41"
   },
   "outputs": [
    {
     "name": "stdout",
     "output_type": "stream",
     "text": [
      "\n",
      "==================================================================\n",
      "          Linear SVM\n",
      "==================================================================\n",
      "\n",
      "Accuracy: 0.845\n",
      "Weighted_Precision: 0.876\n",
      "Weighted_Recall: 0.845\n",
      "Weighted_F1_score: 0.855\n",
      "\n",
      "Balanced Accuracy:  0.809803520261973\n",
      "              precision    recall  f1-score   support\n",
      "\n",
      "           0       0.95      0.86      0.90       349\n",
      "           1       0.52      0.76      0.62        70\n",
      "\n",
      "    accuracy                           0.84       419\n",
      "   macro avg       0.74      0.81      0.76       419\n",
      "weighted avg       0.88      0.84      0.86       419\n",
      "\n"
     ]
    }
   ],
   "source": [
    "linear_svm_grid(X_train_new_over_sampled,y_train_new_over_sampler,X_test,y_test,class_ratio=None)\n"
   ]
  },
  {
   "cell_type": "code",
   "execution_count": null,
   "metadata": {
    "colab": {
     "base_uri": "https://localhost:8080/"
    },
    "executionInfo": {
     "elapsed": 304508,
     "status": "ok",
     "timestamp": 1654375099484,
     "user": {
      "displayName": "Shweta Chandole",
      "userId": "17582944756805634685"
     },
     "user_tz": 240
    },
    "id": "v4qpqZF7bCyo",
    "outputId": "0600f2eb-6bbf-4d8f-b0b3-99706af25f37"
   },
   "outputs": [
    {
     "name": "stdout",
     "output_type": "stream",
     "text": [
      "\n",
      "==================================================================\n",
      "       Nonlinear SVM\n",
      "==================================================================\n",
      "\n",
      "Accuracy: 0.833\n",
      "Weighted_Precision: 0.694\n",
      "Weighted_Recall: 0.833\n",
      "Weighted_F1_score: 0.757\n",
      "\n",
      "Balanced Accuracy:  0.5\n",
      "              precision    recall  f1-score   support\n",
      "\n",
      "           0       0.83      1.00      0.91       349\n",
      "           1       0.00      0.00      0.00        70\n",
      "\n",
      "    accuracy                           0.83       419\n",
      "   macro avg       0.42      0.50      0.45       419\n",
      "weighted avg       0.69      0.83      0.76       419\n",
      "\n"
     ]
    }
   ],
   "source": [
    "nonlinear_svm_grid(X_train_new_over_sampled,y_train_new_over_sampler,X_test,y_test,class_ratio='balanced')\n"
   ]
  },
  {
   "cell_type": "code",
   "execution_count": null,
   "metadata": {
    "colab": {
     "base_uri": "https://localhost:8080/"
    },
    "executionInfo": {
     "elapsed": 310891,
     "status": "ok",
     "timestamp": 1654375410354,
     "user": {
      "displayName": "Shweta Chandole",
      "userId": "17582944756805634685"
     },
     "user_tz": 240
    },
    "id": "CFXZcEfPbCyo",
    "outputId": "139d09ef-89f0-4a92-f105-bed7b67c935f"
   },
   "outputs": [
    {
     "name": "stdout",
     "output_type": "stream",
     "text": [
      "\n",
      "==================================================================\n",
      "       Nonlinear SVM\n",
      "==================================================================\n",
      "\n",
      "Accuracy: 0.833\n",
      "Weighted_Precision: 0.694\n",
      "Weighted_Recall: 0.833\n",
      "Weighted_F1_score: 0.757\n",
      "\n",
      "Balanced Accuracy:  0.5\n",
      "              precision    recall  f1-score   support\n",
      "\n",
      "           0       0.83      1.00      0.91       349\n",
      "           1       0.00      0.00      0.00        70\n",
      "\n",
      "    accuracy                           0.83       419\n",
      "   macro avg       0.42      0.50      0.45       419\n",
      "weighted avg       0.69      0.83      0.76       419\n",
      "\n"
     ]
    }
   ],
   "source": [
    "nonlinear_svm_grid(X_train_new_over_sampled,y_train_new_over_sampler,X_test,y_test,class_ratio=None)\n"
   ]
  },
  {
   "cell_type": "code",
   "execution_count": null,
   "metadata": {
    "colab": {
     "base_uri": "https://localhost:8080/"
    },
    "executionInfo": {
     "elapsed": 13113,
     "status": "ok",
     "timestamp": 1654375423398,
     "user": {
      "displayName": "Shweta Chandole",
      "userId": "17582944756805634685"
     },
     "user_tz": 240
    },
    "id": "ytiXsdcHbCyo",
    "outputId": "24cb9397-7b9d-4c72-806a-934918abb0ff"
   },
   "outputs": [
    {
     "name": "stdout",
     "output_type": "stream",
     "text": [
      "\n",
      "==================================================================\n",
      " Logistic Regression\n",
      "==================================================================\n",
      "\n",
      "Accuracy: 0.821\n",
      "Weighted_Precision: 0.837\n",
      "Weighted_Recall: 0.821\n",
      "Weighted_F1_score: 0.828\n",
      "\n",
      "Balanced Accuracy:  0.7212443716741711\n",
      "              precision    recall  f1-score   support\n",
      "\n",
      "           0       0.91      0.87      0.89       349\n",
      "           1       0.47      0.57      0.52        70\n",
      "\n",
      "    accuracy                           0.82       419\n",
      "   macro avg       0.69      0.72      0.70       419\n",
      "weighted avg       0.84      0.82      0.83       419\n",
      "\n"
     ]
    }
   ],
   "source": [
    "logistic_regression_grid(X_train_new_over_sampled,y_train_new_over_sampler,X_test,y_test,class_ratio='balanced')\n"
   ]
  },
  {
   "cell_type": "code",
   "execution_count": null,
   "metadata": {
    "colab": {
     "base_uri": "https://localhost:8080/"
    },
    "executionInfo": {
     "elapsed": 13669,
     "status": "ok",
     "timestamp": 1654375437044,
     "user": {
      "displayName": "Shweta Chandole",
      "userId": "17582944756805634685"
     },
     "user_tz": 240
    },
    "id": "tpoBLnxGbCyo",
    "outputId": "d91a1138-d391-4bab-8612-5056c80e12a8"
   },
   "outputs": [
    {
     "name": "stdout",
     "output_type": "stream",
     "text": [
      "\n",
      "==================================================================\n",
      " Logistic Regression\n",
      "==================================================================\n",
      "\n",
      "Accuracy: 0.821\n",
      "Weighted_Precision: 0.837\n",
      "Weighted_Recall: 0.821\n",
      "Weighted_F1_score: 0.828\n",
      "\n",
      "Balanced Accuracy:  0.7212443716741711\n",
      "              precision    recall  f1-score   support\n",
      "\n",
      "           0       0.91      0.87      0.89       349\n",
      "           1       0.47      0.57      0.52        70\n",
      "\n",
      "    accuracy                           0.82       419\n",
      "   macro avg       0.69      0.72      0.70       419\n",
      "weighted avg       0.84      0.82      0.83       419\n",
      "\n"
     ]
    }
   ],
   "source": [
    "logistic_regression_grid(X_train_new_over_sampled,y_train_new_over_sampler,X_test,y_test,class_ratio=None)\n"
   ]
  },
  {
   "cell_type": "code",
   "execution_count": null,
   "metadata": {
    "colab": {
     "base_uri": "https://localhost:8080/"
    },
    "executionInfo": {
     "elapsed": 3871,
     "status": "ok",
     "timestamp": 1654375440888,
     "user": {
      "displayName": "Shweta Chandole",
      "userId": "17582944756805634685"
     },
     "user_tz": 240
    },
    "id": "sEpwKBQ4bCyo",
    "outputId": "d2051ceb-d750-471e-a763-a180b8ba0a98"
   },
   "outputs": [
    {
     "name": "stdout",
     "output_type": "stream",
     "text": [
      "\n",
      "==================================================================\n",
      "          Linear SVM\n",
      "==================================================================\n",
      "\n",
      "Accuracy: 0.842\n",
      "Weighted_Precision: 0.868\n",
      "Weighted_Recall: 0.842\n",
      "Weighted_F1_score: 0.852\n",
      "\n",
      "Balanced Accuracy:  0.7912402783462955\n",
      "              precision    recall  f1-score   support\n",
      "\n",
      "           0       0.94      0.87      0.90       349\n",
      "           1       0.52      0.71      0.60        70\n",
      "\n",
      "    accuracy                           0.84       419\n",
      "   macro avg       0.73      0.79      0.75       419\n",
      "weighted avg       0.87      0.84      0.85       419\n",
      "\n"
     ]
    }
   ],
   "source": [
    "linear_svm(X_train_new_over_sampled,y_train_new_over_sampler,X_test,y_test,class_ratio='balanced')\n"
   ]
  },
  {
   "cell_type": "code",
   "execution_count": null,
   "metadata": {
    "colab": {
     "base_uri": "https://localhost:8080/"
    },
    "executionInfo": {
     "elapsed": 3769,
     "status": "ok",
     "timestamp": 1654375444643,
     "user": {
      "displayName": "Shweta Chandole",
      "userId": "17582944756805634685"
     },
     "user_tz": 240
    },
    "id": "X5GSOwZSbCyo",
    "outputId": "ac86eed6-26bb-4cac-c965-336aac62b58d"
   },
   "outputs": [
    {
     "name": "stdout",
     "output_type": "stream",
     "text": [
      "\n",
      "==================================================================\n",
      "          Linear SVM\n",
      "==================================================================\n",
      "\n",
      "Accuracy: 0.854\n",
      "Weighted_Precision: 0.866\n",
      "Weighted_Recall: 0.854\n",
      "Weighted_F1_score: 0.859\n",
      "\n",
      "Balanced Accuracy:  0.7755628325828898\n",
      "              precision    recall  f1-score   support\n",
      "\n",
      "           0       0.93      0.89      0.91       349\n",
      "           1       0.55      0.66      0.60        70\n",
      "\n",
      "    accuracy                           0.85       419\n",
      "   macro avg       0.74      0.78      0.76       419\n",
      "weighted avg       0.87      0.85      0.86       419\n",
      "\n"
     ]
    }
   ],
   "source": [
    "linear_svm(X_train_new_over_sampled,y_train_new_over_sampler,X_test,y_test,class_ratio=None)\n"
   ]
  },
  {
   "cell_type": "code",
   "execution_count": null,
   "metadata": {
    "colab": {
     "base_uri": "https://localhost:8080/"
    },
    "executionInfo": {
     "elapsed": 653,
     "status": "ok",
     "timestamp": 1654375445274,
     "user": {
      "displayName": "Shweta Chandole",
      "userId": "17582944756805634685"
     },
     "user_tz": 240
    },
    "id": "oNIHanVzbCyo",
    "outputId": "caba3573-620d-41d4-b4f1-8d17a9862aa4"
   },
   "outputs": [
    {
     "name": "stdout",
     "output_type": "stream",
     "text": [
      "\n",
      "==================================================================\n",
      " Logistic Regression\n",
      "==================================================================\n",
      "\n",
      "Accuracy: 0.821\n",
      "Weighted_Precision: 0.837\n",
      "Weighted_Recall: 0.821\n",
      "Weighted_F1_score: 0.828\n",
      "\n",
      "Balanced Accuracy:  0.7212443716741711\n",
      "              precision    recall  f1-score   support\n",
      "\n",
      "           0       0.91      0.87      0.89       349\n",
      "           1       0.47      0.57      0.52        70\n",
      "\n",
      "    accuracy                           0.82       419\n",
      "   macro avg       0.69      0.72      0.70       419\n",
      "weighted avg       0.84      0.82      0.83       419\n",
      "\n"
     ]
    }
   ],
   "source": [
    "logistic_regression(X_train_new_over_sampled,y_train_new_over_sampler,X_test,y_test,class_ratio='balanced')\n"
   ]
  },
  {
   "cell_type": "code",
   "execution_count": null,
   "metadata": {
    "colab": {
     "base_uri": "https://localhost:8080/"
    },
    "executionInfo": {
     "elapsed": 745,
     "status": "ok",
     "timestamp": 1654375446018,
     "user": {
      "displayName": "Shweta Chandole",
      "userId": "17582944756805634685"
     },
     "user_tz": 240
    },
    "id": "L34OYPNdbCyp",
    "outputId": "d388f24c-7783-458c-9432-70698655c3eb"
   },
   "outputs": [
    {
     "name": "stdout",
     "output_type": "stream",
     "text": [
      "\n",
      "==================================================================\n",
      " Logistic Regression\n",
      "==================================================================\n",
      "\n",
      "Accuracy: 0.821\n",
      "Weighted_Precision: 0.837\n",
      "Weighted_Recall: 0.821\n",
      "Weighted_F1_score: 0.828\n",
      "\n",
      "Balanced Accuracy:  0.7212443716741711\n",
      "              precision    recall  f1-score   support\n",
      "\n",
      "           0       0.91      0.87      0.89       349\n",
      "           1       0.47      0.57      0.52        70\n",
      "\n",
      "    accuracy                           0.82       419\n",
      "   macro avg       0.69      0.72      0.70       419\n",
      "weighted avg       0.84      0.82      0.83       419\n",
      "\n"
     ]
    }
   ],
   "source": [
    "logistic_regression(X_train_new_over_sampled,y_train_new_over_sampler,X_test,y_test,class_ratio=None)\n"
   ]
  },
  {
   "cell_type": "code",
   "execution_count": null,
   "metadata": {
    "colab": {
     "base_uri": "https://localhost:8080/"
    },
    "executionInfo": {
     "elapsed": 3645,
     "status": "ok",
     "timestamp": 1654375449658,
     "user": {
      "displayName": "Shweta Chandole",
      "userId": "17582944756805634685"
     },
     "user_tz": 240
    },
    "id": "XTY2XbqwbCyp",
    "outputId": "4e8e4768-14cb-41c1-fd15-d5f44d5dc888"
   },
   "outputs": [
    {
     "name": "stdout",
     "output_type": "stream",
     "text": [
      "\n",
      "==================================================================\n",
      "       Random Forest\n",
      "==================================================================\n",
      "\n",
      "Accuracy: 1.000\n",
      "Weighted_Precision: 1.000\n",
      "Weighted_Recall: 1.000\n",
      "Weighted_F1_score: 1.000\n",
      "\n",
      "Balanced Accuracy:  1.0\n",
      "              precision    recall  f1-score   support\n",
      "\n",
      "           0       1.00      1.00      1.00       349\n",
      "           1       1.00      1.00      1.00        70\n",
      "\n",
      "    accuracy                           1.00       419\n",
      "   macro avg       1.00      1.00      1.00       419\n",
      "weighted avg       1.00      1.00      1.00       419\n",
      "\n"
     ]
    }
   ],
   "source": [
    "random_forest(X_train_new_over_sampled,y_train_new_over_sampler,X_test,y_test,class_ratio='balanced')\n"
   ]
  },
  {
   "cell_type": "code",
   "execution_count": null,
   "metadata": {
    "colab": {
     "base_uri": "https://localhost:8080/"
    },
    "executionInfo": {
     "elapsed": 30386,
     "status": "ok",
     "timestamp": 1654375480023,
     "user": {
      "displayName": "Shweta Chandole",
      "userId": "17582944756805634685"
     },
     "user_tz": 240
    },
    "id": "tdsjNyBEbCyp",
    "outputId": "0521d873-ab09-4d51-dfbe-2b194c787713"
   },
   "outputs": [
    {
     "name": "stdout",
     "output_type": "stream",
     "text": [
      "\n",
      "==================================================================\n",
      "             XGBoost\n",
      "==================================================================\n",
      "\n",
      "Accuracy: 1.000\n",
      "Weighted_Precision: 1.000\n",
      "Weighted_Recall: 1.000\n",
      "Weighted_F1_score: 1.000\n",
      "\n",
      "Balanced Accuracy:  1.0\n",
      "              precision    recall  f1-score   support\n",
      "\n",
      "           0       1.00      1.00      1.00       349\n",
      "           1       1.00      1.00      1.00        70\n",
      "\n",
      "    accuracy                           1.00       419\n",
      "   macro avg       1.00      1.00      1.00       419\n",
      "weighted avg       1.00      1.00      1.00       419\n",
      "\n"
     ]
    }
   ],
   "source": [
    "xg_boost(X_train_new_over_sampled,y_train_new_over_sampler,X_test,y_test)\n"
   ]
  },
  {
   "cell_type": "code",
   "execution_count": null,
   "metadata": {
    "colab": {
     "base_uri": "https://localhost:8080/"
    },
    "executionInfo": {
     "elapsed": 176271,
     "status": "ok",
     "timestamp": 1654375656271,
     "user": {
      "displayName": "Shweta Chandole",
      "userId": "17582944756805634685"
     },
     "user_tz": 240
    },
    "id": "BmLqeZitbCyp",
    "outputId": "3b98d4a7-ebeb-48e1-f7c4-850f97a471e2"
   },
   "outputs": [
    {
     "name": "stdout",
     "output_type": "stream",
     "text": [
      "\n",
      "==================================================================\n",
      "Ensemble Stacked Classifiers\n",
      "==================================================================\n",
      "\n",
      "Accuracy: 1.000\n",
      "Weighted_Precision: 1.000\n",
      "Weighted_Recall: 1.000\n",
      "Weighted_F1_score: 1.000\n",
      "\n",
      "Balanced Accuracy:  1.0\n",
      "              precision    recall  f1-score   support\n",
      "\n",
      "           0       1.00      1.00      1.00       349\n",
      "           1       1.00      1.00      1.00        70\n",
      "\n",
      "    accuracy                           1.00       419\n",
      "   macro avg       1.00      1.00      1.00       419\n",
      "weighted avg       1.00      1.00      1.00       419\n",
      "\n"
     ]
    }
   ],
   "source": [
    "ensemble_stacked(X_train_new_over_sampled,y_train_new_over_sampler,X_test,y_test)\n"
   ]
  },
  {
   "cell_type": "code",
   "execution_count": null,
   "metadata": {
    "colab": {
     "base_uri": "https://localhost:8080/"
    },
    "executionInfo": {
     "elapsed": 34632,
     "status": "ok",
     "timestamp": 1654375690871,
     "user": {
      "displayName": "Shweta Chandole",
      "userId": "17582944756805634685"
     },
     "user_tz": 240
    },
    "id": "_Bv7TmEHbCyp",
    "outputId": "0720374f-93ae-4b6c-a45c-69aadeaf3089"
   },
   "outputs": [
    {
     "name": "stdout",
     "output_type": "stream",
     "text": [
      "\n",
      "==================================================================\n",
      "   Voting Classifier\n",
      "==================================================================\n",
      "\n",
      "Accuracy: 0.959\n",
      "Weighted_Precision: 0.961\n",
      "Weighted_Recall: 0.959\n",
      "Weighted_F1_score: 0.957\n",
      "\n",
      "Balanced Accuracy:  0.8785714285714286\n",
      "              precision    recall  f1-score   support\n",
      "\n",
      "           0       0.95      1.00      0.98       349\n",
      "           1       1.00      0.76      0.86        70\n",
      "\n",
      "    accuracy                           0.96       419\n",
      "   macro avg       0.98      0.88      0.92       419\n",
      "weighted avg       0.96      0.96      0.96       419\n",
      "\n"
     ]
    }
   ],
   "source": [
    "voting_classifiers(X_train_new_over_sampled,y_train_new_over_sampler,X_test,y_test)\n"
   ]
  },
  {
   "cell_type": "code",
   "execution_count": null,
   "metadata": {
    "colab": {
     "base_uri": "https://localhost:8080/"
    },
    "executionInfo": {
     "elapsed": 5493,
     "status": "ok",
     "timestamp": 1654375696342,
     "user": {
      "displayName": "Shweta Chandole",
      "userId": "17582944756805634685"
     },
     "user_tz": 240
    },
    "id": "ldlx9Te7bCyp",
    "outputId": "ee8901ea-eef5-4554-f0e9-943ac6f1445a"
   },
   "outputs": [
    {
     "name": "stdout",
     "output_type": "stream",
     "text": [
      "\n",
      "==================================================================\n",
      "Bagging Calssifier LR\n",
      "==================================================================\n",
      "\n",
      "Accuracy: 0.823\n",
      "Weighted_Precision: 0.844\n",
      "Weighted_Recall: 0.823\n",
      "Weighted_F1_score: 0.832\n",
      "\n",
      "Balanced Accuracy:  0.7398076135898486\n",
      "              precision    recall  f1-score   support\n",
      "\n",
      "           0       0.92      0.87      0.89       349\n",
      "           1       0.48      0.61      0.54        70\n",
      "\n",
      "    accuracy                           0.82       419\n",
      "   macro avg       0.70      0.74      0.71       419\n",
      "weighted avg       0.84      0.82      0.83       419\n",
      "\n"
     ]
    }
   ],
   "source": [
    "Bagging_Classifier_LR(X_train_new_over_sampled,y_train_new_over_sampler,X_test,y_test)\n"
   ]
  },
  {
   "cell_type": "code",
   "execution_count": null,
   "metadata": {
    "colab": {
     "base_uri": "https://localhost:8080/"
    },
    "executionInfo": {
     "elapsed": 21798,
     "status": "ok",
     "timestamp": 1654375718118,
     "user": {
      "displayName": "Shweta Chandole",
      "userId": "17582944756805634685"
     },
     "user_tz": 240
    },
    "id": "D5xcl44IbCyp",
    "outputId": "7109a7bc-6a22-45a8-f42f-f1f716fce96a"
   },
   "outputs": [
    {
     "name": "stdout",
     "output_type": "stream",
     "text": [
      "\n",
      "==================================================================\n",
      "Bagging Calssifier SVM\n",
      "==================================================================\n",
      "\n",
      "Accuracy: 0.857\n",
      "Weighted_Precision: 0.855\n",
      "Weighted_Recall: 0.857\n",
      "Weighted_F1_score: 0.856\n",
      "\n",
      "Balanced Accuracy:  0.7370241506344659\n",
      "              precision    recall  f1-score   support\n",
      "\n",
      "           0       0.91      0.92      0.91       349\n",
      "           1       0.57      0.56      0.57        70\n",
      "\n",
      "    accuracy                           0.86       419\n",
      "   macro avg       0.74      0.74      0.74       419\n",
      "weighted avg       0.86      0.86      0.86       419\n",
      "\n"
     ]
    }
   ],
   "source": [
    "Bagging_Classifier_SVM(X_train_new_over_sampled,y_train_new_over_sampler,X_test,y_test)\n"
   ]
  },
  {
   "cell_type": "code",
   "execution_count": null,
   "metadata": {
    "colab": {
     "base_uri": "https://localhost:8080/"
    },
    "executionInfo": {
     "elapsed": 6681,
     "status": "ok",
     "timestamp": 1654375724770,
     "user": {
      "displayName": "Shweta Chandole",
      "userId": "17582944756805634685"
     },
     "user_tz": 240
    },
    "id": "2KwES1YwbCyq",
    "outputId": "857733ca-7703-463c-cda3-314547fe052a"
   },
   "outputs": [
    {
     "name": "stdout",
     "output_type": "stream",
     "text": [
      "\n",
      "==================================================================\n",
      "   Gradient Boosting\n",
      "==================================================================\n",
      "\n",
      "Accuracy: 1.000\n",
      "Weighted_Precision: 1.000\n",
      "Weighted_Recall: 1.000\n",
      "Weighted_F1_score: 1.000\n",
      "\n",
      "Balanced Accuracy:  1.0\n",
      "              precision    recall  f1-score   support\n",
      "\n",
      "           0       1.00      1.00      1.00       349\n",
      "           1       1.00      1.00      1.00        70\n",
      "\n",
      "    accuracy                           1.00       419\n",
      "   macro avg       1.00      1.00      1.00       419\n",
      "weighted avg       1.00      1.00      1.00       419\n",
      "\n"
     ]
    }
   ],
   "source": [
    "gradient_boosting(X_train_new_over_sampled,y_train_new_over_sampler,X_test,y_test)\n"
   ]
  },
  {
   "cell_type": "markdown",
   "metadata": {
    "id": "OUIXu0ETWbSQ"
   },
   "source": [
    "### Python imbalanced-learn module\n"
   ]
  },
  {
   "cell_type": "code",
   "execution_count": null,
   "metadata": {
    "id": "hT8I1AwZWcGL"
   },
   "outputs": [],
   "source": [
    "import imblearn\n"
   ]
  },
  {
   "cell_type": "markdown",
   "metadata": {
    "id": "xQsV3kOvWiDZ"
   },
   "source": [
    "### Random under-sampling and over-sampling with imbalanced-learn\n"
   ]
  },
  {
   "cell_type": "markdown",
   "metadata": {
    "id": "Ww16QTnuXR-C"
   },
   "source": [
    "#### Random under-sampler"
   ]
  },
  {
   "cell_type": "code",
   "execution_count": null,
   "metadata": {
    "id": "wrKhPnCEWfrk"
   },
   "outputs": [],
   "source": [
    "from imblearn.under_sampling import RandomUnderSampler\n",
    "\n",
    "rus = RandomUnderSampler()\n",
    "X_rus, y_rus = rus.fit_resample(X_train,y_train)"
   ]
  },
  {
   "cell_type": "code",
   "execution_count": null,
   "metadata": {
    "id": "AUWfAc7HahX5"
   },
   "outputs": [],
   "source": [
    "df_train=X_rus.copy()\n",
    "df_train['target']=y_rus\n",
    "#df_train.to_csv('/content/drive/MyDrive/Omdena_ RadmolAI/Sampled_datasets/imblearn_Random_under_sampled_train.csv')\n",
    "\n"
   ]
  },
  {
   "cell_type": "code",
   "execution_count": null,
   "metadata": {
    "colab": {
     "base_uri": "https://localhost:8080/"
    },
    "executionInfo": {
     "elapsed": 17974,
     "status": "ok",
     "timestamp": 1654375743135,
     "user": {
      "displayName": "Shweta Chandole",
      "userId": "17582944756805634685"
     },
     "user_tz": 240
    },
    "id": "KfTwpfpObD_w",
    "outputId": "61fe9d68-a5cc-4ffa-ca64-b35b267eba4c"
   },
   "outputs": [
    {
     "name": "stdout",
     "output_type": "stream",
     "text": [
      "\n",
      "==================================================================\n",
      "          Linear SVM\n",
      "==================================================================\n",
      "\n",
      "Accuracy: 0.702\n",
      "Weighted_Precision: 0.849\n",
      "Weighted_Recall: 0.702\n",
      "Weighted_F1_score: 0.739\n",
      "\n",
      "Balanced Accuracy:  0.7523945968072043\n",
      "              precision    recall  f1-score   support\n",
      "\n",
      "           0       0.95      0.68      0.79       349\n",
      "           1       0.34      0.83      0.48        70\n",
      "\n",
      "    accuracy                           0.70       419\n",
      "   macro avg       0.65      0.75      0.64       419\n",
      "weighted avg       0.85      0.70      0.74       419\n",
      "\n"
     ]
    }
   ],
   "source": [
    "linear_svm_grid(X_rus,y_rus,X_test,y_test,class_ratio='balanced')\n"
   ]
  },
  {
   "cell_type": "code",
   "execution_count": null,
   "metadata": {
    "colab": {
     "base_uri": "https://localhost:8080/"
    },
    "executionInfo": {
     "elapsed": 17747,
     "status": "ok",
     "timestamp": 1654375760863,
     "user": {
      "displayName": "Shweta Chandole",
      "userId": "17582944756805634685"
     },
     "user_tz": 240
    },
    "id": "_iq8PTpwbD_x",
    "outputId": "8cbbe573-fe4b-4f2e-a46a-72a385a719af"
   },
   "outputs": [
    {
     "name": "stdout",
     "output_type": "stream",
     "text": [
      "\n",
      "==================================================================\n",
      "          Linear SVM\n",
      "==================================================================\n",
      "\n",
      "Accuracy: 0.535\n",
      "Weighted_Precision: 0.821\n",
      "Weighted_Recall: 0.535\n",
      "Weighted_F1_score: 0.587\n",
      "\n",
      "Balanced Accuracy:  0.657818256242325\n",
      "              precision    recall  f1-score   support\n",
      "\n",
      "           0       0.94      0.47      0.63       349\n",
      "           1       0.24      0.84      0.38        70\n",
      "\n",
      "    accuracy                           0.53       419\n",
      "   macro avg       0.59      0.66      0.50       419\n",
      "weighted avg       0.82      0.53      0.59       419\n",
      "\n"
     ]
    }
   ],
   "source": [
    "linear_svm_grid(X_rus,y_rus,X_test,y_test,class_ratio=None)\n"
   ]
  },
  {
   "cell_type": "code",
   "execution_count": null,
   "metadata": {
    "colab": {
     "base_uri": "https://localhost:8080/"
    },
    "executionInfo": {
     "elapsed": 13312,
     "status": "ok",
     "timestamp": 1654375774154,
     "user": {
      "displayName": "Shweta Chandole",
      "userId": "17582944756805634685"
     },
     "user_tz": 240
    },
    "id": "RUqeJzPqbD_x",
    "outputId": "24e4c26b-67b5-4691-b71c-3be6901e3894"
   },
   "outputs": [
    {
     "name": "stdout",
     "output_type": "stream",
     "text": [
      "\n",
      "==================================================================\n",
      "       Nonlinear SVM\n",
      "==================================================================\n",
      "\n",
      "Accuracy: 0.167\n",
      "Weighted_Precision: 0.028\n",
      "Weighted_Recall: 0.167\n",
      "Weighted_F1_score: 0.048\n",
      "\n",
      "Balanced Accuracy:  0.5\n",
      "              precision    recall  f1-score   support\n",
      "\n",
      "           0       0.00      0.00      0.00       349\n",
      "           1       0.17      1.00      0.29        70\n",
      "\n",
      "    accuracy                           0.17       419\n",
      "   macro avg       0.08      0.50      0.14       419\n",
      "weighted avg       0.03      0.17      0.05       419\n",
      "\n"
     ]
    }
   ],
   "source": [
    "nonlinear_svm_grid(X_rus,y_rus,X_test,y_test,class_ratio='balanced')\n"
   ]
  },
  {
   "cell_type": "code",
   "execution_count": null,
   "metadata": {
    "colab": {
     "base_uri": "https://localhost:8080/"
    },
    "executionInfo": {
     "elapsed": 13000,
     "status": "ok",
     "timestamp": 1654375787133,
     "user": {
      "displayName": "Shweta Chandole",
      "userId": "17582944756805634685"
     },
     "user_tz": 240
    },
    "id": "yZdwP_QgbD_y",
    "outputId": "ca0051b2-3dc3-4641-87a2-b6619f721310"
   },
   "outputs": [
    {
     "name": "stdout",
     "output_type": "stream",
     "text": [
      "\n",
      "==================================================================\n",
      "       Nonlinear SVM\n",
      "==================================================================\n",
      "\n",
      "Accuracy: 0.167\n",
      "Weighted_Precision: 0.028\n",
      "Weighted_Recall: 0.167\n",
      "Weighted_F1_score: 0.048\n",
      "\n",
      "Balanced Accuracy:  0.5\n",
      "              precision    recall  f1-score   support\n",
      "\n",
      "           0       0.00      0.00      0.00       349\n",
      "           1       0.17      1.00      0.29        70\n",
      "\n",
      "    accuracy                           0.17       419\n",
      "   macro avg       0.08      0.50      0.14       419\n",
      "weighted avg       0.03      0.17      0.05       419\n",
      "\n"
     ]
    }
   ],
   "source": [
    "nonlinear_svm_grid(X_rus,y_rus,X_test,y_test,class_ratio=None)\n"
   ]
  },
  {
   "cell_type": "code",
   "execution_count": null,
   "metadata": {
    "colab": {
     "base_uri": "https://localhost:8080/"
    },
    "executionInfo": {
     "elapsed": 4560,
     "status": "ok",
     "timestamp": 1654375791675,
     "user": {
      "displayName": "Shweta Chandole",
      "userId": "17582944756805634685"
     },
     "user_tz": 240
    },
    "id": "35CHxQOzbD_y",
    "outputId": "afd6ed58-8668-4cce-bf04-5e32da988be9"
   },
   "outputs": [
    {
     "name": "stdout",
     "output_type": "stream",
     "text": [
      "\n",
      "==================================================================\n",
      " Logistic Regression\n",
      "==================================================================\n",
      "\n",
      "Accuracy: 0.711\n",
      "Weighted_Precision: 0.832\n",
      "Weighted_Recall: 0.711\n",
      "Weighted_F1_score: 0.746\n",
      "\n",
      "Balanced Accuracy:  0.7238641015145313\n",
      "              precision    recall  f1-score   support\n",
      "\n",
      "           0       0.93      0.70      0.80       349\n",
      "           1       0.34      0.74      0.46        70\n",
      "\n",
      "    accuracy                           0.71       419\n",
      "   macro avg       0.63      0.72      0.63       419\n",
      "weighted avg       0.83      0.71      0.75       419\n",
      "\n"
     ]
    }
   ],
   "source": [
    "logistic_regression_grid(X_rus,y_rus,X_test,y_test,class_ratio='balanced')\n"
   ]
  },
  {
   "cell_type": "code",
   "execution_count": null,
   "metadata": {
    "colab": {
     "base_uri": "https://localhost:8080/"
    },
    "executionInfo": {
     "elapsed": 6373,
     "status": "ok",
     "timestamp": 1654375798036,
     "user": {
      "displayName": "Shweta Chandole",
      "userId": "17582944756805634685"
     },
     "user_tz": 240
    },
    "id": "7Gixm92SbD_y",
    "outputId": "72a99fff-2487-4237-a811-202bf8b772ec"
   },
   "outputs": [
    {
     "name": "stdout",
     "output_type": "stream",
     "text": [
      "\n",
      "==================================================================\n",
      " Logistic Regression\n",
      "==================================================================\n",
      "\n",
      "Accuracy: 0.711\n",
      "Weighted_Precision: 0.832\n",
      "Weighted_Recall: 0.711\n",
      "Weighted_F1_score: 0.746\n",
      "\n",
      "Balanced Accuracy:  0.7238641015145313\n",
      "              precision    recall  f1-score   support\n",
      "\n",
      "           0       0.93      0.70      0.80       349\n",
      "           1       0.34      0.74      0.46        70\n",
      "\n",
      "    accuracy                           0.71       419\n",
      "   macro avg       0.63      0.72      0.63       419\n",
      "weighted avg       0.83      0.71      0.75       419\n",
      "\n"
     ]
    }
   ],
   "source": [
    "logistic_regression_grid(X_rus,y_rus,X_test,y_test,class_ratio=None)\n"
   ]
  },
  {
   "cell_type": "code",
   "execution_count": null,
   "metadata": {
    "colab": {
     "base_uri": "https://localhost:8080/"
    },
    "executionInfo": {
     "elapsed": 760,
     "status": "ok",
     "timestamp": 1654375798775,
     "user": {
      "displayName": "Shweta Chandole",
      "userId": "17582944756805634685"
     },
     "user_tz": 240
    },
    "id": "-_STfdPgbD_z",
    "outputId": "f549317e-7cf2-4fb0-f778-a63e2964b447"
   },
   "outputs": [
    {
     "name": "stdout",
     "output_type": "stream",
     "text": [
      "\n",
      "==================================================================\n",
      "          Linear SVM\n",
      "==================================================================\n",
      "\n",
      "Accuracy: 0.811\n",
      "Weighted_Precision: 0.821\n",
      "Weighted_Recall: 0.811\n",
      "Weighted_F1_score: 0.816\n",
      "\n",
      "Balanced Accuracy:  0.6869627507163324\n",
      "              precision    recall  f1-score   support\n",
      "\n",
      "           0       0.90      0.87      0.89       349\n",
      "           1       0.44      0.50      0.47        70\n",
      "\n",
      "    accuracy                           0.81       419\n",
      "   macro avg       0.67      0.69      0.68       419\n",
      "weighted avg       0.82      0.81      0.82       419\n",
      "\n"
     ]
    }
   ],
   "source": [
    "linear_svm(X_rus,y_rus,X_test,y_test,class_ratio='balanced')\n"
   ]
  },
  {
   "cell_type": "code",
   "execution_count": null,
   "metadata": {
    "colab": {
     "base_uri": "https://localhost:8080/"
    },
    "executionInfo": {
     "elapsed": 715,
     "status": "ok",
     "timestamp": 1654375799485,
     "user": {
      "displayName": "Shweta Chandole",
      "userId": "17582944756805634685"
     },
     "user_tz": 240
    },
    "id": "EVe9WrlxbD_z",
    "outputId": "cb4a667d-704b-4dac-87f6-6034ebd0bc6e"
   },
   "outputs": [
    {
     "name": "stdout",
     "output_type": "stream",
     "text": [
      "\n",
      "==================================================================\n",
      "          Linear SVM\n",
      "==================================================================\n",
      "\n",
      "Accuracy: 0.783\n",
      "Weighted_Precision: 0.846\n",
      "Weighted_Recall: 0.783\n",
      "Weighted_F1_score: 0.803\n",
      "\n",
      "Balanced Accuracy:  0.7554236594351207\n",
      "              precision    recall  f1-score   support\n",
      "\n",
      "           0       0.93      0.80      0.86       349\n",
      "           1       0.41      0.71      0.52        70\n",
      "\n",
      "    accuracy                           0.78       419\n",
      "   macro avg       0.67      0.76      0.69       419\n",
      "weighted avg       0.85      0.78      0.80       419\n",
      "\n"
     ]
    }
   ],
   "source": [
    "linear_svm(X_rus,y_rus,X_test,y_test,class_ratio=None)\n"
   ]
  },
  {
   "cell_type": "code",
   "execution_count": null,
   "metadata": {
    "colab": {
     "base_uri": "https://localhost:8080/"
    },
    "executionInfo": {
     "elapsed": 279,
     "status": "ok",
     "timestamp": 1654375799758,
     "user": {
      "displayName": "Shweta Chandole",
      "userId": "17582944756805634685"
     },
     "user_tz": 240
    },
    "id": "DyQTbTh-bD_z",
    "outputId": "cdb87b6c-85c8-40b6-9b11-8591be1a40c3"
   },
   "outputs": [
    {
     "name": "stdout",
     "output_type": "stream",
     "text": [
      "\n",
      "==================================================================\n",
      " Logistic Regression\n",
      "==================================================================\n",
      "\n",
      "Accuracy: 0.711\n",
      "Weighted_Precision: 0.832\n",
      "Weighted_Recall: 0.711\n",
      "Weighted_F1_score: 0.746\n",
      "\n",
      "Balanced Accuracy:  0.7238641015145313\n",
      "              precision    recall  f1-score   support\n",
      "\n",
      "           0       0.93      0.70      0.80       349\n",
      "           1       0.34      0.74      0.46        70\n",
      "\n",
      "    accuracy                           0.71       419\n",
      "   macro avg       0.63      0.72      0.63       419\n",
      "weighted avg       0.83      0.71      0.75       419\n",
      "\n"
     ]
    }
   ],
   "source": [
    "logistic_regression(X_rus,y_rus,X_test,y_test,class_ratio='balanced')\n"
   ]
  },
  {
   "cell_type": "code",
   "execution_count": null,
   "metadata": {
    "colab": {
     "base_uri": "https://localhost:8080/"
    },
    "executionInfo": {
     "elapsed": 182,
     "status": "ok",
     "timestamp": 1654375799935,
     "user": {
      "displayName": "Shweta Chandole",
      "userId": "17582944756805634685"
     },
     "user_tz": 240
    },
    "id": "_ptXneLobD_z",
    "outputId": "74c756cb-208d-4197-faef-873f590dca66"
   },
   "outputs": [
    {
     "name": "stdout",
     "output_type": "stream",
     "text": [
      "\n",
      "==================================================================\n",
      " Logistic Regression\n",
      "==================================================================\n",
      "\n",
      "Accuracy: 0.711\n",
      "Weighted_Precision: 0.832\n",
      "Weighted_Recall: 0.711\n",
      "Weighted_F1_score: 0.746\n",
      "\n",
      "Balanced Accuracy:  0.7238641015145313\n",
      "              precision    recall  f1-score   support\n",
      "\n",
      "           0       0.93      0.70      0.80       349\n",
      "           1       0.34      0.74      0.46        70\n",
      "\n",
      "    accuracy                           0.71       419\n",
      "   macro avg       0.63      0.72      0.63       419\n",
      "weighted avg       0.83      0.71      0.75       419\n",
      "\n"
     ]
    }
   ],
   "source": [
    "logistic_regression(X_rus,y_rus,X_test,y_test,class_ratio=None)\n"
   ]
  },
  {
   "cell_type": "code",
   "execution_count": null,
   "metadata": {
    "colab": {
     "base_uri": "https://localhost:8080/"
    },
    "executionInfo": {
     "elapsed": 1023,
     "status": "ok",
     "timestamp": 1654375800956,
     "user": {
      "displayName": "Shweta Chandole",
      "userId": "17582944756805634685"
     },
     "user_tz": 240
    },
    "id": "hmKwWs-KbD_0",
    "outputId": "1d05bf35-b7c9-483c-c88f-b22bc9139b65"
   },
   "outputs": [
    {
     "name": "stdout",
     "output_type": "stream",
     "text": [
      "\n",
      "==================================================================\n",
      "       Random Forest\n",
      "==================================================================\n",
      "\n",
      "Accuracy: 1.000\n",
      "Weighted_Precision: 1.000\n",
      "Weighted_Recall: 1.000\n",
      "Weighted_F1_score: 1.000\n",
      "\n",
      "Balanced Accuracy:  1.0\n",
      "              precision    recall  f1-score   support\n",
      "\n",
      "           0       1.00      1.00      1.00       349\n",
      "           1       1.00      1.00      1.00        70\n",
      "\n",
      "    accuracy                           1.00       419\n",
      "   macro avg       1.00      1.00      1.00       419\n",
      "weighted avg       1.00      1.00      1.00       419\n",
      "\n"
     ]
    }
   ],
   "source": [
    "random_forest(X_rus,y_rus,X_test,y_test,class_ratio='balanced')\n"
   ]
  },
  {
   "cell_type": "code",
   "execution_count": null,
   "metadata": {
    "colab": {
     "base_uri": "https://localhost:8080/"
    },
    "executionInfo": {
     "elapsed": 6790,
     "status": "ok",
     "timestamp": 1654375807744,
     "user": {
      "displayName": "Shweta Chandole",
      "userId": "17582944756805634685"
     },
     "user_tz": 240
    },
    "id": "iJjYWYQCbD_0",
    "outputId": "e7780d2a-7a75-4df8-d93d-f663b82d8a63"
   },
   "outputs": [
    {
     "name": "stdout",
     "output_type": "stream",
     "text": [
      "\n",
      "==================================================================\n",
      "             XGBoost\n",
      "==================================================================\n",
      "\n",
      "Accuracy: 1.000\n",
      "Weighted_Precision: 1.000\n",
      "Weighted_Recall: 1.000\n",
      "Weighted_F1_score: 1.000\n",
      "\n",
      "Balanced Accuracy:  1.0\n",
      "              precision    recall  f1-score   support\n",
      "\n",
      "           0       1.00      1.00      1.00       349\n",
      "           1       1.00      1.00      1.00        70\n",
      "\n",
      "    accuracy                           1.00       419\n",
      "   macro avg       1.00      1.00      1.00       419\n",
      "weighted avg       1.00      1.00      1.00       419\n",
      "\n"
     ]
    }
   ],
   "source": [
    "xg_boost(X_rus,y_rus,X_test,y_test)\n"
   ]
  },
  {
   "cell_type": "code",
   "execution_count": null,
   "metadata": {
    "colab": {
     "base_uri": "https://localhost:8080/"
    },
    "executionInfo": {
     "elapsed": 38500,
     "status": "ok",
     "timestamp": 1654375846223,
     "user": {
      "displayName": "Shweta Chandole",
      "userId": "17582944756805634685"
     },
     "user_tz": 240
    },
    "id": "RxC0K4nebD_0",
    "outputId": "20eaf7af-0d92-4b82-af6d-d8b9b6654e18"
   },
   "outputs": [
    {
     "name": "stdout",
     "output_type": "stream",
     "text": [
      "\n",
      "==================================================================\n",
      "Ensemble Stacked Classifiers\n",
      "==================================================================\n",
      "\n",
      "Accuracy: 1.000\n",
      "Weighted_Precision: 1.000\n",
      "Weighted_Recall: 1.000\n",
      "Weighted_F1_score: 1.000\n",
      "\n",
      "Balanced Accuracy:  1.0\n",
      "              precision    recall  f1-score   support\n",
      "\n",
      "           0       1.00      1.00      1.00       349\n",
      "           1       1.00      1.00      1.00        70\n",
      "\n",
      "    accuracy                           1.00       419\n",
      "   macro avg       1.00      1.00      1.00       419\n",
      "weighted avg       1.00      1.00      1.00       419\n",
      "\n"
     ]
    }
   ],
   "source": [
    "ensemble_stacked(X_rus,y_rus,X_test,y_test)\n"
   ]
  },
  {
   "cell_type": "code",
   "execution_count": null,
   "metadata": {
    "colab": {
     "base_uri": "https://localhost:8080/"
    },
    "executionInfo": {
     "elapsed": 8557,
     "status": "ok",
     "timestamp": 1654375854752,
     "user": {
      "displayName": "Shweta Chandole",
      "userId": "17582944756805634685"
     },
     "user_tz": 240
    },
    "id": "ioZaURMlbD_1",
    "outputId": "22d2fa2e-2f00-4ad7-f8e9-69d79a9143b5"
   },
   "outputs": [
    {
     "name": "stdout",
     "output_type": "stream",
     "text": [
      "\n",
      "==================================================================\n",
      "   Voting Classifier\n",
      "==================================================================\n",
      "\n",
      "Accuracy: 0.986\n",
      "Weighted_Precision: 0.986\n",
      "Weighted_Recall: 0.986\n",
      "Weighted_F1_score: 0.986\n",
      "\n",
      "Balanced Accuracy:  0.9628530495292673\n",
      "              precision    recall  f1-score   support\n",
      "\n",
      "           0       0.99      1.00      0.99       349\n",
      "           1       0.98      0.93      0.96        70\n",
      "\n",
      "    accuracy                           0.99       419\n",
      "   macro avg       0.99      0.96      0.97       419\n",
      "weighted avg       0.99      0.99      0.99       419\n",
      "\n"
     ]
    }
   ],
   "source": [
    "voting_classifiers(X_rus,y_rus,X_test,y_test)\n"
   ]
  },
  {
   "cell_type": "code",
   "execution_count": null,
   "metadata": {
    "colab": {
     "base_uri": "https://localhost:8080/"
    },
    "executionInfo": {
     "elapsed": 352,
     "status": "ok",
     "timestamp": 1654375855080,
     "user": {
      "displayName": "Shweta Chandole",
      "userId": "17582944756805634685"
     },
     "user_tz": 240
    },
    "id": "2zz1sXc5bD_1",
    "outputId": "809a214b-f611-4a2d-df6f-e40c12855e13"
   },
   "outputs": [
    {
     "name": "stdout",
     "output_type": "stream",
     "text": [
      "\n",
      "==================================================================\n",
      "Bagging Calssifier LR\n",
      "==================================================================\n",
      "\n",
      "Accuracy: 0.728\n",
      "Weighted_Precision: 0.839\n",
      "Weighted_Recall: 0.728\n",
      "Weighted_F1_score: 0.760\n",
      "\n",
      "Balanced Accuracy:  0.7396029471960703\n",
      "              precision    recall  f1-score   support\n",
      "\n",
      "           0       0.94      0.72      0.82       349\n",
      "           1       0.35      0.76      0.48        70\n",
      "\n",
      "    accuracy                           0.73       419\n",
      "   macro avg       0.65      0.74      0.65       419\n",
      "weighted avg       0.84      0.73      0.76       419\n",
      "\n"
     ]
    }
   ],
   "source": [
    "Bagging_Classifier_LR(X_rus,y_rus,X_test,y_test)\n"
   ]
  },
  {
   "cell_type": "code",
   "execution_count": null,
   "metadata": {
    "colab": {
     "base_uri": "https://localhost:8080/"
    },
    "executionInfo": {
     "elapsed": 4344,
     "status": "ok",
     "timestamp": 1654375859422,
     "user": {
      "displayName": "Shweta Chandole",
      "userId": "17582944756805634685"
     },
     "user_tz": 240
    },
    "id": "ttyGXCwWbD_1",
    "outputId": "60759971-342c-4c8e-ee0c-2210a379ba65"
   },
   "outputs": [
    {
     "name": "stdout",
     "output_type": "stream",
     "text": [
      "\n",
      "==================================================================\n",
      "Bagging Calssifier SVM\n",
      "==================================================================\n",
      "\n",
      "Accuracy: 0.780\n",
      "Weighted_Precision: 0.837\n",
      "Weighted_Recall: 0.780\n",
      "Weighted_F1_score: 0.800\n",
      "\n",
      "Balanced Accuracy:  0.7368604175194433\n",
      "              precision    recall  f1-score   support\n",
      "\n",
      "           0       0.92      0.80      0.86       349\n",
      "           1       0.41      0.67      0.51        70\n",
      "\n",
      "    accuracy                           0.78       419\n",
      "   macro avg       0.66      0.74      0.68       419\n",
      "weighted avg       0.84      0.78      0.80       419\n",
      "\n"
     ]
    }
   ],
   "source": [
    "Bagging_Classifier_SVM(X_rus,y_rus,X_test,y_test)\n"
   ]
  },
  {
   "cell_type": "code",
   "execution_count": null,
   "metadata": {
    "colab": {
     "base_uri": "https://localhost:8080/"
    },
    "executionInfo": {
     "elapsed": 1483,
     "status": "ok",
     "timestamp": 1654375860885,
     "user": {
      "displayName": "Shweta Chandole",
      "userId": "17582944756805634685"
     },
     "user_tz": 240
    },
    "id": "3-kUnjM9bD_1",
    "outputId": "accc4fcb-24c9-402d-813c-2dc2ddea8534"
   },
   "outputs": [
    {
     "name": "stdout",
     "output_type": "stream",
     "text": [
      "\n",
      "==================================================================\n",
      "   Gradient Boosting\n",
      "==================================================================\n",
      "\n",
      "Accuracy: 1.000\n",
      "Weighted_Precision: 1.000\n",
      "Weighted_Recall: 1.000\n",
      "Weighted_F1_score: 1.000\n",
      "\n",
      "Balanced Accuracy:  1.0\n",
      "              precision    recall  f1-score   support\n",
      "\n",
      "           0       1.00      1.00      1.00       349\n",
      "           1       1.00      1.00      1.00        70\n",
      "\n",
      "    accuracy                           1.00       419\n",
      "   macro avg       1.00      1.00      1.00       419\n",
      "weighted avg       1.00      1.00      1.00       419\n",
      "\n"
     ]
    }
   ],
   "source": [
    "gradient_boosting(X_rus,y_rus,X_test,y_test)\n"
   ]
  },
  {
   "cell_type": "code",
   "execution_count": null,
   "metadata": {
    "id": "IWCf8clHWlb_"
   },
   "outputs": [],
   "source": []
  },
  {
   "cell_type": "markdown",
   "metadata": {
    "id": "11ee4NopXWBU"
   },
   "source": [
    "#### Random over-sampler"
   ]
  },
  {
   "cell_type": "code",
   "execution_count": null,
   "metadata": {
    "id": "n9OTxLh_WnrK"
   },
   "outputs": [],
   "source": [
    "from imblearn.over_sampling import RandomOverSampler\n",
    "\n",
    "ros = RandomOverSampler()\n",
    "X_ros, y_ros = ros.fit_resample(X_train,y_train)"
   ]
  },
  {
   "cell_type": "code",
   "execution_count": null,
   "metadata": {
    "id": "LjqmN43Za9ep"
   },
   "outputs": [],
   "source": [
    "df_train=X_ros.copy()\n",
    "df_train['target']=y_ros\n",
    "#df_train.to_csv('/content/drive/MyDrive/Omdena_ RadmolAI/Sampled_datasets/imblearn_Random_over_sampled_train.csv')"
   ]
  },
  {
   "cell_type": "code",
   "execution_count": null,
   "metadata": {
    "colab": {
     "base_uri": "https://localhost:8080/"
    },
    "executionInfo": {
     "elapsed": 91104,
     "status": "ok",
     "timestamp": 1654375952300,
     "user": {
      "displayName": "Shweta Chandole",
      "userId": "17582944756805634685"
     },
     "user_tz": 240
    },
    "id": "UIqp1itQbEoA",
    "outputId": "73ab8fb4-464b-42e1-ca73-91612d9c10a7"
   },
   "outputs": [
    {
     "name": "stdout",
     "output_type": "stream",
     "text": [
      "\n",
      "==================================================================\n",
      "          Linear SVM\n",
      "==================================================================\n",
      "\n",
      "Accuracy: 0.876\n",
      "Weighted_Precision: 0.873\n",
      "Weighted_Recall: 0.876\n",
      "Weighted_F1_score: 0.874\n",
      "\n",
      "Balanced Accuracy:  0.7656160458452722\n",
      "              precision    recall  f1-score   support\n",
      "\n",
      "           0       0.92      0.93      0.93       349\n",
      "           1       0.64      0.60      0.62        70\n",
      "\n",
      "    accuracy                           0.88       419\n",
      "   macro avg       0.78      0.77      0.77       419\n",
      "weighted avg       0.87      0.88      0.87       419\n",
      "\n"
     ]
    }
   ],
   "source": [
    "linear_svm_grid(X_ros,y_ros,X_test,y_test,class_ratio='balanced')\n"
   ]
  },
  {
   "cell_type": "code",
   "execution_count": null,
   "metadata": {
    "colab": {
     "base_uri": "https://localhost:8080/"
    },
    "executionInfo": {
     "elapsed": 92639,
     "status": "ok",
     "timestamp": 1654376044918,
     "user": {
      "displayName": "Shweta Chandole",
      "userId": "17582944756805634685"
     },
     "user_tz": 240
    },
    "id": "Ix2w7lMqbEoB",
    "outputId": "c35c2d62-13d7-4d4b-f6b3-4ea08b60e77f"
   },
   "outputs": [
    {
     "name": "stdout",
     "output_type": "stream",
     "text": [
      "\n",
      "==================================================================\n",
      "          Linear SVM\n",
      "==================================================================\n",
      "\n",
      "Accuracy: 0.876\n",
      "Weighted_Precision: 0.870\n",
      "Weighted_Recall: 0.876\n",
      "Weighted_F1_score: 0.872\n",
      "\n",
      "Balanced Accuracy:  0.7484854686860418\n",
      "              precision    recall  f1-score   support\n",
      "\n",
      "           0       0.91      0.94      0.93       349\n",
      "           1       0.65      0.56      0.60        70\n",
      "\n",
      "    accuracy                           0.88       419\n",
      "   macro avg       0.78      0.75      0.76       419\n",
      "weighted avg       0.87      0.88      0.87       419\n",
      "\n"
     ]
    }
   ],
   "source": [
    "linear_svm_grid(X_ros,y_ros,X_test,y_test,class_ratio=None)\n"
   ]
  },
  {
   "cell_type": "code",
   "execution_count": null,
   "metadata": {
    "colab": {
     "base_uri": "https://localhost:8080/"
    },
    "executionInfo": {
     "elapsed": 314054,
     "status": "ok",
     "timestamp": 1654376358950,
     "user": {
      "displayName": "Shweta Chandole",
      "userId": "17582944756805634685"
     },
     "user_tz": 240
    },
    "id": "-hMo7nPwbEoB",
    "outputId": "d925695f-ce83-4d2c-845c-23034cbd1345"
   },
   "outputs": [
    {
     "name": "stdout",
     "output_type": "stream",
     "text": [
      "\n",
      "==================================================================\n",
      "       Nonlinear SVM\n",
      "==================================================================\n",
      "\n",
      "Accuracy: 0.833\n",
      "Weighted_Precision: 0.694\n",
      "Weighted_Recall: 0.833\n",
      "Weighted_F1_score: 0.757\n",
      "\n",
      "Balanced Accuracy:  0.5\n",
      "              precision    recall  f1-score   support\n",
      "\n",
      "           0       0.83      1.00      0.91       349\n",
      "           1       0.00      0.00      0.00        70\n",
      "\n",
      "    accuracy                           0.83       419\n",
      "   macro avg       0.42      0.50      0.45       419\n",
      "weighted avg       0.69      0.83      0.76       419\n",
      "\n"
     ]
    }
   ],
   "source": [
    "nonlinear_svm_grid(X_ros,y_ros,X_test,y_test,class_ratio='balanced')\n"
   ]
  },
  {
   "cell_type": "code",
   "execution_count": null,
   "metadata": {
    "colab": {
     "base_uri": "https://localhost:8080/"
    },
    "executionInfo": {
     "elapsed": 307639,
     "status": "ok",
     "timestamp": 1654376666558,
     "user": {
      "displayName": "Shweta Chandole",
      "userId": "17582944756805634685"
     },
     "user_tz": 240
    },
    "id": "Fw6dyGTEbEoB",
    "outputId": "903b4cdf-1a02-4924-f9fe-225a0224a6f8"
   },
   "outputs": [
    {
     "name": "stdout",
     "output_type": "stream",
     "text": [
      "\n",
      "==================================================================\n",
      "       Nonlinear SVM\n",
      "==================================================================\n",
      "\n",
      "Accuracy: 0.833\n",
      "Weighted_Precision: 0.694\n",
      "Weighted_Recall: 0.833\n",
      "Weighted_F1_score: 0.757\n",
      "\n",
      "Balanced Accuracy:  0.5\n",
      "              precision    recall  f1-score   support\n",
      "\n",
      "           0       0.83      1.00      0.91       349\n",
      "           1       0.00      0.00      0.00        70\n",
      "\n",
      "    accuracy                           0.83       419\n",
      "   macro avg       0.42      0.50      0.45       419\n",
      "weighted avg       0.69      0.83      0.76       419\n",
      "\n"
     ]
    }
   ],
   "source": [
    "nonlinear_svm_grid(X_ros,y_ros,X_test,y_test,class_ratio=None)\n"
   ]
  },
  {
   "cell_type": "code",
   "execution_count": null,
   "metadata": {
    "colab": {
     "base_uri": "https://localhost:8080/"
    },
    "executionInfo": {
     "elapsed": 13262,
     "status": "ok",
     "timestamp": 1654376679788,
     "user": {
      "displayName": "Shweta Chandole",
      "userId": "17582944756805634685"
     },
     "user_tz": 240
    },
    "id": "KMT8cRccbEoB",
    "outputId": "14a40919-0fea-4e22-a130-5726278720e3"
   },
   "outputs": [
    {
     "name": "stdout",
     "output_type": "stream",
     "text": [
      "\n",
      "==================================================================\n",
      " Logistic Regression\n",
      "==================================================================\n",
      "\n",
      "Accuracy: 0.852\n",
      "Weighted_Precision: 0.857\n",
      "Weighted_Recall: 0.852\n",
      "Weighted_F1_score: 0.854\n",
      "\n",
      "Balanced Accuracy:  0.7512893982808022\n",
      "              precision    recall  f1-score   support\n",
      "\n",
      "           0       0.92      0.90      0.91       349\n",
      "           1       0.55      0.60      0.58        70\n",
      "\n",
      "    accuracy                           0.85       419\n",
      "   macro avg       0.74      0.75      0.74       419\n",
      "weighted avg       0.86      0.85      0.85       419\n",
      "\n"
     ]
    }
   ],
   "source": [
    "logistic_regression_grid(X_ros,y_ros,X_test,y_test,class_ratio='balanced')\n"
   ]
  },
  {
   "cell_type": "code",
   "execution_count": null,
   "metadata": {
    "colab": {
     "base_uri": "https://localhost:8080/"
    },
    "executionInfo": {
     "elapsed": 13899,
     "status": "ok",
     "timestamp": 1654376693666,
     "user": {
      "displayName": "Shweta Chandole",
      "userId": "17582944756805634685"
     },
     "user_tz": 240
    },
    "id": "HyhiJ7Q_bEoB",
    "outputId": "a20afb78-641c-46d6-e2e2-05b98dc5e374"
   },
   "outputs": [
    {
     "name": "stdout",
     "output_type": "stream",
     "text": [
      "\n",
      "==================================================================\n",
      " Logistic Regression\n",
      "==================================================================\n",
      "\n",
      "Accuracy: 0.852\n",
      "Weighted_Precision: 0.857\n",
      "Weighted_Recall: 0.852\n",
      "Weighted_F1_score: 0.854\n",
      "\n",
      "Balanced Accuracy:  0.7512893982808022\n",
      "              precision    recall  f1-score   support\n",
      "\n",
      "           0       0.92      0.90      0.91       349\n",
      "           1       0.55      0.60      0.58        70\n",
      "\n",
      "    accuracy                           0.85       419\n",
      "   macro avg       0.74      0.75      0.74       419\n",
      "weighted avg       0.86      0.85      0.85       419\n",
      "\n"
     ]
    }
   ],
   "source": [
    "logistic_regression_grid(X_ros,y_ros,X_test,y_test,class_ratio=None)\n"
   ]
  },
  {
   "cell_type": "code",
   "execution_count": null,
   "metadata": {
    "colab": {
     "base_uri": "https://localhost:8080/"
    },
    "executionInfo": {
     "elapsed": 3924,
     "status": "ok",
     "timestamp": 1654376697572,
     "user": {
      "displayName": "Shweta Chandole",
      "userId": "17582944756805634685"
     },
     "user_tz": 240
    },
    "id": "_p5nFH4YbEoC",
    "outputId": "a0e97935-1ad1-44fa-8b74-6e17911a660d"
   },
   "outputs": [
    {
     "name": "stdout",
     "output_type": "stream",
     "text": [
      "\n",
      "==================================================================\n",
      "          Linear SVM\n",
      "==================================================================\n",
      "\n",
      "Accuracy: 0.866\n",
      "Weighted_Precision: 0.873\n",
      "Weighted_Recall: 0.866\n",
      "Weighted_F1_score: 0.869\n",
      "\n",
      "Balanced Accuracy:  0.7827261563651249\n",
      "              precision    recall  f1-score   support\n",
      "\n",
      "           0       0.93      0.91      0.92       349\n",
      "           1       0.59      0.66      0.62        70\n",
      "\n",
      "    accuracy                           0.87       419\n",
      "   macro avg       0.76      0.78      0.77       419\n",
      "weighted avg       0.87      0.87      0.87       419\n",
      "\n"
     ]
    }
   ],
   "source": [
    "linear_svm(X_ros,y_ros,X_test,y_test,class_ratio='balanced')\n"
   ]
  },
  {
   "cell_type": "code",
   "execution_count": null,
   "metadata": {
    "colab": {
     "base_uri": "https://localhost:8080/"
    },
    "executionInfo": {
     "elapsed": 4036,
     "status": "ok",
     "timestamp": 1654376701587,
     "user": {
      "displayName": "Shweta Chandole",
      "userId": "17582944756805634685"
     },
     "user_tz": 240
    },
    "id": "FZ_jASBcbEoC",
    "outputId": "520d68bd-acbe-4024-abdf-edffa84431bb"
   },
   "outputs": [
    {
     "name": "stdout",
     "output_type": "stream",
     "text": [
      "\n",
      "==================================================================\n",
      "          Linear SVM\n",
      "==================================================================\n",
      "\n",
      "Accuracy: 0.697\n",
      "Weighted_Precision: 0.866\n",
      "Weighted_Recall: 0.697\n",
      "Weighted_F1_score: 0.735\n",
      "\n",
      "Balanced Accuracy:  0.7780802292263611\n",
      "              precision    recall  f1-score   support\n",
      "\n",
      "           0       0.97      0.66      0.78       349\n",
      "           1       0.34      0.90      0.50        70\n",
      "\n",
      "    accuracy                           0.70       419\n",
      "   macro avg       0.66      0.78      0.64       419\n",
      "weighted avg       0.87      0.70      0.74       419\n",
      "\n"
     ]
    }
   ],
   "source": [
    "linear_svm(X_ros,y_ros,X_test,y_test,class_ratio=None)\n"
   ]
  },
  {
   "cell_type": "code",
   "execution_count": null,
   "metadata": {
    "colab": {
     "base_uri": "https://localhost:8080/"
    },
    "executionInfo": {
     "elapsed": 356,
     "status": "ok",
     "timestamp": 1654376701920,
     "user": {
      "displayName": "Shweta Chandole",
      "userId": "17582944756805634685"
     },
     "user_tz": 240
    },
    "id": "ruGTUcXgbEoC",
    "outputId": "7fd2d330-4980-4702-c1a9-e98c6800b2a2"
   },
   "outputs": [
    {
     "name": "stdout",
     "output_type": "stream",
     "text": [
      "\n",
      "==================================================================\n",
      " Logistic Regression\n",
      "==================================================================\n",
      "\n",
      "Accuracy: 0.852\n",
      "Weighted_Precision: 0.857\n",
      "Weighted_Recall: 0.852\n",
      "Weighted_F1_score: 0.854\n",
      "\n",
      "Balanced Accuracy:  0.7512893982808022\n",
      "              precision    recall  f1-score   support\n",
      "\n",
      "           0       0.92      0.90      0.91       349\n",
      "           1       0.55      0.60      0.58        70\n",
      "\n",
      "    accuracy                           0.85       419\n",
      "   macro avg       0.74      0.75      0.74       419\n",
      "weighted avg       0.86      0.85      0.85       419\n",
      "\n"
     ]
    }
   ],
   "source": [
    "logistic_regression(X_ros,y_ros,X_test,y_test,class_ratio='balanced')\n"
   ]
  },
  {
   "cell_type": "code",
   "execution_count": null,
   "metadata": {
    "colab": {
     "base_uri": "https://localhost:8080/"
    },
    "executionInfo": {
     "elapsed": 757,
     "status": "ok",
     "timestamp": 1654376702673,
     "user": {
      "displayName": "Shweta Chandole",
      "userId": "17582944756805634685"
     },
     "user_tz": 240
    },
    "id": "ftNDxTk_bEoC",
    "outputId": "f400bb23-73a4-418c-baea-4309e59a2338"
   },
   "outputs": [
    {
     "name": "stdout",
     "output_type": "stream",
     "text": [
      "\n",
      "==================================================================\n",
      " Logistic Regression\n",
      "==================================================================\n",
      "\n",
      "Accuracy: 0.852\n",
      "Weighted_Precision: 0.857\n",
      "Weighted_Recall: 0.852\n",
      "Weighted_F1_score: 0.854\n",
      "\n",
      "Balanced Accuracy:  0.7512893982808022\n",
      "              precision    recall  f1-score   support\n",
      "\n",
      "           0       0.92      0.90      0.91       349\n",
      "           1       0.55      0.60      0.58        70\n",
      "\n",
      "    accuracy                           0.85       419\n",
      "   macro avg       0.74      0.75      0.74       419\n",
      "weighted avg       0.86      0.85      0.85       419\n",
      "\n"
     ]
    }
   ],
   "source": [
    "logistic_regression(X_ros,y_ros,X_test,y_test,class_ratio=None)\n"
   ]
  },
  {
   "cell_type": "code",
   "execution_count": null,
   "metadata": {
    "colab": {
     "base_uri": "https://localhost:8080/"
    },
    "executionInfo": {
     "elapsed": 2410,
     "status": "ok",
     "timestamp": 1654376705079,
     "user": {
      "displayName": "Shweta Chandole",
      "userId": "17582944756805634685"
     },
     "user_tz": 240
    },
    "id": "vLSvDF8-bEoC",
    "outputId": "b8e96004-78d4-4e66-dc40-5958c62cd27e"
   },
   "outputs": [
    {
     "name": "stdout",
     "output_type": "stream",
     "text": [
      "\n",
      "==================================================================\n",
      "       Random Forest\n",
      "==================================================================\n",
      "\n",
      "Accuracy: 1.000\n",
      "Weighted_Precision: 1.000\n",
      "Weighted_Recall: 1.000\n",
      "Weighted_F1_score: 1.000\n",
      "\n",
      "Balanced Accuracy:  1.0\n",
      "              precision    recall  f1-score   support\n",
      "\n",
      "           0       1.00      1.00      1.00       349\n",
      "           1       1.00      1.00      1.00        70\n",
      "\n",
      "    accuracy                           1.00       419\n",
      "   macro avg       1.00      1.00      1.00       419\n",
      "weighted avg       1.00      1.00      1.00       419\n",
      "\n"
     ]
    }
   ],
   "source": [
    "random_forest(X_ros,y_ros,X_test,y_test,class_ratio='balanced')\n"
   ]
  },
  {
   "cell_type": "code",
   "execution_count": null,
   "metadata": {
    "colab": {
     "base_uri": "https://localhost:8080/"
    },
    "executionInfo": {
     "elapsed": 30728,
     "status": "ok",
     "timestamp": 1654376735802,
     "user": {
      "displayName": "Shweta Chandole",
      "userId": "17582944756805634685"
     },
     "user_tz": 240
    },
    "id": "ombG6K7FbEoC",
    "outputId": "2c1ba3d1-75d1-49ae-f998-9ad3b0db33a4"
   },
   "outputs": [
    {
     "name": "stdout",
     "output_type": "stream",
     "text": [
      "\n",
      "==================================================================\n",
      "             XGBoost\n",
      "==================================================================\n",
      "\n",
      "Accuracy: 1.000\n",
      "Weighted_Precision: 1.000\n",
      "Weighted_Recall: 1.000\n",
      "Weighted_F1_score: 1.000\n",
      "\n",
      "Balanced Accuracy:  1.0\n",
      "              precision    recall  f1-score   support\n",
      "\n",
      "           0       1.00      1.00      1.00       349\n",
      "           1       1.00      1.00      1.00        70\n",
      "\n",
      "    accuracy                           1.00       419\n",
      "   macro avg       1.00      1.00      1.00       419\n",
      "weighted avg       1.00      1.00      1.00       419\n",
      "\n"
     ]
    }
   ],
   "source": [
    "xg_boost(X_ros,y_ros,X_test,y_test)\n"
   ]
  },
  {
   "cell_type": "code",
   "execution_count": null,
   "metadata": {
    "colab": {
     "base_uri": "https://localhost:8080/"
    },
    "executionInfo": {
     "elapsed": 177637,
     "status": "ok",
     "timestamp": 1654376913417,
     "user": {
      "displayName": "Shweta Chandole",
      "userId": "17582944756805634685"
     },
     "user_tz": 240
    },
    "id": "THLKuIgBbEoC",
    "outputId": "ab3cdec6-f3d0-4b3d-ace9-d193efd5dbfa"
   },
   "outputs": [
    {
     "name": "stdout",
     "output_type": "stream",
     "text": [
      "\n",
      "==================================================================\n",
      "Ensemble Stacked Classifiers\n",
      "==================================================================\n",
      "\n",
      "Accuracy: 1.000\n",
      "Weighted_Precision: 1.000\n",
      "Weighted_Recall: 1.000\n",
      "Weighted_F1_score: 1.000\n",
      "\n",
      "Balanced Accuracy:  1.0\n",
      "              precision    recall  f1-score   support\n",
      "\n",
      "           0       1.00      1.00      1.00       349\n",
      "           1       1.00      1.00      1.00        70\n",
      "\n",
      "    accuracy                           1.00       419\n",
      "   macro avg       1.00      1.00      1.00       419\n",
      "weighted avg       1.00      1.00      1.00       419\n",
      "\n"
     ]
    }
   ],
   "source": [
    "ensemble_stacked(X_ros,y_ros,X_test,y_test)\n"
   ]
  },
  {
   "cell_type": "code",
   "execution_count": null,
   "metadata": {
    "colab": {
     "base_uri": "https://localhost:8080/"
    },
    "executionInfo": {
     "elapsed": 34553,
     "status": "ok",
     "timestamp": 1654376947939,
     "user": {
      "displayName": "Shweta Chandole",
      "userId": "17582944756805634685"
     },
     "user_tz": 240
    },
    "id": "Agt6mMJfbEoD",
    "outputId": "b50903d0-6f7d-4f3b-9011-75be00e8b7c1"
   },
   "outputs": [
    {
     "name": "stdout",
     "output_type": "stream",
     "text": [
      "\n",
      "==================================================================\n",
      "   Voting Classifier\n",
      "==================================================================\n",
      "\n",
      "Accuracy: 0.950\n",
      "Weighted_Precision: 0.953\n",
      "Weighted_Recall: 0.950\n",
      "Weighted_F1_score: 0.946\n",
      "\n",
      "Balanced Accuracy:  0.85\n",
      "              precision    recall  f1-score   support\n",
      "\n",
      "           0       0.94      1.00      0.97       349\n",
      "           1       1.00      0.70      0.82        70\n",
      "\n",
      "    accuracy                           0.95       419\n",
      "   macro avg       0.97      0.85      0.90       419\n",
      "weighted avg       0.95      0.95      0.95       419\n",
      "\n"
     ]
    }
   ],
   "source": [
    "voting_classifiers(X_ros,y_ros,X_test,y_test)\n"
   ]
  },
  {
   "cell_type": "code",
   "execution_count": null,
   "metadata": {
    "colab": {
     "base_uri": "https://localhost:8080/"
    },
    "executionInfo": {
     "elapsed": 5671,
     "status": "ok",
     "timestamp": 1654376953582,
     "user": {
      "displayName": "Shweta Chandole",
      "userId": "17582944756805634685"
     },
     "user_tz": 240
    },
    "id": "GpX6mco8bEoD",
    "outputId": "a01c4e83-6210-4744-8f53-c4b830a2ec41"
   },
   "outputs": [
    {
     "name": "stdout",
     "output_type": "stream",
     "text": [
      "\n",
      "==================================================================\n",
      "Bagging Calssifier LR\n",
      "==================================================================\n",
      "\n",
      "Accuracy: 0.833\n",
      "Weighted_Precision: 0.853\n",
      "Weighted_Recall: 0.833\n",
      "Weighted_F1_score: 0.841\n",
      "\n",
      "Balanced Accuracy:  0.7569586573884568\n",
      "              precision    recall  f1-score   support\n",
      "\n",
      "           0       0.92      0.87      0.90       349\n",
      "           1       0.50      0.64      0.56        70\n",
      "\n",
      "    accuracy                           0.83       419\n",
      "   macro avg       0.71      0.76      0.73       419\n",
      "weighted avg       0.85      0.83      0.84       419\n",
      "\n"
     ]
    }
   ],
   "source": [
    "Bagging_Classifier_LR(X_ros,y_ros,X_test,y_test)\n"
   ]
  },
  {
   "cell_type": "code",
   "execution_count": null,
   "metadata": {
    "colab": {
     "base_uri": "https://localhost:8080/"
    },
    "executionInfo": {
     "elapsed": 22574,
     "status": "ok",
     "timestamp": 1654376976131,
     "user": {
      "displayName": "Shweta Chandole",
      "userId": "17582944756805634685"
     },
     "user_tz": 240
    },
    "id": "7AtzVkh8bEoD",
    "outputId": "468409b4-52a3-4741-fde2-ca52352dcf6f"
   },
   "outputs": [
    {
     "name": "stdout",
     "output_type": "stream",
     "text": [
      "\n",
      "==================================================================\n",
      "Bagging Calssifier SVM\n",
      "==================================================================\n",
      "\n",
      "Accuracy: 0.881\n",
      "Weighted_Precision: 0.882\n",
      "Weighted_Recall: 0.881\n",
      "Weighted_F1_score: 0.881\n",
      "\n",
      "Balanced Accuracy:  0.7913221449038068\n",
      "              precision    recall  f1-score   support\n",
      "\n",
      "           0       0.93      0.93      0.93       349\n",
      "           1       0.64      0.66      0.65        70\n",
      "\n",
      "    accuracy                           0.88       419\n",
      "   macro avg       0.78      0.79      0.79       419\n",
      "weighted avg       0.88      0.88      0.88       419\n",
      "\n"
     ]
    }
   ],
   "source": [
    "Bagging_Classifier_SVM(X_ros,y_ros,X_test,y_test)\n"
   ]
  },
  {
   "cell_type": "code",
   "execution_count": null,
   "metadata": {
    "colab": {
     "base_uri": "https://localhost:8080/"
    },
    "executionInfo": {
     "elapsed": 6863,
     "status": "ok",
     "timestamp": 1654376982971,
     "user": {
      "displayName": "Shweta Chandole",
      "userId": "17582944756805634685"
     },
     "user_tz": 240
    },
    "id": "69y3YBy9bEoD",
    "outputId": "79913544-f9d8-4291-fbb2-3792f149e4b7"
   },
   "outputs": [
    {
     "name": "stdout",
     "output_type": "stream",
     "text": [
      "\n",
      "==================================================================\n",
      "   Gradient Boosting\n",
      "==================================================================\n",
      "\n",
      "Accuracy: 1.000\n",
      "Weighted_Precision: 1.000\n",
      "Weighted_Recall: 1.000\n",
      "Weighted_F1_score: 1.000\n",
      "\n",
      "Balanced Accuracy:  1.0\n",
      "              precision    recall  f1-score   support\n",
      "\n",
      "           0       1.00      1.00      1.00       349\n",
      "           1       1.00      1.00      1.00        70\n",
      "\n",
      "    accuracy                           1.00       419\n",
      "   macro avg       1.00      1.00      1.00       419\n",
      "weighted avg       1.00      1.00      1.00       419\n",
      "\n"
     ]
    }
   ],
   "source": [
    "gradient_boosting(X_ros,y_ros,X_test,y_test)\n"
   ]
  },
  {
   "cell_type": "code",
   "execution_count": null,
   "metadata": {
    "id": "z_RmqxArWqbK"
   },
   "outputs": [],
   "source": []
  },
  {
   "cell_type": "markdown",
   "metadata": {
    "id": "mWYFF-W4XXw3"
   },
   "source": [
    "#### Under-sampling: Tomek links\n"
   ]
  },
  {
   "cell_type": "code",
   "execution_count": null,
   "metadata": {
    "id": "AD7LM-1HWqtc"
   },
   "outputs": [],
   "source": [
    "from imblearn.under_sampling import TomekLinks\n",
    "\n",
    "tl = TomekLinks( sampling_strategy='majority')\n",
    "X_tl, y_tl = tl.fit_resample(X_train,y_train)"
   ]
  },
  {
   "cell_type": "code",
   "execution_count": null,
   "metadata": {
    "id": "b0sgGBs0bG6q"
   },
   "outputs": [],
   "source": [
    "df_train=X_tl.copy()\n",
    "df_train['target']=y_tl\n",
    "#df_train.to_csv('/content/drive/MyDrive/Omdena_ RadmolAI/Sampled_datasets/imblearn_TomekLinks_Random_over_sampled_train.csv')"
   ]
  },
  {
   "cell_type": "code",
   "execution_count": null,
   "metadata": {
    "colab": {
     "base_uri": "https://localhost:8080/"
    },
    "executionInfo": {
     "elapsed": 49116,
     "status": "ok",
     "timestamp": 1654377032470,
     "user": {
      "displayName": "Shweta Chandole",
      "userId": "17582944756805634685"
     },
     "user_tz": 240
    },
    "id": "mmFXdRQpbFRu",
    "outputId": "bc700746-efeb-4e69-871e-73908527ccc3"
   },
   "outputs": [
    {
     "name": "stdout",
     "output_type": "stream",
     "text": [
      "\n",
      "==================================================================\n",
      "          Linear SVM\n",
      "==================================================================\n",
      "\n",
      "Accuracy: 0.883\n",
      "Weighted_Precision: 0.873\n",
      "Weighted_Recall: 0.883\n",
      "Weighted_F1_score: 0.870\n",
      "\n",
      "Balanced Accuracy:  0.7071019238641014\n",
      "              precision    recall  f1-score   support\n",
      "\n",
      "           0       0.90      0.97      0.93       349\n",
      "           1       0.76      0.44      0.56        70\n",
      "\n",
      "    accuracy                           0.88       419\n",
      "   macro avg       0.83      0.71      0.75       419\n",
      "weighted avg       0.87      0.88      0.87       419\n",
      "\n"
     ]
    }
   ],
   "source": [
    "linear_svm_grid(X_tl,y_tl,X_test,y_test,class_ratio='balanced')\n"
   ]
  },
  {
   "cell_type": "code",
   "execution_count": null,
   "metadata": {
    "colab": {
     "base_uri": "https://localhost:8080/"
    },
    "executionInfo": {
     "elapsed": 50184,
     "status": "ok",
     "timestamp": 1654377082629,
     "user": {
      "displayName": "Shweta Chandole",
      "userId": "17582944756805634685"
     },
     "user_tz": 240
    },
    "id": "qz1cmNb7bFRv",
    "outputId": "6dfd21b6-dea1-407c-e032-567122f16afc"
   },
   "outputs": [
    {
     "name": "stdout",
     "output_type": "stream",
     "text": [
      "\n",
      "==================================================================\n",
      "          Linear SVM\n",
      "==================================================================\n",
      "\n",
      "Accuracy: 0.881\n",
      "Weighted_Precision: 0.887\n",
      "Weighted_Recall: 0.881\n",
      "Weighted_F1_score: 0.883\n",
      "\n",
      "Balanced Accuracy:  0.8084527220630373\n",
      "              precision    recall  f1-score   support\n",
      "\n",
      "           0       0.94      0.92      0.93       349\n",
      "           1       0.63      0.70      0.66        70\n",
      "\n",
      "    accuracy                           0.88       419\n",
      "   macro avg       0.78      0.81      0.79       419\n",
      "weighted avg       0.89      0.88      0.88       419\n",
      "\n"
     ]
    }
   ],
   "source": [
    "linear_svm_grid(X_tl,y_tl,X_test,y_test,class_ratio=None)\n"
   ]
  },
  {
   "cell_type": "code",
   "execution_count": null,
   "metadata": {
    "colab": {
     "base_uri": "https://localhost:8080/"
    },
    "executionInfo": {
     "elapsed": 98327,
     "status": "ok",
     "timestamp": 1654377180928,
     "user": {
      "displayName": "Shweta Chandole",
      "userId": "17582944756805634685"
     },
     "user_tz": 240
    },
    "id": "192qy3X_bFRv",
    "outputId": "221b2409-fcfd-49b9-c6d3-a738dd98e7f7"
   },
   "outputs": [
    {
     "name": "stdout",
     "output_type": "stream",
     "text": [
      "\n",
      "==================================================================\n",
      "       Nonlinear SVM\n",
      "==================================================================\n",
      "\n",
      "Accuracy: 0.833\n",
      "Weighted_Precision: 0.694\n",
      "Weighted_Recall: 0.833\n",
      "Weighted_F1_score: 0.757\n",
      "\n",
      "Balanced Accuracy:  0.5\n",
      "              precision    recall  f1-score   support\n",
      "\n",
      "           0       0.83      1.00      0.91       349\n",
      "           1       0.00      0.00      0.00        70\n",
      "\n",
      "    accuracy                           0.83       419\n",
      "   macro avg       0.42      0.50      0.45       419\n",
      "weighted avg       0.69      0.83      0.76       419\n",
      "\n"
     ]
    }
   ],
   "source": [
    "nonlinear_svm_grid(X_tl,y_tl,X_test,y_test,class_ratio='balanced')\n"
   ]
  },
  {
   "cell_type": "code",
   "execution_count": null,
   "metadata": {
    "colab": {
     "base_uri": "https://localhost:8080/"
    },
    "executionInfo": {
     "elapsed": 99797,
     "status": "ok",
     "timestamp": 1654377280696,
     "user": {
      "displayName": "Shweta Chandole",
      "userId": "17582944756805634685"
     },
     "user_tz": 240
    },
    "id": "_ebf6KPbbFRv",
    "outputId": "34197cc6-a8ee-4004-eb20-0a7a97182f87"
   },
   "outputs": [
    {
     "name": "stdout",
     "output_type": "stream",
     "text": [
      "\n",
      "==================================================================\n",
      "       Nonlinear SVM\n",
      "==================================================================\n",
      "\n",
      "Accuracy: 0.833\n",
      "Weighted_Precision: 0.694\n",
      "Weighted_Recall: 0.833\n",
      "Weighted_F1_score: 0.757\n",
      "\n",
      "Balanced Accuracy:  0.5\n",
      "              precision    recall  f1-score   support\n",
      "\n",
      "           0       0.83      1.00      0.91       349\n",
      "           1       0.00      0.00      0.00        70\n",
      "\n",
      "    accuracy                           0.83       419\n",
      "   macro avg       0.42      0.50      0.45       419\n",
      "weighted avg       0.69      0.83      0.76       419\n",
      "\n"
     ]
    }
   ],
   "source": [
    "nonlinear_svm_grid(X_tl,y_tl,X_test,y_test,class_ratio=None)\n"
   ]
  },
  {
   "cell_type": "code",
   "execution_count": null,
   "metadata": {
    "colab": {
     "base_uri": "https://localhost:8080/"
    },
    "executionInfo": {
     "elapsed": 8633,
     "status": "ok",
     "timestamp": 1654377289301,
     "user": {
      "displayName": "Shweta Chandole",
      "userId": "17582944756805634685"
     },
     "user_tz": 240
    },
    "id": "RA4okWaEbFRv",
    "outputId": "a58fed05-4bb1-47f0-e82e-361624169f1c"
   },
   "outputs": [
    {
     "name": "stdout",
     "output_type": "stream",
     "text": [
      "\n",
      "==================================================================\n",
      " Logistic Regression\n",
      "==================================================================\n",
      "\n",
      "Accuracy: 0.842\n",
      "Weighted_Precision: 0.850\n",
      "Weighted_Recall: 0.842\n",
      "Weighted_F1_score: 0.846\n",
      "\n",
      "Balanced Accuracy:  0.7398485468686042\n",
      "              precision    recall  f1-score   support\n",
      "\n",
      "           0       0.91      0.89      0.90       349\n",
      "           1       0.53      0.59      0.55        70\n",
      "\n",
      "    accuracy                           0.84       419\n",
      "   macro avg       0.72      0.74      0.73       419\n",
      "weighted avg       0.85      0.84      0.85       419\n",
      "\n"
     ]
    }
   ],
   "source": [
    "logistic_regression_grid(X_tl,y_tl,X_test,y_test,class_ratio='balanced')\n"
   ]
  },
  {
   "cell_type": "code",
   "execution_count": null,
   "metadata": {
    "colab": {
     "base_uri": "https://localhost:8080/"
    },
    "executionInfo": {
     "elapsed": 8603,
     "status": "ok",
     "timestamp": 1654377297882,
     "user": {
      "displayName": "Shweta Chandole",
      "userId": "17582944756805634685"
     },
     "user_tz": 240
    },
    "id": "Z0HJM4tSbFRv",
    "outputId": "024cf44d-93ff-422b-b982-2d11e04ae4f4"
   },
   "outputs": [
    {
     "name": "stdout",
     "output_type": "stream",
     "text": [
      "\n",
      "==================================================================\n",
      " Logistic Regression\n",
      "==================================================================\n",
      "\n",
      "Accuracy: 0.850\n",
      "Weighted_Precision: 0.838\n",
      "Weighted_Recall: 0.850\n",
      "Weighted_F1_score: 0.842\n",
      "\n",
      "Balanced Accuracy:  0.6870446172738436\n",
      "              precision    recall  f1-score   support\n",
      "\n",
      "           0       0.89      0.93      0.91       349\n",
      "           1       0.56      0.44      0.50        70\n",
      "\n",
      "    accuracy                           0.85       419\n",
      "   macro avg       0.73      0.69      0.70       419\n",
      "weighted avg       0.84      0.85      0.84       419\n",
      "\n"
     ]
    }
   ],
   "source": [
    "logistic_regression_grid(X_tl,y_tl,X_test,y_test,class_ratio=None)\n"
   ]
  },
  {
   "cell_type": "code",
   "execution_count": null,
   "metadata": {
    "colab": {
     "base_uri": "https://localhost:8080/"
    },
    "executionInfo": {
     "elapsed": 2015,
     "status": "ok",
     "timestamp": 1654377299874,
     "user": {
      "displayName": "Shweta Chandole",
      "userId": "17582944756805634685"
     },
     "user_tz": 240
    },
    "id": "E5quFlJubFRv",
    "outputId": "c842e1ab-70d2-4785-c536-f0b391575712"
   },
   "outputs": [
    {
     "name": "stdout",
     "output_type": "stream",
     "text": [
      "\n",
      "==================================================================\n",
      "          Linear SVM\n",
      "==================================================================\n",
      "\n",
      "Accuracy: 0.888\n",
      "Weighted_Precision: 0.888\n",
      "Weighted_Recall: 0.888\n",
      "Weighted_F1_score: 0.888\n",
      "\n",
      "Balanced Accuracy:  0.8013303315595579\n",
      "              precision    recall  f1-score   support\n",
      "\n",
      "           0       0.93      0.93      0.93       349\n",
      "           1       0.66      0.67      0.67        70\n",
      "\n",
      "    accuracy                           0.89       419\n",
      "   macro avg       0.80      0.80      0.80       419\n",
      "weighted avg       0.89      0.89      0.89       419\n",
      "\n"
     ]
    }
   ],
   "source": [
    "linear_svm(X_tl,y_tl,X_test,y_test,class_ratio='balanced')\n"
   ]
  },
  {
   "cell_type": "code",
   "execution_count": null,
   "metadata": {
    "colab": {
     "base_uri": "https://localhost:8080/"
    },
    "executionInfo": {
     "elapsed": 2039,
     "status": "ok",
     "timestamp": 1654377301908,
     "user": {
      "displayName": "Shweta Chandole",
      "userId": "17582944756805634685"
     },
     "user_tz": 240
    },
    "id": "tQuL-X0FbFRv",
    "outputId": "3736c15f-eb43-4353-96ca-b5151be99643"
   },
   "outputs": [
    {
     "name": "stdout",
     "output_type": "stream",
     "text": [
      "\n",
      "==================================================================\n",
      "          Linear SVM\n",
      "==================================================================\n",
      "\n",
      "Accuracy: 0.885\n",
      "Weighted_Precision: 0.877\n",
      "Weighted_Recall: 0.885\n",
      "Weighted_F1_score: 0.879\n",
      "\n",
      "Balanced Accuracy:  0.7485059353254195\n",
      "              precision    recall  f1-score   support\n",
      "\n",
      "           0       0.91      0.95      0.93       349\n",
      "           1       0.70      0.54      0.61        70\n",
      "\n",
      "    accuracy                           0.89       419\n",
      "   macro avg       0.81      0.75      0.77       419\n",
      "weighted avg       0.88      0.89      0.88       419\n",
      "\n"
     ]
    }
   ],
   "source": [
    "linear_svm(X_tl,y_tl,X_test,y_test,class_ratio=None)\n"
   ]
  },
  {
   "cell_type": "code",
   "execution_count": null,
   "metadata": {
    "colab": {
     "base_uri": "https://localhost:8080/"
    },
    "executionInfo": {
     "elapsed": 241,
     "status": "ok",
     "timestamp": 1654377302134,
     "user": {
      "displayName": "Shweta Chandole",
      "userId": "17582944756805634685"
     },
     "user_tz": 240
    },
    "id": "vB3BGqagbFRv",
    "outputId": "0fb65190-cf1b-40dd-bbee-fde45fa4c1b1"
   },
   "outputs": [
    {
     "name": "stdout",
     "output_type": "stream",
     "text": [
      "\n",
      "==================================================================\n",
      " Logistic Regression\n",
      "==================================================================\n",
      "\n",
      "Accuracy: 0.842\n",
      "Weighted_Precision: 0.856\n",
      "Weighted_Recall: 0.842\n",
      "Weighted_F1_score: 0.848\n",
      "\n",
      "Balanced Accuracy:  0.7569791240278346\n",
      "              precision    recall  f1-score   support\n",
      "\n",
      "           0       0.92      0.89      0.90       349\n",
      "           1       0.52      0.63      0.57        70\n",
      "\n",
      "    accuracy                           0.84       419\n",
      "   macro avg       0.72      0.76      0.74       419\n",
      "weighted avg       0.86      0.84      0.85       419\n",
      "\n"
     ]
    }
   ],
   "source": [
    "logistic_regression(X_tl,y_tl,X_test,y_test,class_ratio='balanced')\n"
   ]
  },
  {
   "cell_type": "code",
   "execution_count": null,
   "metadata": {
    "colab": {
     "base_uri": "https://localhost:8080/"
    },
    "executionInfo": {
     "elapsed": 365,
     "status": "ok",
     "timestamp": 1654377302495,
     "user": {
      "displayName": "Shweta Chandole",
      "userId": "17582944756805634685"
     },
     "user_tz": 240
    },
    "id": "vJ9OYMlFbFRw",
    "outputId": "6f677575-3f40-4088-83b4-baa5f588157b"
   },
   "outputs": [
    {
     "name": "stdout",
     "output_type": "stream",
     "text": [
      "\n",
      "==================================================================\n",
      " Logistic Regression\n",
      "==================================================================\n",
      "\n",
      "Accuracy: 0.845\n",
      "Weighted_Precision: 0.831\n",
      "Weighted_Recall: 0.845\n",
      "Weighted_F1_score: 0.836\n",
      "\n",
      "Balanced Accuracy:  0.6727589029881293\n",
      "              precision    recall  f1-score   support\n",
      "\n",
      "           0       0.89      0.93      0.91       349\n",
      "           1       0.55      0.41      0.47        70\n",
      "\n",
      "    accuracy                           0.84       419\n",
      "   macro avg       0.72      0.67      0.69       419\n",
      "weighted avg       0.83      0.84      0.84       419\n",
      "\n"
     ]
    }
   ],
   "source": [
    "logistic_regression(X_tl,y_tl,X_test,y_test,class_ratio=None)\n"
   ]
  },
  {
   "cell_type": "code",
   "execution_count": null,
   "metadata": {
    "colab": {
     "base_uri": "https://localhost:8080/"
    },
    "executionInfo": {
     "elapsed": 1944,
     "status": "ok",
     "timestamp": 1654377304435,
     "user": {
      "displayName": "Shweta Chandole",
      "userId": "17582944756805634685"
     },
     "user_tz": 240
    },
    "id": "kAN3NHqrbFRw",
    "outputId": "ecf475a7-4822-43b3-baa9-23f973b2fc49"
   },
   "outputs": [
    {
     "name": "stdout",
     "output_type": "stream",
     "text": [
      "\n",
      "==================================================================\n",
      "       Random Forest\n",
      "==================================================================\n",
      "\n",
      "Accuracy: 1.000\n",
      "Weighted_Precision: 1.000\n",
      "Weighted_Recall: 1.000\n",
      "Weighted_F1_score: 1.000\n",
      "\n",
      "Balanced Accuracy:  1.0\n",
      "              precision    recall  f1-score   support\n",
      "\n",
      "           0       1.00      1.00      1.00       349\n",
      "           1       1.00      1.00      1.00        70\n",
      "\n",
      "    accuracy                           1.00       419\n",
      "   macro avg       1.00      1.00      1.00       419\n",
      "weighted avg       1.00      1.00      1.00       419\n",
      "\n"
     ]
    }
   ],
   "source": [
    "random_forest(X_tl,y_tl,X_test,y_test,class_ratio='balanced')\n"
   ]
  },
  {
   "cell_type": "code",
   "execution_count": null,
   "metadata": {
    "colab": {
     "base_uri": "https://localhost:8080/"
    },
    "executionInfo": {
     "elapsed": 18074,
     "status": "ok",
     "timestamp": 1654377322503,
     "user": {
      "displayName": "Shweta Chandole",
      "userId": "17582944756805634685"
     },
     "user_tz": 240
    },
    "id": "XjupuY1NbFRw",
    "outputId": "e3d99724-e355-4c0e-9b48-65f4e7ac3d9d"
   },
   "outputs": [
    {
     "name": "stdout",
     "output_type": "stream",
     "text": [
      "\n",
      "==================================================================\n",
      "             XGBoost\n",
      "==================================================================\n",
      "\n",
      "Accuracy: 1.000\n",
      "Weighted_Precision: 1.000\n",
      "Weighted_Recall: 1.000\n",
      "Weighted_F1_score: 1.000\n",
      "\n",
      "Balanced Accuracy:  1.0\n",
      "              precision    recall  f1-score   support\n",
      "\n",
      "           0       1.00      1.00      1.00       349\n",
      "           1       1.00      1.00      1.00        70\n",
      "\n",
      "    accuracy                           1.00       419\n",
      "   macro avg       1.00      1.00      1.00       419\n",
      "weighted avg       1.00      1.00      1.00       419\n",
      "\n"
     ]
    }
   ],
   "source": [
    "xg_boost(X_tl,y_tl,X_test,y_test)\n"
   ]
  },
  {
   "cell_type": "code",
   "execution_count": null,
   "metadata": {
    "colab": {
     "base_uri": "https://localhost:8080/"
    },
    "executionInfo": {
     "elapsed": 104137,
     "status": "ok",
     "timestamp": 1654377426619,
     "user": {
      "displayName": "Shweta Chandole",
      "userId": "17582944756805634685"
     },
     "user_tz": 240
    },
    "id": "2-cOXMUVbFRw",
    "outputId": "201f52b0-f6a6-413e-a82d-c1cf28a9921d"
   },
   "outputs": [
    {
     "name": "stdout",
     "output_type": "stream",
     "text": [
      "\n",
      "==================================================================\n",
      "Ensemble Stacked Classifiers\n",
      "==================================================================\n",
      "\n",
      "Accuracy: 1.000\n",
      "Weighted_Precision: 1.000\n",
      "Weighted_Recall: 1.000\n",
      "Weighted_F1_score: 1.000\n",
      "\n",
      "Balanced Accuracy:  1.0\n",
      "              precision    recall  f1-score   support\n",
      "\n",
      "           0       1.00      1.00      1.00       349\n",
      "           1       1.00      1.00      1.00        70\n",
      "\n",
      "    accuracy                           1.00       419\n",
      "   macro avg       1.00      1.00      1.00       419\n",
      "weighted avg       1.00      1.00      1.00       419\n",
      "\n"
     ]
    }
   ],
   "source": [
    "ensemble_stacked(X_tl,y_tl,X_test,y_test)\n"
   ]
  },
  {
   "cell_type": "code",
   "execution_count": null,
   "metadata": {
    "colab": {
     "base_uri": "https://localhost:8080/"
    },
    "executionInfo": {
     "elapsed": 20711,
     "status": "ok",
     "timestamp": 1654377447307,
     "user": {
      "displayName": "Shweta Chandole",
      "userId": "17582944756805634685"
     },
     "user_tz": 240
    },
    "id": "dUZXGn9pbFRw",
    "outputId": "ac478715-37b4-4aea-8d0d-34923ebf0840"
   },
   "outputs": [
    {
     "name": "stdout",
     "output_type": "stream",
     "text": [
      "\n",
      "==================================================================\n",
      "   Voting Classifier\n",
      "==================================================================\n",
      "\n",
      "Accuracy: 0.938\n",
      "Weighted_Precision: 0.942\n",
      "Weighted_Recall: 0.938\n",
      "Weighted_F1_score: 0.932\n",
      "\n",
      "Balanced Accuracy:  0.8142857142857143\n",
      "              precision    recall  f1-score   support\n",
      "\n",
      "           0       0.93      1.00      0.96       349\n",
      "           1       1.00      0.63      0.77        70\n",
      "\n",
      "    accuracy                           0.94       419\n",
      "   macro avg       0.97      0.81      0.87       419\n",
      "weighted avg       0.94      0.94      0.93       419\n",
      "\n"
     ]
    }
   ],
   "source": [
    "voting_classifiers(X_tl,y_tl,X_test,y_test)\n"
   ]
  },
  {
   "cell_type": "code",
   "execution_count": null,
   "metadata": {
    "colab": {
     "base_uri": "https://localhost:8080/"
    },
    "executionInfo": {
     "elapsed": 2938,
     "status": "ok",
     "timestamp": 1654377450216,
     "user": {
      "displayName": "Shweta Chandole",
      "userId": "17582944756805634685"
     },
     "user_tz": 240
    },
    "id": "FP82m9GJbFRw",
    "outputId": "47518c61-0a45-47cf-91a2-cad5e3c6aea3"
   },
   "outputs": [
    {
     "name": "stdout",
     "output_type": "stream",
     "text": [
      "\n",
      "==================================================================\n",
      "Bagging Calssifier LR\n",
      "==================================================================\n",
      "\n",
      "Accuracy: 0.850\n",
      "Weighted_Precision: 0.844\n",
      "Weighted_Recall: 0.850\n",
      "Weighted_F1_score: 0.846\n",
      "\n",
      "Balanced Accuracy:  0.7098853868194843\n",
      "              precision    recall  f1-score   support\n",
      "\n",
      "           0       0.90      0.92      0.91       349\n",
      "           1       0.56      0.50      0.53        70\n",
      "\n",
      "    accuracy                           0.85       419\n",
      "   macro avg       0.73      0.71      0.72       419\n",
      "weighted avg       0.84      0.85      0.85       419\n",
      "\n"
     ]
    }
   ],
   "source": [
    "Bagging_Classifier_LR(X_tl,y_tl,X_test,y_test)\n"
   ]
  },
  {
   "cell_type": "code",
   "execution_count": null,
   "metadata": {
    "colab": {
     "base_uri": "https://localhost:8080/"
    },
    "executionInfo": {
     "elapsed": 11454,
     "status": "ok",
     "timestamp": 1654377461663,
     "user": {
      "displayName": "Shweta Chandole",
      "userId": "17582944756805634685"
     },
     "user_tz": 240
    },
    "id": "Bzije6vubFRw",
    "outputId": "3fe68b96-757f-496f-f512-fffe41069678"
   },
   "outputs": [
    {
     "name": "stdout",
     "output_type": "stream",
     "text": [
      "\n",
      "==================================================================\n",
      "Bagging Calssifier SVM\n",
      "==================================================================\n",
      "\n",
      "Accuracy: 0.885\n",
      "Weighted_Precision: 0.876\n",
      "Weighted_Recall: 0.885\n",
      "Weighted_F1_score: 0.877\n",
      "\n",
      "Balanced Accuracy:  0.731375358166189\n",
      "              precision    recall  f1-score   support\n",
      "\n",
      "           0       0.91      0.96      0.93       349\n",
      "           1       0.73      0.50      0.59        70\n",
      "\n",
      "    accuracy                           0.89       419\n",
      "   macro avg       0.82      0.73      0.76       419\n",
      "weighted avg       0.88      0.89      0.88       419\n",
      "\n"
     ]
    }
   ],
   "source": [
    "Bagging_Classifier_SVM(X_tl,y_tl,X_test,y_test)\n"
   ]
  },
  {
   "cell_type": "code",
   "execution_count": null,
   "metadata": {
    "colab": {
     "base_uri": "https://localhost:8080/"
    },
    "executionInfo": {
     "elapsed": 3048,
     "status": "ok",
     "timestamp": 1654377464704,
     "user": {
      "displayName": "Shweta Chandole",
      "userId": "17582944756805634685"
     },
     "user_tz": 240
    },
    "id": "zScMYXEkbFRw",
    "outputId": "149900e9-c4a3-4e9b-f1d7-48d73691572d"
   },
   "outputs": [
    {
     "name": "stdout",
     "output_type": "stream",
     "text": [
      "\n",
      "==================================================================\n",
      "   Gradient Boosting\n",
      "==================================================================\n",
      "\n",
      "Accuracy: 1.000\n",
      "Weighted_Precision: 1.000\n",
      "Weighted_Recall: 1.000\n",
      "Weighted_F1_score: 1.000\n",
      "\n",
      "Balanced Accuracy:  1.0\n",
      "              precision    recall  f1-score   support\n",
      "\n",
      "           0       1.00      1.00      1.00       349\n",
      "           1       1.00      1.00      1.00        70\n",
      "\n",
      "    accuracy                           1.00       419\n",
      "   macro avg       1.00      1.00      1.00       419\n",
      "weighted avg       1.00      1.00      1.00       419\n",
      "\n"
     ]
    }
   ],
   "source": [
    "gradient_boosting(X_tl,y_tl,X_test,y_test)\n"
   ]
  },
  {
   "cell_type": "code",
   "execution_count": null,
   "metadata": {
    "id": "K1XFMkSfWs5o"
   },
   "outputs": [],
   "source": []
  },
  {
   "cell_type": "markdown",
   "metadata": {
    "id": "JHiRReIBXciH"
   },
   "source": [
    "#### Under-sampling: Cluster Centroids\n"
   ]
  },
  {
   "cell_type": "code",
   "execution_count": null,
   "metadata": {
    "id": "LuCo2S5-WtA4"
   },
   "outputs": [],
   "source": [
    "from imblearn.under_sampling import ClusterCentroids\n",
    "\n",
    "cc = ClusterCentroids()\n",
    "X_cc, y_cc = cc.fit_resample(X_train,y_train)"
   ]
  },
  {
   "cell_type": "code",
   "execution_count": null,
   "metadata": {
    "id": "AHV8DtvibRp8"
   },
   "outputs": [],
   "source": [
    "df_train=X_cc.copy()\n",
    "df_train['target']=y_cc\n",
    "# df_train.to_csv('/content/drive/MyDrive/Omdena_ RadmolAI/Sampled_datasets/imblearn_ClusterCentroids_Random_under_sampled_train.csv')"
   ]
  },
  {
   "cell_type": "code",
   "execution_count": null,
   "metadata": {
    "colab": {
     "base_uri": "https://localhost:8080/"
    },
    "executionInfo": {
     "elapsed": 21413,
     "status": "ok",
     "timestamp": 1654377502336,
     "user": {
      "displayName": "Shweta Chandole",
      "userId": "17582944756805634685"
     },
     "user_tz": 240
    },
    "id": "a48zIrRJbGCG",
    "outputId": "8b1d487c-0816-465c-f7f6-57a64354112f"
   },
   "outputs": [
    {
     "name": "stdout",
     "output_type": "stream",
     "text": [
      "\n",
      "==================================================================\n",
      "          Linear SVM\n",
      "==================================================================\n",
      "\n",
      "Accuracy: 0.754\n",
      "Weighted_Precision: 0.824\n",
      "Weighted_Recall: 0.754\n",
      "Weighted_F1_score: 0.778\n",
      "\n",
      "Balanced Accuracy:  0.7096807204257061\n",
      "              precision    recall  f1-score   support\n",
      "\n",
      "           0       0.92      0.78      0.84       349\n",
      "           1       0.37      0.64      0.47        70\n",
      "\n",
      "    accuracy                           0.75       419\n",
      "   macro avg       0.64      0.71      0.65       419\n",
      "weighted avg       0.82      0.75      0.78       419\n",
      "\n"
     ]
    }
   ],
   "source": [
    "linear_svm_grid(X_cc,y_cc,X_test,y_test,class_ratio='balanced')\n"
   ]
  },
  {
   "cell_type": "code",
   "execution_count": null,
   "metadata": {
    "colab": {
     "base_uri": "https://localhost:8080/"
    },
    "executionInfo": {
     "elapsed": 22587,
     "status": "ok",
     "timestamp": 1654377524893,
     "user": {
      "displayName": "Shweta Chandole",
      "userId": "17582944756805634685"
     },
     "user_tz": 240
    },
    "id": "7cZ2u9bvbGCG",
    "outputId": "2a3bbd9e-5d8f-4190-e347-37f632d483f7"
   },
   "outputs": [
    {
     "name": "stdout",
     "output_type": "stream",
     "text": [
      "\n",
      "==================================================================\n",
      "          Linear SVM\n",
      "==================================================================\n",
      "\n",
      "Accuracy: 0.802\n",
      "Weighted_Precision: 0.830\n",
      "Weighted_Recall: 0.802\n",
      "Weighted_F1_score: 0.813\n",
      "\n",
      "Balanced Accuracy:  0.7154932460090053\n",
      "              precision    recall  f1-score   support\n",
      "\n",
      "           0       0.91      0.85      0.88       349\n",
      "           1       0.43      0.59      0.50        70\n",
      "\n",
      "    accuracy                           0.80       419\n",
      "   macro avg       0.67      0.72      0.69       419\n",
      "weighted avg       0.83      0.80      0.81       419\n",
      "\n"
     ]
    }
   ],
   "source": [
    "linear_svm_grid(X_cc,y_cc,X_test,y_test,class_ratio=None)\n"
   ]
  },
  {
   "cell_type": "code",
   "execution_count": null,
   "metadata": {
    "colab": {
     "base_uri": "https://localhost:8080/"
    },
    "executionInfo": {
     "elapsed": 13229,
     "status": "ok",
     "timestamp": 1654377538095,
     "user": {
      "displayName": "Shweta Chandole",
      "userId": "17582944756805634685"
     },
     "user_tz": 240
    },
    "id": "khfrLL_ybGCG",
    "outputId": "ecdb701a-291f-4518-f929-1238e2eb5903"
   },
   "outputs": [
    {
     "name": "stdout",
     "output_type": "stream",
     "text": [
      "\n",
      "==================================================================\n",
      "       Nonlinear SVM\n",
      "==================================================================\n",
      "\n",
      "Accuracy: 0.167\n",
      "Weighted_Precision: 0.028\n",
      "Weighted_Recall: 0.167\n",
      "Weighted_F1_score: 0.048\n",
      "\n",
      "Balanced Accuracy:  0.5\n",
      "              precision    recall  f1-score   support\n",
      "\n",
      "           0       0.00      0.00      0.00       349\n",
      "           1       0.17      1.00      0.29        70\n",
      "\n",
      "    accuracy                           0.17       419\n",
      "   macro avg       0.08      0.50      0.14       419\n",
      "weighted avg       0.03      0.17      0.05       419\n",
      "\n"
     ]
    }
   ],
   "source": [
    "nonlinear_svm_grid(X_cc,y_cc,X_test,y_test,class_ratio='balanced')\n"
   ]
  },
  {
   "cell_type": "code",
   "execution_count": null,
   "metadata": {
    "colab": {
     "base_uri": "https://localhost:8080/"
    },
    "executionInfo": {
     "elapsed": 13134,
     "status": "ok",
     "timestamp": 1654377551202,
     "user": {
      "displayName": "Shweta Chandole",
      "userId": "17582944756805634685"
     },
     "user_tz": 240
    },
    "id": "NyuMBPMebGCG",
    "outputId": "d7c0db7c-17de-4adf-d566-5da805268121"
   },
   "outputs": [
    {
     "name": "stdout",
     "output_type": "stream",
     "text": [
      "\n",
      "==================================================================\n",
      "       Nonlinear SVM\n",
      "==================================================================\n",
      "\n",
      "Accuracy: 0.167\n",
      "Weighted_Precision: 0.028\n",
      "Weighted_Recall: 0.167\n",
      "Weighted_F1_score: 0.048\n",
      "\n",
      "Balanced Accuracy:  0.5\n",
      "              precision    recall  f1-score   support\n",
      "\n",
      "           0       0.00      0.00      0.00       349\n",
      "           1       0.17      1.00      0.29        70\n",
      "\n",
      "    accuracy                           0.17       419\n",
      "   macro avg       0.08      0.50      0.14       419\n",
      "weighted avg       0.03      0.17      0.05       419\n",
      "\n"
     ]
    }
   ],
   "source": [
    "nonlinear_svm_grid(X_cc,y_cc,X_test,y_test,class_ratio=None)\n"
   ]
  },
  {
   "cell_type": "code",
   "execution_count": null,
   "metadata": {
    "colab": {
     "base_uri": "https://localhost:8080/"
    },
    "executionInfo": {
     "elapsed": 4813,
     "status": "ok",
     "timestamp": 1654377555994,
     "user": {
      "displayName": "Shweta Chandole",
      "userId": "17582944756805634685"
     },
     "user_tz": 240
    },
    "id": "okNhV3m1bGCG",
    "outputId": "ddbfeaa7-15b5-45b3-e0cb-9b4dce67763b"
   },
   "outputs": [
    {
     "name": "stdout",
     "output_type": "stream",
     "text": [
      "\n",
      "==================================================================\n",
      " Logistic Regression\n",
      "==================================================================\n",
      "\n",
      "Accuracy: 0.699\n",
      "Weighted_Precision: 0.808\n",
      "Weighted_Recall: 0.699\n",
      "Weighted_F1_score: 0.734\n",
      "\n",
      "Balanced Accuracy:  0.6767294310274253\n",
      "              precision    recall  f1-score   support\n",
      "\n",
      "           0       0.91      0.71      0.80       349\n",
      "           1       0.31      0.64      0.42        70\n",
      "\n",
      "    accuracy                           0.70       419\n",
      "   macro avg       0.61      0.68      0.61       419\n",
      "weighted avg       0.81      0.70      0.73       419\n",
      "\n"
     ]
    }
   ],
   "source": [
    "logistic_regression_grid(X_cc,y_cc,X_test,y_test,class_ratio='balanced')\n"
   ]
  },
  {
   "cell_type": "code",
   "execution_count": null,
   "metadata": {
    "colab": {
     "base_uri": "https://localhost:8080/"
    },
    "executionInfo": {
     "elapsed": 4610,
     "status": "ok",
     "timestamp": 1654377560579,
     "user": {
      "displayName": "Shweta Chandole",
      "userId": "17582944756805634685"
     },
     "user_tz": 240
    },
    "id": "Hr-vaQpgbGCH",
    "outputId": "99518e62-3f35-4d8d-9cf5-f3aa712d49f4"
   },
   "outputs": [
    {
     "name": "stdout",
     "output_type": "stream",
     "text": [
      "\n",
      "==================================================================\n",
      " Logistic Regression\n",
      "==================================================================\n",
      "\n",
      "Accuracy: 0.704\n",
      "Weighted_Precision: 0.809\n",
      "Weighted_Recall: 0.704\n",
      "Weighted_F1_score: 0.738\n",
      "\n",
      "Balanced Accuracy:  0.6795947605403193\n",
      "              precision    recall  f1-score   support\n",
      "\n",
      "           0       0.91      0.72      0.80       349\n",
      "           1       0.31      0.64      0.42        70\n",
      "\n",
      "    accuracy                           0.70       419\n",
      "   macro avg       0.61      0.68      0.61       419\n",
      "weighted avg       0.81      0.70      0.74       419\n",
      "\n"
     ]
    }
   ],
   "source": [
    "logistic_regression_grid(X_cc,y_cc,X_test,y_test,class_ratio=None)\n"
   ]
  },
  {
   "cell_type": "code",
   "execution_count": null,
   "metadata": {
    "colab": {
     "base_uri": "https://localhost:8080/"
    },
    "executionInfo": {
     "elapsed": 863,
     "status": "ok",
     "timestamp": 1654377561421,
     "user": {
      "displayName": "Shweta Chandole",
      "userId": "17582944756805634685"
     },
     "user_tz": 240
    },
    "id": "cZnWbe3FbGCH",
    "outputId": "146cd95d-94dc-4293-90b0-a00dd610a2f4"
   },
   "outputs": [
    {
     "name": "stdout",
     "output_type": "stream",
     "text": [
      "\n",
      "==================================================================\n",
      "          Linear SVM\n",
      "==================================================================\n",
      "\n",
      "Accuracy: 0.745\n",
      "Weighted_Precision: 0.824\n",
      "Weighted_Recall: 0.745\n",
      "Weighted_F1_score: 0.771\n",
      "\n",
      "Balanced Accuracy:  0.7096602537863284\n",
      "              precision    recall  f1-score   support\n",
      "\n",
      "           0       0.92      0.76      0.83       349\n",
      "           1       0.36      0.66      0.46        70\n",
      "\n",
      "    accuracy                           0.74       419\n",
      "   macro avg       0.64      0.71      0.65       419\n",
      "weighted avg       0.82      0.74      0.77       419\n",
      "\n"
     ]
    }
   ],
   "source": [
    "linear_svm(X_cc,y_cc,X_test,y_test,class_ratio='balanced')\n"
   ]
  },
  {
   "cell_type": "code",
   "execution_count": null,
   "metadata": {
    "colab": {
     "base_uri": "https://localhost:8080/"
    },
    "executionInfo": {
     "elapsed": 1018,
     "status": "ok",
     "timestamp": 1654377562434,
     "user": {
      "displayName": "Shweta Chandole",
      "userId": "17582944756805634685"
     },
     "user_tz": 240
    },
    "id": "A4wdbNH3bGCH",
    "outputId": "c8eaf363-8b5a-4737-fc2a-cfd0e4d87a5d"
   },
   "outputs": [
    {
     "name": "stdout",
     "output_type": "stream",
     "text": [
      "\n",
      "==================================================================\n",
      "          Linear SVM\n",
      "==================================================================\n",
      "\n",
      "Accuracy: 0.788\n",
      "Weighted_Precision: 0.827\n",
      "Weighted_Recall: 0.788\n",
      "Weighted_F1_score: 0.803\n",
      "\n",
      "Balanced Accuracy:  0.7126074498567335\n",
      "              precision    recall  f1-score   support\n",
      "\n",
      "           0       0.91      0.83      0.87       349\n",
      "           1       0.41      0.60      0.49        70\n",
      "\n",
      "    accuracy                           0.79       419\n",
      "   macro avg       0.66      0.71      0.68       419\n",
      "weighted avg       0.83      0.79      0.80       419\n",
      "\n"
     ]
    }
   ],
   "source": [
    "linear_svm(X_cc,y_cc,X_test,y_test,class_ratio=None)\n"
   ]
  },
  {
   "cell_type": "code",
   "execution_count": null,
   "metadata": {
    "colab": {
     "base_uri": "https://localhost:8080/"
    },
    "executionInfo": {
     "elapsed": 17,
     "status": "ok",
     "timestamp": 1654377562435,
     "user": {
      "displayName": "Shweta Chandole",
      "userId": "17582944756805634685"
     },
     "user_tz": 240
    },
    "id": "YDN6-dI1bGCH",
    "outputId": "746aa2eb-650c-4544-b3e9-714e765518c6"
   },
   "outputs": [
    {
     "name": "stdout",
     "output_type": "stream",
     "text": [
      "\n",
      "==================================================================\n",
      " Logistic Regression\n",
      "==================================================================\n",
      "\n",
      "Accuracy: 0.695\n",
      "Weighted_Precision: 0.807\n",
      "Weighted_Recall: 0.695\n",
      "Weighted_F1_score: 0.730\n",
      "\n",
      "Balanced Accuracy:  0.6738641015145314\n",
      "              precision    recall  f1-score   support\n",
      "\n",
      "           0       0.91      0.70      0.79       349\n",
      "           1       0.30      0.64      0.41        70\n",
      "\n",
      "    accuracy                           0.69       419\n",
      "   macro avg       0.61      0.67      0.60       419\n",
      "weighted avg       0.81      0.69      0.73       419\n",
      "\n"
     ]
    }
   ],
   "source": [
    "logistic_regression(X_cc,y_cc,X_test,y_test,class_ratio='balanced')\n"
   ]
  },
  {
   "cell_type": "code",
   "execution_count": null,
   "metadata": {
    "colab": {
     "base_uri": "https://localhost:8080/"
    },
    "executionInfo": {
     "elapsed": 163,
     "status": "ok",
     "timestamp": 1654377562592,
     "user": {
      "displayName": "Shweta Chandole",
      "userId": "17582944756805634685"
     },
     "user_tz": 240
    },
    "id": "jdEr7UPFbGCH",
    "outputId": "fa641458-95cf-4784-a928-283c45306ad2"
   },
   "outputs": [
    {
     "name": "stdout",
     "output_type": "stream",
     "text": [
      "\n",
      "==================================================================\n",
      " Logistic Regression\n",
      "==================================================================\n",
      "\n",
      "Accuracy: 0.695\n",
      "Weighted_Precision: 0.807\n",
      "Weighted_Recall: 0.695\n",
      "Weighted_F1_score: 0.730\n",
      "\n",
      "Balanced Accuracy:  0.6738641015145314\n",
      "              precision    recall  f1-score   support\n",
      "\n",
      "           0       0.91      0.70      0.79       349\n",
      "           1       0.30      0.64      0.41        70\n",
      "\n",
      "    accuracy                           0.69       419\n",
      "   macro avg       0.61      0.67      0.60       419\n",
      "weighted avg       0.81      0.69      0.73       419\n",
      "\n"
     ]
    }
   ],
   "source": [
    "logistic_regression(X_cc,y_cc,X_test,y_test,class_ratio=None)\n"
   ]
  },
  {
   "cell_type": "code",
   "execution_count": null,
   "metadata": {
    "colab": {
     "base_uri": "https://localhost:8080/"
    },
    "executionInfo": {
     "elapsed": 1080,
     "status": "ok",
     "timestamp": 1654377563921,
     "user": {
      "displayName": "Shweta Chandole",
      "userId": "17582944756805634685"
     },
     "user_tz": 240
    },
    "id": "oNxPJnATbGCI",
    "outputId": "017b2249-60d2-426f-de4d-ed4b1286faef"
   },
   "outputs": [
    {
     "name": "stdout",
     "output_type": "stream",
     "text": [
      "\n",
      "==================================================================\n",
      "       Random Forest\n",
      "==================================================================\n",
      "\n",
      "Accuracy: 1.000\n",
      "Weighted_Precision: 1.000\n",
      "Weighted_Recall: 1.000\n",
      "Weighted_F1_score: 1.000\n",
      "\n",
      "Balanced Accuracy:  1.0\n",
      "              precision    recall  f1-score   support\n",
      "\n",
      "           0       1.00      1.00      1.00       349\n",
      "           1       1.00      1.00      1.00        70\n",
      "\n",
      "    accuracy                           1.00       419\n",
      "   macro avg       1.00      1.00      1.00       419\n",
      "weighted avg       1.00      1.00      1.00       419\n",
      "\n"
     ]
    }
   ],
   "source": [
    "random_forest(X_cc,y_cc,X_test,y_test,class_ratio='balanced')\n"
   ]
  },
  {
   "cell_type": "code",
   "execution_count": null,
   "metadata": {
    "colab": {
     "base_uri": "https://localhost:8080/"
    },
    "executionInfo": {
     "elapsed": 7036,
     "status": "ok",
     "timestamp": 1654377570953,
     "user": {
      "displayName": "Shweta Chandole",
      "userId": "17582944756805634685"
     },
     "user_tz": 240
    },
    "id": "7PYleJuGbGCI",
    "outputId": "861d1f8a-6a85-4326-d089-51fa1df84871"
   },
   "outputs": [
    {
     "name": "stdout",
     "output_type": "stream",
     "text": [
      "\n",
      "==================================================================\n",
      "             XGBoost\n",
      "==================================================================\n",
      "\n",
      "Accuracy: 1.000\n",
      "Weighted_Precision: 1.000\n",
      "Weighted_Recall: 1.000\n",
      "Weighted_F1_score: 1.000\n",
      "\n",
      "Balanced Accuracy:  1.0\n",
      "              precision    recall  f1-score   support\n",
      "\n",
      "           0       1.00      1.00      1.00       349\n",
      "           1       1.00      1.00      1.00        70\n",
      "\n",
      "    accuracy                           1.00       419\n",
      "   macro avg       1.00      1.00      1.00       419\n",
      "weighted avg       1.00      1.00      1.00       419\n",
      "\n"
     ]
    }
   ],
   "source": [
    "xg_boost(X_cc,y_cc,X_test,y_test)\n"
   ]
  },
  {
   "cell_type": "code",
   "execution_count": null,
   "metadata": {
    "colab": {
     "base_uri": "https://localhost:8080/"
    },
    "executionInfo": {
     "elapsed": 41168,
     "status": "ok",
     "timestamp": 1654377612099,
     "user": {
      "displayName": "Shweta Chandole",
      "userId": "17582944756805634685"
     },
     "user_tz": 240
    },
    "id": "GxG88hTBbGCI",
    "outputId": "a0bc1a8b-37c5-471a-f67b-6b44d4467dea"
   },
   "outputs": [
    {
     "name": "stdout",
     "output_type": "stream",
     "text": [
      "\n",
      "==================================================================\n",
      "Ensemble Stacked Classifiers\n",
      "==================================================================\n",
      "\n",
      "Accuracy: 1.000\n",
      "Weighted_Precision: 1.000\n",
      "Weighted_Recall: 1.000\n",
      "Weighted_F1_score: 1.000\n",
      "\n",
      "Balanced Accuracy:  1.0\n",
      "              precision    recall  f1-score   support\n",
      "\n",
      "           0       1.00      1.00      1.00       349\n",
      "           1       1.00      1.00      1.00        70\n",
      "\n",
      "    accuracy                           1.00       419\n",
      "   macro avg       1.00      1.00      1.00       419\n",
      "weighted avg       1.00      1.00      1.00       419\n",
      "\n"
     ]
    }
   ],
   "source": [
    "ensemble_stacked(X_cc,y_cc,X_test,y_test)\n"
   ]
  },
  {
   "cell_type": "code",
   "execution_count": null,
   "metadata": {
    "colab": {
     "base_uri": "https://localhost:8080/"
    },
    "executionInfo": {
     "elapsed": 8036,
     "status": "ok",
     "timestamp": 1654377620105,
     "user": {
      "displayName": "Shweta Chandole",
      "userId": "17582944756805634685"
     },
     "user_tz": 240
    },
    "id": "FixGyunAbGCI",
    "outputId": "6dd9d7f8-f436-4dcb-afeb-1a68e56dcc73"
   },
   "outputs": [
    {
     "name": "stdout",
     "output_type": "stream",
     "text": [
      "\n",
      "==================================================================\n",
      "   Voting Classifier\n",
      "==================================================================\n",
      "\n",
      "Accuracy: 0.959\n",
      "Weighted_Precision: 0.961\n",
      "Weighted_Recall: 0.959\n",
      "Weighted_F1_score: 0.957\n",
      "\n",
      "Balanced Accuracy:  0.8785714285714286\n",
      "              precision    recall  f1-score   support\n",
      "\n",
      "           0       0.95      1.00      0.98       349\n",
      "           1       1.00      0.76      0.86        70\n",
      "\n",
      "    accuracy                           0.96       419\n",
      "   macro avg       0.98      0.88      0.92       419\n",
      "weighted avg       0.96      0.96      0.96       419\n",
      "\n"
     ]
    }
   ],
   "source": [
    "voting_classifiers(X_cc,y_cc,X_test,y_test)\n"
   ]
  },
  {
   "cell_type": "code",
   "execution_count": null,
   "metadata": {
    "colab": {
     "base_uri": "https://localhost:8080/"
    },
    "executionInfo": {
     "elapsed": 1213,
     "status": "ok",
     "timestamp": 1654377621289,
     "user": {
      "displayName": "Shweta Chandole",
      "userId": "17582944756805634685"
     },
     "user_tz": 240
    },
    "id": "7-9XJZj3bGCI",
    "outputId": "547ee780-3782-45ad-cb75-ffb58d2dd4d5"
   },
   "outputs": [
    {
     "name": "stdout",
     "output_type": "stream",
     "text": [
      "\n",
      "==================================================================\n",
      "Bagging Calssifier LR\n",
      "==================================================================\n",
      "\n",
      "Accuracy: 0.730\n",
      "Weighted_Precision: 0.819\n",
      "Weighted_Recall: 0.730\n",
      "Weighted_F1_score: 0.759\n",
      "\n",
      "Balanced Accuracy:  0.7010642652476463\n",
      "              precision    recall  f1-score   support\n",
      "\n",
      "           0       0.92      0.74      0.82       349\n",
      "           1       0.34      0.66      0.45        70\n",
      "\n",
      "    accuracy                           0.73       419\n",
      "   macro avg       0.63      0.70      0.64       419\n",
      "weighted avg       0.82      0.73      0.76       419\n",
      "\n"
     ]
    }
   ],
   "source": [
    "Bagging_Classifier_LR(X_cc,y_cc,X_test,y_test)\n"
   ]
  },
  {
   "cell_type": "code",
   "execution_count": null,
   "metadata": {
    "colab": {
     "base_uri": "https://localhost:8080/"
    },
    "executionInfo": {
     "elapsed": 5058,
     "status": "ok",
     "timestamp": 1654377626332,
     "user": {
      "displayName": "Shweta Chandole",
      "userId": "17582944756805634685"
     },
     "user_tz": 240
    },
    "id": "M8Y33K60bGCJ",
    "outputId": "bdad43c0-dcf2-4707-9c43-945597a56884"
   },
   "outputs": [
    {
     "name": "stdout",
     "output_type": "stream",
     "text": [
      "\n",
      "==================================================================\n",
      "Bagging Calssifier SVM\n",
      "==================================================================\n",
      "\n",
      "Accuracy: 0.790\n",
      "Weighted_Precision: 0.816\n",
      "Weighted_Recall: 0.790\n",
      "Weighted_F1_score: 0.801\n",
      "\n",
      "Balanced Accuracy:  0.6854891526811298\n",
      "              precision    recall  f1-score   support\n",
      "\n",
      "           0       0.90      0.84      0.87       349\n",
      "           1       0.40      0.53      0.46        70\n",
      "\n",
      "    accuracy                           0.79       419\n",
      "   macro avg       0.65      0.69      0.66       419\n",
      "weighted avg       0.82      0.79      0.80       419\n",
      "\n"
     ]
    }
   ],
   "source": [
    "Bagging_Classifier_SVM(X_cc,y_cc,X_test,y_test)\n"
   ]
  },
  {
   "cell_type": "code",
   "execution_count": null,
   "metadata": {
    "colab": {
     "base_uri": "https://localhost:8080/"
    },
    "executionInfo": {
     "elapsed": 2748,
     "status": "ok",
     "timestamp": 1654377629060,
     "user": {
      "displayName": "Shweta Chandole",
      "userId": "17582944756805634685"
     },
     "user_tz": 240
    },
    "id": "iuJhIJDTbGCJ",
    "outputId": "1d2d19c2-2bbc-48a7-92fa-17b5c9b81729"
   },
   "outputs": [
    {
     "name": "stdout",
     "output_type": "stream",
     "text": [
      "\n",
      "==================================================================\n",
      "   Gradient Boosting\n",
      "==================================================================\n",
      "\n",
      "Accuracy: 1.000\n",
      "Weighted_Precision: 1.000\n",
      "Weighted_Recall: 1.000\n",
      "Weighted_F1_score: 1.000\n",
      "\n",
      "Balanced Accuracy:  1.0\n",
      "              precision    recall  f1-score   support\n",
      "\n",
      "           0       1.00      1.00      1.00       349\n",
      "           1       1.00      1.00      1.00        70\n",
      "\n",
      "    accuracy                           1.00       419\n",
      "   macro avg       1.00      1.00      1.00       419\n",
      "weighted avg       1.00      1.00      1.00       419\n",
      "\n"
     ]
    }
   ],
   "source": [
    "gradient_boosting(X_cc,y_cc,X_test,y_test)\n"
   ]
  },
  {
   "cell_type": "code",
   "execution_count": null,
   "metadata": {
    "id": "6BPc8gKgWtZc"
   },
   "outputs": [],
   "source": []
  },
  {
   "cell_type": "markdown",
   "metadata": {
    "id": "-h1qcUo_XiN5"
   },
   "source": [
    "#### Over-sampling: SMOTE\n"
   ]
  },
  {
   "cell_type": "code",
   "execution_count": null,
   "metadata": {
    "id": "k0kRr2b1Wtgk"
   },
   "outputs": [],
   "source": [
    "from imblearn.over_sampling import SMOTE\n",
    "\n",
    "smote = SMOTE(sampling_strategy='minority')\n",
    "X_sm, y_sm = smote.fit_resample(X_train,y_train)"
   ]
  },
  {
   "cell_type": "code",
   "execution_count": null,
   "metadata": {
    "id": "DTJ_JGB1bcEW"
   },
   "outputs": [],
   "source": [
    "df_train=X_sm.copy()\n",
    "df_train['target']=y_sm\n",
    "# df_train.to_csv('/content/drive/MyDrive/Omdena_ RadmolAI/Sampled_datasets/imblearn_SMOTE_Random_over_sampled_train.csv')"
   ]
  },
  {
   "cell_type": "code",
   "execution_count": null,
   "metadata": {
    "colab": {
     "base_uri": "https://localhost:8080/"
    },
    "executionInfo": {
     "elapsed": 94621,
     "status": "ok",
     "timestamp": 1654377723830,
     "user": {
      "displayName": "Shweta Chandole",
      "userId": "17582944756805634685"
     },
     "user_tz": 240
    },
    "id": "qvI0gBz5bGsH",
    "outputId": "4a29ef39-d605-4927-a5bd-007d3df74b21"
   },
   "outputs": [
    {
     "name": "stdout",
     "output_type": "stream",
     "text": [
      "\n",
      "==================================================================\n",
      "          Linear SVM\n",
      "==================================================================\n",
      "\n",
      "Accuracy: 0.838\n",
      "Weighted_Precision: 0.875\n",
      "Weighted_Recall: 0.838\n",
      "Weighted_F1_score: 0.850\n",
      "\n",
      "Balanced Accuracy:  0.8112157183790422\n",
      "              precision    recall  f1-score   support\n",
      "\n",
      "           0       0.95      0.85      0.90       349\n",
      "           1       0.51      0.77      0.61        70\n",
      "\n",
      "    accuracy                           0.84       419\n",
      "   macro avg       0.73      0.81      0.76       419\n",
      "weighted avg       0.88      0.84      0.85       419\n",
      "\n"
     ]
    }
   ],
   "source": [
    "linear_svm_grid(X_sm,y_sm,X_test,y_test,class_ratio='balanced')\n"
   ]
  },
  {
   "cell_type": "code",
   "execution_count": null,
   "metadata": {
    "colab": {
     "base_uri": "https://localhost:8080/"
    },
    "executionInfo": {
     "elapsed": 92880,
     "status": "ok",
     "timestamp": 1654377816682,
     "user": {
      "displayName": "Shweta Chandole",
      "userId": "17582944756805634685"
     },
     "user_tz": 240
    },
    "id": "rsIctlL-bGsI",
    "outputId": "cc67a483-8489-4e50-8030-721367bc8003"
   },
   "outputs": [
    {
     "name": "stdout",
     "output_type": "stream",
     "text": [
      "\n",
      "==================================================================\n",
      "          Linear SVM\n",
      "==================================================================\n",
      "\n",
      "Accuracy: 0.876\n",
      "Weighted_Precision: 0.880\n",
      "Weighted_Recall: 0.876\n",
      "Weighted_F1_score: 0.878\n",
      "\n",
      "Balanced Accuracy:  0.794167007777323\n",
      "              precision    recall  f1-score   support\n",
      "\n",
      "           0       0.93      0.92      0.92       349\n",
      "           1       0.62      0.67      0.64        70\n",
      "\n",
      "    accuracy                           0.88       419\n",
      "   macro avg       0.78      0.79      0.78       419\n",
      "weighted avg       0.88      0.88      0.88       419\n",
      "\n"
     ]
    }
   ],
   "source": [
    "linear_svm_grid(X_sm,y_sm,X_test,y_test,class_ratio=None)\n"
   ]
  },
  {
   "cell_type": "code",
   "execution_count": null,
   "metadata": {
    "colab": {
     "base_uri": "https://localhost:8080/"
    },
    "executionInfo": {
     "elapsed": 347163,
     "status": "ok",
     "timestamp": 1654378163823,
     "user": {
      "displayName": "Shweta Chandole",
      "userId": "17582944756805634685"
     },
     "user_tz": 240
    },
    "id": "kDquvZ93bGsI",
    "outputId": "42c5c028-b806-41bd-c8fb-f0e9445437de"
   },
   "outputs": [
    {
     "name": "stdout",
     "output_type": "stream",
     "text": [
      "\n",
      "==================================================================\n",
      "       Nonlinear SVM\n",
      "==================================================================\n",
      "\n",
      "Accuracy: 0.833\n",
      "Weighted_Precision: 0.694\n",
      "Weighted_Recall: 0.833\n",
      "Weighted_F1_score: 0.757\n",
      "\n",
      "Balanced Accuracy:  0.5\n",
      "              precision    recall  f1-score   support\n",
      "\n",
      "           0       0.83      1.00      0.91       349\n",
      "           1       0.00      0.00      0.00        70\n",
      "\n",
      "    accuracy                           0.83       419\n",
      "   macro avg       0.42      0.50      0.45       419\n",
      "weighted avg       0.69      0.83      0.76       419\n",
      "\n"
     ]
    }
   ],
   "source": [
    "nonlinear_svm_grid(X_sm,y_sm,X_test,y_test,class_ratio='balanced')\n"
   ]
  },
  {
   "cell_type": "code",
   "execution_count": null,
   "metadata": {
    "colab": {
     "base_uri": "https://localhost:8080/"
    },
    "executionInfo": {
     "elapsed": 347184,
     "status": "ok",
     "timestamp": 1654378510991,
     "user": {
      "displayName": "Shweta Chandole",
      "userId": "17582944756805634685"
     },
     "user_tz": 240
    },
    "id": "5yLCINvabGsI",
    "outputId": "142f18b4-2259-4419-8f6e-acee0778f31c"
   },
   "outputs": [
    {
     "name": "stdout",
     "output_type": "stream",
     "text": [
      "\n",
      "==================================================================\n",
      "       Nonlinear SVM\n",
      "==================================================================\n",
      "\n",
      "Accuracy: 0.833\n",
      "Weighted_Precision: 0.694\n",
      "Weighted_Recall: 0.833\n",
      "Weighted_F1_score: 0.757\n",
      "\n",
      "Balanced Accuracy:  0.5\n",
      "              precision    recall  f1-score   support\n",
      "\n",
      "           0       0.83      1.00      0.91       349\n",
      "           1       0.00      0.00      0.00        70\n",
      "\n",
      "    accuracy                           0.83       419\n",
      "   macro avg       0.42      0.50      0.45       419\n",
      "weighted avg       0.69      0.83      0.76       419\n",
      "\n"
     ]
    }
   ],
   "source": [
    "nonlinear_svm_grid(X_sm,y_sm,X_test,y_test,class_ratio=None)\n"
   ]
  },
  {
   "cell_type": "code",
   "execution_count": null,
   "metadata": {
    "colab": {
     "base_uri": "https://localhost:8080/"
    },
    "executionInfo": {
     "elapsed": 13082,
     "status": "ok",
     "timestamp": 1654378524050,
     "user": {
      "displayName": "Shweta Chandole",
      "userId": "17582944756805634685"
     },
     "user_tz": 240
    },
    "id": "GnuBWEHwbGsI",
    "outputId": "18a6667b-9a09-4134-9174-e8a4c8685e1f"
   },
   "outputs": [
    {
     "name": "stdout",
     "output_type": "stream",
     "text": [
      "\n",
      "==================================================================\n",
      " Logistic Regression\n",
      "==================================================================\n",
      "\n",
      "Accuracy: 0.840\n",
      "Weighted_Precision: 0.847\n",
      "Weighted_Recall: 0.840\n",
      "Weighted_F1_score: 0.843\n",
      "\n",
      "Balanced Accuracy:  0.732705689725747\n",
      "              precision    recall  f1-score   support\n",
      "\n",
      "           0       0.91      0.89      0.90       349\n",
      "           1       0.52      0.57      0.54        70\n",
      "\n",
      "    accuracy                           0.84       419\n",
      "   macro avg       0.72      0.73      0.72       419\n",
      "weighted avg       0.85      0.84      0.84       419\n",
      "\n"
     ]
    }
   ],
   "source": [
    "logistic_regression_grid(X_sm,y_sm,X_test,y_test,class_ratio='balanced')\n"
   ]
  },
  {
   "cell_type": "code",
   "execution_count": null,
   "metadata": {
    "colab": {
     "base_uri": "https://localhost:8080/"
    },
    "executionInfo": {
     "elapsed": 13071,
     "status": "ok",
     "timestamp": 1654378537103,
     "user": {
      "displayName": "Shweta Chandole",
      "userId": "17582944756805634685"
     },
     "user_tz": 240
    },
    "id": "KRbEVxslbGsJ",
    "outputId": "d7b60e2f-e005-4e79-b1f2-a05d6626fd44"
   },
   "outputs": [
    {
     "name": "stdout",
     "output_type": "stream",
     "text": [
      "\n",
      "==================================================================\n",
      " Logistic Regression\n",
      "==================================================================\n",
      "\n",
      "Accuracy: 0.840\n",
      "Weighted_Precision: 0.847\n",
      "Weighted_Recall: 0.840\n",
      "Weighted_F1_score: 0.843\n",
      "\n",
      "Balanced Accuracy:  0.732705689725747\n",
      "              precision    recall  f1-score   support\n",
      "\n",
      "           0       0.91      0.89      0.90       349\n",
      "           1       0.52      0.57      0.54        70\n",
      "\n",
      "    accuracy                           0.84       419\n",
      "   macro avg       0.72      0.73      0.72       419\n",
      "weighted avg       0.85      0.84      0.84       419\n",
      "\n"
     ]
    }
   ],
   "source": [
    "logistic_regression_grid(X_sm,y_sm,X_test,y_test,class_ratio=None)\n"
   ]
  },
  {
   "cell_type": "code",
   "execution_count": null,
   "metadata": {
    "colab": {
     "base_uri": "https://localhost:8080/"
    },
    "executionInfo": {
     "elapsed": 3941,
     "status": "ok",
     "timestamp": 1654378541028,
     "user": {
      "displayName": "Shweta Chandole",
      "userId": "17582944756805634685"
     },
     "user_tz": 240
    },
    "id": "thirgk7VbGsJ",
    "outputId": "1aa10bb7-274c-4280-d6fc-22e96611e7f4"
   },
   "outputs": [
    {
     "name": "stdout",
     "output_type": "stream",
     "text": [
      "\n",
      "==================================================================\n",
      "          Linear SVM\n",
      "==================================================================\n",
      "\n",
      "Accuracy: 0.869\n",
      "Weighted_Precision: 0.881\n",
      "Weighted_Recall: 0.869\n",
      "Weighted_F1_score: 0.874\n",
      "\n",
      "Balanced Accuracy:  0.8069995906672125\n",
      "              precision    recall  f1-score   support\n",
      "\n",
      "           0       0.94      0.90      0.92       349\n",
      "           1       0.59      0.71      0.65        70\n",
      "\n",
      "    accuracy                           0.87       419\n",
      "   macro avg       0.76      0.81      0.78       419\n",
      "weighted avg       0.88      0.87      0.87       419\n",
      "\n"
     ]
    }
   ],
   "source": [
    "linear_svm(X_sm,y_sm,X_test,y_test,class_ratio='balanced')\n"
   ]
  },
  {
   "cell_type": "code",
   "execution_count": null,
   "metadata": {
    "colab": {
     "base_uri": "https://localhost:8080/"
    },
    "executionInfo": {
     "elapsed": 3941,
     "status": "ok",
     "timestamp": 1654378544962,
     "user": {
      "displayName": "Shweta Chandole",
      "userId": "17582944756805634685"
     },
     "user_tz": 240
    },
    "id": "4lhp22mIbGsJ",
    "outputId": "1b1b60fd-ba37-4617-c740-4b57a968455b"
   },
   "outputs": [
    {
     "name": "stdout",
     "output_type": "stream",
     "text": [
      "\n",
      "==================================================================\n",
      "          Linear SVM\n",
      "==================================================================\n",
      "\n",
      "Accuracy: 0.857\n",
      "Weighted_Precision: 0.875\n",
      "Weighted_Recall: 0.857\n",
      "Weighted_F1_score: 0.864\n",
      "\n",
      "Balanced Accuracy:  0.7998362668849774\n",
      "              precision    recall  f1-score   support\n",
      "\n",
      "           0       0.94      0.89      0.91       349\n",
      "           1       0.56      0.71      0.63        70\n",
      "\n",
      "    accuracy                           0.86       419\n",
      "   macro avg       0.75      0.80      0.77       419\n",
      "weighted avg       0.88      0.86      0.86       419\n",
      "\n"
     ]
    }
   ],
   "source": [
    "linear_svm(X_sm,y_sm,X_test,y_test,class_ratio=None)\n"
   ]
  },
  {
   "cell_type": "code",
   "execution_count": null,
   "metadata": {
    "colab": {
     "base_uri": "https://localhost:8080/"
    },
    "executionInfo": {
     "elapsed": 503,
     "status": "ok",
     "timestamp": 1654378545441,
     "user": {
      "displayName": "Shweta Chandole",
      "userId": "17582944756805634685"
     },
     "user_tz": 240
    },
    "id": "1K3XI5C9bGsJ",
    "outputId": "1b987070-f98b-48c3-d740-9ed787d1b892"
   },
   "outputs": [
    {
     "name": "stdout",
     "output_type": "stream",
     "text": [
      "\n",
      "==================================================================\n",
      " Logistic Regression\n",
      "==================================================================\n",
      "\n",
      "Accuracy: 0.842\n",
      "Weighted_Precision: 0.848\n",
      "Weighted_Recall: 0.842\n",
      "Weighted_F1_score: 0.845\n",
      "\n",
      "Balanced Accuracy:  0.734138354482194\n",
      "              precision    recall  f1-score   support\n",
      "\n",
      "           0       0.91      0.90      0.90       349\n",
      "           1       0.53      0.57      0.55        70\n",
      "\n",
      "    accuracy                           0.84       419\n",
      "   macro avg       0.72      0.73      0.73       419\n",
      "weighted avg       0.85      0.84      0.85       419\n",
      "\n"
     ]
    }
   ],
   "source": [
    "logistic_regression(X_sm,y_sm,X_test,y_test,class_ratio='balanced')\n"
   ]
  },
  {
   "cell_type": "code",
   "execution_count": null,
   "metadata": {
    "colab": {
     "base_uri": "https://localhost:8080/"
    },
    "executionInfo": {
     "elapsed": 705,
     "status": "ok",
     "timestamp": 1654378546142,
     "user": {
      "displayName": "Shweta Chandole",
      "userId": "17582944756805634685"
     },
     "user_tz": 240
    },
    "id": "Z6jyQ53cbGsK",
    "outputId": "fa123345-b743-4084-fa1c-7b0370bd13fd"
   },
   "outputs": [
    {
     "name": "stdout",
     "output_type": "stream",
     "text": [
      "\n",
      "==================================================================\n",
      " Logistic Regression\n",
      "==================================================================\n",
      "\n",
      "Accuracy: 0.842\n",
      "Weighted_Precision: 0.848\n",
      "Weighted_Recall: 0.842\n",
      "Weighted_F1_score: 0.845\n",
      "\n",
      "Balanced Accuracy:  0.734138354482194\n",
      "              precision    recall  f1-score   support\n",
      "\n",
      "           0       0.91      0.90      0.90       349\n",
      "           1       0.53      0.57      0.55        70\n",
      "\n",
      "    accuracy                           0.84       419\n",
      "   macro avg       0.72      0.73      0.73       419\n",
      "weighted avg       0.85      0.84      0.85       419\n",
      "\n"
     ]
    }
   ],
   "source": [
    "logistic_regression(X_sm,y_sm,X_test,y_test,class_ratio=None)\n"
   ]
  },
  {
   "cell_type": "code",
   "execution_count": null,
   "metadata": {
    "colab": {
     "base_uri": "https://localhost:8080/"
    },
    "executionInfo": {
     "elapsed": 3055,
     "status": "ok",
     "timestamp": 1654378549191,
     "user": {
      "displayName": "Shweta Chandole",
      "userId": "17582944756805634685"
     },
     "user_tz": 240
    },
    "id": "qocXF69obGsK",
    "outputId": "abbf4f91-ef01-4e5c-f2c1-989ca0be27c3"
   },
   "outputs": [
    {
     "name": "stdout",
     "output_type": "stream",
     "text": [
      "\n",
      "==================================================================\n",
      "       Random Forest\n",
      "==================================================================\n",
      "\n",
      "Accuracy: 1.000\n",
      "Weighted_Precision: 1.000\n",
      "Weighted_Recall: 1.000\n",
      "Weighted_F1_score: 1.000\n",
      "\n",
      "Balanced Accuracy:  1.0\n",
      "              precision    recall  f1-score   support\n",
      "\n",
      "           0       1.00      1.00      1.00       349\n",
      "           1       1.00      1.00      1.00        70\n",
      "\n",
      "    accuracy                           1.00       419\n",
      "   macro avg       1.00      1.00      1.00       419\n",
      "weighted avg       1.00      1.00      1.00       419\n",
      "\n"
     ]
    }
   ],
   "source": [
    "random_forest(X_sm,y_sm,X_test,y_test,class_ratio='balanced')\n"
   ]
  },
  {
   "cell_type": "code",
   "execution_count": null,
   "metadata": {
    "colab": {
     "base_uri": "https://localhost:8080/"
    },
    "executionInfo": {
     "elapsed": 30300,
     "status": "ok",
     "timestamp": 1654378579472,
     "user": {
      "displayName": "Shweta Chandole",
      "userId": "17582944756805634685"
     },
     "user_tz": 240
    },
    "id": "__aywpI8bGsK",
    "outputId": "65154709-5c12-45b1-da82-1f7d0ecdf324"
   },
   "outputs": [
    {
     "name": "stdout",
     "output_type": "stream",
     "text": [
      "\n",
      "==================================================================\n",
      "             XGBoost\n",
      "==================================================================\n",
      "\n",
      "Accuracy: 1.000\n",
      "Weighted_Precision: 1.000\n",
      "Weighted_Recall: 1.000\n",
      "Weighted_F1_score: 1.000\n",
      "\n",
      "Balanced Accuracy:  1.0\n",
      "              precision    recall  f1-score   support\n",
      "\n",
      "           0       1.00      1.00      1.00       349\n",
      "           1       1.00      1.00      1.00        70\n",
      "\n",
      "    accuracy                           1.00       419\n",
      "   macro avg       1.00      1.00      1.00       419\n",
      "weighted avg       1.00      1.00      1.00       419\n",
      "\n"
     ]
    }
   ],
   "source": [
    "xg_boost(X_sm,y_sm,X_test,y_test)\n"
   ]
  },
  {
   "cell_type": "code",
   "execution_count": null,
   "metadata": {
    "colab": {
     "base_uri": "https://localhost:8080/"
    },
    "executionInfo": {
     "elapsed": 176531,
     "status": "ok",
     "timestamp": 1654378755986,
     "user": {
      "displayName": "Shweta Chandole",
      "userId": "17582944756805634685"
     },
     "user_tz": 240
    },
    "id": "cui9xpEhbGsL",
    "outputId": "1826dc01-596f-4aad-b5b3-88ac8694167b"
   },
   "outputs": [
    {
     "name": "stdout",
     "output_type": "stream",
     "text": [
      "\n",
      "==================================================================\n",
      "Ensemble Stacked Classifiers\n",
      "==================================================================\n",
      "\n",
      "Accuracy: 1.000\n",
      "Weighted_Precision: 1.000\n",
      "Weighted_Recall: 1.000\n",
      "Weighted_F1_score: 1.000\n",
      "\n",
      "Balanced Accuracy:  1.0\n",
      "              precision    recall  f1-score   support\n",
      "\n",
      "           0       1.00      1.00      1.00       349\n",
      "           1       1.00      1.00      1.00        70\n",
      "\n",
      "    accuracy                           1.00       419\n",
      "   macro avg       1.00      1.00      1.00       419\n",
      "weighted avg       1.00      1.00      1.00       419\n",
      "\n"
     ]
    }
   ],
   "source": [
    "ensemble_stacked(X_sm,y_sm,X_test,y_test)\n"
   ]
  },
  {
   "cell_type": "code",
   "execution_count": null,
   "metadata": {
    "colab": {
     "base_uri": "https://localhost:8080/"
    },
    "executionInfo": {
     "elapsed": 69747,
     "status": "ok",
     "timestamp": 1654378825720,
     "user": {
      "displayName": "Shweta Chandole",
      "userId": "17582944756805634685"
     },
     "user_tz": 240
    },
    "id": "k9HDsS4wbGsL",
    "outputId": "328f30fe-b8aa-45ad-d0ba-08eccb93beec"
   },
   "outputs": [
    {
     "name": "stdout",
     "output_type": "stream",
     "text": [
      "\n",
      "==================================================================\n",
      "   Voting Classifier\n",
      "==================================================================\n",
      "\n"
     ]
    }
   ],
   "source": [
    "voting_classifiers(X_sm,y_sm,X_test,y_test)\n"
   ]
  },
  {
   "cell_type": "code",
   "execution_count": null,
   "metadata": {
    "colab": {
     "base_uri": "https://localhost:8080/"
    },
    "executionInfo": {
     "elapsed": 122,
     "status": "ok",
     "timestamp": 1654378825722,
     "user": {
      "displayName": "Shweta Chandole",
      "userId": "17582944756805634685"
     },
     "user_tz": 240
    },
    "id": "5lyef9dqbGsM",
    "outputId": "a26f872a-c71d-4db6-dc1c-0e33bf549670"
   },
   "outputs": [
    {
     "name": "stdout",
     "output_type": "stream",
     "text": [
      "\n",
      "==================================================================\n",
      "Bagging Calssifier LR\n",
      "==================================================================\n",
      "\n",
      "Accuracy: 0.845\n",
      "Weighted_Precision: 0.855\n",
      "Weighted_Recall: 0.845\n",
      "Weighted_F1_score: 0.849\n",
      "\n",
      "Balanced Accuracy:  0.7527015963978715\n",
      "              precision    recall  f1-score   support\n",
      "\n",
      "           0       0.92      0.89      0.91       349\n",
      "           1       0.53      0.61      0.57        70\n",
      "\n",
      "    accuracy                           0.84       419\n",
      "   macro avg       0.73      0.75      0.74       419\n",
      "weighted avg       0.86      0.84      0.85       419\n",
      "\n"
     ]
    }
   ],
   "source": [
    "Bagging_Classifier_LR(X_sm,y_sm,X_test,y_test)\n"
   ]
  },
  {
   "cell_type": "code",
   "execution_count": null,
   "metadata": {
    "colab": {
     "base_uri": "https://localhost:8080/"
    },
    "executionInfo": {
     "elapsed": 63,
     "status": "ok",
     "timestamp": 1654378825722,
     "user": {
      "displayName": "Shweta Chandole",
      "userId": "17582944756805634685"
     },
     "user_tz": 240
    },
    "id": "MYBYUlAxbGsM",
    "outputId": "88f50ef6-d260-4e91-c562-565313aa53e1"
   },
   "outputs": [
    {
     "name": "stdout",
     "output_type": "stream",
     "text": [
      "\n",
      "==================================================================\n",
      "Bagging Calssifier SVM\n",
      "==================================================================\n",
      "\n",
      "Accuracy: 0.866\n",
      "Weighted_Precision: 0.866\n",
      "Weighted_Recall: 0.866\n",
      "Weighted_F1_score: 0.866\n",
      "\n",
      "Balanced Accuracy:  0.7598853868194843\n",
      "              precision    recall  f1-score   support\n",
      "\n",
      "           0       0.92      0.92      0.92       349\n",
      "           1       0.60      0.60      0.60        70\n",
      "\n",
      "    accuracy                           0.87       419\n",
      "   macro avg       0.76      0.76      0.76       419\n",
      "weighted avg       0.87      0.87      0.87       419\n",
      "\n"
     ]
    }
   ],
   "source": [
    "Bagging_Classifier_SVM(X_sm,y_sm,X_test,y_test)\n"
   ]
  },
  {
   "cell_type": "code",
   "execution_count": null,
   "metadata": {
    "colab": {
     "base_uri": "https://localhost:8080/"
    },
    "executionInfo": {
     "elapsed": 2978,
     "status": "ok",
     "timestamp": 1654378828674,
     "user": {
      "displayName": "Shweta Chandole",
      "userId": "17582944756805634685"
     },
     "user_tz": 240
    },
    "id": "mQ2Q4KPPbGsM",
    "outputId": "3309179e-9cda-499f-b8c5-dd3641d8e15d"
   },
   "outputs": [
    {
     "name": "stdout",
     "output_type": "stream",
     "text": [
      "\n",
      "==================================================================\n",
      "   Gradient Boosting\n",
      "==================================================================\n",
      "\n",
      "Accuracy: 1.000\n",
      "Weighted_Precision: 1.000\n",
      "Weighted_Recall: 1.000\n",
      "Weighted_F1_score: 1.000\n",
      "\n",
      "Balanced Accuracy:  1.0\n",
      "              precision    recall  f1-score   support\n",
      "\n",
      "           0       1.00      1.00      1.00       349\n",
      "           1       1.00      1.00      1.00        70\n",
      "\n",
      "    accuracy                           1.00       419\n",
      "   macro avg       1.00      1.00      1.00       419\n",
      "weighted avg       1.00      1.00      1.00       419\n",
      "\n"
     ]
    }
   ],
   "source": [
    "gradient_boosting(X_sm,y_sm,X_test,y_test)\n"
   ]
  },
  {
   "cell_type": "code",
   "execution_count": null,
   "metadata": {
    "id": "B4bLrbqiWwEY"
   },
   "outputs": [],
   "source": []
  },
  {
   "cell_type": "markdown",
   "metadata": {
    "id": "gA0HWDycXjr5"
   },
   "source": [
    "#### Over-sampling followed by under-sampling\n"
   ]
  },
  {
   "cell_type": "code",
   "execution_count": null,
   "metadata": {
    "id": "R37FKhV1WwK6"
   },
   "outputs": [],
   "source": [
    "from imblearn.combine import SMOTETomek\n",
    "\n",
    "smt = SMOTETomek(sampling_strategy='auto')\n",
    "X_smt, y_smt = smt.fit_resample(X_train,y_train)"
   ]
  },
  {
   "cell_type": "code",
   "execution_count": null,
   "metadata": {
    "id": "l2cdynE5bkC4"
   },
   "outputs": [],
   "source": [
    "df_train=X_smt.copy()\n",
    "df_train['target']=y_smt\n",
    "# df_train.to_csv('/content/drive/MyDrive/Omdena_ RadmolAI/Sampled_datasets/imblearn_SMOTETomek_Random_over_under_sampled_train.csv')"
   ]
  },
  {
   "cell_type": "code",
   "execution_count": null,
   "metadata": {
    "colab": {
     "base_uri": "https://localhost:8080/"
    },
    "executionInfo": {
     "elapsed": 92273,
     "status": "ok",
     "timestamp": 1654378921729,
     "user": {
      "displayName": "Shweta Chandole",
      "userId": "17582944756805634685"
     },
     "user_tz": 240
    },
    "id": "rRiOQRIabHX2",
    "outputId": "0e0ef771-6df8-4ae5-cf60-8cb8a111ebea"
   },
   "outputs": [
    {
     "name": "stdout",
     "output_type": "stream",
     "text": [
      "\n",
      "==================================================================\n",
      "          Linear SVM\n",
      "==================================================================\n",
      "\n",
      "Accuracy: 0.850\n",
      "Weighted_Precision: 0.876\n",
      "Weighted_Recall: 0.850\n",
      "Weighted_F1_score: 0.859\n",
      "\n",
      "Balanced Accuracy:  0.8069586573884568\n",
      "              precision    recall  f1-score   support\n",
      "\n",
      "           0       0.94      0.87      0.91       349\n",
      "           1       0.54      0.74      0.62        70\n",
      "\n",
      "    accuracy                           0.85       419\n",
      "   macro avg       0.74      0.81      0.76       419\n",
      "weighted avg       0.88      0.85      0.86       419\n",
      "\n"
     ]
    }
   ],
   "source": [
    "linear_svm_grid(X_smt,y_smt,X_test,y_test,class_ratio='balanced')\n"
   ]
  },
  {
   "cell_type": "code",
   "execution_count": null,
   "metadata": {
    "colab": {
     "base_uri": "https://localhost:8080/"
    },
    "executionInfo": {
     "elapsed": 90325,
     "status": "ok",
     "timestamp": 1654379012048,
     "user": {
      "displayName": "Shweta Chandole",
      "userId": "17582944756805634685"
     },
     "user_tz": 240
    },
    "id": "XJOZGEATbHX3",
    "outputId": "f824d8ae-00a7-4ed6-97c3-bc647b49a202"
   },
   "outputs": [
    {
     "name": "stdout",
     "output_type": "stream",
     "text": [
      "\n",
      "==================================================================\n",
      "          Linear SVM\n",
      "==================================================================\n",
      "\n",
      "Accuracy: 0.876\n",
      "Weighted_Precision: 0.876\n",
      "Weighted_Recall: 0.876\n",
      "Weighted_F1_score: 0.876\n",
      "\n",
      "Balanced Accuracy:  0.7770364306180926\n",
      "              precision    recall  f1-score   support\n",
      "\n",
      "           0       0.93      0.93      0.93       349\n",
      "           1       0.63      0.63      0.63        70\n",
      "\n",
      "    accuracy                           0.88       419\n",
      "   macro avg       0.78      0.78      0.78       419\n",
      "weighted avg       0.88      0.88      0.88       419\n",
      "\n"
     ]
    }
   ],
   "source": [
    "linear_svm_grid(X_smt,y_smt,X_test,y_test,class_ratio=None)\n"
   ]
  },
  {
   "cell_type": "code",
   "execution_count": null,
   "metadata": {
    "colab": {
     "base_uri": "https://localhost:8080/"
    },
    "executionInfo": {
     "elapsed": 340421,
     "status": "ok",
     "timestamp": 1654379352467,
     "user": {
      "displayName": "Shweta Chandole",
      "userId": "17582944756805634685"
     },
     "user_tz": 240
    },
    "id": "h2A9aQykbHX3",
    "outputId": "c9d158f7-ad77-4a40-f214-5f10fde44808"
   },
   "outputs": [
    {
     "name": "stdout",
     "output_type": "stream",
     "text": [
      "\n",
      "==================================================================\n",
      "       Nonlinear SVM\n",
      "==================================================================\n",
      "\n",
      "Accuracy: 0.833\n",
      "Weighted_Precision: 0.694\n",
      "Weighted_Recall: 0.833\n",
      "Weighted_F1_score: 0.757\n",
      "\n",
      "Balanced Accuracy:  0.5\n",
      "              precision    recall  f1-score   support\n",
      "\n",
      "           0       0.83      1.00      0.91       349\n",
      "           1       0.00      0.00      0.00        70\n",
      "\n",
      "    accuracy                           0.83       419\n",
      "   macro avg       0.42      0.50      0.45       419\n",
      "weighted avg       0.69      0.83      0.76       419\n",
      "\n"
     ]
    }
   ],
   "source": [
    "nonlinear_svm_grid(X_smt,y_smt,X_test,y_test,class_ratio='balanced')\n"
   ]
  },
  {
   "cell_type": "code",
   "execution_count": null,
   "metadata": {
    "colab": {
     "base_uri": "https://localhost:8080/"
    },
    "executionInfo": {
     "elapsed": 325976,
     "status": "ok",
     "timestamp": 1654379678433,
     "user": {
      "displayName": "Shweta Chandole",
      "userId": "17582944756805634685"
     },
     "user_tz": 240
    },
    "id": "27rDlywlbHX3",
    "outputId": "540132df-4d51-454b-cb74-d088d287a0e9"
   },
   "outputs": [
    {
     "name": "stdout",
     "output_type": "stream",
     "text": [
      "\n",
      "==================================================================\n",
      "       Nonlinear SVM\n",
      "==================================================================\n",
      "\n",
      "Accuracy: 0.833\n",
      "Weighted_Precision: 0.694\n",
      "Weighted_Recall: 0.833\n",
      "Weighted_F1_score: 0.757\n",
      "\n",
      "Balanced Accuracy:  0.5\n",
      "              precision    recall  f1-score   support\n",
      "\n",
      "           0       0.83      1.00      0.91       349\n",
      "           1       0.00      0.00      0.00        70\n",
      "\n",
      "    accuracy                           0.83       419\n",
      "   macro avg       0.42      0.50      0.45       419\n",
      "weighted avg       0.69      0.83      0.76       419\n",
      "\n"
     ]
    }
   ],
   "source": [
    "nonlinear_svm_grid(X_smt,y_smt,X_test,y_test,class_ratio=None)\n"
   ]
  },
  {
   "cell_type": "code",
   "execution_count": null,
   "metadata": {
    "colab": {
     "base_uri": "https://localhost:8080/"
    },
    "executionInfo": {
     "elapsed": 13003,
     "status": "ok",
     "timestamp": 1654379691431,
     "user": {
      "displayName": "Shweta Chandole",
      "userId": "17582944756805634685"
     },
     "user_tz": 240
    },
    "id": "qps07sHJbHX4",
    "outputId": "8e63a97e-d128-491e-8fff-3c4cfec15c73"
   },
   "outputs": [
    {
     "name": "stdout",
     "output_type": "stream",
     "text": [
      "\n",
      "==================================================================\n",
      " Logistic Regression\n",
      "==================================================================\n",
      "\n",
      "Accuracy: 0.826\n",
      "Weighted_Precision: 0.837\n",
      "Weighted_Recall: 0.826\n",
      "Weighted_F1_score: 0.831\n",
      "\n",
      "Balanced Accuracy:  0.718399508800655\n",
      "              precision    recall  f1-score   support\n",
      "\n",
      "           0       0.91      0.88      0.89       349\n",
      "           1       0.48      0.56      0.52        70\n",
      "\n",
      "    accuracy                           0.83       419\n",
      "   macro avg       0.69      0.72      0.71       419\n",
      "weighted avg       0.84      0.83      0.83       419\n",
      "\n"
     ]
    }
   ],
   "source": [
    "logistic_regression_grid(X_smt,y_smt,X_test,y_test,class_ratio='balanced')\n"
   ]
  },
  {
   "cell_type": "code",
   "execution_count": null,
   "metadata": {
    "colab": {
     "base_uri": "https://localhost:8080/"
    },
    "executionInfo": {
     "elapsed": 12640,
     "status": "ok",
     "timestamp": 1654379704047,
     "user": {
      "displayName": "Shweta Chandole",
      "userId": "17582944756805634685"
     },
     "user_tz": 240
    },
    "id": "-l1BdoQfbHX4",
    "outputId": "c12f0728-8964-4dbd-9b28-4301d0d110d5"
   },
   "outputs": [
    {
     "name": "stdout",
     "output_type": "stream",
     "text": [
      "\n",
      "==================================================================\n",
      " Logistic Regression\n",
      "==================================================================\n",
      "\n",
      "Accuracy: 0.826\n",
      "Weighted_Precision: 0.837\n",
      "Weighted_Recall: 0.826\n",
      "Weighted_F1_score: 0.831\n",
      "\n",
      "Balanced Accuracy:  0.718399508800655\n",
      "              precision    recall  f1-score   support\n",
      "\n",
      "           0       0.91      0.88      0.89       349\n",
      "           1       0.48      0.56      0.52        70\n",
      "\n",
      "    accuracy                           0.83       419\n",
      "   macro avg       0.69      0.72      0.71       419\n",
      "weighted avg       0.84      0.83      0.83       419\n",
      "\n"
     ]
    }
   ],
   "source": [
    "logistic_regression_grid(X_smt,y_smt,X_test,y_test,class_ratio=None)\n"
   ]
  },
  {
   "cell_type": "code",
   "execution_count": null,
   "metadata": {
    "colab": {
     "base_uri": "https://localhost:8080/"
    },
    "executionInfo": {
     "elapsed": 3868,
     "status": "ok",
     "timestamp": 1654379707904,
     "user": {
      "displayName": "Shweta Chandole",
      "userId": "17582944756805634685"
     },
     "user_tz": 240
    },
    "id": "ib5eEtdZbHX4",
    "outputId": "090967c7-8809-41f0-940b-dea94084d334"
   },
   "outputs": [
    {
     "name": "stdout",
     "output_type": "stream",
     "text": [
      "\n",
      "==================================================================\n",
      "          Linear SVM\n",
      "==================================================================\n",
      "\n",
      "Accuracy: 0.881\n",
      "Weighted_Precision: 0.877\n",
      "Weighted_Recall: 0.881\n",
      "Weighted_F1_score: 0.879\n",
      "\n",
      "Balanced Accuracy:  0.7684813753581662\n",
      "              precision    recall  f1-score   support\n",
      "\n",
      "           0       0.92      0.94      0.93       349\n",
      "           1       0.66      0.60      0.63        70\n",
      "\n",
      "    accuracy                           0.88       419\n",
      "   macro avg       0.79      0.77      0.78       419\n",
      "weighted avg       0.88      0.88      0.88       419\n",
      "\n"
     ]
    }
   ],
   "source": [
    "linear_svm(X_smt,y_smt,X_test,y_test,class_ratio='balanced')\n"
   ]
  },
  {
   "cell_type": "code",
   "execution_count": null,
   "metadata": {
    "colab": {
     "base_uri": "https://localhost:8080/"
    },
    "executionInfo": {
     "elapsed": 3883,
     "status": "ok",
     "timestamp": 1654379711782,
     "user": {
      "displayName": "Shweta Chandole",
      "userId": "17582944756805634685"
     },
     "user_tz": 240
    },
    "id": "b0eMg2sXbHX4",
    "outputId": "bb0d0e85-452c-4d72-d09c-379c50bffb07"
   },
   "outputs": [
    {
     "name": "stdout",
     "output_type": "stream",
     "text": [
      "\n",
      "==================================================================\n",
      "          Linear SVM\n",
      "==================================================================\n",
      "\n",
      "Accuracy: 0.854\n",
      "Weighted_Precision: 0.880\n",
      "Weighted_Recall: 0.854\n",
      "Weighted_F1_score: 0.863\n",
      "\n",
      "Balanced Accuracy:  0.815534179287761\n",
      "              precision    recall  f1-score   support\n",
      "\n",
      "           0       0.95      0.87      0.91       349\n",
      "           1       0.55      0.76      0.63        70\n",
      "\n",
      "    accuracy                           0.85       419\n",
      "   macro avg       0.75      0.82      0.77       419\n",
      "weighted avg       0.88      0.85      0.86       419\n",
      "\n"
     ]
    }
   ],
   "source": [
    "linear_svm(X_smt,y_smt,X_test,y_test,class_ratio=None)\n"
   ]
  },
  {
   "cell_type": "code",
   "execution_count": null,
   "metadata": {
    "colab": {
     "base_uri": "https://localhost:8080/"
    },
    "executionInfo": {
     "elapsed": 583,
     "status": "ok",
     "timestamp": 1654379712343,
     "user": {
      "displayName": "Shweta Chandole",
      "userId": "17582944756805634685"
     },
     "user_tz": 240
    },
    "id": "HdQERelAbHX4",
    "outputId": "06678d9f-2d35-4af4-dd61-65b69edd175e"
   },
   "outputs": [
    {
     "name": "stdout",
     "output_type": "stream",
     "text": [
      "\n",
      "==================================================================\n",
      " Logistic Regression\n",
      "==================================================================\n",
      "\n",
      "Accuracy: 0.835\n",
      "Weighted_Precision: 0.846\n",
      "Weighted_Recall: 0.835\n",
      "Weighted_F1_score: 0.840\n",
      "\n",
      "Balanced Accuracy:  0.7355505525992632\n",
      "              precision    recall  f1-score   support\n",
      "\n",
      "           0       0.91      0.89      0.90       349\n",
      "           1       0.51      0.59      0.54        70\n",
      "\n",
      "    accuracy                           0.84       419\n",
      "   macro avg       0.71      0.74      0.72       419\n",
      "weighted avg       0.85      0.84      0.84       419\n",
      "\n"
     ]
    }
   ],
   "source": [
    "logistic_regression(X_smt,y_smt,X_test,y_test,class_ratio='balanced')\n"
   ]
  },
  {
   "cell_type": "code",
   "execution_count": null,
   "metadata": {
    "colab": {
     "base_uri": "https://localhost:8080/"
    },
    "executionInfo": {
     "elapsed": 606,
     "status": "ok",
     "timestamp": 1654379712944,
     "user": {
      "displayName": "Shweta Chandole",
      "userId": "17582944756805634685"
     },
     "user_tz": 240
    },
    "id": "JNdLM67vbHX4",
    "outputId": "92681795-05bb-4ca9-e20d-4d80b10568c7"
   },
   "outputs": [
    {
     "name": "stdout",
     "output_type": "stream",
     "text": [
      "\n",
      "==================================================================\n",
      " Logistic Regression\n",
      "==================================================================\n",
      "\n",
      "Accuracy: 0.835\n",
      "Weighted_Precision: 0.846\n",
      "Weighted_Recall: 0.835\n",
      "Weighted_F1_score: 0.840\n",
      "\n",
      "Balanced Accuracy:  0.7355505525992632\n",
      "              precision    recall  f1-score   support\n",
      "\n",
      "           0       0.91      0.89      0.90       349\n",
      "           1       0.51      0.59      0.54        70\n",
      "\n",
      "    accuracy                           0.84       419\n",
      "   macro avg       0.71      0.74      0.72       419\n",
      "weighted avg       0.85      0.84      0.84       419\n",
      "\n"
     ]
    }
   ],
   "source": [
    "logistic_regression(X_smt,y_smt,X_test,y_test,class_ratio=None)\n"
   ]
  },
  {
   "cell_type": "code",
   "execution_count": null,
   "metadata": {
    "colab": {
     "base_uri": "https://localhost:8080/"
    },
    "executionInfo": {
     "elapsed": 3066,
     "status": "ok",
     "timestamp": 1654379716004,
     "user": {
      "displayName": "Shweta Chandole",
      "userId": "17582944756805634685"
     },
     "user_tz": 240
    },
    "id": "xHEYG-zWbHX4",
    "outputId": "9886b3ea-92d1-414c-fc35-d59e032c3d66"
   },
   "outputs": [
    {
     "name": "stdout",
     "output_type": "stream",
     "text": [
      "\n",
      "==================================================================\n",
      "       Random Forest\n",
      "==================================================================\n",
      "\n",
      "Accuracy: 1.000\n",
      "Weighted_Precision: 1.000\n",
      "Weighted_Recall: 1.000\n",
      "Weighted_F1_score: 1.000\n",
      "\n",
      "Balanced Accuracy:  1.0\n",
      "              precision    recall  f1-score   support\n",
      "\n",
      "           0       1.00      1.00      1.00       349\n",
      "           1       1.00      1.00      1.00        70\n",
      "\n",
      "    accuracy                           1.00       419\n",
      "   macro avg       1.00      1.00      1.00       419\n",
      "weighted avg       1.00      1.00      1.00       419\n",
      "\n"
     ]
    }
   ],
   "source": [
    "random_forest(X_smt,y_smt,X_test,y_test,class_ratio='balanced')\n"
   ]
  },
  {
   "cell_type": "code",
   "execution_count": null,
   "metadata": {
    "colab": {
     "base_uri": "https://localhost:8080/"
    },
    "executionInfo": {
     "elapsed": 30167,
     "status": "ok",
     "timestamp": 1654379746163,
     "user": {
      "displayName": "Shweta Chandole",
      "userId": "17582944756805634685"
     },
     "user_tz": 240
    },
    "id": "dGdKIbtnbHX5",
    "outputId": "48ff8f62-3c31-4fe0-e441-e16b76a78b98"
   },
   "outputs": [
    {
     "name": "stdout",
     "output_type": "stream",
     "text": [
      "\n",
      "==================================================================\n",
      "             XGBoost\n",
      "==================================================================\n",
      "\n",
      "Accuracy: 1.000\n",
      "Weighted_Precision: 1.000\n",
      "Weighted_Recall: 1.000\n",
      "Weighted_F1_score: 1.000\n",
      "\n",
      "Balanced Accuracy:  1.0\n",
      "              precision    recall  f1-score   support\n",
      "\n",
      "           0       1.00      1.00      1.00       349\n",
      "           1       1.00      1.00      1.00        70\n",
      "\n",
      "    accuracy                           1.00       419\n",
      "   macro avg       1.00      1.00      1.00       419\n",
      "weighted avg       1.00      1.00      1.00       419\n",
      "\n"
     ]
    }
   ],
   "source": [
    "xg_boost(X_smt,y_smt,X_test,y_test)\n"
   ]
  },
  {
   "cell_type": "code",
   "execution_count": null,
   "metadata": {
    "colab": {
     "base_uri": "https://localhost:8080/"
    },
    "id": "onfnGvzibHX5",
    "outputId": "8d5f87bd-c7cc-4eb8-9e20-73dc1f561f7c"
   },
   "outputs": [
    {
     "name": "stdout",
     "output_type": "stream",
     "text": [
      "\n",
      "==================================================================\n",
      "Ensemble Stacked Classifiers\n",
      "==================================================================\n",
      "\n"
     ]
    }
   ],
   "source": [
    "ensemble_stacked(X_smt,y_smt,X_test,y_test)\n"
   ]
  },
  {
   "cell_type": "code",
   "execution_count": null,
   "metadata": {
    "colab": {
     "base_uri": "https://localhost:8080/"
    },
    "executionInfo": {
     "elapsed": 34877,
     "status": "ok",
     "timestamp": 1654380478293,
     "user": {
      "displayName": "Shweta Chandole",
      "userId": "17582944756805634685"
     },
     "user_tz": 240
    },
    "id": "grRM7AlxbHX5",
    "outputId": "76eb5b20-dc27-47ce-8b99-dc6071ed8949"
   },
   "outputs": [
    {
     "name": "stdout",
     "output_type": "stream",
     "text": [
      "\n",
      "==================================================================\n",
      "   Voting Classifier\n",
      "==================================================================\n",
      "\n",
      "Accuracy: 0.950\n",
      "Weighted_Precision: 0.953\n",
      "Weighted_Recall: 0.950\n",
      "Weighted_F1_score: 0.946\n",
      "\n",
      "Balanced Accuracy:  0.85\n",
      "              precision    recall  f1-score   support\n",
      "\n",
      "           0       0.94      1.00      0.97       349\n",
      "           1       1.00      0.70      0.82        70\n",
      "\n",
      "    accuracy                           0.95       419\n",
      "   macro avg       0.97      0.85      0.90       419\n",
      "weighted avg       0.95      0.95      0.95       419\n",
      "\n"
     ]
    }
   ],
   "source": [
    "voting_classifiers(X_smt,y_smt,X_test,y_test)\n"
   ]
  },
  {
   "cell_type": "code",
   "execution_count": null,
   "metadata": {
    "colab": {
     "base_uri": "https://localhost:8080/"
    },
    "executionInfo": {
     "elapsed": 6455,
     "status": "ok",
     "timestamp": 1654380484731,
     "user": {
      "displayName": "Shweta Chandole",
      "userId": "17582944756805634685"
     },
     "user_tz": 240
    },
    "id": "mUTdjJCMbHX5",
    "outputId": "74caa459-9b69-4bc1-9fc0-cd75ea09c970"
   },
   "outputs": [
    {
     "name": "stdout",
     "output_type": "stream",
     "text": [
      "\n",
      "==================================================================\n",
      "Bagging Calssifier LR\n",
      "==================================================================\n",
      "\n",
      "Accuracy: 0.828\n",
      "Weighted_Precision: 0.847\n",
      "Weighted_Recall: 0.828\n",
      "Weighted_F1_score: 0.836\n",
      "\n",
      "Balanced Accuracy:  0.7426729431027426\n",
      "              precision    recall  f1-score   support\n",
      "\n",
      "           0       0.92      0.87      0.89       349\n",
      "           1       0.49      0.61      0.54        70\n",
      "\n",
      "    accuracy                           0.83       419\n",
      "   macro avg       0.70      0.74      0.72       419\n",
      "weighted avg       0.85      0.83      0.84       419\n",
      "\n"
     ]
    }
   ],
   "source": [
    "Bagging_Classifier_LR(X_smt,y_smt,X_test,y_test)\n"
   ]
  },
  {
   "cell_type": "code",
   "execution_count": null,
   "metadata": {
    "colab": {
     "base_uri": "https://localhost:8080/"
    },
    "executionInfo": {
     "elapsed": 23190,
     "status": "ok",
     "timestamp": 1654380507909,
     "user": {
      "displayName": "Shweta Chandole",
      "userId": "17582944756805634685"
     },
     "user_tz": 240
    },
    "id": "wbtP0lYbbHX5",
    "outputId": "be3fad21-c5ec-4713-ec55-0d4a250ed62d"
   },
   "outputs": [
    {
     "name": "stdout",
     "output_type": "stream",
     "text": [
      "\n",
      "==================================================================\n",
      "Bagging Calssifier SVM\n",
      "==================================================================\n",
      "\n",
      "Accuracy: 0.871\n",
      "Weighted_Precision: 0.881\n",
      "Weighted_Recall: 0.871\n",
      "Weighted_F1_score: 0.875\n",
      "\n",
      "Balanced Accuracy:  0.8027220630372492\n",
      "              precision    recall  f1-score   support\n",
      "\n",
      "           0       0.94      0.91      0.92       349\n",
      "           1       0.60      0.70      0.64        70\n",
      "\n",
      "    accuracy                           0.87       419\n",
      "   macro avg       0.77      0.80      0.78       419\n",
      "weighted avg       0.88      0.87      0.88       419\n",
      "\n"
     ]
    }
   ],
   "source": [
    "Bagging_Classifier_SVM(X_smt,y_smt,X_test,y_test)\n"
   ]
  },
  {
   "cell_type": "code",
   "execution_count": null,
   "metadata": {
    "colab": {
     "base_uri": "https://localhost:8080/"
    },
    "executionInfo": {
     "elapsed": 10561,
     "status": "ok",
     "timestamp": 1654380518438,
     "user": {
      "displayName": "Shweta Chandole",
      "userId": "17582944756805634685"
     },
     "user_tz": 240
    },
    "id": "Z60pEdJkbHX5",
    "outputId": "3dc97a84-5a7b-4313-c714-0d963ed87dda"
   },
   "outputs": [
    {
     "name": "stdout",
     "output_type": "stream",
     "text": [
      "\n",
      "==================================================================\n",
      "   Gradient Boosting\n",
      "==================================================================\n",
      "\n",
      "Accuracy: 1.000\n",
      "Weighted_Precision: 1.000\n",
      "Weighted_Recall: 1.000\n",
      "Weighted_F1_score: 1.000\n",
      "\n",
      "Balanced Accuracy:  1.0\n",
      "              precision    recall  f1-score   support\n",
      "\n",
      "           0       1.00      1.00      1.00       349\n",
      "           1       1.00      1.00      1.00        70\n",
      "\n",
      "    accuracy                           1.00       419\n",
      "   macro avg       1.00      1.00      1.00       419\n",
      "weighted avg       1.00      1.00      1.00       419\n",
      "\n"
     ]
    }
   ],
   "source": [
    "gradient_boosting(X_smt,y_smt,X_test,y_test)\n"
   ]
  },
  {
   "cell_type": "code",
   "execution_count": null,
   "metadata": {
    "id": "RGy6dlWVwlOF"
   },
   "outputs": [],
   "source": []
  },
  {
   "cell_type": "markdown",
   "metadata": {
    "id": "s2mtZ4Lsgjr1"
   },
   "source": [
    "## Recommended Models\n"
   ]
  },
  {
   "cell_type": "code",
   "execution_count": null,
   "metadata": {
    "colab": {
     "base_uri": "https://localhost:8080/"
    },
    "executionInfo": {
     "elapsed": 7520,
     "status": "ok",
     "timestamp": 1654380561915,
     "user": {
      "displayName": "Shweta Chandole",
      "userId": "17582944756805634685"
     },
     "user_tz": 240
    },
    "id": "MzqH0SjzhbBr",
    "outputId": "cb96d28c-68ce-4cd1-8373-231f24f83cb2"
   },
   "outputs": [
    {
     "name": "stdout",
     "output_type": "stream",
     "text": [
      "\n",
      "==================================================================\n",
      "   Voting Classifier\n",
      "==================================================================\n",
      "\n",
      "Accuracy: 0.976\n",
      "Weighted_Precision: 0.977\n",
      "Weighted_Recall: 0.976\n",
      "Weighted_F1_score: 0.975\n",
      "\n",
      "Balanced Accuracy:  0.9285714285714286\n",
      "              precision    recall  f1-score   support\n",
      "\n",
      "           0       0.97      1.00      0.99       349\n",
      "           1       1.00      0.86      0.92        70\n",
      "\n",
      "    accuracy                           0.98       419\n",
      "   macro avg       0.99      0.93      0.95       419\n",
      "weighted avg       0.98      0.98      0.98       419\n",
      "\n"
     ]
    }
   ],
   "source": [
    "voting_classifiers(X_train_new_under_sampled,y_train_new_under_sampler,X_test,y_test)\n",
    "# Recommended model no.1, since class 1 recall, balanced accuracy and weighted average F1-score is best for this model"
   ]
  },
  {
   "cell_type": "code",
   "execution_count": null,
   "metadata": {
    "colab": {
     "base_uri": "https://localhost:8080/"
    },
    "executionInfo": {
     "elapsed": 36010,
     "status": "ok",
     "timestamp": 1654380554421,
     "user": {
      "displayName": "Shweta Chandole",
      "userId": "17582944756805634685"
     },
     "user_tz": 240
    },
    "id": "Pn2vcwghgl7I",
    "outputId": "7fb7d635-199d-4603-f631-7a80235e9669"
   },
   "outputs": [
    {
     "name": "stdout",
     "output_type": "stream",
     "text": [
      "\n",
      "==================================================================\n",
      "   Voting Classifier\n",
      "==================================================================\n",
      "\n",
      "Accuracy: 0.962\n",
      "Weighted_Precision: 0.963\n",
      "Weighted_Recall: 0.962\n",
      "Weighted_F1_score: 0.960\n",
      "\n",
      "Balanced Accuracy:  0.8857142857142857\n",
      "              precision    recall  f1-score   support\n",
      "\n",
      "           0       0.96      1.00      0.98       349\n",
      "           1       1.00      0.77      0.87        70\n",
      "\n",
      "    accuracy                           0.96       419\n",
      "   macro avg       0.98      0.89      0.92       419\n",
      "weighted avg       0.96      0.96      0.96       419\n",
      "\n"
     ]
    }
   ],
   "source": [
    "voting_classifiers(X_smt,y_smt,X_test,y_test)\n",
    "# Recommended model no.2"
   ]
  },
  {
   "cell_type": "code",
   "execution_count": null,
   "metadata": {
    "colab": {
     "base_uri": "https://localhost:8080/"
    },
    "executionInfo": {
     "elapsed": 34540,
     "status": "ok",
     "timestamp": 1654380596437,
     "user": {
      "displayName": "Shweta Chandole",
      "userId": "17582944756805634685"
     },
     "user_tz": 240
    },
    "id": "VFOje_WZhbSM",
    "outputId": "b74255b5-2399-441e-a71a-e4c3cfccf80e"
   },
   "outputs": [
    {
     "name": "stdout",
     "output_type": "stream",
     "text": [
      "\n",
      "==================================================================\n",
      "   Voting Classifier\n",
      "==================================================================\n",
      "\n",
      "Accuracy: 0.955\n",
      "Weighted_Precision: 0.957\n",
      "Weighted_Recall: 0.955\n",
      "Weighted_F1_score: 0.952\n",
      "\n",
      "Balanced Accuracy:  0.8642857142857143\n",
      "              precision    recall  f1-score   support\n",
      "\n",
      "           0       0.95      1.00      0.97       349\n",
      "           1       1.00      0.73      0.84        70\n",
      "\n",
      "    accuracy                           0.95       419\n",
      "   macro avg       0.97      0.86      0.91       419\n",
      "weighted avg       0.96      0.95      0.95       419\n",
      "\n"
     ]
    }
   ],
   "source": [
    "voting_classifiers(X_sm,y_sm,X_test,y_test)\n",
    "# Recommended model no.3"
   ]
  },
  {
   "cell_type": "code",
   "execution_count": null,
   "metadata": {
    "colab": {
     "base_uri": "https://localhost:8080/"
    },
    "executionInfo": {
     "elapsed": 18316,
     "status": "ok",
     "timestamp": 1654380614750,
     "user": {
      "displayName": "Shweta Chandole",
      "userId": "17582944756805634685"
     },
     "user_tz": 240
    },
    "id": "LEIioyjWhs9D",
    "outputId": "05a2f976-acbe-4a28-9c13-d1492c5b2fe6"
   },
   "outputs": [
    {
     "name": "stdout",
     "output_type": "stream",
     "text": [
      "\n",
      "==================================================================\n",
      "             XGBoost\n",
      "==================================================================\n",
      "\n",
      "Accuracy: 1.000\n",
      "Weighted_Precision: 1.000\n",
      "Weighted_Recall: 1.000\n",
      "Weighted_F1_score: 1.000\n",
      "\n",
      "Balanced Accuracy:  1.0\n",
      "              precision    recall  f1-score   support\n",
      "\n",
      "           0       1.00      1.00      1.00       349\n",
      "           1       1.00      1.00      1.00        70\n",
      "\n",
      "    accuracy                           1.00       419\n",
      "   macro avg       1.00      1.00      1.00       419\n",
      "weighted avg       1.00      1.00      1.00       419\n",
      "\n"
     ]
    }
   ],
   "source": [
    "xg_boost(X_train,y_train,X_test,y_test)\n",
    "# cannot recommend this as it is overfitted with 100% scores for all metrics for both classes - Shweta C. 06/04"
   ]
  }
 ],
 "metadata": {
  "colab": {
   "collapsed_sections": [],
   "name": "CRC_models_full_features_with_balancing.ipynb",
   "provenance": []
  },
  "kernelspec": {
   "display_name": "Python 3",
   "language": "python",
   "name": "python3"
  },
  "language_info": {
   "codemirror_mode": {
    "name": "ipython",
    "version": 3
   },
   "file_extension": ".py",
   "mimetype": "text/x-python",
   "name": "python",
   "nbconvert_exporter": "python",
   "pygments_lexer": "ipython3",
   "version": "3.8.8"
  }
 },
 "nbformat": 4,
 "nbformat_minor": 1
}
